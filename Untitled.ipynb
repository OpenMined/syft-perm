{
 "cells": [
  {
   "cell_type": "code",
   "execution_count": 1,
   "id": "f91b5858-c8a7-488c-98af-dfa7331609e7",
   "metadata": {},
   "outputs": [],
   "source": [
    "import syft_perm as sp"
   ]
  },
  {
   "cell_type": "code",
   "execution_count": 2,
   "id": "41b60829-eb07-4fe5-ac5e-e71135cfefb3",
   "metadata": {},
   "outputs": [
    {
     "data": {
      "text/plain": [
       "'0.3.91'"
      ]
     },
     "execution_count": 2,
     "metadata": {},
     "output_type": "execute_result"
    }
   ],
   "source": [
    "sp.__version__"
   ]
  },
  {
   "cell_type": "code",
   "execution_count": 3,
   "id": "2b9f6df2-6557-4608-bf7f-c3fec02a1e9d",
   "metadata": {},
   "outputs": [
    {
     "data": {
      "text/html": [
       "\n",
       "                <div style=\"width: 100%; height: 600px; border: 1px solid #3e3e42; border-radius: 8px; overflow: hidden;\">\n",
       "                    <iframe\n",
       "                        src=\"http://localhost:57577/files-widget\"\n",
       "                        width=\"100%\"\n",
       "                        height=\"100%\"\n",
       "                        frameborder=\"0\"\n",
       "                        style=\"border: none;\"\n",
       "                        allow=\"clipboard-read; clipboard-write\">\n",
       "                    </iframe>\n",
       "                </div>\n",
       "                "
      ],
      "text/plain": [
       "Files (Page 1 of 107, showing 1-50 of 5302 items)\n",
       "--------------------------------------------------------------------------------------------------------------------\n",
       "#     URL                                                          Modified         Type     Size       Permissions \n",
       "--------------------------------------------------------------------------------------------------------------------\n",
       "1     andrew@openmined.org/guestbook.txt                           2025-07-17 01:58 txt           242 B 2 users     \n",
       "2     mail@andreibratu.com/app_data/data-syncer/rpc                2025-07-17 01:52 folder        483 B 1 users     \n",
       "3     andrew@openmined.org/app_data/RDS/rpc/rpc.schema.json        2025-07-17 00:27 json        46.9 KB 2 users     \n",
       "4     andrew@openmined.org/app_data/RDS/app.yaml                   2025-07-17 00:27 yaml           39 B 1 users     \n",
       "5     andrew@openmined.org/app_data/RDS/syftperm.yaml              2025-07-17 00:27 yaml           56 B 1 users     \n",
       "6     andrew@openmined.org/app_data/RDS/user_files/syftperm.yaml   2025-07-17 00:27 yaml           62 B 1 users     \n",
       "7     andrew@openmined.org/federated_learning_demo/results         2025-07-16 23:58 folder        573 B 1 users     \n",
       "8     andrew@openmined.org/federated_learning_demo/results/READ... 2025-07-16 23:58 md            472 B 2 users     \n",
       "9     andrew@openmined.org/federated_learning_demo/model_aggreg... 2025-07-16 23:58 folder        169 B 1 users     \n",
       "10    andrew@openmined.org/federated_learning_demo/model_aggreg... 2025-07-16 23:58 json           53 B 2 users     \n",
       "11    andrew@openmined.org/federated_learning_demo/hospital_b      2025-07-16 23:58 folder        185 B 1 users     \n",
       "12    andrew@openmined.org/federated_learning_demo/hospital_b/g... 2025-07-16 23:58 json           50 B 2 users     \n",
       "13    andrew@openmined.org/federated_learning_demo/hospital_a/p... 2025-07-16 23:58 csv            32 B 1 users     \n",
       "14    andrew@openmined.org/federated_learning_demo/hospital_a/g... 2025-07-16 23:58 json           51 B 2 users     \n",
       "15    andrew@openmined.org/federated_learning_demo/hospital_a      2025-07-16 23:57 folder        244 B 1 users     \n",
       "16    andrew@openmined.org/federated_learning_demo                 2025-07-16 23:57 folder       1.1 KB 2 users     \n",
       "17    andrew@openmined.org                                         2025-07-16 23:57 folder     309.3 KB 1 users     \n",
       "18    andrew@openmined.org/limited_uploads                         2025-07-16 23:57 folder         96 B 2 users     \n",
       "19    andrew@openmined.org/batch_example                           2025-07-16 23:57 folder        178 B 2 users     \n",
       "20    andrew@openmined.org/batch_example/data_4.csv                2025-07-16 23:56 csv            14 B 2 users     \n",
       "21    andrew@openmined.org/batch_example/data_3.csv                2025-07-16 23:56 csv            14 B 2 users     \n",
       "22    andrew@openmined.org/batch_example/data_2.csv                2025-07-16 23:56 csv            14 B 2 users     \n",
       "23    andrew@openmined.org/batch_example/data_1.csv                2025-07-16 23:56 csv            14 B 2 users     \n",
       "24    andrew@openmined.org/batch_example/data_0.csv                2025-07-16 23:56 csv            12 B 2 users     \n",
       "25    andrew@openmined.org/parent_project/child_data/sensitive     2025-07-16 23:56 folder         95 B 2 users     \n",
       "26    andrew@openmined.org/parent_project                          2025-07-16 23:56 folder        232 B 2 users     \n",
       "27    andrew@openmined.org/parent_project/child_data/sensitive/... 2025-07-16 23:56 txt            19 B 1 users     \n",
       "28    andrew@openmined.org/parent_project/child_data/child_file... 2025-07-16 23:56 txt            20 B 2 users     \n",
       "29    andrew@openmined.org/parent_project/child_data               2025-07-16 23:56 folder        115 B 2 users     \n",
       "30    andrew@openmined.org/parent_project/parent_file.txt          2025-07-16 23:56 txt            21 B 2 users     \n",
       "31    andrew@openmined.org/restricted_uploads                      2025-07-16 23:55 folder        119 B 3 users     \n",
       "32    andrew@openmined.org/test_readonly.txt                       2025-07-16 23:55 txt            53 B 2 users     \n",
       "33    andrew@openmined.org/awesome_project/secret_key.txt          2025-07-16 23:54 txt            26 B 1 users     \n",
       "34    andrew@openmined.org/awesome_project/data.csv                2025-07-16 23:54 csv            26 B 2 users     \n",
       "35    andrew@openmined.org/awesome_project/README.md               2025-07-16 23:54 md             59 B 2 users     \n",
       "36    andrew@openmined.org/awesome_project                         2025-07-16 23:36 folder        337 B 2 users     \n",
       "37    andrew@openmined.org/public                                  2025-07-16 23:16 folder        406 B 2 users     \n",
       "38    andrew@openmined.org/public/antiguestbook.txt                2025-07-16 21:46 txt           105 B 2 users     \n",
       "39    b0rj494@gmail.com/app_data/flwr/borja.arroyog@upm.es_diab... 2025-07-16 14:47 folder         91 B 1 users     \n",
       "40    b0rj494@gmail.com/app_data/RDS/rpc/job/update                2025-07-16 14:32 folder          0 B 1 users     \n",
       "41    bag94@outlook.es/app_data/flwr/borja.arroyog@upm.es_diabe... 2025-07-16 14:31 folder      11.3 KB 1 users     \n",
       "42    bag94@outlook.es/app_data/RDS/rpc                            2025-07-16 14:31 folder      95.7 KB 1 users     \n",
       "43    b0rj494@gmail.com/app_data/RDS/rpc/job/create                2025-07-16 14:28 folder          0 B 1 users     \n",
       "44    b0rj494@gmail.com/app_data/RDS/rpc/user_code/create          2025-07-16 14:28 folder          0 B 1 users     \n",
       "45    bag94@outlook.es/app_data/RDS/store/job/dbb99fdd-e366-4a5... 2025-07-16 14:16 yaml          681 B 2 users     \n",
       "46    b0rj494@gmail.com/app_data/RDS/store/job/aa1abf6b-3550-40... 2025-07-16 14:16 yaml          682 B 2 users     \n",
       "47    bag94@outlook.es/app_data/flwr/borja.arroyog@upm.es_diabe... 2025-07-16 14:14 response    11.3 KB 1 users     \n",
       "48    bag94@outlook.es/app_data/flwr/borja.arroyog@upm.es_diabe... 2025-07-16 14:14 folder      11.4 KB 1 users     \n",
       "49    bag94@outlook.es/app_data/flwr/borja.arroyog@upm.es_diabe... 2025-07-16 14:12 json           91 B 1 users     \n",
       "50    bag94@outlook.es/app_data/flwr/borja.arroyog@upm.es_diabe... 2025-07-16 14:12 folder      11.4 KB 1 users     \n",
       "--------------------------------------------------------------------------------------------------------------------\n",
       "2636 files, 2666 folders • Total size: 461.1 MB\n",
       "Use sp.files.page(n) to view other pages or sp.files in Jupyter for interactive view"
      ]
     },
     "execution_count": 3,
     "metadata": {},
     "output_type": "execute_result"
    }
   ],
   "source": [
    "sp.files"
   ]
  },
  {
   "cell_type": "code",
   "execution_count": 5,
   "id": "a3394d8a-6879-4552-bbc6-fab055f71d4d",
   "metadata": {},
   "outputs": [
    {
     "data": {
      "text/html": [
       "<div style=\"width:100%;height:600px;border:1px solid #3e3e42;border-radius:8px;overflow:hidden;background:#1e1e1e;\"><iframe src=\"http://localhost:57577/file-editor//Users/atrask/SyftBox/datasites/andrew@openmined.org\" style=\"width:100%;height:100%;border:none;background:transparent;\" frameborder=\"0\" allow=\"clipboard-read; clipboard-write\"></iframe></div>"
      ],
      "text/plain": [
       "SyftFolder('/Users/atrask/SyftBox/datasites/andrew@openmined.org')\n",
       "\n",
       "User                  Read    Create    Write    Admin    Reason\n",
       "--------------------  ------  --------  -------  -------  ------------------------------------------------------------------------------------------\n",
       "andrew@openmined.org  ✓       ✓         ✓        ✓        [Admin] Owner of path; [Write] Owner of path; [Create] Owner of path; [Read] Owner of path"
      ]
     },
     "execution_count": 5,
     "metadata": {},
     "output_type": "execute_result"
    }
   ],
   "source": [
    "f = sp.open(\"syft://andrew@openmined.org\")\n",
    "f"
   ]
  },
  {
   "cell_type": "code",
   "execution_count": 6,
   "id": "0c6b9b08-b2cd-42dc-97da-102488047542",
   "metadata": {},
   "outputs": [
    {
     "data": {
      "text/html": [
       "<div style=\"width:100%;height:600px;border:1px solid #3e3e42;border-radius:12px;overflow:hidden;\"><iframe src=\"http://127.0.0.1:8765/share-modal?path=/Users/atrask/SyftBox/datasites/andrew%40openmined.org\" style=\"width:100%;height:100%;border:none;border-radius:12px;\"></iframe></div>"
      ],
      "text/plain": [
       "ShareWidget('/Users/atrask/SyftBox/datasites/andrew@openmined.org')"
      ]
     },
     "execution_count": 6,
     "metadata": {},
     "output_type": "execute_result"
    }
   ],
   "source": [
    "f.share"
   ]
  },
  {
   "cell_type": "code",
   "execution_count": null,
   "id": "6979f48d-6f10-4fa0-a6a7-794404bd6365",
   "metadata": {},
   "outputs": [],
   "source": []
  }
 ],
 "metadata": {
  "kernelspec": {
   "display_name": "Python 3 (ipykernel)",
   "language": "python",
   "name": "python3"
  },
  "language_info": {
   "codemirror_mode": {
    "name": "ipython",
    "version": 3
   },
   "file_extension": ".py",
   "mimetype": "text/x-python",
   "name": "python",
   "nbconvert_exporter": "python",
   "pygments_lexer": "ipython3",
   "version": "3.12.9"
  }
 },
 "nbformat": 4,
 "nbformat_minor": 5
}
