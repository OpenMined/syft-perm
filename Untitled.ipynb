{
 "cells": [
  {
   "cell_type": "code",
   "execution_count": 1,
   "id": "28d0e305-d4f2-42ee-9ab3-b33f063c9b90",
   "metadata": {},
   "outputs": [],
   "source": [
    "import syft_perm as sp"
   ]
  },
  {
   "cell_type": "code",
   "execution_count": 2,
   "id": "6d4a55ae-4c31-4f05-a69c-c67bc87febc3",
   "metadata": {},
   "outputs": [
    {
     "data": {
      "text/plain": [
       "'0.3.18'"
      ]
     },
     "execution_count": 2,
     "metadata": {},
     "output_type": "execute_result"
    }
   ],
   "source": [
    "sp.__version__"
   ]
  },
  {
   "cell_type": "code",
   "execution_count": 3,
   "id": "0a5c9c16-b2bf-4331-8322-0a7bc3cb661e",
   "metadata": {},
   "outputs": [
    {
     "ename": "AttributeError",
     "evalue": "module 'syft_perm' has no attribute 'files'",
     "output_type": "error",
     "traceback": [
      "\u001b[31m---------------------------------------------------------------------------\u001b[39m",
      "\u001b[31mAttributeError\u001b[39m                            Traceback (most recent call last)",
      "\u001b[36mCell\u001b[39m\u001b[36m \u001b[39m\u001b[32mIn[3]\u001b[39m\u001b[32m, line 1\u001b[39m\n\u001b[32m----> \u001b[39m\u001b[32m1\u001b[39m \u001b[43msp\u001b[49m\u001b[43m.\u001b[49m\u001b[43mfiles\u001b[49m\n",
      "\u001b[31mAttributeError\u001b[39m: module 'syft_perm' has no attribute 'files'"
     ]
    }
   ],
   "source": [
    "sp.files"
   ]
  },
  {
   "cell_type": "code",
   "execution_count": 11,
   "id": "6902c68b-ce24-4204-ab04-287e0f6a51f8",
   "metadata": {},
   "outputs": [],
   "source": [
    "f = sp.open('README.md')"
   ]
  },
  {
   "cell_type": "code",
   "execution_count": 12,
   "id": "145cdbe0-bb2b-4635-ade0-e492bd4bec50",
   "metadata": {
    "scrolled": true
   },
   "outputs": [
    {
     "data": {
      "text/html": [
       "\n",
       "        <div style=\"font-family: -apple-system, BlinkMacSystemFont, 'Segoe UI', Roboto, sans-serif;\n",
       "                    max-width: 800px; margin: 20px 0;\">\n",
       "\n",
       "            <!-- Header -->\n",
       "            <div style=\"background: linear-gradient(135deg, #1e3c72 0%, #2a5298 100%);\n",
       "                        color: white; padding: 20px; border-radius: 8px 8px 0 0;\">\n",
       "                <h2 style=\"margin: 0; font-size: 24px; font-weight: 600;\">\n",
       "                    📄 README.md\n",
       "                </h2>\n",
       "                <p style=\"margin: 5px 0 0 0; opacity: 0.9; font-size: 14px;\">\n",
       "                    .\n",
       "                </p>\n",
       "            </div>\n",
       "\n",
       "            <!-- Metadata Section -->\n",
       "            <div style=\"background: white; border: 1px solid #e0e0e0;\n",
       "                        border-top: none; padding: 20px;\">\n",
       "                <h3 style=\"margin: 0 0 15px 0; color: #333; font-size: 18px;\">File Information</h3>\n",
       "                <div style=\"display: grid; grid-template-columns: repeat(auto-fit, minmax(200px, 1fr));  # noqa: E501\n",
       "                            gap: 15px; font-size: 14px;\">\n",
       "                    <div>\n",
       "                        <span style=\"color: #666;\">Type:</span>\n",
       "                        <strong>Regular File</strong>\n",
       "                    </div>\n",
       "                    <div>\n",
       "                        <span style=\"color: #666;\">Size:</span>\n",
       "                        <strong>3.92 KB</strong>\n",
       "                    </div>\n",
       "                    <div>\n",
       "                        <span style=\"color: #666;\">Modified:</span>\n",
       "                        <strong>2025-07-12 15:10:20</strong>\n",
       "                    </div>\n",
       "                    <div>\n",
       "                        <span style=\"color: #666;\">Owner:</span>\n",
       "                        <strong>atrask</strong>\n",
       "                    </div>\n",
       "                </div>\n",
       "            </div>\n",
       "\n",
       "            <!-- Permissions Summary -->\n",
       "            <div style=\"background: #f8f9fa; border: 1px solid #e0e0e0;\n",
       "                        border-top: none; padding: 20px;\">\n",
       "                <h3 style=\"margin: 0 0 15px 0; color: #333; font-size: 18px;\">Permissions Summary</h3>  # noqa: E501\n",
       "                <div style=\"display: flex; gap: 15px; flex-wrap: wrap;\">\n",
       "                    <div style=\"background: white; padding: 15px; border-radius: 6px;\n",
       "                                border: 1px solid #e0e0e0; flex: 1; min-width: 120px;\">\n",
       "                        <div style=\"color: #666; font-size: 12px; text-transform: uppercase;\">Read</div>  # noqa: E501\n",
       "                        <div style=\"font-size: 24px; font-weight: bold; color: #2196f3;\">\n",
       "                            0\n",
       "                        </div>\n",
       "                    </div>\n",
       "                    <div style=\"background: white; padding: 15px; border-radius: 6px;\n",
       "                                border: 1px solid #e0e0e0; flex: 1; min-width: 120px;\">\n",
       "                        <div style=\"color: #666; font-size: 12px; text-transform: uppercase;\">Create</div>  # noqa: E501\n",
       "                        <div style=\"font-size: 24px; font-weight: bold; color: #ff9800;\">\n",
       "                            0\n",
       "                        </div>\n",
       "                    </div>\n",
       "                    <div style=\"background: white; padding: 15px; border-radius: 6px;\n",
       "                                border: 1px solid #e0e0e0; flex: 1; min-width: 120px;\">\n",
       "                        <div style=\"color: #666; font-size: 12px; text-transform: uppercase;\">Write</div>  # noqa: E501\n",
       "                        <div style=\"font-size: 24px; font-weight: bold; color: #f44336;\">\n",
       "                            0\n",
       "                        </div>\n",
       "                    </div>\n",
       "                    <div style=\"background: white; padding: 15px; border-radius: 6px;\n",
       "                                border: 1px solid #e0e0e0; flex: 1; min-width: 120px;\">\n",
       "                        <div style=\"color: #666; font-size: 12px; text-transform: uppercase;\">Admin</div>  # noqa: E501\n",
       "                        <div style=\"font-size: 24px; font-weight: bold; color: #9c27b0;\">\n",
       "                            0\n",
       "                        </div>\n",
       "                    </div>\n",
       "                </div>\n",
       "            </div>\n",
       "\n",
       "            <!-- Compliance Status -->\n",
       "            <div style=\"background: white; border: 1px solid #e0e0e0;\n",
       "                        border-top: none; padding: 20px;\">\n",
       "                <h3 style=\"margin: 0 0 15px 0; color: #333; font-size: 18px;\">Compliance Status</h3>\n",
       "                <div style=\"display: flex; gap: 10px; align-items: center; margin-bottom: 10px;\">\n",
       "                    <span style=\"font-size: 14px;\">Size Limit:</span>\n",
       "                    <span style=\"padding: 4px 8px; border-radius: 4px; font-size: 12px;\n",
       "                                background: #4caf50; color: white;\">  # noqa: E501\n",
       "                        ✓ COMPLIANT\n",
       "                    </span>\n",
       "                      # noqa: E501\n",
       "                </div>\n",
       "                <div style=\"display: flex; gap: 10px; align-items: center;\">\n",
       "                    <span style=\"font-size: 14px;\">Type Allowed:</span>\n",
       "                    <span style=\"padding: 4px 8px; border-radius: 4px; font-size: 12px;\n",
       "                                background: #4caf50; color: white;\">  # noqa: E501\n",
       "                        ✓ ALLOWED\n",
       "                    </span>\n",
       "                </div>\n",
       "            </div>\n",
       "\n",
       "            <!-- Detailed Permissions Table -->\n",
       "            <div style=\"background: white; border: 1px solid #e0e0e0;\n",
       "                        border-top: none; padding: 20px; border-radius: 0 0 8px 8px;\">\n",
       "                <h3 style=\"margin: 0 0 15px 0; color: #333; font-size: 18px;\">Detailed Permissions</h3>  # noqa: E501\n",
       "        \n",
       "                <p style=\"color: #666; font-style: italic;\">No permissions set for this file.</p>\n",
       "            \n",
       "            </div>\n",
       "        </div>\n",
       "        "
      ],
      "text/plain": [
       "SyftFile('README.md') - No permissions set"
      ]
     },
     "execution_count": 12,
     "metadata": {},
     "output_type": "execute_result"
    }
   ],
   "source": [
    "f"
   ]
  },
  {
   "cell_type": "code",
   "execution_count": 8,
   "id": "9e4baf77-5f3e-4303-b9a9-248fbae29409",
   "metadata": {},
   "outputs": [
    {
     "name": "stdout",
     "output_type": "stream",
     "text": [
      "Permission analysis for andrew@openmined.org on README.md:\n",
      "\n",
      "ADMIN: ✗ DENIED\n",
      "  • No permission found\n",
      "\n",
      "WRITE: ✗ DENIED\n",
      "  • No permission found\n",
      "\n",
      "CREATE: ✗ DENIED\n",
      "  • No permission found\n",
      "\n",
      "READ: ✗ DENIED\n",
      "  • No permission found\n",
      "\n",
      "\n"
     ]
    }
   ],
   "source": [
    "print(f.explain_permissions('andrew@openmined.org'))"
   ]
  },
  {
   "cell_type": "code",
   "execution_count": null,
   "id": "0d5e7507-5168-4a8c-9ce6-8a243f994779",
   "metadata": {},
   "outputs": [],
   "source": []
  }
 ],
 "metadata": {
  "kernelspec": {
   "display_name": "Python 3 (ipykernel)",
   "language": "python",
   "name": "python3"
  },
  "language_info": {
   "codemirror_mode": {
    "name": "ipython",
    "version": 3
   },
   "file_extension": ".py",
   "mimetype": "text/x-python",
   "name": "python",
   "nbconvert_exporter": "python",
   "pygments_lexer": "ipython3",
   "version": "3.12.7"
  }
 },
 "nbformat": 4,
 "nbformat_minor": 5
}
