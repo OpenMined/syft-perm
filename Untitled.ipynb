{
 "cells": [
  {
   "cell_type": "code",
   "execution_count": 1,
   "id": "28d0e305-d4f2-42ee-9ab3-b33f063c9b90",
   "metadata": {},
   "outputs": [],
   "source": [
    "import syft_perm as sp"
   ]
  },
  {
   "cell_type": "code",
   "execution_count": 2,
   "id": "6d4a55ae-4c31-4f05-a69c-c67bc87febc3",
   "metadata": {},
   "outputs": [
    {
     "data": {
      "text/plain": [
       "'0.3.21'"
      ]
     },
     "execution_count": 2,
     "metadata": {},
     "output_type": "execute_result"
    }
   ],
   "source": [
    "sp.__version__"
   ]
  },
  {
   "cell_type": "code",
   "execution_count": 3,
   "id": "6902c68b-ce24-4204-ab04-287e0f6a51f8",
   "metadata": {},
   "outputs": [],
   "source": [
    "f = sp.open('README.md')"
   ]
  },
  {
   "cell_type": "code",
   "execution_count": 6,
   "id": "8044ae20-65ff-4db4-b3f5-94846834b543",
   "metadata": {},
   "outputs": [
    {
     "name": "stdin",
     "output_type": "stream",
     "text": [
      "⚠️  Warning: Granting admin access to 'liamtrask@gmail.com' for 'README.md'. Are you sure? [y/N]  y\n"
     ]
    }
   ],
   "source": [
    "f.grant_admin_access('liamtrask@gmail.com')"
   ]
  },
  {
   "cell_type": "code",
   "execution_count": 8,
   "id": "1e77979f-aa06-402c-ab62-5fa0adc7095b",
   "metadata": {},
   "outputs": [],
   "source": [
    "f.grant_write_access('jamesbrown@gmail.com')"
   ]
  },
  {
   "cell_type": "code",
   "execution_count": 11,
   "id": "579f2d95-6de6-48f2-b048-7a3ce5293746",
   "metadata": {},
   "outputs": [],
   "source": [
    "f.grant_create_access('peter@openmined.org')"
   ]
  },
  {
   "cell_type": "code",
   "execution_count": 13,
   "id": "ec20fbf8-ab5f-40cc-b68c-9f284a552194",
   "metadata": {},
   "outputs": [],
   "source": [
    "f.grant_read_access('*')"
   ]
  },
  {
   "cell_type": "code",
   "execution_count": 14,
   "id": "145cdbe0-bb2b-4635-ade0-e492bd4bec50",
   "metadata": {
    "scrolled": true
   },
   "outputs": [
    {
     "data": {
      "text/html": [
       "\n",
       "        <div style=\"font-family: 'Google Sans', 'Segoe UI', Tahoma, sans-serif; \n",
       "                    max-width: 480px; background: white; border-radius: 8px; \n",
       "                    box-shadow: 0 1px 3px rgba(60,64,67,.3); margin: 16px 0;\">\n",
       "            \n",
       "            <!-- Header -->\n",
       "            <div style=\"padding: 20px 24px 16px; border-bottom: 1px solid #e8eaed;\">\n",
       "                <div style=\"display: flex; align-items: center; justify-content: space-between;\">\n",
       "                    <div style=\"display: flex; align-items: center; gap: 12px;\">\n",
       "                        <div style=\"width: 24px; height: 24px; background: #4285f4; border-radius: 3px;\n",
       "                                    display: flex; align-items: center; justify-content: center;\">\n",
       "                            <span style=\"color: white; font-size: 14px; font-weight: 500;\">📄</span>\n",
       "                        </div>\n",
       "                        <div>\n",
       "                            <div style=\"font-size: 16px; font-weight: 500; color: #3c4043;\">\n",
       "                                README.md\n",
       "                            </div>\n",
       "                            <div style=\"font-size: 12px; color: #5f6368; margin-top: 2px;\">\n",
       "                                atrask • Owner\n",
       "                            </div>\n",
       "                        </div>\n",
       "                    </div>\n",
       "                    <button style=\"background: #1a73e8; color: white; border: none; padding: 8px 16px;\n",
       "                                   border-radius: 4px; font-size: 14px; font-weight: 500; cursor: pointer;\">\n",
       "                        Share\n",
       "                    </button>\n",
       "                </div>\n",
       "            </div>\n",
       "            \n",
       "            <!-- People with access section -->\n",
       "            <div style=\"padding: 16px 24px;\">\n",
       "                <div style=\"font-size: 14px; font-weight: 500; color: #3c4043; margin-bottom: 16px;\">\n",
       "                    People with access\n",
       "                </div>\n",
       "        \n",
       "                <div style=\"display: flex; align-items: center; padding: 8px 0; gap: 12px;\">\n",
       "                    <div style=\"width: 32px; height: 32px; border-radius: 50%; background: #e64a19;\n",
       "                                display: flex; align-items: center; justify-content: center;\">\n",
       "                        <span style=\"color: white; font-size: 14px; font-weight: 500;\">PU</span>\n",
       "                    </div>\n",
       "                    <div style=\"flex: 1; min-width: 0;\">\n",
       "                        <div style=\"font-size: 14px; color: #3c4043; font-weight: 400;\">\n",
       "                            Anyone with the link\n",
       "                        </div>\n",
       "                        <div style=\"font-size: 12px; color: #5f6368;\">\n",
       "                            Public access\n",
       "                        </div>\n",
       "                    </div>\n",
       "                    <div style=\"display: flex; align-items: center; gap: 8px;\">\n",
       "                        <span style=\"background: #f8f9fa; color: #3c4043; padding: 4px 8px;\n",
       "                                     border-radius: 4px; font-size: 12px; border: 1px solid #e8eaed;\">\n",
       "                            Viewer\n",
       "                        </span>\n",
       "                    </div>\n",
       "                </div>\n",
       "            \n",
       "                <div style=\"display: flex; align-items: center; padding: 8px 0; gap: 12px;\">\n",
       "                    <div style=\"width: 32px; height: 32px; border-radius: 50%; background: #d32f2f;\n",
       "                                display: flex; align-items: center; justify-content: center;\">\n",
       "                        <span style=\"color: white; font-size: 14px; font-weight: 500;\">JA</span>\n",
       "                    </div>\n",
       "                    <div style=\"flex: 1; min-width: 0;\">\n",
       "                        <div style=\"font-size: 14px; color: #3c4043; font-weight: 400;\">\n",
       "                            jamesbrown@gmail.com\n",
       "                        </div>\n",
       "                        <div style=\"font-size: 12px; color: #5f6368;\">\n",
       "                            jamesbrown@gmail.com\n",
       "                        </div>\n",
       "                    </div>\n",
       "                    <div style=\"display: flex; align-items: center; gap: 8px;\">\n",
       "                        <span style=\"background: #f8f9fa; color: #3c4043; padding: 4px 8px;\n",
       "                                     border-radius: 4px; font-size: 12px; border: 1px solid #e8eaed;\">\n",
       "                            Editor\n",
       "                        </span>\n",
       "                    </div>\n",
       "                </div>\n",
       "            \n",
       "                <div style=\"display: flex; align-items: center; padding: 8px 0; gap: 12px;\">\n",
       "                    <div style=\"width: 32px; height: 32px; border-radius: 50%; background: #fbc02d;\n",
       "                                display: flex; align-items: center; justify-content: center;\">\n",
       "                        <span style=\"color: white; font-size: 14px; font-weight: 500;\">LI</span>\n",
       "                    </div>\n",
       "                    <div style=\"flex: 1; min-width: 0;\">\n",
       "                        <div style=\"font-size: 14px; color: #3c4043; font-weight: 400;\">\n",
       "                            liamtrask@gmail.com\n",
       "                        </div>\n",
       "                        <div style=\"font-size: 12px; color: #5f6368;\">\n",
       "                            liamtrask@gmail.com\n",
       "                        </div>\n",
       "                    </div>\n",
       "                    <div style=\"display: flex; align-items: center; gap: 8px;\">\n",
       "                        <span style=\"background: #f8f9fa; color: #3c4043; padding: 4px 8px;\n",
       "                                     border-radius: 4px; font-size: 12px; border: 1px solid #e8eaed;\">\n",
       "                            Owner\n",
       "                        </span>\n",
       "                    </div>\n",
       "                </div>\n",
       "            \n",
       "                <div style=\"display: flex; align-items: center; padding: 8px 0; gap: 12px;\">\n",
       "                    <div style=\"width: 32px; height: 32px; border-radius: 50%; background: #00796b;\n",
       "                                display: flex; align-items: center; justify-content: center;\">\n",
       "                        <span style=\"color: white; font-size: 14px; font-weight: 500;\">PE</span>\n",
       "                    </div>\n",
       "                    <div style=\"flex: 1; min-width: 0;\">\n",
       "                        <div style=\"font-size: 14px; color: #3c4043; font-weight: 400;\">\n",
       "                            peter@openmined.org\n",
       "                        </div>\n",
       "                        <div style=\"font-size: 12px; color: #5f6368;\">\n",
       "                            peter@openmined.org\n",
       "                        </div>\n",
       "                    </div>\n",
       "                    <div style=\"display: flex; align-items: center; gap: 8px;\">\n",
       "                        <span style=\"background: #f8f9fa; color: #3c4043; padding: 4px 8px;\n",
       "                                     border-radius: 4px; font-size: 12px; border: 1px solid #e8eaed;\">\n",
       "                            Commenter\n",
       "                        </span>\n",
       "                    </div>\n",
       "                </div>\n",
       "            \n",
       "            </div>\n",
       "            \n",
       "            <!-- General access -->\n",
       "            <div style=\"padding: 0 24px 20px;\">\n",
       "                <div style=\"font-size: 14px; font-weight: 500; color: #3c4043; margin-bottom: 12px;\">\n",
       "                    General access\n",
       "                </div>\n",
       "                <div style=\"display: flex; align-items: center; gap: 12px; padding: 12px; \n",
       "                            background: #f8f9fa; border-radius: 8px; border: 1px solid #e8eaed;\">\n",
       "                    <div style=\"width: 24px; height: 24px; border-radius: 50%; background: #5f6368;\n",
       "                                display: flex; align-items: center; justify-content: center;\">\n",
       "                        <span style=\"color: white; font-size: 12px;\">🔒</span>\n",
       "                    </div>\n",
       "                    <div style=\"flex: 1;\">\n",
       "                        <div style=\"font-size: 14px; color: #3c4043;\">Restricted</div>\n",
       "                        <div style=\"font-size: 12px; color: #5f6368;\">\n",
       "                            Only people with access can open with the link\n",
       "                        </div>\n",
       "                    </div>\n",
       "                </div>\n",
       "            </div>\n",
       "        </div>\n",
       "        "
      ],
      "text/plain": [
       "SyftFile('README.md')\n",
       "\n",
       "User               Read  Create  Write  Admin  Reason\n",
       "----------------------------------------------------------------------\n",
       "public               ✓                          [Read] Explicitly granted read in .; Pattern 'README.md' matched; [Read] Public access (*)\n",
       "jamesbrown@gmail.com ✓     ✓       ✓            [Write] Explicitly granted write in .; Pattern 'README.md' matched; [Read] Public access (*)\n",
       "liamtrask@gmail.com  ✓     ✓       ✓      ✓     [Admin] Explicitly granted admin in .; Pattern 'README.md' matched; [Read] Public access (*)\n",
       "peter@openmined.org  ✓     ✓                    [Create] Explicitly granted create in .; Pattern 'README.md' matched; [Read] Public access (*)"
      ]
     },
     "execution_count": 14,
     "metadata": {},
     "output_type": "execute_result"
    }
   ],
   "source": [
    "f"
   ]
  },
  {
   "cell_type": "code",
   "execution_count": 8,
   "id": "9e4baf77-5f3e-4303-b9a9-248fbae29409",
   "metadata": {},
   "outputs": [
    {
     "name": "stdout",
     "output_type": "stream",
     "text": [
      "Permission analysis for andrew@openmined.org on README.md:\n",
      "\n",
      "ADMIN: ✗ DENIED\n",
      "  • No permission found\n",
      "\n",
      "WRITE: ✗ DENIED\n",
      "  • No permission found\n",
      "\n",
      "CREATE: ✗ DENIED\n",
      "  • No permission found\n",
      "\n",
      "READ: ✗ DENIED\n",
      "  • No permission found\n",
      "\n",
      "\n"
     ]
    }
   ],
   "source": [
    "print(f.explain_permissions('andrew@openmined.org'))"
   ]
  },
  {
   "cell_type": "code",
   "execution_count": null,
   "id": "0d5e7507-5168-4a8c-9ce6-8a243f994779",
   "metadata": {},
   "outputs": [],
   "source": []
  }
 ],
 "metadata": {
  "kernelspec": {
   "display_name": "Python 3 (ipykernel)",
   "language": "python",
   "name": "python3"
  },
  "language_info": {
   "codemirror_mode": {
    "name": "ipython",
    "version": 3
   },
   "file_extension": ".py",
   "mimetype": "text/x-python",
   "name": "python",
   "nbconvert_exporter": "python",
   "pygments_lexer": "ipython3",
   "version": "3.12.7"
  }
 },
 "nbformat": 4,
 "nbformat_minor": 5
}
