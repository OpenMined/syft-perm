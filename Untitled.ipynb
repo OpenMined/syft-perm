{
 "cells": [
  {
   "cell_type": "code",
   "execution_count": 1,
   "id": "f91b5858-c8a7-488c-98af-dfa7331609e7",
   "metadata": {},
   "outputs": [
    {
     "ename": "IndentationError",
     "evalue": "unindent does not match any outer indentation level (_impl.py, line 1708)",
     "output_type": "error",
     "traceback": [
      "Traceback \u001b[36m(most recent call last)\u001b[39m:\n",
      "  File \u001b[92m~/Library/Caches/uv/archive-v0/rowvxnVcuet-ZB5OdChDx/lib/python3.12/site-packages/IPython/core/interactiveshell.py:3699\u001b[39m in \u001b[95mrun_code\u001b[39m\n    exec(code_obj, self.user_global_ns, self.user_ns)\n",
      "  Cell \u001b[92mIn[1]\u001b[39m\u001b[92m, line 1\u001b[39m\n    import syft_perm as sp\n",
      "\u001b[36m  \u001b[39m\u001b[36mFile \u001b[39m\u001b[32m~/Desktop/Laboratory/syft-perm/src/syft_perm/__init__.py:6\u001b[39m\n\u001b[31m    \u001b[39m\u001b[31mfrom ._impl import SyftFile as _SyftFile\u001b[39m\n",
      "  \u001b[36mFile \u001b[39m\u001b[32m~/Desktop/Laboratory/syft-perm/src/syft_perm/_impl.py:1708\u001b[39m\n\u001b[31m    \u001b[39m\u001b[31mborder = \"#3e3e42\" if is_dark() else \"#ddd\"\u001b[39m\n                                               ^\n\u001b[31mIndentationError\u001b[39m\u001b[31m:\u001b[39m unindent does not match any outer indentation level\n"
     ]
    }
   ],
   "source": [
    "import syft_perm as sp"
   ]
  },
  {
   "cell_type": "code",
   "execution_count": 2,
   "id": "41b60829-eb07-4fe5-ac5e-e71135cfefb3",
   "metadata": {},
   "outputs": [
    {
     "data": {
      "text/plain": [
       "'0.3.92'"
      ]
     },
     "execution_count": 2,
     "metadata": {},
     "output_type": "execute_result"
    }
   ],
   "source": [
    "sp.__version__"
   ]
  },
  {
   "cell_type": "code",
   "execution_count": 10,
   "id": "2b9f6df2-6557-4608-bf7f-c3fec02a1e9d",
   "metadata": {},
   "outputs": [
    {
     "data": {
      "text/html": [
       "\n",
       "                <div style=\"width: 100%; height: 600px; border: 1px solid #3e3e42; border-radius: 8px; overflow: hidden;\">\n",
       "                    <iframe \n",
       "                        src=\"http://localhost:58849/files-widget\" \n",
       "                        width=\"100%\" \n",
       "                        height=\"100%\" \n",
       "                        frameborder=\"0\"\n",
       "                        style=\"border: none;\"\n",
       "                        allow=\"clipboard-read; clipboard-write\">\n",
       "                    </iframe>\n",
       "                </div>\n",
       "                "
      ],
      "text/plain": [
       "Files (Page 1 of 106, showing 1-50 of 5300 items)\n",
       "--------------------------------------------------------------------------------------------------------------------\n",
       "#     URL                                                          Modified         Type     Size       Permissions \n",
       "--------------------------------------------------------------------------------------------------------------------\n",
       "1     mail@andreibratu.com/app_data/data-syncer/rpc/get_latest_... 2025-07-17 09:42 request       644 B 1 users     \n",
       "2     mail@andreibratu.com/app_data/data-syncer/rpc/get_latest_... 2025-07-17 09:42 folder       6.3 KB 1 users     \n",
       "3     mail@andreibratu.com/app_data/data-syncer/rpc/query_trans... 2025-07-17 09:42 request       647 B 1 users     \n",
       "4     mail@andreibratu.com/app_data/data-syncer/rpc/query_trans... 2025-07-17 09:42 folder       6.3 KB 1 users     \n",
       "5     mail@andreibratu.com/app_data/data-syncer/rpc/query_trans... 2025-07-17 09:41 request       647 B 1 users     \n",
       "6     mail@andreibratu.com/app_data/data-syncer/rpc/get_latest_... 2025-07-17 09:41 request       644 B 1 users     \n",
       "7     mail@andreibratu.com/app_data/data-syncer/rpc/query_trans... 2025-07-17 09:41 request       647 B 1 users     \n",
       "8     mail@andreibratu.com/app_data/data-syncer/rpc/get_latest_... 2025-07-17 09:41 request       644 B 1 users     \n",
       "9     mail@andreibratu.com/app_data/data-syncer/rpc/query_trans... 2025-07-17 09:41 request       645 B 1 users     \n",
       "10    mail@andreibratu.com/app_data/data-syncer/rpc/get_latest_... 2025-07-17 09:41 request       644 B 1 users     \n",
       "11    mail@andreibratu.com/app_data/data-syncer/rpc/query_trans... 2025-07-17 09:41 request       647 B 1 users     \n",
       "12    mail@andreibratu.com/app_data/data-syncer/rpc/get_latest_... 2025-07-17 09:41 request       644 B 1 users     \n",
       "13    mail@andreibratu.com/app_data/data-syncer/rpc/query_trans... 2025-07-17 09:41 request       647 B 1 users     \n",
       "14    mail@andreibratu.com/app_data/data-syncer/rpc/get_latest_... 2025-07-17 09:40 request       644 B 1 users     \n",
       "15    mail@andreibratu.com/app_data/data-syncer/rpc/get_latest_... 2025-07-17 09:40 request       644 B 1 users     \n",
       "16    mail@andreibratu.com/app_data/data-syncer/rpc/query_trans... 2025-07-17 09:40 request       647 B 1 users     \n",
       "17    mail@andreibratu.com/app_data/data-syncer/rpc/query_trans... 2025-07-17 09:40 request       647 B 1 users     \n",
       "18    mail@andreibratu.com/app_data/data-syncer/rpc/get_latest_... 2025-07-17 09:40 request       644 B 1 users     \n",
       "19    mail@andreibratu.com/app_data/data-syncer/rpc/query_trans... 2025-07-17 09:40 request       647 B 1 users     \n",
       "20    mail@andreibratu.com/app_data/data-syncer/rpc/get_latest_... 2025-07-17 09:40 request       644 B 1 users     \n",
       "21    mail@andreibratu.com/app_data/data-syncer/rpc/query_trans... 2025-07-17 09:40 request       647 B 1 users     \n",
       "22    mail@andreibratu.com/app_data/data-syncer/rpc/get_latest_... 2025-07-17 09:40 request       644 B 1 users     \n",
       "23    mail@andreibratu.com/app_data/data-syncer/rpc                2025-07-17 09:23 folder      13.1 KB 1 users     \n",
       "24    bag94@outlook.es/app_data/flwr/borja.arroyog@upm.es_diabe... 2025-07-17 08:30 folder         91 B 1 users     \n",
       "25    b0rj494@gmail.com/app_data/flwr/borja.arroyog@upm.es_diab... 2025-07-17 08:30 folder          0 B 1 users     \n",
       "26    b0rj494@gmail.com/app_data/RDS/rpc/job/update                2025-07-17 08:26 folder          0 B 1 users     \n",
       "27    bag94@outlook.es/app_data/RDS/rpc                            2025-07-17 08:25 folder      95.7 KB 1 users     \n",
       "28    b0rj494@gmail.com/app_data/RDS/rpc/job/create                2025-07-17 08:25 folder          0 B 1 users     \n",
       "29    bag94@outlook.es/app_data/flwr/borja.arroyog@upm.es_diabe... 2025-07-17 08:22 folder         91 B 1 users     \n",
       "30    b0rj494@gmail.com/app_data/flwr/borja.arroyog@upm.es_diab... 2025-07-17 08:22 folder         91 B 1 users     \n",
       "31    b0rj494@gmail.com/app_data/flwr/borja.arroyog@upm.es_diab... 2025-07-17 08:15 folder         91 B 1 users     \n",
       "32    bag94@outlook.es/app_data/flwr/borja.arroyog@upm.es_diabe... 2025-07-17 08:15 folder         91 B 1 users     \n",
       "33    bag94@outlook.es/app_data/RDS/store/job/c8eb3746-031b-4a7... 2025-07-17 08:14 yaml          681 B 2 users     \n",
       "34    b0rj494@gmail.com/app_data/RDS/store/job/709a0c6b-40bf-46... 2025-07-17 08:14 yaml          682 B 2 users     \n",
       "35    b0rj494@gmail.com/app_data/flwr/borja.arroyog@upm.es_diab... 2025-07-17 08:14 request         0 B 1 users     \n",
       "36    b0rj494@gmail.com/app_data/RDS/rpc/user_code/create          2025-07-17 08:14 folder          0 B 1 users     \n",
       "37    b0rj494@gmail.com/app_data/flwr/borja.arroyog@upm.es_diab... 2025-07-17 08:12 folder         91 B 1 users     \n",
       "38    b0rj494@gmail.com/app_data/flwr/borja.arroyog@upm.es_diab... 2025-07-17 08:12 folder         91 B 1 users     \n",
       "39    bag94@outlook.es/app_data/flwr/borja.arroyog@upm.es_diabe... 2025-07-17 08:12 folder         91 B 1 users     \n",
       "40    bag94@outlook.es/app_data/flwr/borja.arroyog@upm.es_diabe... 2025-07-17 08:10 json           91 B 1 users     \n",
       "41    bag94@outlook.es/app_data/flwr/borja.arroyog@upm.es_diabe... 2025-07-17 08:10 folder         91 B 1 users     \n",
       "42    bag94@outlook.es/app_data/flwr                               2025-07-17 08:10 folder      11.7 KB 1 users     \n",
       "43    b0rj494@gmail.com/app_data/flwr/borja.arroyog@upm.es_diab... 2025-07-17 08:10 json           91 B 1 users     \n",
       "44    b0rj494@gmail.com/app_data/flwr/borja.arroyog@upm.es_diab... 2025-07-17 08:10 folder         91 B 1 users     \n",
       "45    b0rj494@gmail.com/app_data/flwr                              2025-07-17 08:10 folder        455 B 1 users     \n",
       "46    b0rj494@gmail.com/app_data/RDS/store/usercode/37c0c425-f1... 2025-07-17 08:09 yaml          352 B 2 users     \n",
       "47    b0rj494@gmail.com/app_data/RDS/store/usercode                2025-07-17 08:09 folder       2.1 KB 2 users     \n",
       "48    bag94@outlook.es/app_data/RDS/store/usercode/ceb2a7ae-233... 2025-07-17 08:09 yaml          351 B 2 users     \n",
       "49    bag94@outlook.es/app_data/RDS/store/usercode                 2025-07-17 08:09 folder       2.1 KB 2 users     \n",
       "50    bag94@outlook.es/app_data/RDS/store/job                      2025-07-17 08:09 folder       3.3 KB 2 users     \n",
       "--------------------------------------------------------------------------------------------------------------------\n",
       "2640 files, 2660 folders • Total size: 461.2 MB\n",
       "Use sp.files.page(n) to view other pages or sp.files in Jupyter for interactive view"
      ]
     },
     "execution_count": 10,
     "metadata": {},
     "output_type": "execute_result"
    }
   ],
   "source": [
    "sp.files"
   ]
  },
  {
   "cell_type": "code",
   "execution_count": 7,
   "id": "a3394d8a-6879-4552-bbc6-fab055f71d4d",
   "metadata": {},
   "outputs": [
    {
     "data": {
      "text/html": [
       "<div style=\"width:100%;height:600px;border:1px solid #3e3e42;border-radius:8px;overflow:hidden;background:#1e1e1e;\"><iframe src=\"http://localhost:58392/file-editor//Users/atrask/SyftBox/datasites/andrew@openmined.org\" style=\"width:100%;height:100%;border:none;background:transparent;\" frameborder=\"0\" allow=\"clipboard-read; clipboard-write\"></iframe></div>"
      ],
      "text/plain": [
       "SyftFolder('/Users/atrask/SyftBox/datasites/andrew@openmined.org')\n",
       "\n",
       "User                  Read    Create    Write    Admin    Reason\n",
       "--------------------  ------  --------  -------  -------  ------------------------------------------------------------------------------------------\n",
       "andrew@openmined.org  ✓       ✓         ✓        ✓        [Admin] Owner of path; [Write] Owner of path; [Create] Owner of path; [Read] Owner of path"
      ]
     },
     "execution_count": 7,
     "metadata": {},
     "output_type": "execute_result"
    }
   ],
   "source": [
    "f = sp.open(\"syft://andrew@openmined.org\")\n",
    "f"
   ]
  },
  {
   "cell_type": "code",
   "execution_count": 8,
   "id": "0c6b9b08-b2cd-42dc-97da-102488047542",
   "metadata": {},
   "outputs": [
    {
     "data": {
      "text/html": [
       "<div style=\"width:100%;height:600px;border:1px solid #3e3e42;border-radius:12px;overflow:hidden;\"><iframe src=\"http://127.0.0.1:8765/share-modal?path=/Users/atrask/SyftBox/datasites/andrew%40openmined.org\" style=\"width:100%;height:100%;border:none;border-radius:12px;\"></iframe></div>"
      ],
      "text/plain": [
       "ShareWidget('/Users/atrask/SyftBox/datasites/andrew@openmined.org')"
      ]
     },
     "execution_count": 8,
     "metadata": {},
     "output_type": "execute_result"
    }
   ],
   "source": [
    "f.share"
   ]
  },
  {
   "cell_type": "code",
   "execution_count": null,
   "id": "6979f48d-6f10-4fa0-a6a7-794404bd6365",
   "metadata": {},
   "outputs": [],
   "source": []
  }
 ],
 "metadata": {
  "kernelspec": {
   "display_name": "Python 3 (ipykernel)",
   "language": "python",
   "name": "python3"
  },
  "language_info": {
   "codemirror_mode": {
    "name": "ipython",
    "version": 3
   },
   "file_extension": ".py",
   "mimetype": "text/x-python",
   "name": "python",
   "nbconvert_exporter": "python",
   "pygments_lexer": "ipython3",
   "version": "3.12.9"
  }
 },
 "nbformat": 4,
 "nbformat_minor": 5
}
