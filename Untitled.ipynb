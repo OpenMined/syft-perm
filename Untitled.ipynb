{
 "cells": [
  {
   "cell_type": "code",
   "execution_count": 1,
   "id": "28d0e305-d4f2-42ee-9ab3-b33f063c9b90",
   "metadata": {},
   "outputs": [],
   "source": [
    "import syft_perm as sp"
   ]
  },
  {
   "cell_type": "code",
   "execution_count": 2,
   "id": "90801d90-7698-48c6-acf5-eacadf8d3e62",
   "metadata": {},
   "outputs": [
    {
     "data": {
      "text/plain": [
       "'0.3.95'"
      ]
     },
     "execution_count": 2,
     "metadata": {},
     "output_type": "execute_result"
    }
   ],
   "source": [
    "sp.__version__"
   ]
  },
  {
   "cell_type": "code",
   "execution_count": 3,
   "id": "c0a1ac85-d8d6-4b67-a98e-50d7eb273f6e",
   "metadata": {},
   "outputs": [
    {
     "data": {
      "text/html": [
       "\n",
       "                <div style=\"width: 100%; height: 600px; border: 1px solid #ddd; border-radius: 8px; overflow: hidden;\">\n",
       "                    <iframe \n",
       "                        src=\"http://localhost:8005/files-widget\" \n",
       "                        width=\"100%\" \n",
       "                        height=\"100%\" \n",
       "                        frameborder=\"0\"\n",
       "                        style=\"border: none;\"\n",
       "                        allow=\"clipboard-read; clipboard-write\">\n",
       "                    </iframe>\n",
       "                </div>\n",
       "                "
      ],
      "text/plain": [
       "Files (Page 1 of 105, showing 1-50 of 5202 items)\n",
       "--------------------------------------------------------------------------------------------------------------------\n",
       "#     URL                                                          Modified         Type     Size       Permissions \n",
       "--------------------------------------------------------------------------------------------------------------------\n",
       "1     liamtrask@gmail.com/asdfasdf.txt                             2025-07-14 00:32 txt             8 B 1 users     \n",
       "2     liamtrask@gmail.com                                          2025-07-14 00:32 folder       1.8 KB 1 users     \n",
       "3     liamtrask@gmail.com/test16.txt                               2025-07-14 00:31 txt            23 B 1 users     \n",
       "4     liamtrask@gmail.com/test30.txt                               2025-07-14 00:31 txt            18 B 1 users     \n",
       "5     liamtrask@gmail.com/test235.txt                              2025-07-14 00:31 txt            15 B 1 users     \n",
       "6     liamtrask@gmail.com/test15.txt                               2025-07-14 00:31 txt            61 B 1 users     \n",
       "7     liamtrask@gmail.com/test18.txt                               2025-07-14 00:30 txt            32 B 1 users     \n",
       "8     liamtrask@gmail.com/test325.txt                              2025-07-14 00:23 txt            11 B 1 users     \n",
       "9     liamtrask@gmail.com/test13.txt                               2025-07-14 00:23 txt            34 B 1 users     \n",
       "10    liamtrask@gmail.com/test10.txt                               2025-07-14 00:22 txt            15 B 1 users     \n",
       "11    liamtrask@gmail.com/test26.txt                               2025-07-14 00:22 txt            19 B 1 users     \n",
       "12    liamtrask@gmail.com/timestamp_test_1752466900.txt            2025-07-14 00:21 txt            50 B 1 users     \n",
       "13    liamtrask@gmail.com/test12.txt                               2025-07-14 00:19 txt            14 B 1 users     \n",
       "14    liamtrask@gmail.com/fixed_2_1752466477.txt                   2025-07-14 00:14 txt            52 B 1 users     \n",
       "15    liamtrask@gmail.com/fixed_1_1752466467.txt                   2025-07-14 00:14 txt            52 B 1 users     \n",
       "16    liamtrask@gmail.com/test20.txt                               2025-07-14 00:13 txt            18 B 1 users     \n",
       "17    liamtrask@gmail.com/test29.txt                               2025-07-14 00:13 txt            10 B 1 users     \n",
       "18    liamtrask@gmail.com/unique_2_1752466366.txt                  2025-07-14 00:12 txt            53 B 1 users     \n",
       "19    liamtrask@gmail.com/unique_1_1752466358.txt                  2025-07-14 00:12 txt            53 B 1 users     \n",
       "20    liamtrask@gmail.com/test17.txt                               2025-07-14 00:11 txt            21 B 1 users     \n",
       "21    liamtrask@gmail.com/test28.txt                               2025-07-14 00:11 txt            10 B 1 users     \n",
       "22    liamtrask@gmail.com/test27.txt                               2025-07-14 00:09 txt            10 B 1 users     \n",
       "23    liamtrask@gmail.com/test23.txt                               2025-07-14 00:09 txt            10 B 1 users     \n",
       "24    liamtrask@gmail.com/rainbow_5s_1752466143.txt                2025-07-14 00:09 txt            51 B 1 users     \n",
       "25    liamtrask@gmail.com/fast_rainbow_1752466011.txt              2025-07-14 00:06 txt            47 B 1 users     \n",
       "26    liamtrask@gmail.com/rainbow_test_1752465914.txt              2025-07-14 00:05 txt            42 B 1 users     \n",
       "27    liamtrask@gmail.com/test21.txt                               2025-07-13 23:58 txt            10 B 1 users     \n",
       "28    liamtrask@gmail.com/test_cause1_1752463232.txt               2025-07-13 23:20 txt            46 B 1 users     \n",
       "29    liamtrask@gmail.com/test19.txt                               2025-07-13 23:05 txt            10 B 1 users     \n",
       "30    liamtrask@gmail.com/frontend_fix_1752462260.txt              2025-07-13 23:04 txt            47 B 1 users     \n",
       "31    liamtrask@gmail.com/fixed_test_1752462155.txt                2025-07-13 23:02 txt            40 B 1 users     \n",
       "32    liamtrask@gmail.com/debug_test_1752462090.txt                2025-07-13 23:01 txt            40 B 1 users     \n",
       "33    liamtrask@gmail.com/simple_test_1752461951.txt               2025-07-13 22:59 txt            41 B 1 users     \n",
       "34    liamtrask@gmail.com/verify_chrono_1752461830.txt             2025-07-13 22:57 txt            42 B 1 users     \n",
       "35    liamtrask@gmail.com/revert_test_1752461803.txt               2025-07-13 22:56 txt            50 B 1 users     \n",
       "36    liamtrask@gmail.com/test14.txt                               2025-07-13 22:54 txt            10 B 1 users     \n",
       "37    liamtrask@gmail.com/final_test_1752461411.txt                2025-07-13 22:50 txt            42 B 1 users     \n",
       "38    liamtrask@gmail.com/final_test_1752461409.txt                2025-07-13 22:50 txt            42 B 1 users     \n",
       "39    liamtrask@gmail.com/chrono_test_1752461358.txt               2025-07-13 22:49 txt            42 B 1 users     \n",
       "40    liamtrask@gmail.com/websocket_test_1752461313.txt            2025-07-13 22:48 txt            50 B 1 users     \n",
       "41    liamtrask@gmail.com/websocket_test_1752460963.txt            2025-07-13 22:42 txt            47 B 1 users     \n",
       "42    liamtrask@gmail.com/test11.txt                               2025-07-13 22:40 txt             0 B 1 users     \n",
       "43    liamtrask@gmail.com/test9.txt                                2025-07-13 22:09 txt             9 B 1 users     \n",
       "44    liamtrask@gmail.com/test8.txt                                2025-07-13 22:08 txt             9 B 1 users     \n",
       "45    liamtrask@gmail.com/test7.txt                                2025-07-13 21:56 txt             9 B 1 users     \n",
       "46    liamtrask@gmail.com/test6.txt                                2025-07-13 21:56 txt             9 B 1 users     \n",
       "47    liamtrask@gmail.com/test5.txt                                2025-07-13 21:55 txt             9 B 1 users     \n",
       "48    liamtrask@gmail.com/test4.txt                                2025-07-13 21:54 txt             9 B 1 users     \n",
       "49    liamtrask@gmail.com/dynamic_test_1752458008.txt              2025-07-13 21:53 txt            44 B 1 users     \n",
       "50    liamtrask@gmail.com/websocket_works.txt                      2025-07-13 21:52 txt            22 B 1 users     \n",
       "--------------------------------------------------------------------------------------------------------------------\n",
       "2676 files, 2526 folders • Total size: 468.5 MB\n",
       "Use sp.files.page(n) to view other pages or sp.files in Jupyter for interactive view"
      ]
     },
     "execution_count": 3,
     "metadata": {},
     "output_type": "execute_result"
    }
   ],
   "source": [
    "sp.files"
   ]
  },
  {
   "cell_type": "code",
   "execution_count": 5,
   "id": "6f74d9bb-36e4-46cc-8df7-bc0f0c08b3d3",
   "metadata": {},
   "outputs": [
    {
     "data": {
      "text/html": [
       "\n",
       "            <div style=\"width: 100%; height: 600px; border: 1px solid #ddd; border-radius: 8px; overflow: hidden;\">\n",
       "                <iframe src=\"http://localhost:8005/file-editor//Users/atrask/SyftBox/datasites/liamtrask@gmail.com/asdfasdf.txt\" \n",
       "                        style=\"width: 100%; height: 100%; border: none;\" \n",
       "                        frameborder=\"0\"\n",
       "                        allow=\"clipboard-read; clipboard-write\">\n",
       "                </iframe>\n",
       "            </div>\n",
       "            "
      ],
      "text/plain": [
       "SyftFile('/Users/atrask/SyftBox/datasites/liamtrask@gmail.com/asdfasdf.txt')\n",
       "\n",
       "User                 Read    Create    Write    Admin    Reason\n",
       "-------------------  ------  --------  -------  -------  ------------------------------------------------------------------------------------------\n",
       "liamtrask@gmail.com  ✓       ✓         ✓        ✓        [Admin] Owner of path; [Write] Owner of path; [Create] Owner of path; [Read] Owner of path"
      ]
     },
     "execution_count": 5,
     "metadata": {},
     "output_type": "execute_result"
    }
   ],
   "source": [
    "sp.open(\"syft://liamtrask@gmail.com/asdfasdf.txt\")"
   ]
  },
  {
   "cell_type": "code",
   "execution_count": null,
   "id": "3140e244-5c39-46e3-9377-c0c13bd2cd2b",
   "metadata": {},
   "outputs": [],
   "source": []
  },
  {
   "cell_type": "code",
   "execution_count": null,
   "id": "c0029dbe-789f-46d5-894c-d13ddcbde4d8",
   "metadata": {},
   "outputs": [],
   "source": []
  },
  {
   "cell_type": "code",
   "execution_count": null,
   "id": "73a0f0f5-e973-4341-af8d-5ff524dc1b80",
   "metadata": {},
   "outputs": [],
   "source": []
  },
  {
   "cell_type": "code",
   "execution_count": 4,
   "id": "c78773a2-905f-4141-ac93-e06f100e0447",
   "metadata": {},
   "outputs": [
    {
     "name": "stdout",
     "output_type": "stream",
     "text": [
      "Scanning datasites...\n",
      "Files (Page 1 of 103, showing 1-50 of 5146 items)                               mail.comail.com\n",
      "--------------------------------------------------------------------------------------------------------------------\n",
      "#     URL                                                          Modified         Type     Size       Permissions \n",
      "--------------------------------------------------------------------------------------------------------------------\n",
      "1     yash@openmined.org/public/syft.pub.conflict.yaml             2025-07-13 10:38 yaml           95 B 2 users     \n",
      "2     yash@openmined.org/public                                    2025-07-13 10:38 folder       1.0 MB 2 users     \n",
      "3     madhava@openmined.org/app_data/data-syncer/rpc/query_tran... 2025-07-13 10:38 folder          0 B 2 users     \n",
      "4     madhava@openmined.org/app_data/data-syncer/rpc/get_latest... 2025-07-13 10:38 folder          0 B 2 users     \n",
      "5     aggregator@openmined.org/app_data/routers/claude/rpc/chat    2025-07-13 10:38 folder          0 B 1 users     \n",
      "6     liamtrask@gmail.com/chat/inner_dialogue/convo2.txt           2025-07-13 02:09 txt            32 B 2 users     \n",
      "7     liamtrask@gmail.com/chat/inner_dialogue                      2025-07-13 02:09 folder        130 B 1 users     \n",
      "8     liamtrask@gmail.com/chat                                     2025-07-13 01:36 folder        295 B 2 users     \n",
      "9     liamtrask@gmail.com/chat/convo1.txt                          2025-07-13 01:36 txt            37 B 2 users     \n",
      "10    bobvandenhoogen@gmail.com/app_data/data-syncer/rpc/submit... 2025-07-13 01:20 folder          0 B 1 users     \n",
      "11    andrew@openmined.org/app_data/RDS/rpc/user_code/create       2025-07-13 01:20 folder          0 B 1 users     \n",
      "12    tauquir@openmined.org/app_data/syft-awake/rpc/awake          2025-07-13 01:20 folder          0 B 1 users     \n",
      "13    bag94@outlook.es/app_data/flwr/alessandro.ceresi@upm.es_f... 2025-07-13 01:20 folder          0 B 1 users     \n",
      "14    bag94@outlook.es/app_data/RDS/rpc/job/update                 2025-07-13 01:20 folder          0 B 1 users     \n",
      "15    flower-test-group-1@openmined.org/app_data/RDS/rpc/user_c... 2025-07-13 01:20 folder          0 B 2 users     \n",
      "16    flower-test-group-2@openmined.org/app_data/RDS/rpc/job/up... 2025-07-13 01:20 folder          0 B 2 users     \n",
      "17    b0rj494@gmail.com/app_data/RDS/rpc/job/update                2025-07-13 01:20 folder          0 B 1 users     \n",
      "18    bobvandenhoogen@gmail.com/app_data/data-syncer/rpc/get_la... 2025-07-13 01:20 folder          0 B 1 users     \n",
      "19    bag94@outlook.es/app_data/RDS/rpc/job/create                 2025-07-13 01:20 folder          0 B 1 users     \n",
      "20    dave@openmined.org/app_data/RDS/rpc/job/update               2025-07-13 01:20 folder          0 B 1 users     \n",
      "21    bag94@outlook.es/app_data/RDS/rpc/user_code/create           2025-07-13 01:20 folder          0 B 1 users     \n",
      "22    bobvandenhoogen@gmail.com/app_data/data-syncer/rpc/query_... 2025-07-13 01:20 folder          0 B 1 users     \n",
      "23    flower-test-group-2@openmined.org/app_data/flwr/alessandr... 2025-07-13 01:20 folder          0 B 2 users     \n",
      "24    flower-test-group-2@openmined.org/app_data/RDS/rpc/user_c... 2025-07-13 01:20 folder          0 B 2 users     \n",
      "25    andrew@openmined.org/app_data/syft-awake/rpc/awake           2025-07-13 01:20 folder          0 B 1 users     \n",
      "26    liamtrask@gmail.com/api_data/syft-awake/rpc/awake            2025-07-13 01:20 folder          0 B 1 users     \n",
      "27    flower-test-group-2@openmined.org/app_data/RDS/rpc/runtim... 2025-07-13 01:20 folder          0 B 2 users     \n",
      "28    b0rj494@gmail.com/app_data/flwr/borja.arroyog@upm.es_fuck... 2025-07-13 01:20 folder          0 B 1 users     \n",
      "29    bag94@outlook.es/app_data/flwr/borja.arroyog@upm.es_fucke... 2025-07-13 01:20 folder          0 B 1 users     \n",
      "30    b0rj494@gmail.com/app_data/flwr/borja.arroyog@upm.es_fl-d... 2025-07-13 01:20 folder          0 B 1 users     \n",
      "31    flower-test-group-1@openmined.org/app_data/flwr/alessandr... 2025-07-13 01:20 folder          0 B 2 users     \n",
      "32    flower-test-group-2@openmined.org/app_data/RDS/rpc/runtim... 2025-07-13 01:20 folder          0 B 2 users     \n",
      "33    ionesio@openmined.org/app_data/syft-awake/rpc/awake          2025-07-13 01:20 folder          0 B 1 users     \n",
      "34    tauquir@openmined.org/app_data/RDS/rpc/job/create            2025-07-13 01:20 folder          0 B 1 users     \n",
      "35    flower-test-group-1@openmined.org/app_data/RDS/rpc/job/up... 2025-07-13 01:20 folder          0 B 2 users     \n",
      "36    irina@openmined.org/app_data/router-dashboard/rpc/network... 2025-07-13 01:20 folder          0 B 1 users     \n",
      "37    madhava@openmined.org/app_data/a2a/rpc/v1/chat/completions   2025-07-13 01:20 folder          0 B 2 users     \n",
      "38    b0rj494@gmail.com/app_data/RDS/rpc/user_code/create          2025-07-13 01:20 folder          0 B 1 users     \n",
      "39    flower-test-group-1@openmined.org/app_data/RDS/rpc/job/cr... 2025-07-13 01:20 folder          0 B 2 users     \n",
      "40    madhava@openmined.org/app_data/calibre-syftbox/rpc/v1/cha... 2025-07-13 01:20 folder          0 B 2 users     \n",
      "41    dave@openmined.org/app_data/RDS/rpc/job/create               2025-07-13 01:20 folder          0 B 1 users     \n",
      "42    flower-test-group-2@openmined.org/app_data/RDS/rpc/job/cr... 2025-07-13 01:20 folder          0 B 2 users     \n",
      "43    irina@openmined.org/app_data/router-dashboard/rpc/balance    2025-07-13 01:20 folder          0 B 1 users     \n",
      "44    flower-test-group-1@openmined.org/app_data/RDS/rpc/runtim... 2025-07-13 01:20 folder          0 B 2 users     \n",
      "45    b0rj494@gmail.com/app_data/flwr/alessandro.ceresi@upm.es_... 2025-07-13 01:20 folder          0 B 1 users     \n",
      "46    b0rj494@gmail.com/app_data/flwr/alessandro.ceresi@upm.es_... 2025-07-13 01:20 folder          0 B 1 users     \n",
      "47    dave@openmined.org/app_data/RDS/rpc/user_code/create         2025-07-13 01:20 folder          0 B 1 users     \n",
      "48    madhava@openmined.org/app_data/app_template/rpc/hello        2025-07-13 01:20 folder          0 B 2 users     \n",
      "49    flower-test-group-1@openmined.org/app_data/flwr/alessandr... 2025-07-13 01:20 folder          0 B 2 users     \n",
      "50    andrew@openmined.org/api_data/syft-awake/rpc/awake           2025-07-13 01:20 folder          0 B 1 users     \n",
      "--------------------------------------------------------------------------------------------------------------------\n",
      "2620 files, 2526 folders • Total size: 468.5 MB\n",
      "Use sp.files.page(n) to view other pages or sp.files in Jupyter for interactive view\n"
     ]
    }
   ],
   "source": [
    "print(str(sp.files))"
   ]
  },
  {
   "cell_type": "code",
   "execution_count": 4,
   "id": "140e84c9-7b98-4228-8a95-17da71523c42",
   "metadata": {},
   "outputs": [
    {
     "data": {
      "text/html": [
       "\n",
       "        <div id=\"syft_files_f4fd63c1\" style=\"font-family: -apple-system, BlinkMacSystemFont, 'Segoe UI', Roboto, sans-serif; border: 1px solid #e5e7eb; border-radius: 8px; overflow: hidden; max-width: 100%;\">\n",
       "            <!-- Search Header -->\n",
       "            <div style=\"background: #f8f9fa; padding: 12px; border-bottom: 1px solid #e5e7eb;\n",
       "                        position: relative;\">\n",
       "                <input id=\"syft_files_f4fd63c1-search\" type=\"text\"\n",
       "                       placeholder=\"🔍 Search permissions... (use Tab for autocomplete)\"\n",
       "                       style=\"width: calc(100% - 24px); padding: 8px 12px; border: 1px solid #d1d5db; border-radius: 6px; font-size: 14px; outline: none; box-sizing: border-box;\"\n",
       "                       oninput=\"searchFiles_syft_files_f4fd63c1(this.value)\"\n",
       "                       onkeydown=\"handleKeyDown_syft_files_f4fd63c1(event)\"\n",
       "                       autocomplete=\"off\">\n",
       "                <div id=\"syft_files_f4fd63c1-suggestions\"\n",
       "                     style=\"display: none; position: absolute; top: 100%; left: 12px; right: 12px;\n",
       "                            background: white; border: 1px solid #d1d5db; border-top: none;\n",
       "                            border-radius: 0 0 6px 6px; max-height: 200px; overflow-y: auto;\n",
       "                            z-index: 1000; box-shadow: 0 4px 6px rgba(0,0,0,0.1);\"></div>\n",
       "            </div>\n",
       "\n",
       "            <!-- Table Container -->\n",
       "            <div style=\"max-height: 400px; overflow-y: auto;\">\n",
       "                <table style=\"width: 100%; border-collapse: collapse; font-size: 13px;\">\n",
       "                    <thead style=\"background: #f8f9fa; position: sticky; top: 0; z-index: 10;\">\n",
       "                        <tr>\n",
       "                            <th style=\"text-align: left; padding: 10px; font-weight: 600; border-bottom: 1px solid #e5e7eb; width: 40%;\">User</th>\n",
       "                            <th style=\"text-align: left; padding: 10px; font-weight: 600; border-bottom: 1px solid #e5e7eb; width: 35%;\">Permission Type</th>\n",
       "                            <th style=\"text-align: left; padding: 10px; font-weight: 600; border-bottom: 1px solid #e5e7eb; width: 25%;\">File</th>\n",
       "                        </tr>\n",
       "                    </thead>\n",
       "                    <tbody id=\"syft_files_f4fd63c1-tbody\">\n",
       "        \n",
       "                    <tr style=\"border-bottom: 1px solid #f3f4f6;\">\n",
       "                        <td style=\"padding: 10px; text-align: left;\">\n",
       "                            adyaagrawal04@gmail.com\n",
       "                        </td>\n",
       "                        <td style=\"padding: 10px; text-align: left;\">\n",
       "                            <span style=\"background: #e5f3ff; color: #0066cc; padding: 2px 6px;\n",
       "                                         border-radius: 4px; font-size: 11px; font-weight: 500;\">\n",
       "                                read\n",
       "                            </span>\n",
       "                        </td>\n",
       "                        <td style=\"padding: 10px; font-family: 'SF Mono', Monaco, monospace;\n",
       "                                   word-break: break-all; text-align: left; cursor: pointer;\"\n",
       "                            onclick=\"copyToClipboard_syft_files_f4fd63c1('syft:///Users/atrask/SyftBox/datasites/adyaagrawal04@gmail.com')\"\n",
       "                            title=\"Click to copy sp.open() command\">\n",
       "                            adyaagrawal04@gmail.com\n",
       "                        </td>\n",
       "                    </tr>\n",
       "            \n",
       "                    <tr style=\"border-bottom: 1px solid #f3f4f6;\">\n",
       "                        <td style=\"padding: 10px; text-align: left;\">\n",
       "                            adyaagrawal04@gmail.com\n",
       "                        </td>\n",
       "                        <td style=\"padding: 10px; text-align: left;\">\n",
       "                            <span style=\"background: #e5f3ff; color: #0066cc; padding: 2px 6px;\n",
       "                                         border-radius: 4px; font-size: 11px; font-weight: 500;\">\n",
       "                                create\n",
       "                            </span>\n",
       "                        </td>\n",
       "                        <td style=\"padding: 10px; font-family: 'SF Mono', Monaco, monospace;\n",
       "                                   word-break: break-all; text-align: left; cursor: pointer;\"\n",
       "                            onclick=\"copyToClipboard_syft_files_f4fd63c1('syft:///Users/atrask/SyftBox/datasites/adyaagrawal04@gmail.com')\"\n",
       "                            title=\"Click to copy sp.open() command\">\n",
       "                            adyaagrawal04@gmail.com\n",
       "                        </td>\n",
       "                    </tr>\n",
       "            \n",
       "                    <tr style=\"border-bottom: 1px solid #f3f4f6;\">\n",
       "                        <td style=\"padding: 10px; text-align: left;\">\n",
       "                            adyaagrawal04@gmail.com\n",
       "                        </td>\n",
       "                        <td style=\"padding: 10px; text-align: left;\">\n",
       "                            <span style=\"background: #e5f3ff; color: #0066cc; padding: 2px 6px;\n",
       "                                         border-radius: 4px; font-size: 11px; font-weight: 500;\">\n",
       "                                write\n",
       "                            </span>\n",
       "                        </td>\n",
       "                        <td style=\"padding: 10px; font-family: 'SF Mono', Monaco, monospace;\n",
       "                                   word-break: break-all; text-align: left; cursor: pointer;\"\n",
       "                            onclick=\"copyToClipboard_syft_files_f4fd63c1('syft:///Users/atrask/SyftBox/datasites/adyaagrawal04@gmail.com')\"\n",
       "                            title=\"Click to copy sp.open() command\">\n",
       "                            adyaagrawal04@gmail.com\n",
       "                        </td>\n",
       "                    </tr>\n",
       "            \n",
       "                    <tr style=\"border-bottom: 1px solid #f3f4f6;\">\n",
       "                        <td style=\"padding: 10px; text-align: left;\">\n",
       "                            adyaagrawal04@gmail.com\n",
       "                        </td>\n",
       "                        <td style=\"padding: 10px; text-align: left;\">\n",
       "                            <span style=\"background: #e5f3ff; color: #0066cc; padding: 2px 6px;\n",
       "                                         border-radius: 4px; font-size: 11px; font-weight: 500;\">\n",
       "                                admin\n",
       "                            </span>\n",
       "                        </td>\n",
       "                        <td style=\"padding: 10px; font-family: 'SF Mono', Monaco, monospace;\n",
       "                                   word-break: break-all; text-align: left; cursor: pointer;\"\n",
       "                            onclick=\"copyToClipboard_syft_files_f4fd63c1('syft:///Users/atrask/SyftBox/datasites/adyaagrawal04@gmail.com')\"\n",
       "                            title=\"Click to copy sp.open() command\">\n",
       "                            adyaagrawal04@gmail.com\n",
       "                        </td>\n",
       "                    </tr>\n",
       "            \n",
       "                    </tbody>\n",
       "                </table>\n",
       "            </div>\n",
       "\n",
       "            <!-- Footer -->\n",
       "            <div style=\"background: #f8f9fa; padding: 10px; border-top: 1px solid #e5e7eb;\n",
       "                        font-size: 12px; color: #6b7280; text-align: center;\">\n",
       "                <span id=\"syft_files_f4fd63c1-status\">\n",
       "                    Showing 4 of\n",
       "                    4 permissions for adyaagrawal04@gmail.com\n",
       "                </span>\n",
       "                <span id=\"syft_files_f4fd63c1-size\" style=\"margin-left: 10px;\"></span>\n",
       "            </div>\n",
       "        </div>\n",
       "\n",
       "        <script>\n",
       "        (function() {\n",
       "            // Store all files data in a way that's compatible with Jupyter\n",
       "            var allFiles = [{\"name\": \"adyaagrawal04@gmail.com\", \"permission_type\": \"read\", \"file_path\": \"/Users/atrask/SyftBox/datasites/adyaagrawal04@gmail.com\"}, {\"name\": \"adyaagrawal04@gmail.com\", \"permission_type\": \"create\", \"file_path\": \"/Users/atrask/SyftBox/datasites/adyaagrawal04@gmail.com\"}, {\"name\": \"adyaagrawal04@gmail.com\", \"permission_type\": \"write\", \"file_path\": \"/Users/atrask/SyftBox/datasites/adyaagrawal04@gmail.com\"}, {\"name\": \"adyaagrawal04@gmail.com\", \"permission_type\": \"admin\", \"file_path\": \"/Users/atrask/SyftBox/datasites/adyaagrawal04@gmail.com\"}];\n",
       "            var container = document.getElementById('syft_files_f4fd63c1');\n",
       "\n",
       "            function escapeHtml(text) {\n",
       "                var div = document.createElement('div');\n",
       "                div.textContent = text || '';\n",
       "                return div.innerHTML;\n",
       "            }\n",
       "\n",
       "            window.copyToClipboard_syft_files_f4fd63c1 = function(path) {\n",
       "                var command = 'sp.open(\"' + path + '\")';\n",
       "\n",
       "                // Create temporary textarea to copy text\n",
       "                var textarea = document.createElement('textarea');\n",
       "                textarea.value = command;\n",
       "                textarea.style.position = 'fixed';\n",
       "                textarea.style.opacity = '0';\n",
       "                document.body.appendChild(textarea);\n",
       "\n",
       "                // Select and copy\n",
       "                textarea.select();\n",
       "                try {\n",
       "                    document.execCommand('copy');\n",
       "                    // Optional: Show brief feedback\n",
       "                    var originalTitle = event.target.title;\n",
       "                    event.target.title = 'Copied!';\n",
       "                    event.target.style.color = '#10b981';\n",
       "                    setTimeout(function() {\n",
       "                        event.target.title = originalTitle;\n",
       "                        event.target.style.color = '';\n",
       "                    }, 1000);\n",
       "                } catch (err) {\n",
       "                    console.error('Failed to copy:', err);\n",
       "                }\n",
       "\n",
       "                document.body.removeChild(textarea);\n",
       "            }\n",
       "\n",
       "\n",
       "            var selectedSuggestionIndex = -1;\n",
       "            var currentSuggestions = [];\n",
       "\n",
       "            window.searchFiles_syft_files_f4fd63c1 = function(searchTerm) {\n",
       "                var tbody = document.getElementById('syft_files_f4fd63c1-tbody');\n",
       "                var status = document.getElementById('syft_files_f4fd63c1-status');\n",
       "\n",
       "                if (!tbody || !status) return;\n",
       "\n",
       "                searchTerm = searchTerm.toLowerCase();\n",
       "                var filteredPermissions = allFiles.filter(function(permission) {\n",
       "                    return !searchTerm ||\n",
       "                           permission.name.toLowerCase().includes(searchTerm) ||\n",
       "                           permission.permission_type.toLowerCase().includes(searchTerm);\n",
       "                });\n",
       "\n",
       "                // Clear current table\n",
       "                tbody.innerHTML = '';\n",
       "\n",
       "                // Show first 50 filtered results\n",
       "                var displayPermissions = filteredPermissions.slice(0, 50);\n",
       "\n",
       "                for (var i = 0; i < displayPermissions.length; i++) {\n",
       "                    var permission = displayPermissions[i];\n",
       "\n",
       "                    var tr = document.createElement('tr');\n",
       "                    tr.style.borderBottom = '1px solid #f3f4f6';\n",
       "                    tr.innerHTML =\n",
       "                        '<td style=\"padding: 10px; text-align: left;\">' +\n",
       "                        escapeHtml(permission.name) + '</td>' +\n",
       "                        '<td style=\"padding: 10px; text-align: left;\">' +\n",
       "                        '<span style=\"background: #e5f3ff; color: #0066cc; padding: 2px 6px; ' +\n",
       "                        'border-radius: 4px; font-size: 11px; font-weight: 500;\">' +\n",
       "                        escapeHtml(permission.permission_type) + '</span></td>' +\n",
       "                        '<td style=\"padding: 10px; font-family: monospace; ' +\n",
       "                        'word-break: break-all; text-align: left; cursor: pointer;\" ' +\n",
       "                        'onclick=\"copyToClipboard_' + 'syft_files_f4fd63c1' + '(\\'' +\n",
       "                        'syft://' + permission.file_path + '\\')\" ' +\n",
       "                        'title=\"Click to copy sp.open() command\">' +\n",
       "                        escapeHtml('adyaagrawal04@gmail.com') + '</td>';\n",
       "                    tbody.appendChild(tr);\n",
       "                }\n",
       "\n",
       "                // Update status\n",
       "                var statusText = searchTerm ?\n",
       "                    'Showing ' + displayPermissions.length + ' of ' + filteredPermissions.length +\n",
       "                    ' matching permissions' :\n",
       "                    'Showing ' + displayPermissions.length + ' of ' + allFiles.length +\n",
       "                    ' permissions';\n",
       "                status.textContent = statusText;\n",
       "            };\n",
       "\n",
       "            function getPermissionSuggestions(input) {\n",
       "                var suggestions = new Set();\n",
       "                var inputLower = input.toLowerCase();\n",
       "\n",
       "                // Get user names and permission types that match the input\n",
       "                allFiles.forEach(function(permission) {\n",
       "                    // Add user names that match\n",
       "                    if (permission.name.toLowerCase().startsWith(inputLower) &&\n",
       "                        permission.name !== input) {\n",
       "                        suggestions.add(permission.name);\n",
       "                    }\n",
       "\n",
       "                    // Add permission types that match\n",
       "                    if (permission.permission_type.toLowerCase().startsWith(inputLower) &&\n",
       "                        permission.permission_type !== input) {\n",
       "                        suggestions.add(permission.permission_type);\n",
       "                    }\n",
       "                });\n",
       "\n",
       "                return Array.from(suggestions).sort().slice(0, 10);\n",
       "            }\n",
       "\n",
       "            function showSuggestions(suggestions) {\n",
       "                var suggestionsDiv = document.getElementById('syft_files_f4fd63c1-suggestions');\n",
       "                if (!suggestionsDiv) return;\n",
       "\n",
       "                if (suggestions.length === 0) {\n",
       "                    suggestionsDiv.style.display = 'none';\n",
       "                    return;\n",
       "                }\n",
       "\n",
       "                suggestionsDiv.innerHTML = '';\n",
       "                currentSuggestions = suggestions;\n",
       "                selectedSuggestionIndex = -1;\n",
       "\n",
       "                suggestions.forEach(function(suggestion, index) {\n",
       "                    var div = document.createElement('div');\n",
       "                    div.textContent = suggestion;\n",
       "                    div.style.cssText = 'padding: 8px 12px; cursor: pointer; ' +\n",
       "                                        'border-bottom: 1px solid #f3f4f6;';\n",
       "                    div.onclick = function() {\n",
       "                        document.getElementById('syft_files_f4fd63c1-search').value = suggestion;\n",
       "                        searchFiles_syft_files_f4fd63c1(suggestion);\n",
       "                        suggestionsDiv.style.display = 'none';\n",
       "                    };\n",
       "                    div.onmouseover = function() {\n",
       "                        selectedSuggestionIndex = index;\n",
       "                        updateSuggestionHighlight();\n",
       "                    };\n",
       "                    suggestionsDiv.appendChild(div);\n",
       "                });\n",
       "\n",
       "                suggestionsDiv.style.display = 'block';\n",
       "            }\n",
       "\n",
       "            function updateSuggestionHighlight() {\n",
       "                var suggestionsDiv = document.getElementById('syft_files_f4fd63c1-suggestions');\n",
       "                if (!suggestionsDiv) return;\n",
       "\n",
       "                var items = suggestionsDiv.children;\n",
       "                for (var i = 0; i < items.length; i++) {\n",
       "                    if (i === selectedSuggestionIndex) {\n",
       "                        items[i].style.backgroundColor = '#e5f3ff';\n",
       "                    } else {\n",
       "                        items[i].style.backgroundColor = 'transparent';\n",
       "                    }\n",
       "                }\n",
       "            }\n",
       "\n",
       "            window.handleKeyDown_syft_files_f4fd63c1 = function(event) {\n",
       "                var suggestionsDiv = document.getElementById('syft_files_f4fd63c1-suggestions');\n",
       "                var isVisible = suggestionsDiv && suggestionsDiv.style.display !== 'none';\n",
       "\n",
       "                if (event.key === 'Tab') {\n",
       "                    event.preventDefault();\n",
       "                    var input = event.target;\n",
       "                    var suggestions = getPermissionSuggestions(input.value);\n",
       "\n",
       "                    if (suggestions.length > 0) {\n",
       "                        if (!isVisible) {\n",
       "                            showSuggestions(suggestions);\n",
       "                        } else {\n",
       "                            // Cycle through suggestions\n",
       "                            selectedSuggestionIndex = (selectedSuggestionIndex + 1) %\n",
       "                                                    suggestions.length;\n",
       "                            updateSuggestionHighlight();\n",
       "                            input.value = currentSuggestions[selectedSuggestionIndex];\n",
       "                        }\n",
       "                    }\n",
       "                } else if (isVisible) {\n",
       "                    if (event.key === 'ArrowDown') {\n",
       "                        event.preventDefault();\n",
       "                        selectedSuggestionIndex = Math.min(selectedSuggestionIndex + 1,\n",
       "                                                          currentSuggestions.length - 1);\n",
       "                        updateSuggestionHighlight();\n",
       "                    } else if (event.key === 'ArrowUp') {\n",
       "                        event.preventDefault();\n",
       "                        selectedSuggestionIndex = Math.max(selectedSuggestionIndex - 1, 0);\n",
       "                        updateSuggestionHighlight();\n",
       "                    } else if (event.key === 'Enter' && selectedSuggestionIndex >= 0) {\n",
       "                        event.preventDefault();\n",
       "                        var selected = currentSuggestions[selectedSuggestionIndex];\n",
       "                        event.target.value = selected;\n",
       "                        searchFiles_syft_files_f4fd63c1(selected);\n",
       "                        suggestionsDiv.style.display = 'none';\n",
       "                    } else if (event.key === 'Escape') {\n",
       "                        suggestionsDiv.style.display = 'none';\n",
       "                    }\n",
       "                }\n",
       "            };\n",
       "        })();\n",
       "\n",
       "        </script>\n",
       "        "
      ],
      "text/plain": [
       "SyftFolder('/Users/atrask/SyftBox/datasites/adyaagrawal04@gmail.com')\n",
       "\n",
       "User                     Read    Create    Write    Admin    Reason\n",
       "-----------------------  ------  --------  -------  -------  ------------------------------------------------------------------------------------------\n",
       "adyaagrawal04@gmail.com  ✓       ✓         ✓        ✓        [Admin] Owner of path; [Write] Owner of path; [Create] Owner of path; [Read] Owner of path"
      ]
     },
     "execution_count": 4,
     "metadata": {},
     "output_type": "execute_result"
    }
   ],
   "source": [
    "sp.open(\"syft://adyaagrawal04@gmail.com\")"
   ]
  },
  {
   "cell_type": "code",
   "execution_count": 7,
   "id": "057828fd-2f7f-4c5e-9d78-cfce38f46997",
   "metadata": {},
   "outputs": [],
   "source": []
  },
  {
   "cell_type": "code",
   "execution_count": null,
   "id": "e02fb255-7ab5-4d83-ba9f-1ba6d3cea12e",
   "metadata": {},
   "outputs": [],
   "source": []
  },
  {
   "cell_type": "code",
   "execution_count": 8,
   "id": "a617f238-56f2-4399-874e-f899dddb50b5",
   "metadata": {},
   "outputs": [],
   "source": [
    "f = sp.open(\"syft://abowman8556@icloud.com/app_data/RDS/rpc/rpc.schema.json\")"
   ]
  },
  {
   "cell_type": "code",
   "execution_count": 9,
   "id": "4ec4d6b7-2ccd-4c02-9fd8-6799c1b92a23",
   "metadata": {},
   "outputs": [
    {
     "data": {
      "text/plain": [
       "{'max_file_size': None,\n",
       " 'allow_dirs': True,\n",
       " 'allow_symlinks': True,\n",
       " 'has_limits': False}"
      ]
     },
     "execution_count": 9,
     "metadata": {},
     "output_type": "execute_result"
    }
   ],
   "source": [
    "f.get_file_limits()"
   ]
  },
  {
   "cell_type": "code",
   "execution_count": 5,
   "id": "3066d46b-0b17-4f8f-8abe-894e13355bcc",
   "metadata": {},
   "outputs": [
    {
     "data": {
      "text/plain": [
       "True"
      ]
     },
     "execution_count": 5,
     "metadata": {},
     "output_type": "execute_result"
    }
   ],
   "source": [
    "f.has_read_access('liamtrask@gmail.com')"
   ]
  },
  {
   "cell_type": "code",
   "execution_count": 6,
   "id": "8a3fe43e-c137-4410-a51b-c1fb6bdaf2b4",
   "metadata": {},
   "outputs": [
    {
     "data": {
      "text/plain": [
       "{'read': ['andrew@openmined.org', 'liamtrask@gmail.com'],\n",
       " 'create': ['liamtrask@gmail.com'],\n",
       " 'write': ['liamtrask@gmail.com'],\n",
       " 'admin': ['liamtrask@gmail.com']}"
      ]
     },
     "execution_count": 6,
     "metadata": {},
     "output_type": "execute_result"
    }
   ],
   "source": [
    "f.permissions_dict"
   ]
  },
  {
   "cell_type": "code",
   "execution_count": null,
   "id": "40017c2f-2f8f-4cd7-8a84-db5869b3b786",
   "metadata": {},
   "outputs": [],
   "source": []
  },
  {
   "cell_type": "code",
   "execution_count": 22,
   "id": "e9c69697-3ecb-4159-9ae6-794b785131c2",
   "metadata": {},
   "outputs": [
    {
     "name": "stdout",
     "output_type": "stream",
     "text": [
      "SyftFolder('/Users/atrask/SyftBox/datasites/liamtrask@gmail.com/chat')\n",
      "\n",
      "User               Read  Create  Write  Admin  Reason\n",
      "----------------------------------------------------------------------\n",
      "liamtrask@gmail.com  ✓     ✓       ✓      ✓     [Admin] Owner of path; [Write] Owner of path; [Create] Owner of path; [Read] Owner of path\n",
      "SyftFolder('/Users/atrask/SyftBox/datasites/liamtrask@gmail.com/chat')\n",
      "\n",
      "User               Read  Create  Write  Admin  Reason\n",
      "----------------------------------------------------------------------\n",
      "andrew@openmined.org ✓                          [Read] Explicitly granted read in /Users/atrask/SyftBox/datasites/liamtrask@gmail.com/chat; Pattern '**' matched\n",
      "liamtrask@gmail.com  ✓     ✓       ✓      ✓     [Admin] Owner of path; [Write] Owner of path; [Create] Owner of path; [Read] Owner of path\n",
      "True\n",
      "Permission analysis for andrew@openmined.org on /Users/atrask/SyftBox/datasites/liamtrask@gmail.com/chat:\n",
      "\n",
      "ADMIN: ✗ DENIED\n",
      "  • Pattern '**' matched\n",
      "\n",
      "WRITE: ✗ DENIED\n",
      "  • Pattern '**' matched\n",
      "\n",
      "CREATE: ✗ DENIED\n",
      "  • Pattern '**' matched\n",
      "\n",
      "READ: ✓ GRANTED\n",
      "  • Explicitly granted read in /Users/atrask/SyftBox/datasites/liamtrask@gmail.com/chat\n",
      "  • Pattern '**' matched\n",
      "\n",
      "\n"
     ]
    }
   ],
   "source": [
    "f = sp.open(\"syft://liamtrask@gmail.com/chat/\")\n",
    "print(str(f))\n",
    "f.grant_read_access('andrew@openmined.org')\n",
    "print(str(f))\n",
    "print(f.has_read_access('andrew@openmined.org'))\n",
    "print(f.explain_permissions('andrew@openmined.org'))"
   ]
  },
  {
   "cell_type": "code",
   "execution_count": 23,
   "id": "2e3f9d2b-a7e3-4762-872f-a86d369739cb",
   "metadata": {},
   "outputs": [
    {
     "name": "stdout",
     "output_type": "stream",
     "text": [
      "Permission analysis for andrew@openmined.org on /Users/atrask/SyftBox/datasites/liamtrask@gmail.com/chat/convo1.txt:\n",
      "\n",
      "ADMIN: ✗ DENIED\n",
      "  • Pattern '**' matched\n",
      "\n",
      "WRITE: ✗ DENIED\n",
      "  • Pattern '**' matched\n",
      "\n",
      "CREATE: ✗ DENIED\n",
      "  • Pattern '**' matched\n",
      "\n",
      "READ: ✓ GRANTED\n",
      "  • Explicitly granted read in /Users/atrask/SyftBox/datasites/liamtrask@gmail.com/chat\n",
      "  • Pattern '**' matched\n",
      "\n",
      "\n"
     ]
    }
   ],
   "source": [
    "f = sp.open(\"syft://liamtrask@gmail.com/chat/convo1.txt\")\n",
    "print(f.explain_permissions('andrew@openmined.org'))"
   ]
  },
  {
   "cell_type": "code",
   "execution_count": 24,
   "id": "7f719c98-4a83-413c-ac78-eb65ab7344fe",
   "metadata": {},
   "outputs": [
    {
     "name": "stdout",
     "output_type": "stream",
     "text": [
      "Permission analysis for andrew@openmined.org on /Users/atrask/SyftBox/datasites/liamtrask@gmail.com/chat/inner_dialogue/convo2.txt :\n",
      "\n",
      "ADMIN: ✗ DENIED\n",
      "  • Pattern '**' matched\n",
      "\n",
      "WRITE: ✗ DENIED\n",
      "  • Pattern '**' matched\n",
      "\n",
      "CREATE: ✗ DENIED\n",
      "  • Pattern '**' matched\n",
      "\n",
      "READ: ✓ GRANTED\n",
      "  • Explicitly granted read in /Users/atrask/SyftBox/datasites/liamtrask@gmail.com/chat\n",
      "  • Pattern '**' matched\n",
      "\n",
      "\n"
     ]
    }
   ],
   "source": [
    "f = sp.open(\"syft://liamtrask@gmail.com/chat/inner_dialogue/convo2.txt \")\n",
    "print(f.explain_permissions('andrew@openmined.org'))"
   ]
  },
  {
   "cell_type": "code",
   "execution_count": 25,
   "id": "38afe6a2-d386-42c7-8855-5080735f9f40",
   "metadata": {},
   "outputs": [
    {
     "name": "stdout",
     "output_type": "stream",
     "text": [
      "Permission analysis for andrew@openmined.org on /Users/atrask/SyftBox/datasites/liamtrask@gmail.com/chat/inner_dialogue/convo2.txt :\n",
      "\n",
      "ADMIN: ✗ DENIED\n",
      "  • Pattern 'convo2.txt ' matched\n",
      "\n",
      "WRITE: ✗ DENIED\n",
      "  • Pattern 'convo2.txt ' matched\n",
      "\n",
      "CREATE: ✗ DENIED\n",
      "  • Pattern 'convo2.txt ' matched\n",
      "\n",
      "READ: ✗ DENIED\n",
      "  • Pattern 'convo2.txt ' matched\n",
      "\n",
      "\n"
     ]
    }
   ],
   "source": [
    "f = sp.open(\"syft://liamtrask@gmail.com/chat/inner_dialogue/convo2.txt \")\n",
    "f.revoke_read_access('andrew@openmined.org')\n",
    "print(f.explain_permissions('andrew@openmined.org'))"
   ]
  },
  {
   "cell_type": "code",
   "execution_count": 31,
   "id": "1a951a0c-1ece-4e0a-b336-f8f3908af24e",
   "metadata": {},
   "outputs": [
    {
     "name": "stdout",
     "output_type": "stream",
     "text": [
      "True\n"
     ]
    }
   ],
   "source": [
    "f = sp.open(\"syft://liamtrask@gmail.com/chat/\")\n",
    "print(f.get_terminal())\n",
    "f.set_terminal(True)"
   ]
  },
  {
   "cell_type": "code",
   "execution_count": 27,
   "id": "94d18d54-289f-4563-bb2b-5aa1f2d4e003",
   "metadata": {},
   "outputs": [
    {
     "name": "stdout",
     "output_type": "stream",
     "text": [
      "False\n"
     ]
    }
   ],
   "source": []
  },
  {
   "cell_type": "code",
   "execution_count": 28,
   "id": "ba184a41-2643-48ab-98cd-031bfae73a7a",
   "metadata": {},
   "outputs": [],
   "source": []
  },
  {
   "cell_type": "code",
   "execution_count": 29,
   "id": "097fdd00-34ed-4eb3-b7cc-9de16bb65763",
   "metadata": {},
   "outputs": [
    {
     "name": "stdout",
     "output_type": "stream",
     "text": [
      "Permission analysis for andrew@openmined.org on /Users/atrask/SyftBox/datasites/liamtrask@gmail.com/chat/convo1.txt:\n",
      "\n",
      "ADMIN: ✗ DENIED\n",
      "  • Pattern '**' matched\n",
      "\n",
      "WRITE: ✗ DENIED\n",
      "  • Pattern '**' matched\n",
      "\n",
      "CREATE: ✗ DENIED\n",
      "  • Pattern '**' matched\n",
      "\n",
      "READ: ✓ GRANTED\n",
      "  • Explicitly granted read in /Users/atrask/SyftBox/datasites/liamtrask@gmail.com/chat\n",
      "  • Pattern '**' matched\n",
      "\n",
      "\n"
     ]
    }
   ],
   "source": [
    "f = sp.open(\"syft://liamtrask@gmail.com/chat/convo1.txt\")\n",
    "print(f.explain_permissions('andrew@openmined.org'))"
   ]
  },
  {
   "cell_type": "code",
   "execution_count": 32,
   "id": "f3d89db2-62b9-4c5f-8b38-536621f519eb",
   "metadata": {},
   "outputs": [
    {
     "name": "stdout",
     "output_type": "stream",
     "text": [
      "Permission analysis for andrew@openmined.org on /Users/atrask/SyftBox/datasites/liamtrask@gmail.com/chat/inner_dialogue/convo2.txt :\n",
      "\n",
      "ADMIN: ✗ DENIED\n",
      "  • Pattern 'convo2.txt ' matched\n",
      "\n",
      "WRITE: ✗ DENIED\n",
      "  • Pattern 'convo2.txt ' matched\n",
      "\n",
      "CREATE: ✗ DENIED\n",
      "  • Pattern 'convo2.txt ' matched\n",
      "\n",
      "READ: ✗ DENIED\n",
      "  • Pattern 'convo2.txt ' matched\n",
      "\n",
      "\n"
     ]
    }
   ],
   "source": [
    "f = sp.open(\"syft://liamtrask@gmail.com/chat/inner_dialogue/convo2.txt \")\n",
    "f.revoke_read_access('andrew@openmined.org')\n",
    "print(f.explain_permissions('andrew@openmined.org'))"
   ]
  },
  {
   "cell_type": "code",
   "execution_count": null,
   "id": "f584ebec-6d26-4e18-90fc-9837266118e0",
   "metadata": {},
   "outputs": [],
   "source": []
  },
  {
   "cell_type": "code",
   "execution_count": null,
   "id": "1cc15f9b-8759-465e-80db-1379b61406aa",
   "metadata": {},
   "outputs": [],
   "source": []
  },
  {
   "cell_type": "code",
   "execution_count": null,
   "id": "fdd43258-5345-4f09-a51f-e9b4aad4570a",
   "metadata": {},
   "outputs": [],
   "source": [
    "f.revoke_read_access('andrew@openmined.org')"
   ]
  },
  {
   "cell_type": "code",
   "execution_count": null,
   "id": "a8ab1c32-e5c3-426e-a2ee-5a6e3f327cbc",
   "metadata": {},
   "outputs": [],
   "source": []
  },
  {
   "cell_type": "code",
   "execution_count": 4,
   "id": "6902c68b-ce24-4204-ab04-287e0f6a51f8",
   "metadata": {},
   "outputs": [],
   "source": [
    "f = sp.open(\"syft://liamtrask@gmail.com/chat/convo1.txt\")"
   ]
  },
  {
   "cell_type": "code",
   "execution_count": 6,
   "id": "c82a6e67-e46a-4378-b67d-7cb3214b6f58",
   "metadata": {},
   "outputs": [
    {
     "name": "stdout",
     "output_type": "stream",
     "text": [
      "Permission analysis for andrew@openmined.org on /Users/atrask/SyftBox/datasites/liamtrask@gmail.com/chat/convo1.txt:\n",
      "\n",
      "ADMIN: ✗ DENIED\n",
      "  • Pattern '**' matched\n",
      "\n",
      "WRITE: ✗ DENIED\n",
      "  • Pattern '**' matched\n",
      "\n",
      "CREATE: ✗ DENIED\n",
      "  • Pattern '**' matched\n",
      "\n",
      "READ: ✗ DENIED\n",
      "  • Pattern '**' matched\n",
      "\n",
      "\n"
     ]
    }
   ],
   "source": [
    "print(f.explain_permissions(\"andrew@openmined.org\"))"
   ]
  },
  {
   "cell_type": "code",
   "execution_count": 3,
   "id": "e49bf774-a847-4438-a1ae-f7c921cc0592",
   "metadata": {},
   "outputs": [
    {
     "data": {
      "text/html": [
       "<div style='padding: 20px; color: #666;'>No permissions found for file: 2e2a59ab-6069-42e6-a31a-11556c68445a.request</div>"
      ],
      "text/plain": [
       "SyftFile('/Users/atrask/SyftBox/datasites/liamtrask@gmail.com/api_data/pingpong/rpc/ping/2e2a59ab-6069-42e6-a31a-11556c68445a.request') - No permissions set"
      ]
     },
     "execution_count": 3,
     "metadata": {},
     "output_type": "execute_result"
    }
   ],
   "source": [
    "f"
   ]
  },
  {
   "cell_type": "code",
   "execution_count": 8,
   "id": "db644833-f646-4ab8-9964-980b22d3b1b3",
   "metadata": {},
   "outputs": [
    {
     "name": "stdout",
     "output_type": "stream",
     "text": [
      "Permission analysis for liamtrask@gmail.com on /Users/atrask/SyftBox/datasites/liamtrask@gmail.com/api_data/pingpong/rpc/ping/2e2a59ab-6069-42e6-a31a-11556c68445a.request:\n",
      "\n",
      "ADMIN: ✓ GRANTED\n",
      "  • Owner of path\n",
      "\n",
      "WRITE: ✓ GRANTED\n",
      "  • Owner of path\n",
      "\n",
      "CREATE: ✓ GRANTED\n",
      "  • Owner of path\n",
      "\n",
      "READ: ✓ GRANTED\n",
      "  • Owner of path\n",
      "\n",
      "\n"
     ]
    }
   ],
   "source": [
    "print(f.explain_permissions('liamtrask@gmail.com'))"
   ]
  },
  {
   "cell_type": "code",
   "execution_count": 6,
   "id": "fd1bca98-e476-44fd-bda8-1b18c8c2ca89",
   "metadata": {},
   "outputs": [
    {
     "name": "stdout",
     "output_type": "stream",
     "text": [
      "Permission analysis for * on /Users/atrask/SyftBox/datasites/16728yl7gq@jxpomup.com/public/datasets/pima-indians-diabetes-database/test.csv:\n",
      "\n",
      "ADMIN: ✗ DENIED\n",
      "  • Pattern '**' matched\n",
      "\n",
      "WRITE: ✗ DENIED\n",
      "  • Pattern '**' matched\n",
      "\n",
      "CREATE: ✗ DENIED\n",
      "  • Pattern '**' matched\n",
      "\n",
      "READ: ✓ GRANTED\n",
      "  • Explicitly granted read in /Users/atrask/SyftBox/datasites/16728yl7gq@jxpomup.com/public\n",
      "  • Pattern '**' matched\n",
      "  • Public access (*)\n",
      "\n",
      "\n"
     ]
    }
   ],
   "source": [
    "print(f.explain_permissions('*'))"
   ]
  },
  {
   "cell_type": "code",
   "execution_count": 4,
   "id": "8044ae20-65ff-4db4-b3f5-94846834b543",
   "metadata": {},
   "outputs": [],
   "source": [
    "# f.grant_admin_access('liamtrask@gmail.com')"
   ]
  },
  {
   "cell_type": "code",
   "execution_count": 5,
   "id": "1e77979f-aa06-402c-ab62-5fa0adc7095b",
   "metadata": {},
   "outputs": [],
   "source": []
  },
  {
   "cell_type": "code",
   "execution_count": 1,
   "id": "579f2d95-6de6-48f2-b048-7a3ce5293746",
   "metadata": {},
   "outputs": [],
   "source": [
    "import syft_perm as sp\n",
    "f = sp.open('README.md')\n",
    "f.grant_write_access('jamesbrown@gmail.com')\n",
    "f.grant_create_access('peter@openmined.org')\n",
    "f.grant_read_access('*')\n",
    "f.grant_write_access('bennett@openmined.org')"
   ]
  },
  {
   "cell_type": "code",
   "execution_count": 2,
   "id": "145cdbe0-bb2b-4635-ade0-e492bd4bec50",
   "metadata": {},
   "outputs": [
    {
     "data": {
      "text/html": [
       "\n",
       "        <div style=\"font-family: -apple-system, BlinkMacSystemFont, 'Segoe UI', Roboto, sans-serif;\n",
       "                    font-size: 0.75rem; background: #ffffff; border: 1px solid #e5e7eb;\n",
       "                    border-radius: 0.25rem; margin: 8px 0; height: 200px;\n",
       "                    display: flex; flex-direction: column;\">\n",
       "            <div style=\"background: #f8f9fa; padding: 0.375rem 0.5rem;\n",
       "                        border-bottom: 1px solid #e5e7eb; flex-shrink: 0;\n",
       "                        position: sticky; top: 0; z-index: 10;\">\n",
       "                <div style=\"display: flex; align-items: center; justify-content: space-between;\">\n",
       "                    <div style=\"display: flex; align-items: center; gap: 0.25rem;\">\n",
       "                        <svg width=\"20\" height=\"20\" viewBox=\"0 0 311 360\" fill=\"none\" xmlns=\"http://www.w3.org/2000/svg\"><g clip-path=\"url(#clip0)\"><path d=\"M311.414 89.7878L155.518 179.998L-0.378906 89.7878L155.518 -0.422485L311.414 89.7878Z\" fill=\"url(#paint0_linear)\"/><path d=\"M311.414 89.7878V270.208L155.518 360.423V179.998L311.414 89.7878Z\" fill=\"url(#paint1_linear)\"/><path d=\"M155.518 179.998V360.423L-0.378906 270.208V89.7878L155.518 179.998Z\" fill=\"url(#paint2_linear)\"/></g><defs><linearGradient id=\"paint0_linear\" x1=\"-0.378904\" y1=\"89.7878\" x2=\"311.414\" y2=\"89.7878\" gradientUnits=\"userSpaceOnUse\"><stop stop-color=\"#DC7A6E\"/><stop offset=\"0.251496\" stop-color=\"#F6A464\"/><stop offset=\"0.501247\" stop-color=\"#FDC577\"/><stop offset=\"0.753655\" stop-color=\"#EFC381\"/><stop offset=\"1\" stop-color=\"#B9D599\"/></linearGradient><linearGradient id=\"paint1_linear\" x1=\"309.51\" y1=\"89.7878\" x2=\"155.275\" y2=\"360.285\" gradientUnits=\"userSpaceOnUse\"><stop stop-color=\"#BFCD94\"/><stop offset=\"0.245025\" stop-color=\"#B2D69E\"/><stop offset=\"0.504453\" stop-color=\"#8DCCA6\"/><stop offset=\"0.745734\" stop-color=\"#5CB8B7\"/><stop offset=\"1\" stop-color=\"#4CA5B8\"/></linearGradient><linearGradient id=\"paint2_linear\" x1=\"-0.378906\" y1=\"89.7878\" x2=\"155.761\" y2=\"360.282\" gradientUnits=\"userSpaceOnUse\"><stop stop-color=\"#D7686D\"/><stop offset=\"0.225\" stop-color=\"#C64B77\"/><stop offset=\"0.485\" stop-color=\"#A2638E\"/><stop offset=\"0.703194\" stop-color=\"#758AA8\"/><stop offset=\"1\" stop-color=\"#639EAF\"/></linearGradient><clipPath id=\"clip0\"><rect width=\"311\" height=\"360\" fill=\"white\"/></clipPath></defs></svg>\n",
       "                        <div>\n",
       "                            <div style=\"font-size: 0.875rem; font-weight: 500; color: #374151;\">\n",
       "                                README.md\n",
       "                            </div>\n",
       "                            <div style=\"font-size: 0.75rem; color: #6b7280;\">\n",
       "                                Owner: atrask\n",
       "                            </div>\n",
       "                        </div>\n",
       "                    </div>\n",
       "                    <div style=\"font-size: 0.75rem; color: #6b7280; font-weight: 500;\">\n",
       "                        PERMISSIONS\n",
       "                    </div>\n",
       "                </div>\n",
       "            </div>\n",
       "\n",
       "            <!-- Search Bar -->\n",
       "            <div style=\"padding: 0.5rem; background: #f8f9fa; border-bottom: 1px solid #e5e7eb;\">\n",
       "                <input type=\"text\" placeholder=\"🔍 Search users...\"\n",
       "                       style=\"width: 100%; padding: 0.375rem 0.5rem; border: 1px solid #d1d5db;\n",
       "                              border-radius: 0.25rem; font-size: 0.75rem; outline: none;\n",
       "                              background: white;\">\n",
       "            </div>\n",
       "\n",
       "            <div style=\"flex: 1; overflow-y: auto; padding: 0;\">\n",
       "        \n",
       "                <div style=\"display: flex; align-items: center; padding: 0.375rem 0.5rem;\n",
       "                            gap: 0.5rem; border-bottom: 1px solid #f3f4f6;\n",
       "                            transition: background-color 0.15s; cursor: pointer;\"\n",
       "                     onmouseover=\"this.style.background='rgba(0, 0, 0, 0.03)'\"\n",
       "                     onmouseout=\"this.style.background='transparent'\">\n",
       "                    <div style=\"width: 1.25rem; height: 1.25rem; border-radius: 50%;\n",
       "                                background: #C64B77; display: flex; align-items: center;\n",
       "                                justify-content: center; flex-shrink: 0;\">\n",
       "                        <span style=\"color: white; font-size: 0.625rem; font-weight: 500;\">\n",
       "                            PU\n",
       "                        </span>\n",
       "                    </div>\n",
       "                    <div style=\"flex: 1; min-width: 0; display: flex;\n",
       "                                align-items: center; gap: 0.75rem;\">\n",
       "                        <div style=\"font-size: 0.75rem; color: #374151; font-weight: 500;\n",
       "                                    overflow: hidden; text-overflow: ellipsis;\n",
       "                                    white-space: nowrap; min-width: 0;\">\n",
       "                            Anyone with the link\n",
       "                        </div>\n",
       "                        <div style=\"font-size: 0.625rem; color: #6b7280;\n",
       "                                    overflow: hidden; text-overflow: ellipsis;\n",
       "                                    white-space: nowrap; flex: 1; min-width: 0;\">\n",
       "                            Explicitly granted read in .; Pattern 'README.md' matched\n",
       "                        </div>\n",
       "                    </div>\n",
       "                    <div style=\"margin-left: 0.5rem;\">\n",
       "                        <span style=\"display: inline-flex; align-items: center;\n",
       "                                     padding: 0.125rem 0.375rem; border-radius: 0.25rem;\n",
       "                                     font-size: 0.625rem; font-weight: 500;\n",
       "                                     background: #f3f4f6; color: #374151;\">\n",
       "                            READ\n",
       "                        </span>\n",
       "                    </div>\n",
       "                </div>\n",
       "            \n",
       "                <div style=\"display: flex; align-items: center; padding: 0.375rem 0.5rem;\n",
       "                            gap: 0.5rem; border-bottom: 1px solid #f3f4f6;\n",
       "                            transition: background-color 0.15s; cursor: pointer;\"\n",
       "                     onmouseover=\"this.style.background='rgba(0, 0, 0, 0.03)'\"\n",
       "                     onmouseout=\"this.style.background='transparent'\">\n",
       "                    <div style=\"width: 1.25rem; height: 1.25rem; border-radius: 50%;\n",
       "                                background: #4CA5B8; display: flex; align-items: center;\n",
       "                                justify-content: center; flex-shrink: 0;\">\n",
       "                        <span style=\"color: white; font-size: 0.625rem; font-weight: 500;\">\n",
       "                            BE\n",
       "                        </span>\n",
       "                    </div>\n",
       "                    <div style=\"flex: 1; min-width: 0; display: flex;\n",
       "                                align-items: center; gap: 0.75rem;\">\n",
       "                        <div style=\"font-size: 0.75rem; color: #374151; font-weight: 500;\n",
       "                                    overflow: hidden; text-overflow: ellipsis;\n",
       "                                    white-space: nowrap; min-width: 0;\">\n",
       "                            bennett@openmined.org\n",
       "                        </div>\n",
       "                        <div style=\"font-size: 0.625rem; color: #6b7280;\n",
       "                                    overflow: hidden; text-overflow: ellipsis;\n",
       "                                    white-space: nowrap; flex: 1; min-width: 0;\">\n",
       "                            Explicitly granted write in .; Pattern 'README.md' matched\n",
       "                        </div>\n",
       "                    </div>\n",
       "                    <div style=\"margin-left: 0.5rem;\">\n",
       "                        <span style=\"display: inline-flex; align-items: center;\n",
       "                                     padding: 0.125rem 0.375rem; border-radius: 0.25rem;\n",
       "                                     font-size: 0.625rem; font-weight: 500;\n",
       "                                     background: #f3f4f6; color: #374151;\">\n",
       "                            WRITE\n",
       "                        </span>\n",
       "                    </div>\n",
       "                </div>\n",
       "            \n",
       "                <div style=\"display: flex; align-items: center; padding: 0.375rem 0.5rem;\n",
       "                            gap: 0.5rem; border-bottom: 1px solid #f3f4f6;\n",
       "                            transition: background-color 0.15s; cursor: pointer;\"\n",
       "                     onmouseover=\"this.style.background='rgba(0, 0, 0, 0.03)'\"\n",
       "                     onmouseout=\"this.style.background='transparent'\">\n",
       "                    <div style=\"width: 1.25rem; height: 1.25rem; border-radius: 50%;\n",
       "                                background: #4CA5B8; display: flex; align-items: center;\n",
       "                                justify-content: center; flex-shrink: 0;\">\n",
       "                        <span style=\"color: white; font-size: 0.625rem; font-weight: 500;\">\n",
       "                            JA\n",
       "                        </span>\n",
       "                    </div>\n",
       "                    <div style=\"flex: 1; min-width: 0; display: flex;\n",
       "                                align-items: center; gap: 0.75rem;\">\n",
       "                        <div style=\"font-size: 0.75rem; color: #374151; font-weight: 500;\n",
       "                                    overflow: hidden; text-overflow: ellipsis;\n",
       "                                    white-space: nowrap; min-width: 0;\">\n",
       "                            jamesbrown@gmail.com\n",
       "                        </div>\n",
       "                        <div style=\"font-size: 0.625rem; color: #6b7280;\n",
       "                                    overflow: hidden; text-overflow: ellipsis;\n",
       "                                    white-space: nowrap; flex: 1; min-width: 0;\">\n",
       "                            Explicitly granted write in .; Pattern 'README.md' matched\n",
       "                        </div>\n",
       "                    </div>\n",
       "                    <div style=\"margin-left: 0.5rem;\">\n",
       "                        <span style=\"display: inline-flex; align-items: center;\n",
       "                                     padding: 0.125rem 0.375rem; border-radius: 0.25rem;\n",
       "                                     font-size: 0.625rem; font-weight: 500;\n",
       "                                     background: #f3f4f6; color: #374151;\">\n",
       "                            WRITE\n",
       "                        </span>\n",
       "                    </div>\n",
       "                </div>\n",
       "            \n",
       "                <div style=\"display: flex; align-items: center; padding: 0.375rem 0.5rem;\n",
       "                            gap: 0.5rem; border-bottom: 1px solid #f3f4f6;\n",
       "                            transition: background-color 0.15s; cursor: pointer;\"\n",
       "                     onmouseover=\"this.style.background='rgba(0, 0, 0, 0.03)'\"\n",
       "                     onmouseout=\"this.style.background='transparent'\">\n",
       "                    <div style=\"width: 1.25rem; height: 1.25rem; border-radius: 50%;\n",
       "                                background: #5CB8B7; display: flex; align-items: center;\n",
       "                                justify-content: center; flex-shrink: 0;\">\n",
       "                        <span style=\"color: white; font-size: 0.625rem; font-weight: 500;\">\n",
       "                            LI\n",
       "                        </span>\n",
       "                    </div>\n",
       "                    <div style=\"flex: 1; min-width: 0; display: flex;\n",
       "                                align-items: center; gap: 0.75rem;\">\n",
       "                        <div style=\"font-size: 0.75rem; color: #374151; font-weight: 500;\n",
       "                                    overflow: hidden; text-overflow: ellipsis;\n",
       "                                    white-space: nowrap; min-width: 0;\">\n",
       "                            liamtrask@gmail.com\n",
       "                        </div>\n",
       "                        <div style=\"font-size: 0.625rem; color: #6b7280;\n",
       "                                    overflow: hidden; text-overflow: ellipsis;\n",
       "                                    white-space: nowrap; flex: 1; min-width: 0;\">\n",
       "                            Explicitly granted admin in .; Pattern 'README.md' matched\n",
       "                        </div>\n",
       "                    </div>\n",
       "                    <div style=\"margin-left: 0.5rem;\">\n",
       "                        <span style=\"display: inline-flex; align-items: center;\n",
       "                                     padding: 0.125rem 0.375rem; border-radius: 0.25rem;\n",
       "                                     font-size: 0.625rem; font-weight: 500;\n",
       "                                     background: #f3f4f6; color: #374151;\">\n",
       "                            ADMIN\n",
       "                        </span>\n",
       "                    </div>\n",
       "                </div>\n",
       "            \n",
       "                <div style=\"display: flex; align-items: center; padding: 0.375rem 0.5rem;\n",
       "                            gap: 0.5rem; border-bottom: 1px solid #f3f4f6;\n",
       "                            transition: background-color 0.15s; cursor: pointer;\"\n",
       "                     onmouseover=\"this.style.background='rgba(0, 0, 0, 0.03)'\"\n",
       "                     onmouseout=\"this.style.background='transparent'\">\n",
       "                    <div style=\"width: 1.25rem; height: 1.25rem; border-radius: 50%;\n",
       "                                background: #639EAF; display: flex; align-items: center;\n",
       "                                justify-content: center; flex-shrink: 0;\">\n",
       "                        <span style=\"color: white; font-size: 0.625rem; font-weight: 500;\">\n",
       "                            PE\n",
       "                        </span>\n",
       "                    </div>\n",
       "                    <div style=\"flex: 1; min-width: 0; display: flex;\n",
       "                                align-items: center; gap: 0.75rem;\">\n",
       "                        <div style=\"font-size: 0.75rem; color: #374151; font-weight: 500;\n",
       "                                    overflow: hidden; text-overflow: ellipsis;\n",
       "                                    white-space: nowrap; min-width: 0;\">\n",
       "                            peter@openmined.org\n",
       "                        </div>\n",
       "                        <div style=\"font-size: 0.625rem; color: #6b7280;\n",
       "                                    overflow: hidden; text-overflow: ellipsis;\n",
       "                                    white-space: nowrap; flex: 1; min-width: 0;\">\n",
       "                            Explicitly granted create in .; Pattern 'README.md' matched\n",
       "                        </div>\n",
       "                    </div>\n",
       "                    <div style=\"margin-left: 0.5rem;\">\n",
       "                        <span style=\"display: inline-flex; align-items: center;\n",
       "                                     padding: 0.125rem 0.375rem; border-radius: 0.25rem;\n",
       "                                     font-size: 0.625rem; font-weight: 500;\n",
       "                                     background: #f3f4f6; color: #374151;\">\n",
       "                            CREATE\n",
       "                        </span>\n",
       "                    </div>\n",
       "                </div>\n",
       "            \n",
       "            </div>\n",
       "        </div>\n",
       "        "
      ],
      "text/plain": [
       "SyftFile('README.md')\n",
       "\n",
       "User               Read  Create  Write  Admin  Reason\n",
       "----------------------------------------------------------------------\n",
       "public               ✓                          [Read] Explicitly granted read in .; Pattern 'README.md' matched; [Read] Public access (*)\n",
       "bennett@openmined.org ✓     ✓       ✓            [Write] Explicitly granted write in .; Pattern 'README.md' matched; [Read] Public access (*)\n",
       "jamesbrown@gmail.com ✓     ✓       ✓            [Write] Explicitly granted write in .; Pattern 'README.md' matched; [Read] Public access (*)\n",
       "liamtrask@gmail.com  ✓     ✓       ✓      ✓     [Admin] Explicitly granted admin in .; Pattern 'README.md' matched; [Read] Public access (*)\n",
       "peter@openmined.org  ✓     ✓                    [Create] Explicitly granted create in .; Pattern 'README.md' matched; [Read] Public access (*)"
      ]
     },
     "execution_count": 2,
     "metadata": {},
     "output_type": "execute_result"
    }
   ],
   "source": [
    "f"
   ]
  },
  {
   "cell_type": "code",
   "execution_count": 3,
   "id": "9e4baf77-5f3e-4303-b9a9-248fbae29409",
   "metadata": {
    "scrolled": true
   },
   "outputs": [
    {
     "name": "stdout",
     "output_type": "stream",
     "text": [
      "Permission analysis for andrew@openmined.org on README.md:\n",
      "\n",
      "ADMIN: ✗ DENIED\n",
      "  • Pattern 'README.md' matched\n",
      "\n",
      "WRITE: ✗ DENIED\n",
      "  • Pattern 'README.md' matched\n",
      "\n",
      "CREATE: ✗ DENIED\n",
      "  • Pattern 'README.md' matched\n",
      "\n",
      "READ: ✓ GRANTED\n",
      "  • Explicitly granted read in .\n",
      "  • Pattern 'README.md' matched\n",
      "  • Public access (*)\n",
      "\n",
      "\n"
     ]
    }
   ],
   "source": [
    "print(f.explain_permissions('andrew@openmined.org'))"
   ]
  },
  {
   "cell_type": "code",
   "execution_count": null,
   "id": "0d5e7507-5168-4a8c-9ce6-8a243f994779",
   "metadata": {},
   "outputs": [],
   "source": []
  }
 ],
 "metadata": {
  "kernelspec": {
   "display_name": "Python 3 (ipykernel)",
   "language": "python",
   "name": "python3"
  },
  "language_info": {
   "codemirror_mode": {
    "name": "ipython",
    "version": 3
   },
   "file_extension": ".py",
   "mimetype": "text/x-python",
   "name": "python",
   "nbconvert_exporter": "python",
   "pygments_lexer": "ipython3",
   "version": "3.12.9"
  }
 },
 "nbformat": 4,
 "nbformat_minor": 5
}
