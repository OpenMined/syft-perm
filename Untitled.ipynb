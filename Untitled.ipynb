{
 "cells": [
  {
   "cell_type": "code",
   "execution_count": 1,
   "id": "f91b5858-c8a7-488c-98af-dfa7331609e7",
   "metadata": {},
   "outputs": [],
   "source": [
    "import syft_perm as sp"
   ]
  },
  {
   "cell_type": "code",
   "execution_count": null,
   "id": "d69cc21d-0be3-44dd-8191-456012aa4765",
   "metadata": {},
   "outputs": [],
   "source": [
    "sp."
   ]
  },
  {
   "cell_type": "code",
   "execution_count": 2,
   "id": "41b60829-eb07-4fe5-ac5e-e71135cfefb3",
   "metadata": {},
   "outputs": [
    {
     "data": {
      "text/plain": [
       "'0.3.92'"
      ]
     },
     "execution_count": 2,
     "metadata": {},
     "output_type": "execute_result"
    }
   ],
   "source": [
    "sp.__version__"
   ]
  },
  {
   "cell_type": "code",
   "execution_count": 7,
   "id": "2b9f6df2-6557-4608-bf7f-c3fec02a1e9d",
   "metadata": {},
   "outputs": [
    {
     "data": {
      "text/html": [
       "\n",
       "                <div style=\"width: 100%; height: 600px; border-radius: 8px; overflow: hidden;\">\n",
       "                    <iframe \n",
       "                        src=\"http://localhost:63713/files-widget\" \n",
       "                        width=\"100%\" \n",
       "                        height=\"100%\" \n",
       "                        frameborder=\"0\"\n",
       "                        style=\"border: none;\"\n",
       "                        allow=\"clipboard-read; clipboard-write\">\n",
       "                    </iframe>\n",
       "                </div>\n",
       "                "
      ],
      "text/plain": [
       "Files (Page 1 of 101, showing 1-50 of 5022 items)\n",
       "--------------------------------------------------------------------------------------------------------------------\n",
       "#     URL                                                          Modified         Type     Size       Permissions \n",
       "--------------------------------------------------------------------------------------------------------------------\n",
       "1     abyesilyurt@gmail.com/app_data/data-syncer/rpc               2025-07-18 18:18 folder        483 B 1 users     \n",
       "2     mail@andreibratu.com/app_data/data-syncer/rpc/get_latest_... 2025-07-18 18:18 folder       3.1 KB 1 users     \n",
       "3     mail@andreibratu.com/app_data/data-syncer/rpc/query_trans... 2025-07-18 18:18 folder       3.2 KB 1 users     \n",
       "4     mail@andreibratu.com/app_data/data-syncer/rpc/get_latest_... 2025-07-18 18:18 request       644 B 1 users     \n",
       "5     mail@andreibratu.com/app_data/data-syncer/rpc/query_trans... 2025-07-18 18:18 request       647 B 1 users     \n",
       "6     mail@andreibratu.com/app_data/data-syncer/rpc/get_latest_... 2025-07-18 18:17 request       644 B 1 users     \n",
       "7     mail@andreibratu.com/app_data/data-syncer/rpc/query_trans... 2025-07-18 18:17 request       647 B 1 users     \n",
       "8     mail@andreibratu.com/app_data/data-syncer/rpc/query_trans... 2025-07-18 18:17 request       647 B 1 users     \n",
       "9     mail@andreibratu.com/app_data/data-syncer/rpc/get_latest_... 2025-07-18 18:17 request       644 B 1 users     \n",
       "10    mail@andreibratu.com/app_data/data-syncer/rpc/query_trans... 2025-07-18 18:17 request       647 B 1 users     \n",
       "11    mail@andreibratu.com/app_data/data-syncer/rpc/get_latest_... 2025-07-18 18:17 request       644 B 1 users     \n",
       "12    mail@andreibratu.com/app_data/data-syncer/rpc/get_latest_... 2025-07-18 18:17 request       644 B 1 users     \n",
       "13    mail@andreibratu.com/app_data/data-syncer/rpc/query_trans... 2025-07-18 18:17 request       647 B 1 users     \n",
       "14    mail@andreibratu.com/app_data/data-syncer/rpc/query_trans... 2025-07-18 18:16 request         0 B 1 users     \n",
       "15    ionesio@openmined.org/app_data/the-city/rpc/search           2025-07-18 18:12 folder        965 B 1 users     \n",
       "16    ionesio@openmined.org/app_data/the-city/rpc/search/543b0c... 2025-07-18 18:08 response      394 B 1 users     \n",
       "17    ionesio@openmined.org/app_data/the-city/rpc/search/543b0c... 2025-07-18 18:08 request       571 B 1 users     \n",
       "18    ionesio@openmined.org/public/testing-app/syft_rpc_client.py  2025-07-18 17:52 py          10.2 KB 2 users     \n",
       "19    ionesio@openmined.org/app_data/the-city/rpc                  2025-07-18 17:51 folder       1.3 KB 1 users     \n",
       "20    mail@andreibratu.com/app_data/data-syncer/rpc                2025-07-18 17:19 folder       6.8 KB 1 users     \n",
       "21    ionesio@openmined.org/public/testing-app/requirements.txt    2025-07-18 16:59 txt            16 B 2 users     \n",
       "22    ionesio@openmined.org/public/testing-app                     2025-07-18 16:59 folder      72.1 KB 2 users     \n",
       "23    luciana.carota@gmail.com/public/datasets/pima-indians-dia... 2025-07-18 16:59 csv           389 B 2 users     \n",
       "24    luciana.carota@gmail.com/public/datasets/pima-indians-dia... 2025-07-18 16:59 folder       1.1 KB 2 users     \n",
       "25    luciana.carota@gmail.com/public/datasets/pima-indians-dia... 2025-07-18 16:59 csv           393 B 2 users     \n",
       "26    luciana.carota@gmail.com/public/datasets/pima-indians-dia... 2025-07-18 16:59 md            379 B 2 users     \n",
       "27    luciana.carota@gmail.com/public/datasets                     2025-07-18 16:59 folder       1.1 KB 2 users     \n",
       "28    luciana.carota@gmail.com/public                              2025-07-18 16:59 folder       1.2 KB 2 users     \n",
       "29    luciana.carota@gmail.com/app_data/RDS/store/dataset/855fc... 2025-07-18 16:59 yaml          534 B 2 users     \n",
       "30    luciana.carota@gmail.com/app_data/RDS/store/dataset          2025-07-18 16:59 folder        534 B 2 users     \n",
       "31    luciana.carota@gmail.com/app_data/RDS/store                  2025-07-18 16:59 folder        588 B 2 users     \n",
       "32    luciana.carota@gmail.com/app_data/RDS                        2025-07-18 16:59 folder        588 B 1 users     \n",
       "33    luciana.carota@gmail.com/app_data                            2025-07-18 16:59 folder        588 B 1 users     \n",
       "34    luciana.carota@gmail.com                                     2025-07-18 16:59 folder       1.8 KB 1 users     \n",
       "35    andrew@openmined.org/app_data/RDS/rpc/rpc.schema.json        2025-07-18 16:21 json        46.9 KB 2 users     \n",
       "36    andrew@openmined.org/app_data/RDS/app.yaml                   2025-07-18 16:21 yaml           39 B 1 users     \n",
       "37    andrew@openmined.org/app_data/RDS/syftperm.yaml              2025-07-18 16:21 yaml           56 B 1 users     \n",
       "38    andrew@openmined.org/app_data/RDS/user_files/syftperm.yaml   2025-07-18 16:21 yaml           62 B 1 users     \n",
       "39    enclave-organic-coop@openmined.org/app_data/enclave/keys/... 2025-07-18 16:21 pem           451 B 2 users     \n",
       "40    abyesilyurt@gmail.com/public/data-syncer/rpc-debug.html      2025-07-18 16:21 html        61.9 KB 2 users     \n",
       "41    abyesilyurt@gmail.com/public/data-syncer                     2025-07-18 16:21 folder      61.9 KB 2 users     \n",
       "42    abyesilyurt@gmail.com/public                                 2025-07-18 16:21 folder      62.0 KB 2 users     \n",
       "43    bag94@outlook.es/app_data/RDS/store/job/df4879a9-83d7-42f... 2025-07-18 16:21 yaml          681 B 2 users     \n",
       "44    bag94@outlook.es/app_data/RDS/store/job                      2025-07-18 16:21 folder       1.3 KB 2 users     \n",
       "45    ionesio@openmined.org/public/routers/the-city/metadata.json  2025-07-18 16:21 json         8.4 KB 2 users     \n",
       "46    ionesio@openmined.org/public/routers/the-city                2025-07-18 16:21 folder       8.4 KB 2 users     \n",
       "47    ionesio@openmined.org/public/routers                         2025-07-18 16:21 folder       8.4 KB 2 users     \n",
       "48    ionesio@openmined.org/public                                 2025-07-18 16:21 folder      80.7 KB 2 users     \n",
       "49    javier_aquerreta@iislafe.es/app_data/RDS/store/job/af1232... 2025-07-18 16:21 yaml          692 B 2 users     \n",
       "50    javier_aquerreta@iislafe.es/app_data/RDS/store/job           2025-07-18 16:21 folder       1.4 KB 2 users     \n",
       "--------------------------------------------------------------------------------------------------------------------\n",
       "2464 files, 2558 folders • Total size: 384.3 MB\n",
       "Use sp.files.page(n) to view other pages or sp.files in Jupyter for interactive view"
      ]
     },
     "execution_count": 7,
     "metadata": {},
     "output_type": "execute_result"
    }
   ],
   "source": [
    "sp.files"
   ]
  },
  {
   "cell_type": "code",
   "execution_count": 7,
   "id": "a3394d8a-6879-4552-bbc6-fab055f71d4d",
   "metadata": {},
   "outputs": [
    {
     "data": {
      "text/html": [
       "<div style=\"width:100%;height:600px;border:1px solid #3e3e42;border-radius:8px;overflow:hidden;background:#1e1e1e;\"><iframe src=\"http://localhost:58392/file-editor//Users/atrask/SyftBox/datasites/andrew@openmined.org\" style=\"width:100%;height:100%;border:none;background:transparent;\" frameborder=\"0\" allow=\"clipboard-read; clipboard-write\"></iframe></div>"
      ],
      "text/plain": [
       "SyftFolder('/Users/atrask/SyftBox/datasites/andrew@openmined.org')\n",
       "\n",
       "User                  Read    Create    Write    Admin    Reason\n",
       "--------------------  ------  --------  -------  -------  ------------------------------------------------------------------------------------------\n",
       "andrew@openmined.org  ✓       ✓         ✓        ✓        [Admin] Owner of path; [Write] Owner of path; [Create] Owner of path; [Read] Owner of path"
      ]
     },
     "execution_count": 7,
     "metadata": {},
     "output_type": "execute_result"
    }
   ],
   "source": [
    "f = sp.open(\"syft://andrew@openmined.org\")\n",
    "f"
   ]
  },
  {
   "cell_type": "code",
   "execution_count": 8,
   "id": "0c6b9b08-b2cd-42dc-97da-102488047542",
   "metadata": {},
   "outputs": [
    {
     "data": {
      "text/html": [
       "<div style=\"width:100%;height:600px;border:1px solid #3e3e42;border-radius:12px;overflow:hidden;\"><iframe src=\"http://127.0.0.1:8765/share-modal?path=/Users/atrask/SyftBox/datasites/andrew%40openmined.org\" style=\"width:100%;height:100%;border:none;border-radius:12px;\"></iframe></div>"
      ],
      "text/plain": [
       "ShareWidget('/Users/atrask/SyftBox/datasites/andrew@openmined.org')"
      ]
     },
     "execution_count": 8,
     "metadata": {},
     "output_type": "execute_result"
    }
   ],
   "source": [
    "f.share"
   ]
  },
  {
   "cell_type": "code",
   "execution_count": null,
   "id": "6979f48d-6f10-4fa0-a6a7-794404bd6365",
   "metadata": {},
   "outputs": [],
   "source": []
  }
 ],
 "metadata": {
  "kernelspec": {
   "display_name": "Python 3 (ipykernel)",
   "language": "python",
   "name": "python3"
  },
  "language_info": {
   "codemirror_mode": {
    "name": "ipython",
    "version": 3
   },
   "file_extension": ".py",
   "mimetype": "text/x-python",
   "name": "python",
   "nbconvert_exporter": "python",
   "pygments_lexer": "ipython3",
   "version": "3.12.9"
  }
 },
 "nbformat": 4,
 "nbformat_minor": 5
}
