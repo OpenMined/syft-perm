{
 "cells": [
  {
   "cell_type": "code",
   "execution_count": 1,
   "id": "28d0e305-d4f2-42ee-9ab3-b33f063c9b90",
   "metadata": {},
   "outputs": [],
   "source": [
    "import syft_perm as sp"
   ]
  },
  {
   "cell_type": "code",
   "execution_count": 2,
   "id": "6d4a55ae-4c31-4f05-a69c-c67bc87febc3",
   "metadata": {},
   "outputs": [
    {
     "data": {
      "text/plain": [
       "'0.3.28'"
      ]
     },
     "execution_count": 2,
     "metadata": {},
     "output_type": "execute_result"
    }
   ],
   "source": [
    "sp.__version__"
   ]
  },
  {
   "cell_type": "code",
   "execution_count": 4,
   "id": "c78773a2-905f-4141-ac93-e06f100e0447",
   "metadata": {},
   "outputs": [
    {
     "name": "stderr",
     "output_type": "stream",
     "text": [
      "ERROR:    [Errno 48] error while attempting to bind on address ('127.0.0.1', 8765): address already in use\n",
      "ERROR:    [Errno 48] error while attempting to bind on address ('127.0.0.1', 8765): address already in use\n"
     ]
    },
    {
     "data": {
      "text/html": [
       "<div>SyftBox Files Interface - use sp.files.all(), sp.files.get(), or sp.files.search()</div>"
      ],
      "text/plain": [
       "<Files: Not connected>"
      ]
     },
     "execution_count": 4,
     "metadata": {},
     "output_type": "execute_result"
    }
   ],
   "source": [
    "sp.files"
   ]
  },
  {
   "cell_type": "code",
   "execution_count": 3,
   "id": "6902c68b-ce24-4204-ab04-287e0f6a51f8",
   "metadata": {},
   "outputs": [],
   "source": []
  },
  {
   "cell_type": "code",
   "execution_count": 4,
   "id": "8044ae20-65ff-4db4-b3f5-94846834b543",
   "metadata": {},
   "outputs": [],
   "source": [
    "# f.grant_admin_access('liamtrask@gmail.com')"
   ]
  },
  {
   "cell_type": "code",
   "execution_count": 5,
   "id": "1e77979f-aa06-402c-ab62-5fa0adc7095b",
   "metadata": {},
   "outputs": [],
   "source": []
  },
  {
   "cell_type": "code",
   "execution_count": 6,
   "id": "579f2d95-6de6-48f2-b048-7a3ce5293746",
   "metadata": {},
   "outputs": [],
   "source": [
    "import syft_perm as sp\n",
    "f = sp.open('README.md')\n",
    "f.grant_write_access('jamesbrown@gmail.com')\n",
    "f.grant_create_access('peter@openmined.org')\n"
   ]
  },
  {
   "cell_type": "code",
   "execution_count": 7,
   "id": "ec20fbf8-ab5f-40cc-b68c-9f284a552194",
   "metadata": {},
   "outputs": [],
   "source": []
  },
  {
   "cell_type": "code",
   "execution_count": 8,
   "id": "01638231-f256-42de-8f85-3d4b7a56025a",
   "metadata": {},
   "outputs": [],
   "source": [
    "f.grant_write_access('bennett@openmined.org')"
   ]
  },
  {
   "cell_type": "code",
   "execution_count": 9,
   "id": "145cdbe0-bb2b-4635-ade0-e492bd4bec50",
   "metadata": {},
   "outputs": [
    {
     "data": {
      "text/html": [
       "\n",
       "        <div style=\"font-family: -apple-system, BlinkMacSystemFont, 'Segoe UI', Roboto, sans-serif;\n",
       "                    font-size: 0.75rem; background: #ffffff; border: 1px solid #e5e7eb;\n",
       "                    border-radius: 0.25rem; margin: 8px 0; height: 200px; display: flex; flex-direction: column;\">\n",
       "            <div style=\"background: #f8f9fa; padding: 0.375rem 0.5rem; border-bottom: 1px solid #e5e7eb; \n",
       "                        flex-shrink: 0; position: sticky; top: 0; z-index: 10;\">\n",
       "                <div style=\"display: flex; align-items: center; justify-content: space-between;\">\n",
       "                    <div style=\"display: flex; align-items: center; gap: 0.25rem;\">\n",
       "                        <span style=\"font-size: 0.875rem;\">📄</span>\n",
       "                        <div>\n",
       "                            <div style=\"font-size: 0.875rem; font-weight: 500; color: #374151;\">\n",
       "                                README.md\n",
       "                            </div>\n",
       "                            <div style=\"font-size: 0.75rem; color: #6b7280;\">\n",
       "                                Owner: atrask\n",
       "                            </div>\n",
       "                        </div>\n",
       "                    </div>\n",
       "                    <div style=\"font-size: 0.75rem; color: #6b7280; font-weight: 500;\">\n",
       "                        PERMISSIONS\n",
       "                    </div>\n",
       "                </div>\n",
       "            </div>\n",
       "            <div style=\"flex: 1; overflow-y: auto; padding: 0;\">\n",
       "        \n",
       "                <div style=\"display: flex; align-items: center; padding: 0.375rem 0.25rem; gap: 0.25rem;\n",
       "                            border-bottom: 1px solid #f3f4f6; transition: background-color 0.15s; cursor: pointer;\"\n",
       "                     onmouseover=\"this.style.background='rgba(0, 0, 0, 0.03)'\"\n",
       "                     onmouseout=\"this.style.background='transparent'\">\n",
       "                    <div style=\"width: 1.25rem; height: 1.25rem; border-radius: 50%; background: #e64a19;\n",
       "                                display: flex; align-items: center; justify-content: center; flex-shrink: 0;\">\n",
       "                        <span style=\"color: white; font-size: 0.625rem; font-weight: 500;\">PU</span>\n",
       "                    </div>\n",
       "                    <div style=\"flex: 1; min-width: 0; display: flex; align-items: center; gap: 0.375rem;\">\n",
       "                        <div style=\"flex: 1; min-width: 0;\">\n",
       "                            <div style=\"font-size: 0.75rem; color: #374151; font-weight: 500; \n",
       "                                        overflow: hidden; text-overflow: ellipsis; white-space: nowrap;\">\n",
       "                                Anyone with the link\n",
       "                            </div>\n",
       "                            <div style=\"font-size: 0.75rem; color: #6b7280; font-family: monospace;\n",
       "                                        overflow: hidden; text-overflow: ellipsis; white-space: nowrap;\">\n",
       "                                Public access\n",
       "                            </div>\n",
       "                        </div>\n",
       "                        <div style=\"flex: 1; min-width: 0;\">\n",
       "                            <div style=\"font-size: 0.75rem; color: #6b7280;\n",
       "                                        overflow: hidden; text-overflow: ellipsis; white-space: nowrap;\">\n",
       "                                Explicitly granted read in .; Pattern 'README.md' matched\n",
       "                            </div>\n",
       "                        </div>\n",
       "                    </div>\n",
       "                    <div style=\"display: flex; align-items: center; gap: 0.125rem; flex-shrink: 0;\">\n",
       "                        <span class=\"type-badge\" style=\"display: inline-flex; align-items: center;\n",
       "                                                      padding: 0.125rem 0.25rem; border-radius: 0.25rem;\n",
       "                                                      font-size: 0.75rem; font-weight: 500;\n",
       "                                                      background: #f3f4f6; color: #374151;\">\n",
       "                            READ\n",
       "                        </span>\n",
       "                    </div>\n",
       "                </div>\n",
       "            \n",
       "                <div style=\"display: flex; align-items: center; padding: 0.375rem 0.25rem; gap: 0.25rem;\n",
       "                            border-bottom: 1px solid #f3f4f6; transition: background-color 0.15s; cursor: pointer;\"\n",
       "                     onmouseover=\"this.style.background='rgba(0, 0, 0, 0.03)'\"\n",
       "                     onmouseout=\"this.style.background='transparent'\">\n",
       "                    <div style=\"width: 1.25rem; height: 1.25rem; border-radius: 50%; background: #d32f2f;\n",
       "                                display: flex; align-items: center; justify-content: center; flex-shrink: 0;\">\n",
       "                        <span style=\"color: white; font-size: 0.625rem; font-weight: 500;\">BE</span>\n",
       "                    </div>\n",
       "                    <div style=\"flex: 1; min-width: 0; display: flex; align-items: center; gap: 0.375rem;\">\n",
       "                        <div style=\"flex: 1; min-width: 0;\">\n",
       "                            <div style=\"font-size: 0.75rem; color: #374151; font-weight: 500; \n",
       "                                        overflow: hidden; text-overflow: ellipsis; white-space: nowrap;\">\n",
       "                                bennett@openmined.org\n",
       "                            </div>\n",
       "                            <div style=\"font-size: 0.75rem; color: #6b7280; font-family: monospace;\n",
       "                                        overflow: hidden; text-overflow: ellipsis; white-space: nowrap;\">\n",
       "                                bennett@openmined.org\n",
       "                            </div>\n",
       "                        </div>\n",
       "                        <div style=\"flex: 1; min-width: 0;\">\n",
       "                            <div style=\"font-size: 0.75rem; color: #6b7280;\n",
       "                                        overflow: hidden; text-overflow: ellipsis; white-space: nowrap;\">\n",
       "                                Explicitly granted write in .; Pattern 'README.md' matched\n",
       "                            </div>\n",
       "                        </div>\n",
       "                    </div>\n",
       "                    <div style=\"display: flex; align-items: center; gap: 0.125rem; flex-shrink: 0;\">\n",
       "                        <span class=\"type-badge\" style=\"display: inline-flex; align-items: center;\n",
       "                                                      padding: 0.125rem 0.25rem; border-radius: 0.25rem;\n",
       "                                                      font-size: 0.75rem; font-weight: 500;\n",
       "                                                      background: #f3f4f6; color: #374151;\">\n",
       "                            WRITE\n",
       "                        </span>\n",
       "                    </div>\n",
       "                </div>\n",
       "            \n",
       "                <div style=\"display: flex; align-items: center; padding: 0.375rem 0.25rem; gap: 0.25rem;\n",
       "                            border-bottom: 1px solid #f3f4f6; transition: background-color 0.15s; cursor: pointer;\"\n",
       "                     onmouseover=\"this.style.background='rgba(0, 0, 0, 0.03)'\"\n",
       "                     onmouseout=\"this.style.background='transparent'\">\n",
       "                    <div style=\"width: 1.25rem; height: 1.25rem; border-radius: 50%; background: #d32f2f;\n",
       "                                display: flex; align-items: center; justify-content: center; flex-shrink: 0;\">\n",
       "                        <span style=\"color: white; font-size: 0.625rem; font-weight: 500;\">JA</span>\n",
       "                    </div>\n",
       "                    <div style=\"flex: 1; min-width: 0; display: flex; align-items: center; gap: 0.375rem;\">\n",
       "                        <div style=\"flex: 1; min-width: 0;\">\n",
       "                            <div style=\"font-size: 0.75rem; color: #374151; font-weight: 500; \n",
       "                                        overflow: hidden; text-overflow: ellipsis; white-space: nowrap;\">\n",
       "                                jamesbrown@gmail.com\n",
       "                            </div>\n",
       "                            <div style=\"font-size: 0.75rem; color: #6b7280; font-family: monospace;\n",
       "                                        overflow: hidden; text-overflow: ellipsis; white-space: nowrap;\">\n",
       "                                jamesbrown@gmail.com\n",
       "                            </div>\n",
       "                        </div>\n",
       "                        <div style=\"flex: 1; min-width: 0;\">\n",
       "                            <div style=\"font-size: 0.75rem; color: #6b7280;\n",
       "                                        overflow: hidden; text-overflow: ellipsis; white-space: nowrap;\">\n",
       "                                Explicitly granted write in .; Pattern 'README.md' matched\n",
       "                            </div>\n",
       "                        </div>\n",
       "                    </div>\n",
       "                    <div style=\"display: flex; align-items: center; gap: 0.125rem; flex-shrink: 0;\">\n",
       "                        <span class=\"type-badge\" style=\"display: inline-flex; align-items: center;\n",
       "                                                      padding: 0.125rem 0.25rem; border-radius: 0.25rem;\n",
       "                                                      font-size: 0.75rem; font-weight: 500;\n",
       "                                                      background: #f3f4f6; color: #374151;\">\n",
       "                            WRITE\n",
       "                        </span>\n",
       "                    </div>\n",
       "                </div>\n",
       "            \n",
       "                <div style=\"display: flex; align-items: center; padding: 0.375rem 0.25rem; gap: 0.25rem;\n",
       "                            border-bottom: 1px solid #f3f4f6; transition: background-color 0.15s; cursor: pointer;\"\n",
       "                     onmouseover=\"this.style.background='rgba(0, 0, 0, 0.03)'\"\n",
       "                     onmouseout=\"this.style.background='transparent'\">\n",
       "                    <div style=\"width: 1.25rem; height: 1.25rem; border-radius: 50%; background: #fbc02d;\n",
       "                                display: flex; align-items: center; justify-content: center; flex-shrink: 0;\">\n",
       "                        <span style=\"color: white; font-size: 0.625rem; font-weight: 500;\">LI</span>\n",
       "                    </div>\n",
       "                    <div style=\"flex: 1; min-width: 0; display: flex; align-items: center; gap: 0.375rem;\">\n",
       "                        <div style=\"flex: 1; min-width: 0;\">\n",
       "                            <div style=\"font-size: 0.75rem; color: #374151; font-weight: 500; \n",
       "                                        overflow: hidden; text-overflow: ellipsis; white-space: nowrap;\">\n",
       "                                liamtrask@gmail.com\n",
       "                            </div>\n",
       "                            <div style=\"font-size: 0.75rem; color: #6b7280; font-family: monospace;\n",
       "                                        overflow: hidden; text-overflow: ellipsis; white-space: nowrap;\">\n",
       "                                liamtrask@gmail.com\n",
       "                            </div>\n",
       "                        </div>\n",
       "                        <div style=\"flex: 1; min-width: 0;\">\n",
       "                            <div style=\"font-size: 0.75rem; color: #6b7280;\n",
       "                                        overflow: hidden; text-overflow: ellipsis; white-space: nowrap;\">\n",
       "                                Explicitly granted admin in .; Pattern 'README.md' matched\n",
       "                            </div>\n",
       "                        </div>\n",
       "                    </div>\n",
       "                    <div style=\"display: flex; align-items: center; gap: 0.125rem; flex-shrink: 0;\">\n",
       "                        <span class=\"type-badge\" style=\"display: inline-flex; align-items: center;\n",
       "                                                      padding: 0.125rem 0.25rem; border-radius: 0.25rem;\n",
       "                                                      font-size: 0.75rem; font-weight: 500;\n",
       "                                                      background: #f3f4f6; color: #374151;\">\n",
       "                            ADMIN\n",
       "                        </span>\n",
       "                    </div>\n",
       "                </div>\n",
       "            \n",
       "                <div style=\"display: flex; align-items: center; padding: 0.375rem 0.25rem; gap: 0.25rem;\n",
       "                            border-bottom: 1px solid #f3f4f6; transition: background-color 0.15s; cursor: pointer;\"\n",
       "                     onmouseover=\"this.style.background='rgba(0, 0, 0, 0.03)'\"\n",
       "                     onmouseout=\"this.style.background='transparent'\">\n",
       "                    <div style=\"width: 1.25rem; height: 1.25rem; border-radius: 50%; background: #00796b;\n",
       "                                display: flex; align-items: center; justify-content: center; flex-shrink: 0;\">\n",
       "                        <span style=\"color: white; font-size: 0.625rem; font-weight: 500;\">PE</span>\n",
       "                    </div>\n",
       "                    <div style=\"flex: 1; min-width: 0; display: flex; align-items: center; gap: 0.375rem;\">\n",
       "                        <div style=\"flex: 1; min-width: 0;\">\n",
       "                            <div style=\"font-size: 0.75rem; color: #374151; font-weight: 500; \n",
       "                                        overflow: hidden; text-overflow: ellipsis; white-space: nowrap;\">\n",
       "                                peter@openmined.org\n",
       "                            </div>\n",
       "                            <div style=\"font-size: 0.75rem; color: #6b7280; font-family: monospace;\n",
       "                                        overflow: hidden; text-overflow: ellipsis; white-space: nowrap;\">\n",
       "                                peter@openmined.org\n",
       "                            </div>\n",
       "                        </div>\n",
       "                        <div style=\"flex: 1; min-width: 0;\">\n",
       "                            <div style=\"font-size: 0.75rem; color: #6b7280;\n",
       "                                        overflow: hidden; text-overflow: ellipsis; white-space: nowrap;\">\n",
       "                                Explicitly granted create in .; Pattern 'README.md' matched\n",
       "                            </div>\n",
       "                        </div>\n",
       "                    </div>\n",
       "                    <div style=\"display: flex; align-items: center; gap: 0.125rem; flex-shrink: 0;\">\n",
       "                        <span class=\"type-badge\" style=\"display: inline-flex; align-items: center;\n",
       "                                                      padding: 0.125rem 0.25rem; border-radius: 0.25rem;\n",
       "                                                      font-size: 0.75rem; font-weight: 500;\n",
       "                                                      background: #f3f4f6; color: #374151;\">\n",
       "                            CREATE\n",
       "                        </span>\n",
       "                    </div>\n",
       "                </div>\n",
       "            \n",
       "            </div>\n",
       "        </div>\n",
       "        "
      ],
      "text/plain": [
       "SyftFile('README.md')\n",
       "\n",
       "User               Read  Create  Write  Admin  Reason\n",
       "----------------------------------------------------------------------\n",
       "public               ✓                          [Read] Explicitly granted read in .; Pattern 'README.md' matched; [Read] Public access (*)\n",
       "bennett@openmined.org ✓     ✓       ✓            [Write] Explicitly granted write in .; Pattern 'README.md' matched; [Read] Public access (*)\n",
       "jamesbrown@gmail.com ✓     ✓       ✓            [Write] Explicitly granted write in .; Pattern 'README.md' matched; [Read] Public access (*)\n",
       "liamtrask@gmail.com  ✓     ✓       ✓      ✓     [Admin] Explicitly granted admin in .; Pattern 'README.md' matched; [Read] Public access (*)\n",
       "peter@openmined.org  ✓     ✓                    [Create] Explicitly granted create in .; Pattern 'README.md' matched; [Read] Public access (*)"
      ]
     },
     "execution_count": 9,
     "metadata": {},
     "output_type": "execute_result"
    }
   ],
   "source": [
    "f"
   ]
  },
  {
   "cell_type": "code",
   "execution_count": 8,
   "id": "9e4baf77-5f3e-4303-b9a9-248fbae29409",
   "metadata": {
    "scrolled": true
   },
   "outputs": [
    {
     "name": "stdout",
     "output_type": "stream",
     "text": [
      "Permission analysis for andrew@openmined.org on README.md:\n",
      "\n",
      "ADMIN: ✗ DENIED\n",
      "  • No permission found\n",
      "\n",
      "WRITE: ✗ DENIED\n",
      "  • No permission found\n",
      "\n",
      "CREATE: ✗ DENIED\n",
      "  • No permission found\n",
      "\n",
      "READ: ✗ DENIED\n",
      "  • No permission found\n",
      "\n",
      "\n"
     ]
    }
   ],
   "source": [
    "print(f.explain_permissions('andrew@openmined.org'))"
   ]
  },
  {
   "cell_type": "code",
   "execution_count": null,
   "id": "0d5e7507-5168-4a8c-9ce6-8a243f994779",
   "metadata": {},
   "outputs": [],
   "source": []
  }
 ],
 "metadata": {
  "kernelspec": {
   "display_name": "Python 3 (ipykernel)",
   "language": "python",
   "name": "python3"
  },
  "language_info": {
   "codemirror_mode": {
    "name": "ipython",
    "version": 3
   },
   "file_extension": ".py",
   "mimetype": "text/x-python",
   "name": "python",
   "nbconvert_exporter": "python",
   "pygments_lexer": "ipython3",
   "version": "3.12.7"
  }
 },
 "nbformat": 4,
 "nbformat_minor": 5
}
