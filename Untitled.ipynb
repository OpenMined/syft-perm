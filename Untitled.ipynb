{
 "cells": [
  {
   "cell_type": "code",
   "execution_count": 1,
   "id": "208e41e5-ba2f-45e8-a64d-e6ade0aacbe7",
   "metadata": {},
   "outputs": [],
   "source": [
    "import syft_perm as sp"
   ]
  },
  {
   "cell_type": "code",
   "execution_count": 2,
   "id": "13c293bf-968b-4e4d-8c60-d087aa5a244e",
   "metadata": {},
   "outputs": [
    {
     "data": {
      "text/plain": [
       "'0.3.92'"
      ]
     },
     "execution_count": 2,
     "metadata": {},
     "output_type": "execute_result"
    }
   ],
   "source": [
    "sp.__version__"
   ]
  },
  {
   "cell_type": "code",
   "execution_count": 5,
   "id": "cbc0757b-35a7-4204-9a6d-3dd5f4eea50f",
   "metadata": {},
   "outputs": [
    {
     "data": {
      "text/html": [
       "\n",
       "                <div style=\"width: 100%; height: 600px; border: 1px solid #3e3e42; border-radius: 8px; overflow: hidden;\">\n",
       "                    <iframe \n",
       "                        src=\"http://localhost:59931/files-widget\" \n",
       "                        width=\"100%\" \n",
       "                        height=\"100%\" \n",
       "                        frameborder=\"0\"\n",
       "                        style=\"border: none;\"\n",
       "                        allow=\"clipboard-read; clipboard-write\">\n",
       "                    </iframe>\n",
       "                </div>\n",
       "                "
      ],
      "text/plain": [
       "Files (Page 1 of 104, showing 1-50 of 5162 items)\n",
       "--------------------------------------------------------------------------------------------------------------------\n",
       "#     URL                                                          Modified         Type     Size       Permissions \n",
       "--------------------------------------------------------------------------------------------------------------------\n",
       "1     mail@andreibratu.com/app_data/data-syncer/rpc                2025-07-17 01:35 folder        483 B 1 users     \n",
       "2     mail@andreibratu.com/app_data/data-syncer/rpc/get_latest_... 2025-07-17 01:35 folder          0 B 1 users     \n",
       "3     andrew@openmined.org/guestbook.txt                           2025-07-17 01:01 txt           242 B 2 users     \n",
       "4     andrew@openmined.org/federated_learning_demo/results/READ... 2025-07-16 23:58 md            472 B 1 users     \n",
       "5     andrew@openmined.org/federated_learning_demo/results         2025-07-16 23:58 folder        472 B 1 users     \n",
       "6     andrew@openmined.org/federated_learning_demo                 2025-07-16 23:58 folder        576 B 2 users     \n",
       "7     andrew@openmined.org/federated_learning_demo/model_aggreg... 2025-07-16 23:58 json           53 B 1 users     \n",
       "8     andrew@openmined.org/federated_learning_demo/model_aggreg... 2025-07-16 23:58 folder         53 B 1 users     \n",
       "9     andrew@openmined.org/federated_learning_demo/hospital_a/g... 2025-07-16 23:57 json           51 B 1 users     \n",
       "10    andrew@openmined.org/federated_learning_demo/hospital_a      2025-07-16 23:57 folder         51 B 1 users     \n",
       "11    andrew@openmined.org                                         2025-07-16 23:57 folder     124.2 KB 1 users     \n",
       "12    andrew@openmined.org/parent_project/child_data               2025-07-16 23:56 folder         20 B 2 users     \n",
       "13    andrew@openmined.org/parent_project/child_data/child_file... 2025-07-16 23:56 txt            20 B 2 users     \n",
       "14    andrew@openmined.org/parent_project                          2025-07-16 23:56 folder        137 B 2 users     \n",
       "15    andrew@openmined.org/parent_project/parent_file.txt          2025-07-16 23:56 txt            21 B 2 users     \n",
       "16    andrew@openmined.org/restricted_uploads                      2025-07-16 23:55 folder        119 B 3 users     \n",
       "17    andrew@openmined.org/test_readonly.txt                       2025-07-16 23:55 txt            53 B 2 users     \n",
       "18    andrew@openmined.org/awesome_project                         2025-07-16 23:55 folder         59 B 2 users     \n",
       "19    andrew@openmined.org/awesome_project/README.md               2025-07-16 23:36 md             59 B 1 users     \n",
       "20    andrew@openmined.org/public/antiguestbook.txt                2025-07-16 23:16 txt           105 B 2 users     \n",
       "21    andrew@openmined.org/public                                  2025-07-16 23:16 folder        406 B 2 users     \n",
       "22    b0rj494@gmail.com/app_data/flwr/borja.arroyog@upm.es_diab... 2025-07-16 14:54 folder         91 B 1 users     \n",
       "23    bag94@outlook.es/app_data/RDS/rpc                            2025-07-16 14:33 folder      97.3 KB 1 users     \n",
       "24    bag94@outlook.es/app_data/flwr/borja.arroyog@upm.es_diabe... 2025-07-16 14:33 folder         91 B 1 users     \n",
       "25    b0rj494@gmail.com/app_data/RDS/rpc/job/update                2025-07-16 14:33 folder       1.2 KB 1 users     \n",
       "26    b0rj494@gmail.com/app_data/RDS/rpc/user_code/create          2025-07-16 14:33 folder          0 B 1 users     \n",
       "27    b0rj494@gmail.com/app_data/RDS/rpc/job/create                2025-07-16 14:33 folder          0 B 1 users     \n",
       "28    bag94@outlook.es/app_data/RDS/rpc/job/update                 2025-07-16 14:33 folder       1.5 KB 1 users     \n",
       "29    b0rj494@gmail.com/app_data/RDS/store/usercode/597f4bd9-20... 2025-07-16 14:26 yaml          352 B 2 users     \n",
       "30    b0rj494@gmail.com/app_data/RDS/store/usercode                2025-07-16 14:26 folder       3.1 KB 2 users     \n",
       "31    b0rj494@gmail.com/app_data/RDS/store/job/aa1abf6b-3550-40... 2025-07-16 14:26 yaml          682 B 2 users     \n",
       "32    b0rj494@gmail.com/app_data/RDS/store/job                     2025-07-16 14:26 folder      36.3 KB 2 users     \n",
       "33    bag94@outlook.es/app_data/RDS/store/job/dbb99fdd-e366-4a5... 2025-07-16 14:26 yaml          681 B 2 users     \n",
       "34    bag94@outlook.es/app_data/RDS/store/job                      2025-07-16 14:26 folder      56.2 KB 2 users     \n",
       "35    bag94@outlook.es/app_data/RDS/store/usercode/6155d5b1-3d3... 2025-07-16 14:26 yaml          351 B 2 users     \n",
       "36    bag94@outlook.es/app_data/RDS/store/usercode                 2025-07-16 14:26 folder       3.4 KB 2 users     \n",
       "37    bag94@outlook.es/app_data/flwr/borja.arroyog@upm.es_diabe... 2025-07-16 14:26 json           91 B 1 users     \n",
       "38    bag94@outlook.es/app_data/flwr/borja.arroyog@upm.es_diabe... 2025-07-16 14:26 folder         91 B 1 users     \n",
       "39    bag94@outlook.es/app_data/flwr                               2025-07-16 14:26 folder        637 B 1 users     \n",
       "40    b0rj494@gmail.com/app_data/flwr/borja.arroyog@upm.es_diab... 2025-07-16 14:26 json           91 B 1 users     \n",
       "41    b0rj494@gmail.com/app_data/flwr/borja.arroyog@upm.es_diab... 2025-07-16 14:26 folder         91 B 1 users     \n",
       "42    b0rj494@gmail.com/app_data/flwr                              2025-07-16 14:26 folder       2.1 KB 1 users     \n",
       "43    bag94@outlook.es/app_data/flwr/borja.arroyog@upm.es_diabe... 2025-07-16 14:26 folder         91 B 1 users     \n",
       "44    b0rj494@gmail.com/app_data/flwr/borja.arroyog@upm.es_diab... 2025-07-16 14:26 folder         91 B 1 users     \n",
       "45    b0rj494@gmail.com/app_data/RDS/store/job/c769c6ec-3e17-45... 2025-07-16 14:06 yaml          682 B 2 users     \n",
       "46    bag94@outlook.es/app_data/RDS/store/job/402812c9-dfc8-4eb... 2025-07-16 14:06 yaml          681 B 2 users     \n",
       "47    b0rj494@gmail.com/app_data/flwr/borja.arroyog@upm.es_diab... 2025-07-16 14:06 json           91 B 1 users     \n",
       "48    bag94@outlook.es/app_data/flwr/borja.arroyog@upm.es_diabe... 2025-07-16 14:06 json           91 B 1 users     \n",
       "49    bag94@outlook.es/app_data/flwr/borja.arroyog@upm.es_diabe... 2025-07-16 14:06 folder         91 B 1 users     \n",
       "50    b0rj494@gmail.com/app_data/RDS/store/usercode/e084dd1e-75... 2025-07-16 14:06 yaml          352 B 2 users     \n",
       "--------------------------------------------------------------------------------------------------------------------\n",
       "2641 files, 2521 folders • Total size: 460.2 MB\n",
       "Use sp.files.page(n) to view other pages or sp.files in Jupyter for interactive view"
      ]
     },
     "execution_count": 5,
     "metadata": {},
     "output_type": "execute_result"
    }
   ],
   "source": [
    "sp.files"
   ]
  },
  {
   "cell_type": "code",
   "execution_count": 4,
   "id": "9c673c18-0c96-4b83-9661-8c39c36acf2d",
   "metadata": {},
   "outputs": [
    {
     "ename": "ValueError",
     "evalue": "Could not resolve path: syft://andrew@openmined.org/guestbook.txt",
     "output_type": "error",
     "traceback": [
      "\u001b[0;31m---------------------------------------------------------------------------\u001b[0m",
      "\u001b[0;31mValueError\u001b[0m                                Traceback (most recent call last)",
      "Cell \u001b[0;32mIn[4], line 1\u001b[0m\n\u001b[0;32m----> 1\u001b[0m \u001b[43msp\u001b[49m\u001b[38;5;241;43m.\u001b[39;49m\u001b[43mopen\u001b[49m\u001b[43m(\u001b[49m\u001b[38;5;124;43m\"\u001b[39;49m\u001b[38;5;124;43msyft://andrew@openmined.org/guestbook.txt\u001b[39;49m\u001b[38;5;124;43m\"\u001b[39;49m\u001b[43m)\u001b[49m\n",
      "File \u001b[0;32m~/Documents/GitHub/syft-perm/src/syft_perm/__init__.py:40\u001b[0m, in \u001b[0;36mopen\u001b[0;34m(path)\u001b[0m\n\u001b[1;32m     38\u001b[0m resolved_path \u001b[38;5;241m=\u001b[39m resolve_path(path)\n\u001b[1;32m     39\u001b[0m \u001b[38;5;28;01mif\u001b[39;00m resolved_path \u001b[38;5;129;01mis\u001b[39;00m \u001b[38;5;28;01mNone\u001b[39;00m:\n\u001b[0;32m---> 40\u001b[0m     \u001b[38;5;28;01mraise\u001b[39;00m \u001b[38;5;167;01mValueError\u001b[39;00m(\u001b[38;5;124mf\u001b[39m\u001b[38;5;124m\"\u001b[39m\u001b[38;5;124mCould not resolve path: \u001b[39m\u001b[38;5;132;01m{\u001b[39;00mpath\u001b[38;5;132;01m}\u001b[39;00m\u001b[38;5;124m\"\u001b[39m)\n\u001b[1;32m     42\u001b[0m \u001b[38;5;28;01mif\u001b[39;00m \u001b[38;5;129;01mnot\u001b[39;00m resolved_path\u001b[38;5;241m.\u001b[39mexists():\n\u001b[1;32m     43\u001b[0m     \u001b[38;5;28;01mraise\u001b[39;00m \u001b[38;5;167;01mValueError\u001b[39;00m(\u001b[38;5;124mf\u001b[39m\u001b[38;5;124m\"\u001b[39m\u001b[38;5;124mPath does not exist: \u001b[39m\u001b[38;5;132;01m{\u001b[39;00mpath\u001b[38;5;132;01m}\u001b[39;00m\u001b[38;5;124m (resolved to: \u001b[39m\u001b[38;5;132;01m{\u001b[39;00mresolved_path\u001b[38;5;132;01m}\u001b[39;00m\u001b[38;5;124m)\u001b[39m\u001b[38;5;124m\"\u001b[39m)\n",
      "\u001b[0;31mValueError\u001b[0m: Could not resolve path: syft://andrew@openmined.org/guestbook.txt"
     ]
    }
   ],
   "source": [
    "sp.open(\"syft://andrew@openmined.org/guestbook.txt\")"
   ]
  },
  {
   "cell_type": "code",
   "execution_count": null,
   "id": "811d7fad-d5b2-4fdb-9496-3140ecbee6ec",
   "metadata": {},
   "outputs": [],
   "source": []
  }
 ],
 "metadata": {
  "kernelspec": {
   "display_name": "Python 3 (ipykernel)",
   "language": "python",
   "name": "python3"
  },
  "language_info": {
   "codemirror_mode": {
    "name": "ipython",
    "version": 3
   },
   "file_extension": ".py",
   "mimetype": "text/x-python",
   "name": "python",
   "nbconvert_exporter": "python",
   "pygments_lexer": "ipython3",
   "version": "3.12.7"
  }
 },
 "nbformat": 4,
 "nbformat_minor": 5
}
