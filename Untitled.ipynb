{
 "cells": [
  {
   "cell_type": "code",
   "execution_count": 1,
   "id": "28d0e305-d4f2-42ee-9ab3-b33f063c9b90",
   "metadata": {},
   "outputs": [],
   "source": [
    "import syft_perm as sp"
   ]
  },
  {
   "cell_type": "code",
   "execution_count": 3,
   "id": "6902c68b-ce24-4204-ab04-287e0f6a51f8",
   "metadata": {},
   "outputs": [],
   "source": [
    "f = sp.open('README.md')"
   ]
  },
  {
   "cell_type": "code",
   "execution_count": 4,
   "id": "145cdbe0-bb2b-4635-ade0-e492bd4bec50",
   "metadata": {},
   "outputs": [
    {
     "name": "stderr",
     "output_type": "stream",
     "text": [
      "ERROR:    [Errno 48] error while attempting to bind on address ('127.0.0.1', 8765): address already in use\n"
     ]
    },
    {
     "name": "stdout",
     "output_type": "stream",
     "text": [
      "🚀 SyftPerm permission editor started at: http://127.0.0.1:8765\n"
     ]
    },
    {
     "name": "stderr",
     "output_type": "stream",
     "text": [
      "ERROR:    [Errno 48] error while attempting to bind on address ('127.0.0.1', 8765): address already in use\n"
     ]
    },
    {
     "data": {
      "text/html": [
       "<p><b>SyftFile('README.md')</b> - No permissions set</p>\n",
       "<p style=\"margin: 10px 0;\"><a href=\"http://127.0.0.1:8765/editor/README.md\" target=\"_blank\" style=\"background: #1976d2; color: white; padding: 8px 16px; text-decoration: none; border-radius: 4px; font-size: 14px;\">🖊️ Edit Permissions</a></p>\n",
       "<p><b>File Compliance Check:</b></p>\n",
       "<table border=\"1\" style=\"border-collapse: collapse; margin: 10px 0;\">\n",
       "<tr><th style=\"padding: 5px;\">Property</th><th style=\"padding: 5px;\">Current</th><th style=\"padding: 5px;\">Limit/Setting</th><th style=\"padding: 5px;\">Status</th></tr>\n",
       "<tr><td style=\"padding: 5px;\">File Size</td><td style=\"padding: 5px;\">3.92 KB</td><td style=\"padding: 5px;\">No limit</td><td style=\"padding: 5px;\">✓ OK</td></tr>\n",
       "<tr><td style=\"padding: 5px;\">File Type</td><td style=\"padding: 5px;\">Regular File</td><td style=\"padding: 5px;\">Dirs: ✓ | Symlinks: ✓</td><td style=\"padding: 5px;\">✓ OK</td></tr>\n",
       "<tr><td style=\"padding: 5px;\"><b>Overall</b></td><td style=\"padding: 5px;\" colspan=\"2\"><b>File access compliance</b></td><td style=\"padding: 5px;\"><b>✓ COMPLIANT</b></td></tr>\n",
       "</table>\n"
      ],
      "text/plain": [
       "SyftFile('README.md') - No permissions set"
      ]
     },
     "execution_count": 4,
     "metadata": {},
     "output_type": "execute_result"
    }
   ],
   "source": [
    "f"
   ]
  },
  {
   "cell_type": "code",
   "execution_count": null,
   "id": "9e4baf77-5f3e-4303-b9a9-248fbae29409",
   "metadata": {},
   "outputs": [],
   "source": []
  }
 ],
 "metadata": {
  "kernelspec": {
   "display_name": "Python 3 (ipykernel)",
   "language": "python",
   "name": "python3"
  },
  "language_info": {
   "codemirror_mode": {
    "name": "ipython",
    "version": 3
   },
   "file_extension": ".py",
   "mimetype": "text/x-python",
   "name": "python",
   "nbconvert_exporter": "python",
   "pygments_lexer": "ipython3",
   "version": "3.12.7"
  }
 },
 "nbformat": 4,
 "nbformat_minor": 5
}
