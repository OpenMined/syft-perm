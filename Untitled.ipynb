{
 "cells": [
  {
   "cell_type": "code",
   "execution_count": 1,
   "id": "28d0e305-d4f2-42ee-9ab3-b33f063c9b90",
   "metadata": {},
   "outputs": [],
   "source": [
    "import syft_perm as sp"
   ]
  },
  {
   "cell_type": "code",
   "execution_count": 2,
   "id": "6d4a55ae-4c31-4f05-a69c-c67bc87febc3",
   "metadata": {
    "scrolled": true
   },
   "outputs": [
    {
     "data": {
      "text/plain": [
       "'0.3.76'"
      ]
     },
     "execution_count": 2,
     "metadata": {},
     "output_type": "execute_result"
    }
   ],
   "source": [
    "sp.__version__"
   ]
  },
  {
   "cell_type": "code",
   "execution_count": null,
   "id": "c78773a2-905f-4141-ac93-e06f100e0447",
   "metadata": {},
   "outputs": [
    {
     "data": {
      "text/html": [
       "\n",
       "        <div id=\"loading-container\" style=\"padding: 40px; text-align: center; font-family: -apple-system, BlinkMacSystemFont, sans-serif;\">\n",
       "            <div style=\"font-size: 18px; color: #666; margin-bottom: 15px;\">Loading files...</div>\n",
       "            <div style=\"width: 300px; height: 4px; background-color: #e5e7eb; border-radius: 2px; margin: 0 auto; overflow: hidden;\">\n",
       "                <div id=\"loading-bar\" style=\"width: 0%; height: 100%; background-color: #6b7280; transition: width 0.3s ease;\"></div>\n",
       "            </div>\n",
       "            <div id=\"loading-status\" style=\"margin-top: 10px; color: #9ca3af; font-size: 12px;\">Scanning directories...</div>\n",
       "        </div>\n",
       "        <script>\n",
       "        (function() {\n",
       "            var progress = 0;\n",
       "            var interval = setInterval(function() {\n",
       "                progress += Math.random() * 15;\n",
       "                if (progress > 90) progress = 90;\n",
       "                document.getElementById('loading-bar').style.width = progress + '%';\n",
       "            }, 200);\n",
       "        })();\n",
       "        </script>\n",
       "        "
      ],
      "text/plain": [
       "<IPython.core.display.HTML object>"
      ]
     },
     "metadata": {},
     "output_type": "display_data"
    }
   ],
   "source": [
    "sp.files"
   ]
  },
  {
   "cell_type": "code",
   "execution_count": null,
   "id": "140e84c9-7b98-4228-8a95-17da71523c42",
   "metadata": {},
   "outputs": [],
   "source": []
  },
  {
   "cell_type": "code",
   "execution_count": 8,
   "id": "a617f238-56f2-4399-874e-f899dddb50b5",
   "metadata": {},
   "outputs": [],
   "source": [
    "f = sp.open(\"syft://abowman8556@icloud.com/app_data/RDS/rpc/rpc.schema.json\")"
   ]
  },
  {
   "cell_type": "code",
   "execution_count": 9,
   "id": "4ec4d6b7-2ccd-4c02-9fd8-6799c1b92a23",
   "metadata": {},
   "outputs": [
    {
     "data": {
      "text/plain": [
       "{'max_file_size': None,\n",
       " 'allow_dirs': True,\n",
       " 'allow_symlinks': True,\n",
       " 'has_limits': False}"
      ]
     },
     "execution_count": 9,
     "metadata": {},
     "output_type": "execute_result"
    }
   ],
   "source": [
    "f.get_file_limits()"
   ]
  },
  {
   "cell_type": "code",
   "execution_count": 5,
   "id": "3066d46b-0b17-4f8f-8abe-894e13355bcc",
   "metadata": {},
   "outputs": [
    {
     "data": {
      "text/plain": [
       "True"
      ]
     },
     "execution_count": 5,
     "metadata": {},
     "output_type": "execute_result"
    }
   ],
   "source": [
    "f.has_read_access('liamtrask@gmail.com')"
   ]
  },
  {
   "cell_type": "code",
   "execution_count": 6,
   "id": "8a3fe43e-c137-4410-a51b-c1fb6bdaf2b4",
   "metadata": {},
   "outputs": [
    {
     "data": {
      "text/plain": [
       "{'read': ['andrew@openmined.org', 'liamtrask@gmail.com'],\n",
       " 'create': ['liamtrask@gmail.com'],\n",
       " 'write': ['liamtrask@gmail.com'],\n",
       " 'admin': ['liamtrask@gmail.com']}"
      ]
     },
     "execution_count": 6,
     "metadata": {},
     "output_type": "execute_result"
    }
   ],
   "source": [
    "f.permissions_dict"
   ]
  },
  {
   "cell_type": "code",
   "execution_count": null,
   "id": "40017c2f-2f8f-4cd7-8a84-db5869b3b786",
   "metadata": {},
   "outputs": [],
   "source": []
  },
  {
   "cell_type": "code",
   "execution_count": 22,
   "id": "e9c69697-3ecb-4159-9ae6-794b785131c2",
   "metadata": {},
   "outputs": [
    {
     "name": "stdout",
     "output_type": "stream",
     "text": [
      "SyftFolder('/Users/atrask/SyftBox/datasites/liamtrask@gmail.com/chat')\n",
      "\n",
      "User               Read  Create  Write  Admin  Reason\n",
      "----------------------------------------------------------------------\n",
      "liamtrask@gmail.com  ✓     ✓       ✓      ✓     [Admin] Owner of path; [Write] Owner of path; [Create] Owner of path; [Read] Owner of path\n",
      "SyftFolder('/Users/atrask/SyftBox/datasites/liamtrask@gmail.com/chat')\n",
      "\n",
      "User               Read  Create  Write  Admin  Reason\n",
      "----------------------------------------------------------------------\n",
      "andrew@openmined.org ✓                          [Read] Explicitly granted read in /Users/atrask/SyftBox/datasites/liamtrask@gmail.com/chat; Pattern '**' matched\n",
      "liamtrask@gmail.com  ✓     ✓       ✓      ✓     [Admin] Owner of path; [Write] Owner of path; [Create] Owner of path; [Read] Owner of path\n",
      "True\n",
      "Permission analysis for andrew@openmined.org on /Users/atrask/SyftBox/datasites/liamtrask@gmail.com/chat:\n",
      "\n",
      "ADMIN: ✗ DENIED\n",
      "  • Pattern '**' matched\n",
      "\n",
      "WRITE: ✗ DENIED\n",
      "  • Pattern '**' matched\n",
      "\n",
      "CREATE: ✗ DENIED\n",
      "  • Pattern '**' matched\n",
      "\n",
      "READ: ✓ GRANTED\n",
      "  • Explicitly granted read in /Users/atrask/SyftBox/datasites/liamtrask@gmail.com/chat\n",
      "  • Pattern '**' matched\n",
      "\n",
      "\n"
     ]
    }
   ],
   "source": [
    "f = sp.open(\"syft://liamtrask@gmail.com/chat/\")\n",
    "print(str(f))\n",
    "f.grant_read_access('andrew@openmined.org')\n",
    "print(str(f))\n",
    "print(f.has_read_access('andrew@openmined.org'))\n",
    "print(f.explain_permissions('andrew@openmined.org'))"
   ]
  },
  {
   "cell_type": "code",
   "execution_count": 23,
   "id": "2e3f9d2b-a7e3-4762-872f-a86d369739cb",
   "metadata": {},
   "outputs": [
    {
     "name": "stdout",
     "output_type": "stream",
     "text": [
      "Permission analysis for andrew@openmined.org on /Users/atrask/SyftBox/datasites/liamtrask@gmail.com/chat/convo1.txt:\n",
      "\n",
      "ADMIN: ✗ DENIED\n",
      "  • Pattern '**' matched\n",
      "\n",
      "WRITE: ✗ DENIED\n",
      "  • Pattern '**' matched\n",
      "\n",
      "CREATE: ✗ DENIED\n",
      "  • Pattern '**' matched\n",
      "\n",
      "READ: ✓ GRANTED\n",
      "  • Explicitly granted read in /Users/atrask/SyftBox/datasites/liamtrask@gmail.com/chat\n",
      "  • Pattern '**' matched\n",
      "\n",
      "\n"
     ]
    }
   ],
   "source": [
    "f = sp.open(\"syft://liamtrask@gmail.com/chat/convo1.txt\")\n",
    "print(f.explain_permissions('andrew@openmined.org'))"
   ]
  },
  {
   "cell_type": "code",
   "execution_count": 24,
   "id": "7f719c98-4a83-413c-ac78-eb65ab7344fe",
   "metadata": {},
   "outputs": [
    {
     "name": "stdout",
     "output_type": "stream",
     "text": [
      "Permission analysis for andrew@openmined.org on /Users/atrask/SyftBox/datasites/liamtrask@gmail.com/chat/inner_dialogue/convo2.txt :\n",
      "\n",
      "ADMIN: ✗ DENIED\n",
      "  • Pattern '**' matched\n",
      "\n",
      "WRITE: ✗ DENIED\n",
      "  • Pattern '**' matched\n",
      "\n",
      "CREATE: ✗ DENIED\n",
      "  • Pattern '**' matched\n",
      "\n",
      "READ: ✓ GRANTED\n",
      "  • Explicitly granted read in /Users/atrask/SyftBox/datasites/liamtrask@gmail.com/chat\n",
      "  • Pattern '**' matched\n",
      "\n",
      "\n"
     ]
    }
   ],
   "source": [
    "f = sp.open(\"syft://liamtrask@gmail.com/chat/inner_dialogue/convo2.txt \")\n",
    "print(f.explain_permissions('andrew@openmined.org'))"
   ]
  },
  {
   "cell_type": "code",
   "execution_count": 25,
   "id": "38afe6a2-d386-42c7-8855-5080735f9f40",
   "metadata": {},
   "outputs": [
    {
     "name": "stdout",
     "output_type": "stream",
     "text": [
      "Permission analysis for andrew@openmined.org on /Users/atrask/SyftBox/datasites/liamtrask@gmail.com/chat/inner_dialogue/convo2.txt :\n",
      "\n",
      "ADMIN: ✗ DENIED\n",
      "  • Pattern 'convo2.txt ' matched\n",
      "\n",
      "WRITE: ✗ DENIED\n",
      "  • Pattern 'convo2.txt ' matched\n",
      "\n",
      "CREATE: ✗ DENIED\n",
      "  • Pattern 'convo2.txt ' matched\n",
      "\n",
      "READ: ✗ DENIED\n",
      "  • Pattern 'convo2.txt ' matched\n",
      "\n",
      "\n"
     ]
    }
   ],
   "source": [
    "f = sp.open(\"syft://liamtrask@gmail.com/chat/inner_dialogue/convo2.txt \")\n",
    "f.revoke_read_access('andrew@openmined.org')\n",
    "print(f.explain_permissions('andrew@openmined.org'))"
   ]
  },
  {
   "cell_type": "code",
   "execution_count": 31,
   "id": "1a951a0c-1ece-4e0a-b336-f8f3908af24e",
   "metadata": {},
   "outputs": [
    {
     "name": "stdout",
     "output_type": "stream",
     "text": [
      "True\n"
     ]
    }
   ],
   "source": [
    "f = sp.open(\"syft://liamtrask@gmail.com/chat/\")\n",
    "print(f.get_terminal())\n",
    "f.set_terminal(True)"
   ]
  },
  {
   "cell_type": "code",
   "execution_count": 27,
   "id": "94d18d54-289f-4563-bb2b-5aa1f2d4e003",
   "metadata": {},
   "outputs": [
    {
     "name": "stdout",
     "output_type": "stream",
     "text": [
      "False\n"
     ]
    }
   ],
   "source": []
  },
  {
   "cell_type": "code",
   "execution_count": 28,
   "id": "ba184a41-2643-48ab-98cd-031bfae73a7a",
   "metadata": {},
   "outputs": [],
   "source": []
  },
  {
   "cell_type": "code",
   "execution_count": 29,
   "id": "097fdd00-34ed-4eb3-b7cc-9de16bb65763",
   "metadata": {},
   "outputs": [
    {
     "name": "stdout",
     "output_type": "stream",
     "text": [
      "Permission analysis for andrew@openmined.org on /Users/atrask/SyftBox/datasites/liamtrask@gmail.com/chat/convo1.txt:\n",
      "\n",
      "ADMIN: ✗ DENIED\n",
      "  • Pattern '**' matched\n",
      "\n",
      "WRITE: ✗ DENIED\n",
      "  • Pattern '**' matched\n",
      "\n",
      "CREATE: ✗ DENIED\n",
      "  • Pattern '**' matched\n",
      "\n",
      "READ: ✓ GRANTED\n",
      "  • Explicitly granted read in /Users/atrask/SyftBox/datasites/liamtrask@gmail.com/chat\n",
      "  • Pattern '**' matched\n",
      "\n",
      "\n"
     ]
    }
   ],
   "source": [
    "f = sp.open(\"syft://liamtrask@gmail.com/chat/convo1.txt\")\n",
    "print(f.explain_permissions('andrew@openmined.org'))"
   ]
  },
  {
   "cell_type": "code",
   "execution_count": 32,
   "id": "f3d89db2-62b9-4c5f-8b38-536621f519eb",
   "metadata": {},
   "outputs": [
    {
     "name": "stdout",
     "output_type": "stream",
     "text": [
      "Permission analysis for andrew@openmined.org on /Users/atrask/SyftBox/datasites/liamtrask@gmail.com/chat/inner_dialogue/convo2.txt :\n",
      "\n",
      "ADMIN: ✗ DENIED\n",
      "  • Pattern 'convo2.txt ' matched\n",
      "\n",
      "WRITE: ✗ DENIED\n",
      "  • Pattern 'convo2.txt ' matched\n",
      "\n",
      "CREATE: ✗ DENIED\n",
      "  • Pattern 'convo2.txt ' matched\n",
      "\n",
      "READ: ✗ DENIED\n",
      "  • Pattern 'convo2.txt ' matched\n",
      "\n",
      "\n"
     ]
    }
   ],
   "source": [
    "f = sp.open(\"syft://liamtrask@gmail.com/chat/inner_dialogue/convo2.txt \")\n",
    "f.revoke_read_access('andrew@openmined.org')\n",
    "print(f.explain_permissions('andrew@openmined.org'))"
   ]
  },
  {
   "cell_type": "code",
   "execution_count": null,
   "id": "f584ebec-6d26-4e18-90fc-9837266118e0",
   "metadata": {},
   "outputs": [],
   "source": []
  },
  {
   "cell_type": "code",
   "execution_count": null,
   "id": "1cc15f9b-8759-465e-80db-1379b61406aa",
   "metadata": {},
   "outputs": [],
   "source": []
  },
  {
   "cell_type": "code",
   "execution_count": null,
   "id": "fdd43258-5345-4f09-a51f-e9b4aad4570a",
   "metadata": {},
   "outputs": [],
   "source": [
    "f.revoke_read_access('andrew@openmined.org')"
   ]
  },
  {
   "cell_type": "code",
   "execution_count": null,
   "id": "a8ab1c32-e5c3-426e-a2ee-5a6e3f327cbc",
   "metadata": {},
   "outputs": [],
   "source": []
  },
  {
   "cell_type": "code",
   "execution_count": 4,
   "id": "6902c68b-ce24-4204-ab04-287e0f6a51f8",
   "metadata": {},
   "outputs": [],
   "source": [
    "f = sp.open(\"syft://liamtrask@gmail.com/chat/convo1.txt\")"
   ]
  },
  {
   "cell_type": "code",
   "execution_count": 6,
   "id": "c82a6e67-e46a-4378-b67d-7cb3214b6f58",
   "metadata": {},
   "outputs": [
    {
     "name": "stdout",
     "output_type": "stream",
     "text": [
      "Permission analysis for andrew@openmined.org on /Users/atrask/SyftBox/datasites/liamtrask@gmail.com/chat/convo1.txt:\n",
      "\n",
      "ADMIN: ✗ DENIED\n",
      "  • Pattern '**' matched\n",
      "\n",
      "WRITE: ✗ DENIED\n",
      "  • Pattern '**' matched\n",
      "\n",
      "CREATE: ✗ DENIED\n",
      "  • Pattern '**' matched\n",
      "\n",
      "READ: ✗ DENIED\n",
      "  • Pattern '**' matched\n",
      "\n",
      "\n"
     ]
    }
   ],
   "source": [
    "print(f.explain_permissions(\"andrew@openmined.org\"))"
   ]
  },
  {
   "cell_type": "code",
   "execution_count": 3,
   "id": "e49bf774-a847-4438-a1ae-f7c921cc0592",
   "metadata": {},
   "outputs": [
    {
     "data": {
      "text/html": [
       "<div style='padding: 20px; color: #666;'>No permissions found for file: 2e2a59ab-6069-42e6-a31a-11556c68445a.request</div>"
      ],
      "text/plain": [
       "SyftFile('/Users/atrask/SyftBox/datasites/liamtrask@gmail.com/api_data/pingpong/rpc/ping/2e2a59ab-6069-42e6-a31a-11556c68445a.request') - No permissions set"
      ]
     },
     "execution_count": 3,
     "metadata": {},
     "output_type": "execute_result"
    }
   ],
   "source": [
    "f"
   ]
  },
  {
   "cell_type": "code",
   "execution_count": 8,
   "id": "db644833-f646-4ab8-9964-980b22d3b1b3",
   "metadata": {},
   "outputs": [
    {
     "name": "stdout",
     "output_type": "stream",
     "text": [
      "Permission analysis for liamtrask@gmail.com on /Users/atrask/SyftBox/datasites/liamtrask@gmail.com/api_data/pingpong/rpc/ping/2e2a59ab-6069-42e6-a31a-11556c68445a.request:\n",
      "\n",
      "ADMIN: ✓ GRANTED\n",
      "  • Owner of path\n",
      "\n",
      "WRITE: ✓ GRANTED\n",
      "  • Owner of path\n",
      "\n",
      "CREATE: ✓ GRANTED\n",
      "  • Owner of path\n",
      "\n",
      "READ: ✓ GRANTED\n",
      "  • Owner of path\n",
      "\n",
      "\n"
     ]
    }
   ],
   "source": [
    "print(f.explain_permissions('liamtrask@gmail.com'))"
   ]
  },
  {
   "cell_type": "code",
   "execution_count": 6,
   "id": "fd1bca98-e476-44fd-bda8-1b18c8c2ca89",
   "metadata": {},
   "outputs": [
    {
     "name": "stdout",
     "output_type": "stream",
     "text": [
      "Permission analysis for * on /Users/atrask/SyftBox/datasites/16728yl7gq@jxpomup.com/public/datasets/pima-indians-diabetes-database/test.csv:\n",
      "\n",
      "ADMIN: ✗ DENIED\n",
      "  • Pattern '**' matched\n",
      "\n",
      "WRITE: ✗ DENIED\n",
      "  • Pattern '**' matched\n",
      "\n",
      "CREATE: ✗ DENIED\n",
      "  • Pattern '**' matched\n",
      "\n",
      "READ: ✓ GRANTED\n",
      "  • Explicitly granted read in /Users/atrask/SyftBox/datasites/16728yl7gq@jxpomup.com/public\n",
      "  • Pattern '**' matched\n",
      "  • Public access (*)\n",
      "\n",
      "\n"
     ]
    }
   ],
   "source": [
    "print(f.explain_permissions('*'))"
   ]
  },
  {
   "cell_type": "code",
   "execution_count": 4,
   "id": "8044ae20-65ff-4db4-b3f5-94846834b543",
   "metadata": {},
   "outputs": [],
   "source": [
    "# f.grant_admin_access('liamtrask@gmail.com')"
   ]
  },
  {
   "cell_type": "code",
   "execution_count": 5,
   "id": "1e77979f-aa06-402c-ab62-5fa0adc7095b",
   "metadata": {},
   "outputs": [],
   "source": []
  },
  {
   "cell_type": "code",
   "execution_count": 1,
   "id": "579f2d95-6de6-48f2-b048-7a3ce5293746",
   "metadata": {},
   "outputs": [],
   "source": [
    "import syft_perm as sp\n",
    "f = sp.open('README.md')\n",
    "f.grant_write_access('jamesbrown@gmail.com')\n",
    "f.grant_create_access('peter@openmined.org')\n",
    "f.grant_read_access('*')\n",
    "f.grant_write_access('bennett@openmined.org')"
   ]
  },
  {
   "cell_type": "code",
   "execution_count": 2,
   "id": "145cdbe0-bb2b-4635-ade0-e492bd4bec50",
   "metadata": {},
   "outputs": [
    {
     "data": {
      "text/html": [
       "\n",
       "        <div style=\"font-family: -apple-system, BlinkMacSystemFont, 'Segoe UI', Roboto, sans-serif;\n",
       "                    font-size: 0.75rem; background: #ffffff; border: 1px solid #e5e7eb;\n",
       "                    border-radius: 0.25rem; margin: 8px 0; height: 200px;\n",
       "                    display: flex; flex-direction: column;\">\n",
       "            <div style=\"background: #f8f9fa; padding: 0.375rem 0.5rem;\n",
       "                        border-bottom: 1px solid #e5e7eb; flex-shrink: 0;\n",
       "                        position: sticky; top: 0; z-index: 10;\">\n",
       "                <div style=\"display: flex; align-items: center; justify-content: space-between;\">\n",
       "                    <div style=\"display: flex; align-items: center; gap: 0.25rem;\">\n",
       "                        <svg width=\"20\" height=\"20\" viewBox=\"0 0 311 360\" fill=\"none\" xmlns=\"http://www.w3.org/2000/svg\"><g clip-path=\"url(#clip0)\"><path d=\"M311.414 89.7878L155.518 179.998L-0.378906 89.7878L155.518 -0.422485L311.414 89.7878Z\" fill=\"url(#paint0_linear)\"/><path d=\"M311.414 89.7878V270.208L155.518 360.423V179.998L311.414 89.7878Z\" fill=\"url(#paint1_linear)\"/><path d=\"M155.518 179.998V360.423L-0.378906 270.208V89.7878L155.518 179.998Z\" fill=\"url(#paint2_linear)\"/></g><defs><linearGradient id=\"paint0_linear\" x1=\"-0.378904\" y1=\"89.7878\" x2=\"311.414\" y2=\"89.7878\" gradientUnits=\"userSpaceOnUse\"><stop stop-color=\"#DC7A6E\"/><stop offset=\"0.251496\" stop-color=\"#F6A464\"/><stop offset=\"0.501247\" stop-color=\"#FDC577\"/><stop offset=\"0.753655\" stop-color=\"#EFC381\"/><stop offset=\"1\" stop-color=\"#B9D599\"/></linearGradient><linearGradient id=\"paint1_linear\" x1=\"309.51\" y1=\"89.7878\" x2=\"155.275\" y2=\"360.285\" gradientUnits=\"userSpaceOnUse\"><stop stop-color=\"#BFCD94\"/><stop offset=\"0.245025\" stop-color=\"#B2D69E\"/><stop offset=\"0.504453\" stop-color=\"#8DCCA6\"/><stop offset=\"0.745734\" stop-color=\"#5CB8B7\"/><stop offset=\"1\" stop-color=\"#4CA5B8\"/></linearGradient><linearGradient id=\"paint2_linear\" x1=\"-0.378906\" y1=\"89.7878\" x2=\"155.761\" y2=\"360.282\" gradientUnits=\"userSpaceOnUse\"><stop stop-color=\"#D7686D\"/><stop offset=\"0.225\" stop-color=\"#C64B77\"/><stop offset=\"0.485\" stop-color=\"#A2638E\"/><stop offset=\"0.703194\" stop-color=\"#758AA8\"/><stop offset=\"1\" stop-color=\"#639EAF\"/></linearGradient><clipPath id=\"clip0\"><rect width=\"311\" height=\"360\" fill=\"white\"/></clipPath></defs></svg>\n",
       "                        <div>\n",
       "                            <div style=\"font-size: 0.875rem; font-weight: 500; color: #374151;\">\n",
       "                                README.md\n",
       "                            </div>\n",
       "                            <div style=\"font-size: 0.75rem; color: #6b7280;\">\n",
       "                                Owner: atrask\n",
       "                            </div>\n",
       "                        </div>\n",
       "                    </div>\n",
       "                    <div style=\"font-size: 0.75rem; color: #6b7280; font-weight: 500;\">\n",
       "                        PERMISSIONS\n",
       "                    </div>\n",
       "                </div>\n",
       "            </div>\n",
       "\n",
       "            <!-- Search Bar -->\n",
       "            <div style=\"padding: 0.5rem; background: #f8f9fa; border-bottom: 1px solid #e5e7eb;\">\n",
       "                <input type=\"text\" placeholder=\"🔍 Search users...\"\n",
       "                       style=\"width: 100%; padding: 0.375rem 0.5rem; border: 1px solid #d1d5db;\n",
       "                              border-radius: 0.25rem; font-size: 0.75rem; outline: none;\n",
       "                              background: white;\">\n",
       "            </div>\n",
       "\n",
       "            <div style=\"flex: 1; overflow-y: auto; padding: 0;\">\n",
       "        \n",
       "                <div style=\"display: flex; align-items: center; padding: 0.375rem 0.5rem;\n",
       "                            gap: 0.5rem; border-bottom: 1px solid #f3f4f6;\n",
       "                            transition: background-color 0.15s; cursor: pointer;\"\n",
       "                     onmouseover=\"this.style.background='rgba(0, 0, 0, 0.03)'\"\n",
       "                     onmouseout=\"this.style.background='transparent'\">\n",
       "                    <div style=\"width: 1.25rem; height: 1.25rem; border-radius: 50%;\n",
       "                                background: #C64B77; display: flex; align-items: center;\n",
       "                                justify-content: center; flex-shrink: 0;\">\n",
       "                        <span style=\"color: white; font-size: 0.625rem; font-weight: 500;\">\n",
       "                            PU\n",
       "                        </span>\n",
       "                    </div>\n",
       "                    <div style=\"flex: 1; min-width: 0; display: flex;\n",
       "                                align-items: center; gap: 0.75rem;\">\n",
       "                        <div style=\"font-size: 0.75rem; color: #374151; font-weight: 500;\n",
       "                                    overflow: hidden; text-overflow: ellipsis;\n",
       "                                    white-space: nowrap; min-width: 0;\">\n",
       "                            Anyone with the link\n",
       "                        </div>\n",
       "                        <div style=\"font-size: 0.625rem; color: #6b7280;\n",
       "                                    overflow: hidden; text-overflow: ellipsis;\n",
       "                                    white-space: nowrap; flex: 1; min-width: 0;\">\n",
       "                            Explicitly granted read in .; Pattern 'README.md' matched\n",
       "                        </div>\n",
       "                    </div>\n",
       "                    <div style=\"margin-left: 0.5rem;\">\n",
       "                        <span style=\"display: inline-flex; align-items: center;\n",
       "                                     padding: 0.125rem 0.375rem; border-radius: 0.25rem;\n",
       "                                     font-size: 0.625rem; font-weight: 500;\n",
       "                                     background: #f3f4f6; color: #374151;\">\n",
       "                            READ\n",
       "                        </span>\n",
       "                    </div>\n",
       "                </div>\n",
       "            \n",
       "                <div style=\"display: flex; align-items: center; padding: 0.375rem 0.5rem;\n",
       "                            gap: 0.5rem; border-bottom: 1px solid #f3f4f6;\n",
       "                            transition: background-color 0.15s; cursor: pointer;\"\n",
       "                     onmouseover=\"this.style.background='rgba(0, 0, 0, 0.03)'\"\n",
       "                     onmouseout=\"this.style.background='transparent'\">\n",
       "                    <div style=\"width: 1.25rem; height: 1.25rem; border-radius: 50%;\n",
       "                                background: #4CA5B8; display: flex; align-items: center;\n",
       "                                justify-content: center; flex-shrink: 0;\">\n",
       "                        <span style=\"color: white; font-size: 0.625rem; font-weight: 500;\">\n",
       "                            BE\n",
       "                        </span>\n",
       "                    </div>\n",
       "                    <div style=\"flex: 1; min-width: 0; display: flex;\n",
       "                                align-items: center; gap: 0.75rem;\">\n",
       "                        <div style=\"font-size: 0.75rem; color: #374151; font-weight: 500;\n",
       "                                    overflow: hidden; text-overflow: ellipsis;\n",
       "                                    white-space: nowrap; min-width: 0;\">\n",
       "                            bennett@openmined.org\n",
       "                        </div>\n",
       "                        <div style=\"font-size: 0.625rem; color: #6b7280;\n",
       "                                    overflow: hidden; text-overflow: ellipsis;\n",
       "                                    white-space: nowrap; flex: 1; min-width: 0;\">\n",
       "                            Explicitly granted write in .; Pattern 'README.md' matched\n",
       "                        </div>\n",
       "                    </div>\n",
       "                    <div style=\"margin-left: 0.5rem;\">\n",
       "                        <span style=\"display: inline-flex; align-items: center;\n",
       "                                     padding: 0.125rem 0.375rem; border-radius: 0.25rem;\n",
       "                                     font-size: 0.625rem; font-weight: 500;\n",
       "                                     background: #f3f4f6; color: #374151;\">\n",
       "                            WRITE\n",
       "                        </span>\n",
       "                    </div>\n",
       "                </div>\n",
       "            \n",
       "                <div style=\"display: flex; align-items: center; padding: 0.375rem 0.5rem;\n",
       "                            gap: 0.5rem; border-bottom: 1px solid #f3f4f6;\n",
       "                            transition: background-color 0.15s; cursor: pointer;\"\n",
       "                     onmouseover=\"this.style.background='rgba(0, 0, 0, 0.03)'\"\n",
       "                     onmouseout=\"this.style.background='transparent'\">\n",
       "                    <div style=\"width: 1.25rem; height: 1.25rem; border-radius: 50%;\n",
       "                                background: #4CA5B8; display: flex; align-items: center;\n",
       "                                justify-content: center; flex-shrink: 0;\">\n",
       "                        <span style=\"color: white; font-size: 0.625rem; font-weight: 500;\">\n",
       "                            JA\n",
       "                        </span>\n",
       "                    </div>\n",
       "                    <div style=\"flex: 1; min-width: 0; display: flex;\n",
       "                                align-items: center; gap: 0.75rem;\">\n",
       "                        <div style=\"font-size: 0.75rem; color: #374151; font-weight: 500;\n",
       "                                    overflow: hidden; text-overflow: ellipsis;\n",
       "                                    white-space: nowrap; min-width: 0;\">\n",
       "                            jamesbrown@gmail.com\n",
       "                        </div>\n",
       "                        <div style=\"font-size: 0.625rem; color: #6b7280;\n",
       "                                    overflow: hidden; text-overflow: ellipsis;\n",
       "                                    white-space: nowrap; flex: 1; min-width: 0;\">\n",
       "                            Explicitly granted write in .; Pattern 'README.md' matched\n",
       "                        </div>\n",
       "                    </div>\n",
       "                    <div style=\"margin-left: 0.5rem;\">\n",
       "                        <span style=\"display: inline-flex; align-items: center;\n",
       "                                     padding: 0.125rem 0.375rem; border-radius: 0.25rem;\n",
       "                                     font-size: 0.625rem; font-weight: 500;\n",
       "                                     background: #f3f4f6; color: #374151;\">\n",
       "                            WRITE\n",
       "                        </span>\n",
       "                    </div>\n",
       "                </div>\n",
       "            \n",
       "                <div style=\"display: flex; align-items: center; padding: 0.375rem 0.5rem;\n",
       "                            gap: 0.5rem; border-bottom: 1px solid #f3f4f6;\n",
       "                            transition: background-color 0.15s; cursor: pointer;\"\n",
       "                     onmouseover=\"this.style.background='rgba(0, 0, 0, 0.03)'\"\n",
       "                     onmouseout=\"this.style.background='transparent'\">\n",
       "                    <div style=\"width: 1.25rem; height: 1.25rem; border-radius: 50%;\n",
       "                                background: #5CB8B7; display: flex; align-items: center;\n",
       "                                justify-content: center; flex-shrink: 0;\">\n",
       "                        <span style=\"color: white; font-size: 0.625rem; font-weight: 500;\">\n",
       "                            LI\n",
       "                        </span>\n",
       "                    </div>\n",
       "                    <div style=\"flex: 1; min-width: 0; display: flex;\n",
       "                                align-items: center; gap: 0.75rem;\">\n",
       "                        <div style=\"font-size: 0.75rem; color: #374151; font-weight: 500;\n",
       "                                    overflow: hidden; text-overflow: ellipsis;\n",
       "                                    white-space: nowrap; min-width: 0;\">\n",
       "                            liamtrask@gmail.com\n",
       "                        </div>\n",
       "                        <div style=\"font-size: 0.625rem; color: #6b7280;\n",
       "                                    overflow: hidden; text-overflow: ellipsis;\n",
       "                                    white-space: nowrap; flex: 1; min-width: 0;\">\n",
       "                            Explicitly granted admin in .; Pattern 'README.md' matched\n",
       "                        </div>\n",
       "                    </div>\n",
       "                    <div style=\"margin-left: 0.5rem;\">\n",
       "                        <span style=\"display: inline-flex; align-items: center;\n",
       "                                     padding: 0.125rem 0.375rem; border-radius: 0.25rem;\n",
       "                                     font-size: 0.625rem; font-weight: 500;\n",
       "                                     background: #f3f4f6; color: #374151;\">\n",
       "                            ADMIN\n",
       "                        </span>\n",
       "                    </div>\n",
       "                </div>\n",
       "            \n",
       "                <div style=\"display: flex; align-items: center; padding: 0.375rem 0.5rem;\n",
       "                            gap: 0.5rem; border-bottom: 1px solid #f3f4f6;\n",
       "                            transition: background-color 0.15s; cursor: pointer;\"\n",
       "                     onmouseover=\"this.style.background='rgba(0, 0, 0, 0.03)'\"\n",
       "                     onmouseout=\"this.style.background='transparent'\">\n",
       "                    <div style=\"width: 1.25rem; height: 1.25rem; border-radius: 50%;\n",
       "                                background: #639EAF; display: flex; align-items: center;\n",
       "                                justify-content: center; flex-shrink: 0;\">\n",
       "                        <span style=\"color: white; font-size: 0.625rem; font-weight: 500;\">\n",
       "                            PE\n",
       "                        </span>\n",
       "                    </div>\n",
       "                    <div style=\"flex: 1; min-width: 0; display: flex;\n",
       "                                align-items: center; gap: 0.75rem;\">\n",
       "                        <div style=\"font-size: 0.75rem; color: #374151; font-weight: 500;\n",
       "                                    overflow: hidden; text-overflow: ellipsis;\n",
       "                                    white-space: nowrap; min-width: 0;\">\n",
       "                            peter@openmined.org\n",
       "                        </div>\n",
       "                        <div style=\"font-size: 0.625rem; color: #6b7280;\n",
       "                                    overflow: hidden; text-overflow: ellipsis;\n",
       "                                    white-space: nowrap; flex: 1; min-width: 0;\">\n",
       "                            Explicitly granted create in .; Pattern 'README.md' matched\n",
       "                        </div>\n",
       "                    </div>\n",
       "                    <div style=\"margin-left: 0.5rem;\">\n",
       "                        <span style=\"display: inline-flex; align-items: center;\n",
       "                                     padding: 0.125rem 0.375rem; border-radius: 0.25rem;\n",
       "                                     font-size: 0.625rem; font-weight: 500;\n",
       "                                     background: #f3f4f6; color: #374151;\">\n",
       "                            CREATE\n",
       "                        </span>\n",
       "                    </div>\n",
       "                </div>\n",
       "            \n",
       "            </div>\n",
       "        </div>\n",
       "        "
      ],
      "text/plain": [
       "SyftFile('README.md')\n",
       "\n",
       "User               Read  Create  Write  Admin  Reason\n",
       "----------------------------------------------------------------------\n",
       "public               ✓                          [Read] Explicitly granted read in .; Pattern 'README.md' matched; [Read] Public access (*)\n",
       "bennett@openmined.org ✓     ✓       ✓            [Write] Explicitly granted write in .; Pattern 'README.md' matched; [Read] Public access (*)\n",
       "jamesbrown@gmail.com ✓     ✓       ✓            [Write] Explicitly granted write in .; Pattern 'README.md' matched; [Read] Public access (*)\n",
       "liamtrask@gmail.com  ✓     ✓       ✓      ✓     [Admin] Explicitly granted admin in .; Pattern 'README.md' matched; [Read] Public access (*)\n",
       "peter@openmined.org  ✓     ✓                    [Create] Explicitly granted create in .; Pattern 'README.md' matched; [Read] Public access (*)"
      ]
     },
     "execution_count": 2,
     "metadata": {},
     "output_type": "execute_result"
    }
   ],
   "source": [
    "f"
   ]
  },
  {
   "cell_type": "code",
   "execution_count": 3,
   "id": "9e4baf77-5f3e-4303-b9a9-248fbae29409",
   "metadata": {
    "scrolled": true
   },
   "outputs": [
    {
     "name": "stdout",
     "output_type": "stream",
     "text": [
      "Permission analysis for andrew@openmined.org on README.md:\n",
      "\n",
      "ADMIN: ✗ DENIED\n",
      "  • Pattern 'README.md' matched\n",
      "\n",
      "WRITE: ✗ DENIED\n",
      "  • Pattern 'README.md' matched\n",
      "\n",
      "CREATE: ✗ DENIED\n",
      "  • Pattern 'README.md' matched\n",
      "\n",
      "READ: ✓ GRANTED\n",
      "  • Explicitly granted read in .\n",
      "  • Pattern 'README.md' matched\n",
      "  • Public access (*)\n",
      "\n",
      "\n"
     ]
    }
   ],
   "source": [
    "print(f.explain_permissions('andrew@openmined.org'))"
   ]
  },
  {
   "cell_type": "code",
   "execution_count": null,
   "id": "0d5e7507-5168-4a8c-9ce6-8a243f994779",
   "metadata": {},
   "outputs": [],
   "source": []
  }
 ],
 "metadata": {
  "kernelspec": {
   "display_name": "Python 3 (ipykernel)",
   "language": "python",
   "name": "python3"
  },
  "language_info": {
   "codemirror_mode": {
    "name": "ipython",
    "version": 3
   },
   "file_extension": ".py",
   "mimetype": "text/x-python",
   "name": "python",
   "nbconvert_exporter": "python",
   "pygments_lexer": "ipython3",
   "version": "3.12.7"
  }
 },
 "nbformat": 4,
 "nbformat_minor": 5
}
