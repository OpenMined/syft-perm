{
 "cells": [
  {
   "cell_type": "markdown",
   "metadata": {},
   "source": [
    "# TUTORIAL: SYFT-PERM IN 10 MINUTES\n",
    "\n",
    "## Common Ground\n",
    "Everyone needs to modify permissions in SyftBox files - whether you're sharing data with specific users, making files public, or restricting access to sensitive information.\n",
    "\n",
    "## Problem 1: Knowing Permissions\n",
    "\n",
    "Knowing the permission of a file is tricky because you need to:\n",
    "- **Find the syft.pub.yaml** It could be anywhere in the parent folder to a file\n",
    "- **Interpret permission correctly** There's a complex internal permission logic which decides how pub files translate into actual permissions\n",
    "- **Hope you got it right:** The only way to truly know if you got it right is to open up two datasites and see if a file gets synced through the server in the way you expect. \n",
    "\n",
    "## Problem 2: Editing Permissions\n",
    "\n",
    "Modifying `syft.pub.yaml` files manually is:\n",
    "- **Tricky** - Complex YAML structure with patterns, inheritance, and hierarchy rules\n",
    "- **Error-prone** - Silent failures when patterns don't match or inheritance doesn't work as expected\n",
    "- **Time-consuming** - Need to understand glob patterns, permission levels, and file limits\n",
    "\n",
    "## Solution\n",
    "**syft-perm** provides utility functions and `SyftFile`/`SyftFolder` classes that make permissions easy:\n",
    "- Simple SyftFile/SyftFolder object which applies to existing files and has .getter and .setter methods\n",
    "- Automatic YAML generation and validation\n",
    "- **Bonus:** Jupyter widgets for seeing and updating file/folder permissions\n",
    "  \n",
    "\n",
    "## Benefits\n",
    "SyftBox file permissions become easier to trust and to write correctly the first time, with fewer bugs and clearer outcomes."
   ]
  },
  {
   "cell_type": "markdown",
   "metadata": {},
   "source": [
    "# Part 1: Installation and Setup\n",
    "\n",
    "- Step 1: Download and run [SyftBox](https://www.syftbox.net/#downloads)\n",
    "- Step 2: pip install syft-perm"
   ]
  },
  {
   "cell_type": "code",
   "execution_count": null,
   "metadata": {},
   "outputs": [],
   "source": [
    "# !pip install syft-perm -U"
   ]
  },
  {
   "cell_type": "code",
   "execution_count": null,
   "metadata": {},
   "outputs": [],
   "source": [
    "#note: it's helpful to use \"sp\" because of some copy-paste functionality in the UI\n",
    "import syft_perm as sp \n",
    "import syft_core as sc"
   ]
  },
  {
   "cell_type": "code",
   "execution_count": null,
   "metadata": {},
   "outputs": [],
   "source": [
    "sp."
   ]
  },
  {
   "cell_type": "code",
   "execution_count": null,
   "metadata": {},
   "outputs": [],
   "source": [
    "sp.__version__"
   ]
  },
  {
   "cell_type": "markdown",
   "metadata": {},
   "source": [
    "# Part 2: Sign my Guestbook (and learn the UIs)\n",
    "\n",
    "There are three core user interfaces:\n",
    "- The filesystem feed (syft_perm.files)\n",
    "- The syftbox file editor\n",
    "- The permission updater\n",
    "\n",
    "Let's use them to sign the guestbook!"
   ]
  },
  {
   "cell_type": "code",
   "execution_count": null,
   "metadata": {},
   "outputs": [],
   "source": [
    "# the filesystem feed\n",
    "\n",
    "# In the searchbar — type \"andrew@ guestbook\" and click \"guestbook.txt\"... this will COPY TO CLIPBOARD\n",
    "sp.files"
   ]
  },
  {
   "cell_type": "code",
   "execution_count": null,
   "metadata": {},
   "outputs": [],
   "source": [
    "# PASTE the code you copied into the cell below... and run it"
   ]
  },
  {
   "cell_type": "code",
   "execution_count": null,
   "metadata": {},
   "outputs": [],
   "source": [
    "sp.open(\"syft://andrew@openmined.org/guestbook.txt\") # instead of my email it should show yours"
   ]
  },
  {
   "cell_type": "code",
   "execution_count": null,
   "metadata": {},
   "outputs": [],
   "source": [
    "# the permission updater — you can also get this by clicking \"Share\"\n",
    "f = sp.open(\"syft://andrew@openmined.org/guestbook.txt\")\n",
    "\n",
    "# as you can see, you can modify this file because * has WRITE permissions\n",
    "f.share"
   ]
  },
  {
   "cell_type": "code",
   "execution_count": null,
   "metadata": {},
   "outputs": [],
   "source": [
    "# Now try to open the \"antiguestbook\" and try to add yourself to it\n",
    "sp.files.search(\"andrew@openmined.org antiguestbook.txt\")"
   ]
  },
  {
   "cell_type": "code",
   "execution_count": null,
   "metadata": {},
   "outputs": [],
   "source": [
    "# if you clicked the row above, it'll create this python you can run\n",
    "sp.open(\"syft://andrew@openmined.org/public/antiguestbook.txt\")"
   ]
  },
  {
   "cell_type": "markdown",
   "metadata": {},
   "source": [
    "### OH NO!! Why can't I edit the file?\n",
    "\n",
    "You don't have permission to edit this file... and andrew@openmined.org is the admin who decided. You can see this in the permission!"
   ]
  },
  {
   "cell_type": "code",
   "execution_count": null,
   "metadata": {},
   "outputs": [],
   "source": [
    "f = sp.open(\"syft://andrew@openmined.org/public/antiguestbook.txt\")\n",
    "f.share"
   ]
  },
  {
   "cell_type": "code",
   "execution_count": null,
   "metadata": {},
   "outputs": [],
   "source": [
    "# you can also see why you do/don't have permission here (put your email in instead of mine)\n",
    "print(f.explain_permissions(\"andrew@openmined.org\"))"
   ]
  },
  {
   "cell_type": "markdown",
   "metadata": {},
   "source": [
    "# Part 3: Create your own guestbook! (create and permission your first file)\n",
    "\n",
    "Time to create your first SyftFile! First start by creating a file:\n",
    "\n",
    "1) Literally go to your filesystem and create one (usually ~/SyftBox/your@email/public/guestbook.txt)\n",
    "2) Use the python widget to create one"
   ]
  },
  {
   "cell_type": "code",
   "execution_count": null,
   "metadata": {},
   "outputs": [],
   "source": [
    "# let's start by creating one in our filesystem\n",
    "\n",
    "# this is your datasite path\n",
    "# create a file at this path + /public\n",
    "path = sc.Client.load().datasite_path\n",
    "path"
   ]
  },
  {
   "cell_type": "code",
   "execution_count": null,
   "metadata": {},
   "outputs": [],
   "source": [
    "# this is your email\n",
    "# this is your datasite path\n",
    "# create a file at this path + /public\n",
    "email = sc.Client.load().email\n",
    "email"
   ]
  },
  {
   "cell_type": "code",
   "execution_count": null,
   "metadata": {},
   "outputs": [],
   "source": [
    "# Create the guestbook.txt file in that directory\n",
    "guestbook_path = path / 'guestbook.txt'\n",
    "\n",
    "# Write to the file (this will create it if it doesn't exist)\n",
    "guestbook_path.write_text('Please sign my guestbook! \\n\\nBob Vance: I love refrigeration!')"
   ]
  },
  {
   "cell_type": "code",
   "execution_count": null,
   "metadata": {},
   "outputs": [],
   "source": [
    "# see your guestbook in syft_perm.files by searching your email and the word \"guestbook\"\n",
    "\n",
    "sp.files.search(sc.Client.load().email + \" guestbook\")"
   ]
  },
  {
   "cell_type": "code",
   "execution_count": null,
   "metadata": {},
   "outputs": [],
   "source": [
    "# if you click your file it'll copy-something like the following to your clipboard! Try it!\n",
    "sp.open(\"syft://\"+email+\"/guestbook.txt\")"
   ]
  },
  {
   "cell_type": "code",
   "execution_count": null,
   "metadata": {},
   "outputs": [],
   "source": [
    "# Now you need to modify the permissions to let anyone WRITE to this file. In the widget \n",
    "# above, you can click the \"Share\" button and set the \"*\" user to \"WRITE\" OR you can do the following\n",
    "\n",
    "f = sp.open(\"syft://\"+email+\"/guestbook.txt\")\n",
    "f.grant_write_access(\"*\")"
   ]
  },
  {
   "cell_type": "code",
   "execution_count": null,
   "metadata": {},
   "outputs": [],
   "source": [
    "# And voila! Now anyone can sign your guestbook!"
   ]
  },
  {
   "cell_type": "markdown",
   "metadata": {},
   "source": [
    "# Part 4: Ask a friend to sign your guestbook!!\n",
    "\n",
    "All you have to do is send them this tutorial and they can become a part of the private AI movement!\n",
    "\n",
    "(lol just kidding)"
   ]
  },
  {
   "cell_type": "markdown",
   "metadata": {},
   "source": [
    "# Part 5: Let's Practice the Python API!\n",
    "\n",
    "Widgets are great... but sometimes you need programmatic control. Let's practice with the API by creating a collaborative project folder!"
   ]
  },
  {
   "cell_type": "code",
   "execution_count": null,
   "metadata": {},
   "outputs": [],
   "source": [
    "syft_file = sp.open(\"syft://\"+email+\"/guestbook.txt\")\n",
    "syft_folder = sp.open(\"syft://\"+email+\"/\")"
   ]
  },
  {
   "cell_type": "code",
   "execution_count": null,
   "metadata": {},
   "outputs": [],
   "source": [
    "# setters\n",
    "\n",
    "# syft_file.grant_admin_access('email@company.org') # gives email@company.org the ability to modify permissions for this file\n",
    "# syft_file.grant_create_access('email@company.org') # gives email@company.org the ability to create this file (doesn't mean much... more for folders)\n",
    "# syft_file.grant_write_access('email@company.org') # gives email@company.org the ability to edit this file\n",
    "# syft_file.grant_read_access('email@company.org') # gives email@company.org the ability to read this file\n",
    "\n",
    "# syft_file.revoke_admin_access('email@company.org') # removes email@company.org's ability to modify permissions for this file\n",
    "# syft_file.revoke_admin_access('email@company.org') # removes email@company.org's ability to create this file (doesn't mean much... more for folders)\n",
    "# syft_file.revoke_admin_access('email@company.org') # removes email@company.org's ability to edit this file\n",
    "# syft_file.revoke_admin_access('email@company.org') # removes email@company.org's ability to read this file\n",
    "\n",
    "# getters\n",
    "# syft_file.has_admin_access('email@company.org')\n",
    "# syft_file.has_create_access('email@company.org')\n",
    "# syft_file.has_write_access('email@company.org')\n",
    "# syft_file.has_read_access('email@company.org')\n",
    "\n"
   ]
  },
  {
   "cell_type": "code",
   "execution_count": null,
   "metadata": {},
   "outputs": [],
   "source": [
    "# special functions\n",
    "\n",
    "# lists all the reasons someone has each level of permission (there can be mulitple syft.pub.yaml rules affecting a permission)\n",
    "syft_file.explain_permissions(email)"
   ]
  },
  {
   "cell_type": "code",
   "execution_count": null,
   "metadata": {},
   "outputs": [],
   "source": [
    "# Let's create a project folder and set up permissions programmatically\n",
    "project_path = path / 'awesome_project'\n",
    "project_path.mkdir(exist_ok=True)\n",
    "\n",
    "# Create some project files\n",
    "(project_path / 'README.md').write_text('# Awesome AI Project\\n\\nThis is our collaborative AI project!')\n",
    "(project_path / 'data.csv').write_text('id,value\\n1,100\\n2,200\\n3,300')\n",
    "(project_path / 'secret_key.txt').write_text('SUPER_SECRET_API_KEY_12345')"
   ]
  },
  {
   "cell_type": "code",
   "execution_count": null,
   "metadata": {},
   "outputs": [],
   "source": [
    "# Now let's set different permissions for different files\n",
    "folder = sp.open(f\"syft://{email}/awesome_project\")\n",
    "\n",
    "# Let's see what permissions our folder has by default\n",
    "folder"
   ]
  },
  {
   "cell_type": "code",
   "execution_count": null,
   "metadata": {},
   "outputs": [],
   "source": [
    "# Make the README public\n",
    "readme = sp.open(f\"syft://{email}/awesome_project/README.md\")\n",
    "readme.grant_read_access(\"*\")\n",
    "print(\"README is now public!\")"
   ]
  },
  {
   "cell_type": "code",
   "execution_count": null,
   "metadata": {},
   "outputs": [],
   "source": [
    "# Share the data with a specific collaborator (you can use a friend's email or a fake one)\n",
    "data_file = sp.open(f\"syft://{email}/awesome_project/data.csv\")\n",
    "collaborator_email = \"liamtrask@gmail.com\"  # Replace with a real email if you have one\n",
    "data_file.grant_read_access(collaborator_email)\n",
    "data_file.grant_write_access(collaborator_email)\n",
    "print(f\"Shared data.csv with {collaborator_email}!\")"
   ]
  },
  {
   "cell_type": "code",
   "execution_count": null,
   "metadata": {},
   "outputs": [],
   "source": [
    "# Keep the secret key private (it should already be private by default)\n",
    "secret = sp.open(f\"syft://{email}/awesome_project/secret_key.txt\")\n",
    "print(\"Let's check who has access to our secret:\")\n",
    "secret"
   ]
  },
  {
   "cell_type": "code",
   "execution_count": null,
   "metadata": {},
   "outputs": [],
   "source": [
    "# Practice using the getter methods\n",
    "print(f\"Does {collaborator_email} have read access to data.csv? {data_file.has_read_access(collaborator_email)}\")\n",
    "print(f\"Does {collaborator_email} have write access to data.csv? {data_file.has_write_access(collaborator_email)}\")\n",
    "print(f\"Does public have read access to README? {readme.has_read_access('*')}\")\n",
    "print(f\"Does public have read access to secret? {secret.has_read_access('*')}\")"
   ]
  },
  {
   "cell_type": "code",
   "execution_count": null,
   "metadata": {},
   "outputs": [],
   "source": [
    "# Use explain_permissions to understand why permissions are set the way they are\n",
    "print(\"Why does Alice have permissions on data.csv?\")\n",
    "print(data_file.explain_permissions(collaborator_email))"
   ]
  },
  {
   "cell_type": "markdown",
   "metadata": {},
   "source": [
    "# Part 6: How does the permission system work? Let's EXPLORE!\n",
    "\n",
    "Instead of just reading about it, let's explore the syft.pub.yaml files that were created!"
   ]
  },
  {
   "cell_type": "code",
   "execution_count": null,
   "metadata": {},
   "outputs": [],
   "source": [
    "# Let's look at the YAML file that was created for our project\n",
    "yaml_path = project_path / 'syft.pub.yaml'\n",
    "if yaml_path.exists():\n",
    "    print(\"Here's the syft.pub.yaml for our project folder:\")\n",
    "    print(yaml_path.read_text())\n",
    "else:\n",
    "    print(\"No syft.pub.yaml in the project folder yet!\")"
   ]
  },
  {
   "cell_type": "code",
   "execution_count": null,
   "metadata": {},
   "outputs": [],
   "source": [
    "# Let's check your main datasite folder's syft.pub.yaml\n",
    "main_yaml = path / 'syft.pub.yaml'\n",
    "print(\"Your main datasite syft.pub.yaml:\")\n",
    "print(main_yaml.read_text())"
   ]
  },
  {
   "cell_type": "code",
   "execution_count": null,
   "metadata": {},
   "outputs": [],
   "source": [
    "# Let's manually edit permissions by creating a syft.pub.yaml!\n",
    "# This is what syft-perm does behind the scenes\n",
    "\n",
    "yaml_content = \"\"\"rules:\n",
    "- pattern: 'README.md'\n",
    "  access:\n",
    "    read:\n",
    "    - '*'\n",
    "- pattern: 'data.csv'\n",
    "  access:\n",
    "    read:\n",
    "    - alice@example.com\n",
    "    write:\n",
    "    - alice@example.com\n",
    "- pattern: 'secret_key.txt'\n",
    "  access:\n",
    "    read: []\n",
    "    write: []\n",
    "\"\"\"\n",
    "\n",
    "(project_path / 'syft.pub.yaml').write_text(yaml_content)\n",
    "print(\"Created syft.pub.yaml manually!\")"
   ]
  },
  {
   "cell_type": "code",
   "execution_count": null,
   "metadata": {},
   "outputs": [],
   "source": [
    "# Now let's verify the permissions match what we set\n",
    "print(\"Checking if manual YAML matches our API calls:\")\n",
    "readme_check = sp.open(f\"syft://{email}/awesome_project/README.md\")\n",
    "readme_check"
   ]
  },
  {
   "cell_type": "markdown",
   "metadata": {},
   "source": [
    "### Key Insights:\n",
    "- syft.pub.yaml files control permissions for files in the same directory\n",
    "- Patterns can match specific files or use wildcards\n",
    "- The API just creates and modifies these YAML files for you!"
   ]
  },
  {
   "cell_type": "markdown",
   "metadata": {},
   "source": [
    "# Part 7: How does permission enforcement work? Let's TEST it!\n",
    "\n",
    "Let's create scenarios to see enforcement in action."
   ]
  },
  {
   "cell_type": "code",
   "execution_count": null,
   "metadata": {},
   "outputs": [],
   "source": [
    "# Create a read-only file for testing\n",
    "test_file = path / 'test_readonly.txt'\n",
    "test_file.write_text('This file is read-only for everyone except the owner!')\n",
    "\n",
    "# Set it to read-only for public\n",
    "readonly = sp.open(f\"syft://{email}/test_readonly.txt\")\n",
    "readonly.grant_read_access(\"*\")\n",
    "print(\"Created read-only test file\")"
   ]
  },
  {
   "cell_type": "code",
   "execution_count": null,
   "metadata": {},
   "outputs": [],
   "source": [
    "# Let's check what happens when someone without write permission tries to edit\n",
    "print(\"Permissions for public user on readonly file:\")\n",
    "print(readonly.explain_permissions(\"someone@else.com\"))"
   ]
  },
  {
   "cell_type": "code",
   "execution_count": null,
   "metadata": {},
   "outputs": [],
   "source": [
    "# Create a folder where only specific users can create files\n",
    "restricted_folder = path / 'restricted_uploads'\n",
    "restricted_folder.mkdir(exist_ok=True)\n",
    "\n",
    "folder_obj = sp.open(f\"syft://{email}/restricted_uploads\")\n",
    "folder_obj.grant_read_access(\"*\")  # Everyone can see what's inside\n",
    "folder_obj.grant_create_access(\"liamtrask@gmail.com\")  # But only trusted user can add files\n",
    "\n",
    "print(\"Created restricted folder - only trusted@user.com can create files here!\")"
   ]
  },
  {
   "cell_type": "code",
   "execution_count": null,
   "metadata": {},
   "outputs": [],
   "source": [
    "# Test the enforcement by checking permissions\n",
    "print(\"Can random@user.com create files in restricted folder?\")\n",
    "print(f\"Has create access: {folder_obj.has_create_access('random@user.com')}\")\n",
    "print(\"\\nCan our trusted user, liamtrask@gmail.com, create files?\")\n",
    "print(f\"Has create access: {folder_obj.has_create_access('trusted@user.com')}\")"
   ]
  },
  {
   "cell_type": "markdown",
   "metadata": {},
   "source": [
    "### What happens behind the scenes:\n",
    "- **READ violation:** The cache server won't send files you can't read\n",
    "- **CREATE violation:** Files created without permission won't sync\n",
    "- **WRITE violation:** Edits without permission won't be accepted\n",
    "- **ADMIN violation:** Permission changes without admin rights are ignored"
   ]
  },
  {
   "cell_type": "markdown",
   "metadata": {},
   "source": [
    "# Part 8: What if permissions conflict? Let's CREATE conflicts!\n",
    "\n",
    "Let's explore permission inheritance and conflicts hands-on."
   ]
  },
  {
   "cell_type": "code",
   "execution_count": null,
   "metadata": {},
   "outputs": [],
   "source": [
    "# Create a nested folder structure\n",
    "parent_folder = path / 'parent_project'\n",
    "child_folder = parent_folder / 'child_data'\n",
    "grandchild_folder = child_folder / 'sensitive'\n",
    "\n",
    "# Create all folders\n",
    "grandchild_folder.mkdir(parents=True, exist_ok=True)\n",
    "\n",
    "# Create files at different levels\n",
    "(parent_folder / 'parent_file.txt').write_text('File in parent folder')\n",
    "(child_folder / 'child_file.txt').write_text('File in child folder')\n",
    "(grandchild_folder / 'secret.txt').write_text('Very sensitive data')\n",
    "\n",
    "print(\"Created nested folder structure!\")"
   ]
  },
  {
   "cell_type": "code",
   "execution_count": null,
   "metadata": {},
   "outputs": [],
   "source": [
    "# Set permissions at parent level - make everything readable\n",
    "parent = sp.open(f\"syft://{email}/parent_project\")\n",
    "parent.grant_read_access(\"*\")\n",
    "print(\"Granted public read access to parent folder\")"
   ]
  },
  {
   "cell_type": "code",
   "execution_count": null,
   "metadata": {},
   "outputs": [],
   "source": [
    "# Check if child inherits permissions\n",
    "child_file = sp.open(f\"syft://{email}/parent_project/child_data/child_file.txt\")\n",
    "print(\"Does child file inherit read permission from parent?\")\n",
    "child_file"
   ]
  },
  {
   "cell_type": "code",
   "execution_count": null,
   "metadata": {},
   "outputs": [],
   "source": [
    "# Now let's create a conflict - try to restrict the grandchild\n",
    "sensitive = sp.open(f\"syft://{email}/parent_project/child_data/sensitive\")\n",
    "# Remove public access (trying to override parent)\n",
    "sensitive.revoke_read_access(\"*\")\n",
    "print(\"Tried to revoke public access from sensitive folder\")"
   ]
  },
  {
   "cell_type": "code",
   "execution_count": null,
   "metadata": {},
   "outputs": [],
   "source": [
    "# Check what actually happened\n",
    "secret_file = sp.open(f\"syft://{email}/parent_project/child_data/sensitive/secret.txt\")\n",
    "print(\"Can public still read the secret file?\")\n",
    "print(secret_file.explain_permissions(\"*\"))"
   ]
  },
  {
   "cell_type": "code",
   "execution_count": null,
   "metadata": {},
   "outputs": [],
   "source": [
    "# Let's use terminal nodes to stop inheritance!\n",
    "# First, let's look at the current YAML files\n",
    "print(\"Parent folder YAML:\")\n",
    "parent_yaml = parent_folder / 'syft.pub.yaml'\n",
    "if parent_yaml.exists():\n",
    "    print(parent_yaml.read_text())"
   ]
  },
  {
   "cell_type": "code",
   "execution_count": null,
   "metadata": {},
   "outputs": [],
   "source": [
    "# Create a terminal node to block inheritance\n",
    "terminal_yaml = \"\"\"rules:\n",
    "- pattern: '*'\n",
    "  terminal: true\n",
    "  access:\n",
    "    read: []\n",
    "    write: []\n",
    "\"\"\"\n",
    "\n",
    "(grandchild_folder / 'syft.pub.yaml').write_text(terminal_yaml)\n",
    "print(\"Created terminal node in sensitive folder!\")"
   ]
  },
  {
   "cell_type": "code",
   "execution_count": null,
   "metadata": {},
   "outputs": [],
   "source": [
    "# Now check if inheritance is blocked\n",
    "secret_file_terminal = sp.open(f\"syft://{email}/parent_project/child_data/sensitive/secret.txt\")\n",
    "print(\"After terminal node - can public read secret?\")\n",
    "secret_file_terminal"
   ]
  },
  {
   "cell_type": "markdown",
   "metadata": {},
   "source": [
    "### Key Conflict Resolution Rules:\n",
    "1. **Inheritance:** Child folders inherit parent permissions by default\n",
    "2. **More specific wins:** A file's own permissions override folder permissions  \n",
    "3. **Terminal nodes:** Can stop inheritance from parent folders\n",
    "4. **Admin always wins:** The folder owner (admin) has final say"
   ]
  },
  {
   "cell_type": "markdown",
   "metadata": {},
   "source": [
    "# Part 9: Tips and Tricks - Let's DISCOVER UI Features!\n",
    "\n",
    "The UIs have lots of little features. Let's explore them interactively!"
   ]
  },
  {
   "cell_type": "code",
   "execution_count": null,
   "metadata": {},
   "outputs": [],
   "source": [
    "# Tip 1: syft_perm.files is a newsfeed for file edits, useful for:\n",
    "# - observing network activity\n",
    "# - debugging federated app state (files are state!)\n",
    "\n",
    "# notice how if you edit a file - that file pops up to the top and is colorful!\n",
    "sp.files"
   ]
  },
  {
   "cell_type": "code",
   "execution_count": null,
   "metadata": {},
   "outputs": [],
   "source": [
    "# Tip 2: Search operators in sp.files\n",
    "print(\"Try these search patterns in the widget below:\")\n",
    "print(\"1. 'admin:yourname@email.com' - Find files where you're admin\")\n",
    "print(\"2. '*.csv' - Find all CSV files\")\n",
    "print(\"3. 'user:alice@example.com' - Find files Alice has access to\")\n",
    "print(\"4. Use quotes for exact phrases: \\\"awesome project\\\"\")\n",
    "\n",
    "sp.files"
   ]
  },
  {
   "cell_type": "code",
   "execution_count": null,
   "metadata": {},
   "outputs": [],
   "source": [
    "# Tip 3: The file editor shortcut\n",
    "print(\"Click any file path to copy sp.open() code!\")\n",
    "print(\"Try clicking on different files in the widget above\")"
   ]
  },
  {
   "cell_type": "code",
   "execution_count": null,
   "metadata": {},
   "outputs": [],
   "source": [
    "# Tip 4: Batch operations\n",
    "# Let's create multiple files and set permissions in one go\n",
    "\n",
    "batch_folder = path / 'batch_example'\n",
    "batch_folder.mkdir(exist_ok=True)\n",
    "\n",
    "# Create 5 data files\n",
    "for i in range(5):\n",
    "    (batch_folder / f'data_{i}.csv').write_text(f'id,value\\n{i},{i*100}')\n",
    "\n",
    "print(\"Created 5 data files\")"
   ]
  },
  {
   "cell_type": "code",
   "execution_count": null,
   "metadata": {},
   "outputs": [],
   "source": [
    "# Use patterns to set permissions for all at once\n",
    "batch_yaml = \"\"\"rules:\n",
    "- pattern: '**'\n",
    "  access:\n",
    "    read:\n",
    "    - data_team@company.com\n",
    "    write:\n",
    "    - data_team@company.com\n",
    "\"\"\"\n",
    "\n",
    "(batch_folder / 'syft.pub.yaml').write_text(batch_yaml)\n",
    "print(\"Set permissions for all CSV files with one pattern!\")"
   ]
  },
  {
   "cell_type": "code",
   "execution_count": null,
   "metadata": {},
   "outputs": [],
   "source": [
    "# Verify it worked\n",
    "test_batch = sp.open(f\"syft://{email}/batch_example/data_3.csv\")\n",
    "print(\"Permissions for data_3.csv:\")\n",
    "test_batch"
   ]
  },
  {
   "cell_type": "markdown",
   "metadata": {},
   "source": [
    "# Part 10: What does this mean for Privacy & AI? Let's BUILD something!\n",
    "\n",
    "Instead of just talking about it, let's create a mini federated learning setup!"
   ]
  },
  {
   "cell_type": "code",
   "execution_count": null,
   "metadata": {},
   "outputs": [],
   "source": [
    "# Create a federated learning project structure\n",
    "fl_project = path / 'federated_learning_demo'\n",
    "fl_project.mkdir(exist_ok=True)\n",
    "\n",
    "# Create folders for different participants\n",
    "(fl_project / 'hospital_a').mkdir(exist_ok=True)\n",
    "(fl_project / 'hospital_b').mkdir(exist_ok=True) \n",
    "(fl_project / 'model_aggregator').mkdir(exist_ok=True)\n",
    "(fl_project / 'results').mkdir(exist_ok=True)\n",
    "\n",
    "print(\"Created federated learning project structure!\")"
   ]
  },
  {
   "cell_type": "code",
   "execution_count": null,
   "metadata": {},
   "outputs": [],
   "source": [
    "# Hospital A shares encrypted gradients (not raw data!)\n",
    "(fl_project / 'hospital_a' / 'gradients_epoch_1.json').write_text(\n",
    "    '{\"gradient\": [0.1, -0.2, 0.3], \"num_samples\": 1000}'\n",
    ")\n",
    "(fl_project / 'hospital_a' / 'private_patient_data.csv').write_text(\n",
    "    'patient_id,diagnosis\\n[ENCRYPTED]'\n",
    ")\n",
    "\n",
    "# Set permissions - gradients are shared, data is private\n",
    "gradients_a = sp.open(f\"syft://{email}/federated_learning_demo/hospital_a/gradients_epoch_1.json\")\n",
    "gradients_a.grant_read_access(\"aggregator@openmined.org\") # you could replace this email with any datasite trusted to do aggregation\n",
    "\n",
    "private_data_a = sp.open(f\"syft://{email}/federated_learning_demo/hospital_a/private_patient_data.csv\")\n",
    "# No external access to private data!\n",
    "\n",
    "print(\"Hospital A: Shared gradients but kept patient data private!\")"
   ]
  },
  {
   "cell_type": "code",
   "execution_count": null,
   "metadata": {},
   "outputs": [],
   "source": [
    "# Hospital B does the same\n",
    "(fl_project / 'hospital_b' / 'gradients_epoch_1.json').write_text(\n",
    "    '{\"gradient\": [0.2, -0.1, 0.4], \"num_samples\": 800}'\n",
    ")\n",
    "\n",
    "gradients_b = sp.open(f\"syft://{email}/federated_learning_demo/hospital_b/gradients_epoch_1.json\")\n",
    "gradients_b.grant_read_access(\"aggregator@openmined.org\")\n",
    "\n",
    "print(\"Hospital B: Also sharing only gradients!\")"
   ]
  },
  {
   "cell_type": "code",
   "execution_count": null,
   "metadata": {},
   "outputs": [],
   "source": [
    "# Model aggregator combines gradients and shares results\n",
    "(fl_project / 'model_aggregator' / 'aggregated_model_v1.json').write_text(\n",
    "    '{\"weights\": [0.15, -0.15, 0.35], \"performance\": 0.89}'\n",
    ")\n",
    "\n",
    "# Share results with everyone\n",
    "results = sp.open(f\"syft://{email}/federated_learning_demo/model_aggregator/aggregated_model_v1.json\")\n",
    "results.grant_read_access(\"*\")\n",
    "\n",
    "print(\"Aggregator: Combined models and shared results publicly!\")"
   ]
  },
  {
   "cell_type": "code",
   "execution_count": null,
   "metadata": {},
   "outputs": [],
   "source": [
    "# Create a public results dashboard\n",
    "(fl_project / 'results' / 'README.md').write_text(\"\"\"\n",
    "# Federated Learning Results\n",
    "\n",
    "## Privacy-Preserving Medical AI\n",
    "\n",
    "- **Participants**: 2 hospitals\n",
    "- **Total Samples**: 1,800 patients \n",
    "- **Model Performance**: 89% accuracy\n",
    "- **Privacy**: No patient data was shared!\n",
    "\n",
    "### How it works:\n",
    "1. Each hospital trains on their private data\n",
    "2. Only model gradients are shared (not data!)\n",
    "3. Central server aggregates gradients\n",
    "4. Updated model is shared back\n",
    "\n",
    "This demonstrates SyftBox's vision: Compute on distributed private data!\n",
    "\"\"\")\n",
    "\n",
    "results_readme = sp.open(f\"syft://{email}/federated_learning_demo/results/README.md\")\n",
    "results_readme.grant_read_access(\"*\")\n",
    "\n",
    "print(\"Created public results dashboard!\")"
   ]
  },
  {
   "cell_type": "code",
   "execution_count": null,
   "metadata": {},
   "outputs": [],
   "source": [
    "# Let's verify the privacy model works\n",
    "print(\"What can the model aggregator see?\")\n",
    "print(\"\\nHospital A gradients:\")\n",
    "print(gradients_a.explain_permissions(\"model_aggregator@university.edu\"))\n",
    "\n",
    "print(\"\\n\" + \"=\"*50 + \"\\n\")\n",
    "\n",
    "print(\"Hospital A private data:\")\n",
    "print(private_data_a.explain_permissions(\"model_aggregator@university.edu\"))"
   ]
  },
  {
   "cell_type": "code",
   "execution_count": null,
   "metadata": {},
   "outputs": [],
   "source": [
    "# Explore the complete federated learning setup\n",
    "print(\"Search for all files in our federated learning demo:\")\n",
    "sp.files.search(f\"{email} federated_learning_demo\")"
   ]
  },
  {
   "cell_type": "markdown",
   "metadata": {},
   "source": [
    "# Part 11: Isn't that... kindof a MANUAL/INCONVENIENT way to do Federated Learning?\n",
    "\n",
    "Yes... other libraries will handle the creation/editing of those kinds of files for you. Try the next tutorial!"
   ]
  },
  {
   "cell_type": "markdown",
   "metadata": {},
   "source": [
    "## 🎉 Congratulations!\n",
    "\n",
    "You've just built a mini federated learning system that demonstrates SyftBox's core vision:\n",
    "\n",
    "1. **Privacy by Design**: Patient data never leaves hospitals\n",
    "2. **Selective Sharing**: Only aggregated insights are shared\n",
    "3. **Decentralized Computation**: Each participant computes locally\n",
    "4. **Transparent Permissions**: Everyone can verify who sees what\n",
    "\n",
    "### This is the future of AI:\n",
    "- **More Data**: Access data that was previously locked in silos\n",
    "- **Better Privacy**: Compute on data without seeing it\n",
    "- **Real Collaboration**: Multiple parties working together safely\n",
    "- **Regulatory Compliance**: Respect data sovereignty and privacy laws\n",
    "\n",
    "### What you learned:\n",
    "✅ How to use SyftBox permission system  \n",
    "✅ How to share files selectively  \n",
    "✅ How permissions inherit and conflict  \n",
    "✅ How to build privacy-preserving systems  \n",
    "\n",
    "### Next steps:\n",
    "- Try building your own privacy-preserving application\n",
    "- Join the SyftBox community\n",
    "- Contribute to the open-source project\n",
    "- Help us build the future of private AI!\n",
    "\n",
    "Welcome to the Private AI Revolution! 🚀"
   ]
  },
  {
   "cell_type": "code",
   "execution_count": null,
   "metadata": {},
   "outputs": [],
   "source": []
  }
 ],
 "metadata": {
  "kernelspec": {
   "display_name": "Python 3 (ipykernel)",
   "language": "python",
   "name": "python3"
  },
  "language_info": {
   "codemirror_mode": {
    "name": "ipython",
    "version": 3
   },
   "file_extension": ".py",
   "mimetype": "text/x-python",
   "name": "python",
   "nbconvert_exporter": "python",
   "pygments_lexer": "ipython3",
   "version": "3.12.9"
  }
 },
 "nbformat": 4,
 "nbformat_minor": 4
}
