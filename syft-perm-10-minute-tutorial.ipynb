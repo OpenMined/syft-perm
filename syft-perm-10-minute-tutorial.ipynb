{
 "cells": [
  {
   "cell_type": "markdown",
   "metadata": {},
   "source": [
    "# TUTORIAL: SYFT-PERM IN 10 MINUTES\n",
    "\n",
    "## Common Ground\n",
    "Everyone needs to modify permissions in SyftBox files - whether you're sharing data with specific users, making files public, or restricting access to sensitive information.\n",
    "\n",
    "## Problem 1: Knowing Permissions\n",
    "\n",
    "Knowing the permission of a file is tricky because you need to:\n",
    "- **Find the syft.pub.yaml** It could be anywhere in the parent folder to a file\n",
    "- **Interpret permission correctly** There's a complex internal permission logic which decides how pub files translate into actual permissions\n",
    "- **Hope you got it right:** The only way to truly know if you got it right is to open up two datasites and see if a file gets synced through the server in the way you expect. \n",
    "\n",
    "## Problem 2: Editing Permissions\n",
    "\n",
    "Modifying `syft.pub.yaml` files manually is:\n",
    "- **Tricky** - Complex YAML structure with patterns, inheritance, and hierarchy rules\n",
    "- **Error-prone** - Silent failures when patterns don't match or inheritance doesn't work as expected\n",
    "- **Time-consuming** - Need to understand glob patterns, permission levels, and file limits\n",
    "\n",
    "## Solution\n",
    "**syft-perm** provides utility functions and `SyftFile`/`SyftFolder` classes that make permissions easy:\n",
    "- Simple SyftFile/SyftFolder object which applies to existing files and has .getter and .setter methods\n",
    "- Automatic YAML generation and validation\n",
    "- **Bonus:** Jupyter widgets for seeing and updating file/folder permissions\n",
    "  \n",
    "\n",
    "## Benefits\n",
    "SyftBox file permissions become easier to trust and to write correctly the first time, with fewer bugs and clearer outcomes."
   ]
  },
  {
   "cell_type": "markdown",
   "metadata": {},
   "source": [
    "# Part 1: Installation and Setup\n",
    "\n",
    "- Step 1: Download and run [SyftBox](https://www.syftbox.net/#downloads)\n",
    "- Step 2: pip install syft-perm"
   ]
  },
  {
   "cell_type": "code",
   "execution_count": 1,
   "metadata": {},
   "outputs": [],
   "source": [
    "# !pip install syft-perm -U"
   ]
  },
  {
   "cell_type": "code",
   "execution_count": 2,
   "metadata": {},
   "outputs": [],
   "source": [
    "#note: it's helpful to use \"sp\" because of some copy-paste functionality in the UI\n",
    "import syft_perm as sp \n",
    "import syft_core as sc"
   ]
  },
  {
   "cell_type": "code",
   "execution_count": 3,
   "metadata": {},
   "outputs": [
    {
     "data": {
      "text/plain": [
       "'0.3.91'"
      ]
     },
     "execution_count": 3,
     "metadata": {},
     "output_type": "execute_result"
    }
   ],
   "source": [
    "sp.__version__"
   ]
  },
  {
   "cell_type": "markdown",
   "metadata": {},
   "source": [
    "# Part 2: Sign my Guestbook (and learn the UIs)\n",
    "\n",
    "There are three core user interfaces:\n",
    "- The filesystem feed (syft_perm.files)\n",
    "- The syftbox file editor\n",
    "- The permission updater\n",
    "\n",
    "Let's use them to sign the guestbook!"
   ]
  },
  {
   "cell_type": "code",
   "execution_count": 8,
   "metadata": {},
   "outputs": [
    {
     "data": {
      "text/html": [
       "\n",
       "                <div style=\"width: 100%; height: 600px; border: 1px solid #3e3e42; border-radius: 8px; overflow: hidden;\">\n",
       "                    <iframe \n",
       "                        src=\"http://localhost:8005/files-widget\" \n",
       "                        width=\"100%\" \n",
       "                        height=\"100%\" \n",
       "                        frameborder=\"0\"\n",
       "                        style=\"border: none;\"\n",
       "                        allow=\"clipboard-read; clipboard-write\">\n",
       "                    </iframe>\n",
       "                </div>\n",
       "                "
      ],
      "text/plain": [
       "Files (Page 1 of 106, showing 1-50 of 5277 items)\n",
       "--------------------------------------------------------------------------------------------------------------------\n",
       "#     URL                                                          Modified         Type     Size       Permissions \n",
       "--------------------------------------------------------------------------------------------------------------------\n",
       "1     mail@andreibratu.com/app_data/data-syncer/rpc                2025-07-16 23:49 folder        483 B 1 users     \n",
       "2     andrew@openmined.org/guestbook.txt                           2025-07-16 23:43 txt           239 B 2 users     \n",
       "3     andrew@openmined.org/awesome_project                         2025-07-16 23:36 folder        212 B 2 users     \n",
       "4     andrew@openmined.org/awesome_project/secret_key.txt          2025-07-16 23:36 txt            26 B 1 users     \n",
       "5     andrew@openmined.org/awesome_project/data.csv                2025-07-16 23:36 csv            26 B 1 users     \n",
       "6     andrew@openmined.org/awesome_project/README.md               2025-07-16 23:36 md             59 B 2 users     \n",
       "7     andrew@openmined.org                                         2025-07-16 23:36 folder     307.2 KB 1 users     \n",
       "8     andrew@openmined.org/public                                  2025-07-16 23:16 folder        406 B 2 users     \n",
       "9     andrew@openmined.org/public/antiguestbook.txt                2025-07-16 21:46 txt           105 B 2 users     \n",
       "10    b0rj494@gmail.com/app_data/flwr/borja.arroyog@upm.es_diab... 2025-07-16 14:47 folder         91 B 1 users     \n",
       "11    b0rj494@gmail.com/app_data/RDS/rpc/job/update                2025-07-16 14:32 folder          0 B 1 users     \n",
       "12    bag94@outlook.es/app_data/flwr/borja.arroyog@upm.es_diabe... 2025-07-16 14:31 folder      11.3 KB 1 users     \n",
       "13    bag94@outlook.es/app_data/RDS/rpc                            2025-07-16 14:31 folder      95.7 KB 1 users     \n",
       "14    b0rj494@gmail.com/app_data/RDS/rpc/job/create                2025-07-16 14:28 folder          0 B 1 users     \n",
       "15    b0rj494@gmail.com/app_data/RDS/rpc/user_code/create          2025-07-16 14:28 folder          0 B 1 users     \n",
       "16    bag94@outlook.es/app_data/RDS/store/job/dbb99fdd-e366-4a5... 2025-07-16 14:16 yaml          681 B 2 users     \n",
       "17    b0rj494@gmail.com/app_data/RDS/store/job/aa1abf6b-3550-40... 2025-07-16 14:16 yaml          682 B 2 users     \n",
       "18    bag94@outlook.es/app_data/flwr/borja.arroyog@upm.es_diabe... 2025-07-16 14:14 response    11.3 KB 1 users     \n",
       "19    bag94@outlook.es/app_data/flwr/borja.arroyog@upm.es_diabe... 2025-07-16 14:14 folder      11.4 KB 1 users     \n",
       "20    bag94@outlook.es/app_data/flwr/borja.arroyog@upm.es_diabe... 2025-07-16 14:12 json           91 B 1 users     \n",
       "21    bag94@outlook.es/app_data/flwr/borja.arroyog@upm.es_diabe... 2025-07-16 14:12 folder      11.4 KB 1 users     \n",
       "22    bag94@outlook.es/app_data/flwr                               2025-07-16 14:12 folder      11.9 KB 1 users     \n",
       "23    b0rj494@gmail.com/app_data/flwr/borja.arroyog@upm.es_diab... 2025-07-16 14:12 json           91 B 1 users     \n",
       "24    b0rj494@gmail.com/app_data/flwr/borja.arroyog@upm.es_diab... 2025-07-16 14:12 folder         91 B 1 users     \n",
       "25    b0rj494@gmail.com/app_data/flwr                              2025-07-16 14:12 folder        637 B 1 users     \n",
       "26    b0rj494@gmail.com/app_data/RDS/store/job                     2025-07-16 14:12 folder      35.6 KB 2 users     \n",
       "27    b0rj494@gmail.com/app_data/RDS/store/usercode/597f4bd9-20... 2025-07-16 14:12 yaml          352 B 2 users     \n",
       "28    b0rj494@gmail.com/app_data/RDS/store/usercode                2025-07-16 14:12 folder       3.1 KB 2 users     \n",
       "29    bag94@outlook.es/app_data/RDS/store/usercode/6155d5b1-3d3... 2025-07-16 14:12 yaml          351 B 2 users     \n",
       "30    bag94@outlook.es/app_data/RDS/store/usercode                 2025-07-16 14:12 folder       3.4 KB 2 users     \n",
       "31    bag94@outlook.es/app_data/RDS/store/job                      2025-07-16 14:12 folder      56.2 KB 2 users     \n",
       "32    bag94@outlook.es/app_data/flwr/borja.arroyog@upm.es_diabe... 2025-07-16 14:09 folder         91 B 1 users     \n",
       "33    b0rj494@gmail.com/app_data/flwr/borja.arroyog@upm.es_diab... 2025-07-16 14:09 folder         91 B 1 users     \n",
       "34    bag94@outlook.es/app_data/RDS/store/job/402812c9-dfc8-4eb... 2025-07-16 13:54 yaml          681 B 2 users     \n",
       "35    b0rj494@gmail.com/app_data/RDS/store/job/c769c6ec-3e17-45... 2025-07-16 13:53 yaml          682 B 2 users     \n",
       "36    bag94@outlook.es/app_data/flwr/borja.arroyog@upm.es_diabe... 2025-07-16 13:50 json           91 B 1 users     \n",
       "37    bag94@outlook.es/app_data/flwr/borja.arroyog@upm.es_diabe... 2025-07-16 13:50 folder         91 B 1 users     \n",
       "38    b0rj494@gmail.com/app_data/flwr/borja.arroyog@upm.es_diab... 2025-07-16 13:50 json           91 B 1 users     \n",
       "39    b0rj494@gmail.com/app_data/flwr/borja.arroyog@upm.es_diab... 2025-07-16 13:50 folder         91 B 1 users     \n",
       "40    b0rj494@gmail.com/app_data/RDS/store/usercode/e084dd1e-75... 2025-07-16 13:50 yaml          352 B 2 users     \n",
       "41    bag94@outlook.es/app_data/RDS/store/usercode/995b0f74-d0a... 2025-07-16 13:50 yaml          351 B 2 users     \n",
       "42    bag94@outlook.es/app_data/flwr/borja.arroyog@upm.es_diabe... 2025-07-16 13:40 folder         91 B 1 users     \n",
       "43    b0rj494@gmail.com/app_data/flwr/borja.arroyog@upm.es_diab... 2025-07-16 13:39 folder         91 B 1 users     \n",
       "44    bag94@outlook.es/app_data/flwr/borja.arroyog@upm.es_diabe... 2025-07-16 13:37 folder         91 B 1 users     \n",
       "45    b0rj494@gmail.com/app_data/flwr/borja.arroyog@upm.es_diab... 2025-07-16 13:37 folder         91 B 1 users     \n",
       "46    b0rj494@gmail.com/app_data/RDS/store/job/2ac03fdd-afdc-4a... 2025-07-16 13:26 yaml          685 B 2 users     \n",
       "47    b0rj494@gmail.com/app_data/RDS/store/usercode/bf9f29e1-40... 2025-07-16 13:26 yaml          352 B 2 users     \n",
       "48    b0rj494@gmail.com/app_data/RDS/store/job/aa145093-13c3-4b... 2025-07-16 13:26 yaml          682 B 2 users     \n",
       "49    b0rj494@gmail.com/app_data/RDS/store/job/54284a7e-b020-44... 2025-07-16 13:26 yaml          682 B 2 users     \n",
       "50    bag94@outlook.es/app_data/RDS/store/job/77460e43-9096-43b... 2025-07-16 13:26 yaml          681 B 2 users     \n",
       "--------------------------------------------------------------------------------------------------------------------\n",
       "2622 files, 2655 folders • Total size: 461.1 MB\n",
       "Use sp.files.page(n) to view other pages or sp.files in Jupyter for interactive view"
      ]
     },
     "execution_count": 8,
     "metadata": {},
     "output_type": "execute_result"
    }
   ],
   "source": [
    "# the filesystem feed\n",
    "\n",
    "# In the searchbar — type \"andrew@ guestbook\" and click \"guestbook.txt\"... this will COPY TO CLIPBOARD\n",
    "sp.files"
   ]
  },
  {
   "cell_type": "code",
   "execution_count": 9,
   "metadata": {},
   "outputs": [],
   "source": [
    "# PASTE the code you copied into the cell below... and run it"
   ]
  },
  {
   "cell_type": "code",
   "execution_count": 10,
   "metadata": {},
   "outputs": [
    {
     "data": {
      "text/html": [
       "\n",
       "            <div style=\"width: 100%; height: 600px; border: 1px solid #3e3e42;\n",
       "                         border-radius: 8px; overflow: hidden; background: #1e1e1e;\">\n",
       "                <iframe src=\"http://localhost:8005/file-editor//Users/atrask/SyftBox/datasites/andrew@openmined.org/guestbook.txt\"\n",
       "                        style=\"width: 100%; height: 100%; border: none;\n",
       "                               background: transparent;\"\n",
       "                        frameborder=\"0\"\n",
       "                        allow=\"clipboard-read; clipboard-write\">\n",
       "                </iframe>\n",
       "            </div>\n",
       "            "
      ],
      "text/plain": [
       "SyftFile('/Users/atrask/SyftBox/datasites/andrew@openmined.org/guestbook.txt')\n",
       "\n",
       "User                  Read    Create    Write    Admin    Reason\n",
       "--------------------  ------  --------  -------  -------  ----------------------------------------------------------------------------------------------------------------------------------------------------------------------------------------------------------\n",
       "public                ✓       ✓         ✓                 [Write] Explicitly granted write in /Users/atrask/SyftBox/datasites/andrew@openmined.org; Pattern 'guestbook.txt' matched; [Write] Public access (*); [Create] Public access (*); [Read] Public access (*)\n",
       "andrew@openmined.org  ✓       ✓         ✓        ✓        [Admin] Owner of path; [Write] Owner of path; [Create] Owner of path; [Read] Owner of path"
      ]
     },
     "execution_count": 10,
     "metadata": {},
     "output_type": "execute_result"
    }
   ],
   "source": [
    "sp.open(\"syft://andrew@openmined.org/guestbook.txt\") # instead of my email it should show yours"
   ]
  },
  {
   "cell_type": "code",
   "execution_count": 11,
   "metadata": {},
   "outputs": [
    {
     "data": {
      "text/html": [
       "\n",
       "        <div style=\"width: 100%; height: 500px; border-radius: 12px; overflow: hidden;\">\n",
       "            <iframe src=\"http://localhost:8005/share-modal?path=/Users/atrask/SyftBox/datasites/andrew%40openmined.org/guestbook.txt\"\n",
       "                    style=\"width: 100%; height: 100%; border: none; border-radius: 12px;\">\n",
       "            </iframe>\n",
       "        </div>\n",
       "        "
      ],
      "text/plain": [
       "ShareWidget('/Users/atrask/SyftBox/datasites/andrew@openmined.org/guestbook.txt')"
      ]
     },
     "execution_count": 11,
     "metadata": {},
     "output_type": "execute_result"
    }
   ],
   "source": [
    "# the permission updater — you can also get this by clicking \"Share\"\n",
    "f = sp.open(\"syft://andrew@openmined.org/guestbook.txt\")\n",
    "\n",
    "# as you can see, you can modify this file because * has WRITE permissions\n",
    "f.share"
   ]
  },
  {
   "cell_type": "code",
   "execution_count": 9,
   "metadata": {},
   "outputs": [
    {
     "data": {
      "text/html": [
       "\n",
       "        <div style=\"width: 100%; height: 600px; border: 1px solid #3e3e42; border-radius: 8px; overflow: hidden;\">\n",
       "            <iframe \n",
       "                src=\"http://localhost:8005/files-widget?search=andrew@openmined.org antiguestbook.txt\" \n",
       "                width=\"100%\" \n",
       "                height=\"100%\" \n",
       "                frameborder=\"0\"\n",
       "                style=\"border: none;\"\n",
       "                allow=\"clipboard-read; clipboard-write\">\n",
       "            </iframe>\n",
       "        </div>\n",
       "        "
      ],
      "text/plain": [
       "FastAPI Files Widget: http://localhost:8005/files-widget?search=andrew@openmined.org antiguestbook.txt"
      ]
     },
     "execution_count": 9,
     "metadata": {},
     "output_type": "execute_result"
    }
   ],
   "source": [
    "# Now try to open the \"antiguestbook\" and try to add yourself to it\n",
    "sp.files.search(\"andrew@openmined.org antiguestbook.txt\")"
   ]
  },
  {
   "cell_type": "code",
   "execution_count": 12,
   "metadata": {},
   "outputs": [
    {
     "data": {
      "text/html": [
       "\n",
       "            <div style=\"width: 100%; height: 600px; border: 1px solid #3e3e42;\n",
       "                         border-radius: 8px; overflow: hidden; background: #1e1e1e;\">\n",
       "                <iframe src=\"http://localhost:8005/file-editor//Users/atrask/SyftBox/datasites/andrew@openmined.org/public/antiguestbook.txt\"\n",
       "                        style=\"width: 100%; height: 100%; border: none;\n",
       "                               background: transparent;\"\n",
       "                        frameborder=\"0\"\n",
       "                        allow=\"clipboard-read; clipboard-write\">\n",
       "                </iframe>\n",
       "            </div>\n",
       "            "
      ],
      "text/plain": [
       "SyftFile('/Users/atrask/SyftBox/datasites/andrew@openmined.org/public/antiguestbook.txt')\n",
       "\n",
       "User                  Read    Create    Write    Admin    Reason\n",
       "--------------------  ------  --------  -------  -------  ---------------------------------------------------------------------------------------------------------------------------------------------\n",
       "public                ✓                                   [Read] Explicitly granted read in /Users/atrask/SyftBox/datasites/andrew@openmined.org/public; Pattern '**' matched; [Read] Public access (*)\n",
       "andrew@openmined.org  ✓       ✓         ✓        ✓        [Admin] Owner of path; [Write] Owner of path; [Create] Owner of path; [Read] Owner of path"
      ]
     },
     "execution_count": 12,
     "metadata": {},
     "output_type": "execute_result"
    }
   ],
   "source": [
    "# if you clicked the row above, it'll create this python you can run\n",
    "sp.open(\"syft://andrew@openmined.org/public/antiguestbook.txt\")"
   ]
  },
  {
   "cell_type": "markdown",
   "metadata": {},
   "source": [
    "### OH NO!! Why can't I edit the file?\n",
    "\n",
    "You don't have permission to edit this file... and andrew@openmined.org is the admin who decided. You can see this in the permission!"
   ]
  },
  {
   "cell_type": "code",
   "execution_count": 13,
   "metadata": {},
   "outputs": [
    {
     "data": {
      "text/html": [
       "\n",
       "        <div style=\"width: 100%; height: 500px; border-radius: 12px; overflow: hidden;\">\n",
       "            <iframe src=\"http://localhost:8005/share-modal?path=/Users/atrask/SyftBox/datasites/andrew%40openmined.org/public/antiguestbook.txt\"\n",
       "                    style=\"width: 100%; height: 100%; border: none; border-radius: 12px;\">\n",
       "            </iframe>\n",
       "        </div>\n",
       "        "
      ],
      "text/plain": [
       "ShareWidget('/Users/atrask/SyftBox/datasites/andrew@openmined.org/public/antiguestbook.txt')"
      ]
     },
     "execution_count": 13,
     "metadata": {},
     "output_type": "execute_result"
    }
   ],
   "source": [
    "f = sp.open(\"syft://andrew@openmined.org/public/antiguestbook.txt\")\n",
    "f.share"
   ]
  },
  {
   "cell_type": "code",
   "execution_count": 14,
   "metadata": {},
   "outputs": [
    {
     "name": "stdout",
     "output_type": "stream",
     "text": [
      "Permission analysis for andrew@openmined.org on /Users/atrask/SyftBox/datasites/andrew@openmined.org/public/antiguestbook.txt:\n",
      "\n",
      "ADMIN: ✓ GRANTED\n",
      "  • Owner of path\n",
      "\n",
      "WRITE: ✓ GRANTED\n",
      "  • Owner of path\n",
      "\n",
      "CREATE: ✓ GRANTED\n",
      "  • Owner of path\n",
      "\n",
      "READ: ✓ GRANTED\n",
      "  • Owner of path\n",
      "\n",
      "\n"
     ]
    }
   ],
   "source": [
    "# you can also see why you do/don't have permission here (put your email in instead of mine)\n",
    "print(f.explain_permissions(\"andrew@openmined.org\"))"
   ]
  },
  {
   "cell_type": "markdown",
   "metadata": {},
   "source": [
    "# Part 3: Create your own guestbook! (create and permission your first file)\n",
    "\n",
    "Time to create your first SyftFile! First start by creating a file:\n",
    "\n",
    "1) Literally go to your filesystem and create one (usually ~/SyftBox/your@email/public/guestbook.txt)\n",
    "2) Use the python widget to create one"
   ]
  },
  {
   "cell_type": "code",
   "execution_count": 15,
   "metadata": {},
   "outputs": [
    {
     "data": {
      "text/plain": [
       "PosixPath('/Users/atrask/SyftBox/datasites/andrew@openmined.org')"
      ]
     },
     "execution_count": 15,
     "metadata": {},
     "output_type": "execute_result"
    }
   ],
   "source": [
    "# let's start by creating one in our filesystem\n",
    "\n",
    "# this is your datasite path\n",
    "# create a file at this path + /public\n",
    "path = sc.Client.load().datasite_path\n",
    "path"
   ]
  },
  {
   "cell_type": "code",
   "execution_count": 16,
   "metadata": {},
   "outputs": [
    {
     "data": {
      "text/plain": [
       "'andrew@openmined.org'"
      ]
     },
     "execution_count": 16,
     "metadata": {},
     "output_type": "execute_result"
    }
   ],
   "source": [
    "# this is your email\n",
    "# this is your datasite path\n",
    "# create a file at this path + /public\n",
    "email = sc.Client.load().email\n",
    "email"
   ]
  },
  {
   "cell_type": "code",
   "execution_count": 17,
   "metadata": {},
   "outputs": [
    {
     "data": {
      "text/plain": [
       "60"
      ]
     },
     "execution_count": 17,
     "metadata": {},
     "output_type": "execute_result"
    }
   ],
   "source": [
    "# Create the guestbook.txt file in that directory\n",
    "guestbook_path = path / 'guestbook.txt'\n",
    "\n",
    "# Write to the file (this will create it if it doesn't exist)\n",
    "guestbook_path.write_text('Please sign my guestbook! \\n\\nBob Vance: I love refrigeration!')"
   ]
  },
  {
   "cell_type": "code",
   "execution_count": 18,
   "metadata": {},
   "outputs": [
    {
     "data": {
      "text/html": [
       "\n",
       "        <div style=\"width: 100%; height: 600px; border: 1px solid #3e3e42; border-radius: 8px; overflow: hidden;\">\n",
       "            <iframe \n",
       "                src=\"http://localhost:8005/files-widget?search=andrew@openmined.org guestbook\" \n",
       "                width=\"100%\" \n",
       "                height=\"100%\" \n",
       "                frameborder=\"0\"\n",
       "                style=\"border: none;\"\n",
       "                allow=\"clipboard-read; clipboard-write\">\n",
       "            </iframe>\n",
       "        </div>\n",
       "        "
      ],
      "text/plain": [
       "FastAPI Files Widget: http://localhost:8005/files-widget?search=andrew@openmined.org guestbook"
      ]
     },
     "execution_count": 18,
     "metadata": {},
     "output_type": "execute_result"
    }
   ],
   "source": [
    "# see your guestbook in syft_perm.files by searching your email and the word \"guestbook\"\n",
    "\n",
    "sp.files.search(sc.Client.load().email + \" guestbook\")"
   ]
  },
  {
   "cell_type": "code",
   "execution_count": 19,
   "metadata": {},
   "outputs": [
    {
     "data": {
      "text/html": [
       "\n",
       "            <div style=\"width: 100%; height: 600px; border: 1px solid #3e3e42;\n",
       "                         border-radius: 8px; overflow: hidden; background: #1e1e1e;\">\n",
       "                <iframe src=\"http://localhost:8005/file-editor//Users/atrask/SyftBox/datasites/andrew@openmined.org/guestbook.txt\"\n",
       "                        style=\"width: 100%; height: 100%; border: none;\n",
       "                               background: transparent;\"\n",
       "                        frameborder=\"0\"\n",
       "                        allow=\"clipboard-read; clipboard-write\">\n",
       "                </iframe>\n",
       "            </div>\n",
       "            "
      ],
      "text/plain": [
       "SyftFile('/Users/atrask/SyftBox/datasites/andrew@openmined.org/guestbook.txt')\n",
       "\n",
       "User                  Read    Create    Write    Admin    Reason\n",
       "--------------------  ------  --------  -------  -------  ----------------------------------------------------------------------------------------------------------------------------------------------------------------------------------------------------------\n",
       "public                ✓       ✓         ✓                 [Write] Explicitly granted write in /Users/atrask/SyftBox/datasites/andrew@openmined.org; Pattern 'guestbook.txt' matched; [Write] Public access (*); [Create] Public access (*); [Read] Public access (*)\n",
       "andrew@openmined.org  ✓       ✓         ✓        ✓        [Admin] Owner of path; [Write] Owner of path; [Create] Owner of path; [Read] Owner of path"
      ]
     },
     "execution_count": 19,
     "metadata": {},
     "output_type": "execute_result"
    }
   ],
   "source": [
    "# if you click your file it'll copy-something like the following to your clipboard! Try it!\n",
    "sp.open(\"syft://\"+email+\"/guestbook.txt\")"
   ]
  },
  {
   "cell_type": "code",
   "execution_count": 20,
   "metadata": {},
   "outputs": [
    {
     "name": "stdin",
     "output_type": "stream",
     "text": [
      "⚠️  Warning: Granting public write access to '/Users/atrask/SyftBox/datasites/andrew@openmined.org/guestbook.txt'. Are you sure? [y/N]  y\n"
     ]
    }
   ],
   "source": [
    "# Now you need to modify the permissions to let anyone WRITE to this file. In the widget \n",
    "# above, you can click the \"Share\" button and set the \"*\" user to \"WRITE\" OR you can do the following\n",
    "\n",
    "f = sp.open(\"syft://\"+email+\"/guestbook.txt\")\n",
    "f.grant_write_access(\"*\")"
   ]
  },
  {
   "cell_type": "code",
   "execution_count": 21,
   "metadata": {},
   "outputs": [],
   "source": [
    "# And voila! Now anyone can sign your guestbook!"
   ]
  },
  {
   "cell_type": "markdown",
   "metadata": {},
   "source": [
    "# Part 4: Ask a friend to sign your guestbook!!\n",
    "\n",
    "All you have to do is send them this tutorial and they can become a part of the private AI movement!\n",
    "\n",
    "(lol just kidding)"
   ]
  },
  {
   "cell_type": "markdown",
   "metadata": {},
   "source": [
    "# Part 5: Let's Practice the Python API!\n",
    "\n",
    "Widgets are great... but sometimes you need programmatic control. Let's practice with the API by creating a collaborative project folder!"
   ]
  },
  {
   "cell_type": "code",
   "execution_count": 22,
   "metadata": {},
   "outputs": [],
   "source": [
    "syft_file = sp.open(\"syft://\"+email+\"/guestbook.txt\")\n",
    "syft_folder = sp.open(\"syft://\"+email+\"/\")"
   ]
  },
  {
   "cell_type": "code",
   "execution_count": 23,
   "metadata": {},
   "outputs": [],
   "source": [
    "# # setters\n",
    "# syft_file.grant_admin_access('email@company.org') # gives email@company.org the ability to modify permissions for this file\n",
    "# syft_file.grant_create_access('email@company.org') # gives email@company.org the ability to create this file (doesn't mean much... more for folders)\n",
    "# syft_file.grant_write_access('email@company.org') # gives email@company.org the ability to edit this file\n",
    "# syft_file.grant_read_access('email@company.org') # gives email@company.org the ability to read this file\n",
    "\n",
    "# # getters\n",
    "# syft_file.has_admin_access('email@company.org')\n",
    "# syft_file.has_create_access('email@company.org')\n",
    "# syft_file.has_write_access('email@company.org')\n",
    "# syft_file.has_read_access('email@company.org')"
   ]
  },
  {
   "cell_type": "code",
   "execution_count": 24,
   "metadata": {},
   "outputs": [
    {
     "name": "stdout",
     "output_type": "stream",
     "text": [
      "Permission analysis for andrwe@openmined.org on /Users/atrask/SyftBox/datasites/andrew@openmined.org/guestbook.txt:\n",
      "\n",
      "ADMIN: ✗ DENIED\n",
      "  • Pattern 'guestbook.txt' matched\n",
      "\n",
      "WRITE: ✓ GRANTED\n",
      "  • Explicitly granted write in /Users/atrask/SyftBox/datasites/andrew@openmined.org\n",
      "  • Pattern 'guestbook.txt' matched\n",
      "  • Public access (*)\n",
      "\n",
      "CREATE: ✓ GRANTED\n",
      "  • Included via write permission in /Users/atrask/SyftBox/datasites/andrew@openmined.org\n",
      "  • Pattern 'guestbook.txt' matched\n",
      "  • Public access (*)\n",
      "\n",
      "READ: ✓ GRANTED\n",
      "  • Included via write permission in /Users/atrask/SyftBox/datasites/andrew@openmined.org\n",
      "  • Pattern 'guestbook.txt' matched\n",
      "  • Public access (*)\n",
      "\n",
      "\n"
     ]
    }
   ],
   "source": [
    "# special functions\n",
    "\n",
    "# lists all the reasons someone has each level of permission (there can be mulitple syft.pub.yaml rules affecting a permission)\n",
    "print(syft_file.explain_permissions(email))"
   ]
  },
  {
   "cell_type": "code",
   "execution_count": 25,
   "metadata": {},
   "outputs": [
    {
     "data": {
      "text/plain": [
       "26"
      ]
     },
     "execution_count": 25,
     "metadata": {},
     "output_type": "execute_result"
    }
   ],
   "source": [
    "# Let's create a project folder and set up permissions programmatically\n",
    "project_path = path / 'awesome_project'\n",
    "project_path.mkdir(exist_ok=True)\n",
    "\n",
    "# Create some project files\n",
    "(project_path / 'README.md').write_text('# Awesome AI Project\\n\\nThis is our collaborative AI project!')\n",
    "(project_path / 'data.csv').write_text('id,value\\n1,100\\n2,200\\n3,300')\n",
    "(project_path / 'secret_key.txt').write_text('SUPER_SECRET_API_KEY_12345')"
   ]
  },
  {
   "cell_type": "code",
   "execution_count": 26,
   "metadata": {},
   "outputs": [
    {
     "data": {
      "text/html": [
       "\n",
       "            <div style=\"width: 100%; height: 600px; border: 1px solid #3e3e42;\n",
       "                         border-radius: 8px; overflow: hidden; background: #1e1e1e;\">\n",
       "                <iframe src=\"http://localhost:8005/file-editor//Users/atrask/SyftBox/datasites/andrew@openmined.org/awesome_project\"\n",
       "                        style=\"width: 100%; height: 100%; border: none;\n",
       "                               background: transparent;\"\n",
       "                        frameborder=\"0\"\n",
       "                        allow=\"clipboard-read; clipboard-write\">\n",
       "                </iframe>\n",
       "            </div>\n",
       "            "
      ],
      "text/plain": [
       "SyftFolder('/Users/atrask/SyftBox/datasites/andrew@openmined.org/awesome_project')\n",
       "\n",
       "User                  Read    Create    Write    Admin    Reason\n",
       "--------------------  ------  --------  -------  -------  -------------------------------------------------------------------------------------------------------------------------------------\n",
       "public                ✓                                   [Read] Explicitly granted read in /Users/atrask/SyftBox/datasites/andrew@openmined.org; Pattern '*' matched; [Read] Public access (*)\n",
       "andrew@openmined.org  ✓       ✓         ✓        ✓        [Admin] Owner of path; [Write] Owner of path; [Create] Owner of path; [Read] Owner of path"
      ]
     },
     "execution_count": 26,
     "metadata": {},
     "output_type": "execute_result"
    }
   ],
   "source": [
    "# Now let's set different permissions for different files\n",
    "folder = sp.open(f\"syft://{email}/awesome_project\")\n",
    "\n",
    "# Let's see what permissions our folder has by default\n",
    "folder"
   ]
  },
  {
   "cell_type": "code",
   "execution_count": 27,
   "metadata": {},
   "outputs": [
    {
     "name": "stdout",
     "output_type": "stream",
     "text": [
      "README is now public!\n"
     ]
    }
   ],
   "source": [
    "# Make the README public\n",
    "readme = sp.open(f\"syft://{email}/awesome_project/README.md\")\n",
    "readme.grant_read_access(\"*\")\n",
    "print(\"README is now public!\")"
   ]
  },
  {
   "cell_type": "code",
   "execution_count": 31,
   "metadata": {},
   "outputs": [
    {
     "name": "stdout",
     "output_type": "stream",
     "text": [
      "Shared data.csv with liamtrask@gmail.com!\n"
     ]
    }
   ],
   "source": [
    "# Share the data with a specific collaborator (you can use a friend's email or a fake one)\n",
    "data_file = sp.open(f\"syft://{email}/awesome_project/data.csv\")\n",
    "collaborator_email = \"liamtrask@gmail.com\"  # Replace with a real email if you have one\n",
    "data_file.grant_read_access(collaborator_email)\n",
    "data_file.grant_write_access(collaborator_email)\n",
    "print(f\"Shared data.csv with {collaborator_email}!\")"
   ]
  },
  {
   "cell_type": "code",
   "execution_count": 32,
   "metadata": {},
   "outputs": [
    {
     "name": "stdout",
     "output_type": "stream",
     "text": [
      "Let's check who has access to our secret:\n"
     ]
    },
    {
     "data": {
      "text/html": [
       "\n",
       "            <div style=\"width: 100%; height: 600px; border: 1px solid #3e3e42;\n",
       "                         border-radius: 8px; overflow: hidden; background: #1e1e1e;\">\n",
       "                <iframe src=\"http://localhost:8005/file-editor//Users/atrask/SyftBox/datasites/andrew@openmined.org/awesome_project/secret_key.txt\"\n",
       "                        style=\"width: 100%; height: 100%; border: none;\n",
       "                               background: transparent;\"\n",
       "                        frameborder=\"0\"\n",
       "                        allow=\"clipboard-read; clipboard-write\">\n",
       "                </iframe>\n",
       "            </div>\n",
       "            "
      ],
      "text/plain": [
       "SyftFile('/Users/atrask/SyftBox/datasites/andrew@openmined.org/awesome_project/secret_key.txt')\n",
       "\n",
       "User                  Read    Create    Write    Admin    Reason\n",
       "--------------------  ------  --------  -------  -------  ------------------------------------------------------------------------------------------\n",
       "andrew@openmined.org  ✓       ✓         ✓        ✓        [Admin] Owner of path; [Write] Owner of path; [Create] Owner of path; [Read] Owner of path"
      ]
     },
     "execution_count": 32,
     "metadata": {},
     "output_type": "execute_result"
    }
   ],
   "source": [
    "# Keep the secret key private (it should already be private by default)\n",
    "secret = sp.open(f\"syft://{email}/awesome_project/secret_key.txt\")\n",
    "print(\"Let's check who has access to our secret:\")\n",
    "secret"
   ]
  },
  {
   "cell_type": "code",
   "execution_count": 33,
   "metadata": {},
   "outputs": [
    {
     "name": "stdout",
     "output_type": "stream",
     "text": [
      "Does liamtrask@gmail.com have read access to data.csv? True\n",
      "Does liamtrask@gmail.com have write access to data.csv? True\n",
      "Does public have read access to README? True\n",
      "Does public have read access to secret? False\n"
     ]
    }
   ],
   "source": [
    "# Practice using the getter methods\n",
    "print(f\"Does {collaborator_email} have read access to data.csv? {data_file.has_read_access(collaborator_email)}\")\n",
    "print(f\"Does {collaborator_email} have write access to data.csv? {data_file.has_write_access(collaborator_email)}\")\n",
    "print(f\"Does public have read access to README? {readme.has_read_access('*')}\")\n",
    "print(f\"Does public have read access to secret? {secret.has_read_access('*')}\")"
   ]
  },
  {
   "cell_type": "code",
   "execution_count": 34,
   "metadata": {},
   "outputs": [
    {
     "name": "stdout",
     "output_type": "stream",
     "text": [
      "Why does Alice have permissions on data.csv?\n",
      "Permission analysis for liamtrask@gmail.com on /Users/atrask/SyftBox/datasites/andrew@openmined.org/awesome_project/data.csv:\n",
      "\n",
      "ADMIN: ✗ DENIED\n",
      "  • Pattern 'data.csv' matched\n",
      "\n",
      "WRITE: ✓ GRANTED\n",
      "  • Explicitly granted write in /Users/atrask/SyftBox/datasites/andrew@openmined.org/awesome_project\n",
      "  • Pattern 'data.csv' matched\n",
      "\n",
      "CREATE: ✓ GRANTED\n",
      "  • Included via write permission in /Users/atrask/SyftBox/datasites/andrew@openmined.org/awesome_project\n",
      "\n",
      "READ: ✓ GRANTED\n",
      "  • Included via write permission in /Users/atrask/SyftBox/datasites/andrew@openmined.org/awesome_project\n",
      "  • Pattern 'data.csv' matched\n",
      "\n",
      "\n"
     ]
    }
   ],
   "source": [
    "# Use explain_permissions to understand why permissions are set the way they are\n",
    "print(\"Why does Alice have permissions on data.csv?\")\n",
    "print(data_file.explain_permissions(collaborator_email))"
   ]
  },
  {
   "cell_type": "markdown",
   "metadata": {},
   "source": [
    "# Part 6: How does the permission system work? Let's EXPLORE!\n",
    "\n",
    "Instead of just reading about it, let's explore the syft.pub.yaml files that were created!"
   ]
  },
  {
   "cell_type": "code",
   "execution_count": 35,
   "metadata": {},
   "outputs": [
    {
     "name": "stdout",
     "output_type": "stream",
     "text": [
      "Here's the syft.pub.yaml for our project folder:\n",
      "rules:\n",
      "- pattern: README.md\n",
      "  access:\n",
      "    admin: []\n",
      "    write: []\n",
      "    create: []\n",
      "    read:\n",
      "    - '*'\n",
      "- pattern: data.csv\n",
      "  access:\n",
      "    admin: []\n",
      "    write:\n",
      "    - andrew@openmined.org\n",
      "    - liamtrask@gmail.com\n",
      "    create: []\n",
      "    read:\n",
      "    - andrew@openmined.org\n",
      "    - liamtrask@gmail.com\n",
      "\n"
     ]
    }
   ],
   "source": [
    "# Let's look at the YAML file that was created for our project\n",
    "yaml_path = project_path / 'syft.pub.yaml'\n",
    "if yaml_path.exists():\n",
    "    print(\"Here's the syft.pub.yaml for our project folder:\")\n",
    "    print(yaml_path.read_text())\n",
    "else:\n",
    "    print(\"No syft.pub.yaml in the project folder yet!\")"
   ]
  },
  {
   "cell_type": "code",
   "execution_count": 36,
   "metadata": {},
   "outputs": [
    {
     "name": "stdout",
     "output_type": "stream",
     "text": [
      "Your main datasite syft.pub.yaml:\n",
      "rules:\n",
      "- pattern: '*'\n",
      "  access:\n",
      "    admin:\n",
      "    - andrew@openmined.org\n",
      "    write:\n",
      "    - andrew@openmined.org\n",
      "    read:\n",
      "    - '*'\n",
      "- pattern: guestbook.txt\n",
      "  access:\n",
      "    admin: []\n",
      "    write:\n",
      "    - '*'\n",
      "    create:\n",
      "    - '*'\n",
      "    read:\n",
      "    - '*'\n",
      "\n"
     ]
    }
   ],
   "source": [
    "# Let's check your main datasite folder's syft.pub.yaml\n",
    "main_yaml = path / 'syft.pub.yaml'\n",
    "print(\"Your main datasite syft.pub.yaml:\")\n",
    "print(main_yaml.read_text())"
   ]
  },
  {
   "cell_type": "code",
   "execution_count": 37,
   "metadata": {},
   "outputs": [
    {
     "name": "stdout",
     "output_type": "stream",
     "text": [
      "Created syft.pub.yaml manually!\n"
     ]
    }
   ],
   "source": [
    "# Let's manually edit permissions by creating a syft.pub.yaml!\n",
    "# This is what syft-perm does behind the scenes\n",
    "\n",
    "yaml_content = \"\"\"rules:\n",
    "- pattern: 'README.md'\n",
    "  access:\n",
    "    read:\n",
    "    - '*'\n",
    "- pattern: 'data.csv'\n",
    "  access:\n",
    "    read:\n",
    "    - alice@example.com\n",
    "    write:\n",
    "    - alice@example.com\n",
    "- pattern: 'secret_key.txt'\n",
    "  access:\n",
    "    read: []\n",
    "    write: []\n",
    "\"\"\"\n",
    "\n",
    "(project_path / 'syft.pub.yaml').write_text(yaml_content)\n",
    "print(\"Created syft.pub.yaml manually!\")"
   ]
  },
  {
   "cell_type": "code",
   "execution_count": 38,
   "metadata": {},
   "outputs": [
    {
     "name": "stdout",
     "output_type": "stream",
     "text": [
      "Checking if manual YAML matches our API calls:\n"
     ]
    },
    {
     "data": {
      "text/html": [
       "\n",
       "            <div style=\"width: 100%; height: 600px; border: 1px solid #3e3e42;\n",
       "                         border-radius: 8px; overflow: hidden; background: #1e1e1e;\">\n",
       "                <iframe src=\"http://localhost:8005/file-editor//Users/atrask/SyftBox/datasites/andrew@openmined.org/awesome_project/README.md\"\n",
       "                        style=\"width: 100%; height: 100%; border: none;\n",
       "                               background: transparent;\"\n",
       "                        frameborder=\"0\"\n",
       "                        allow=\"clipboard-read; clipboard-write\">\n",
       "                </iframe>\n",
       "            </div>\n",
       "            "
      ],
      "text/plain": [
       "SyftFile('/Users/atrask/SyftBox/datasites/andrew@openmined.org/awesome_project/README.md')\n",
       "\n",
       "User                  Read    Create    Write    Admin    Reason\n",
       "--------------------  ------  --------  -------  -------  -------------------------------------------------------------------------------------------------------------------------------------------------------------\n",
       "public                ✓                                   [Read] Explicitly granted read in /Users/atrask/SyftBox/datasites/andrew@openmined.org/awesome_project; Pattern 'README.md' matched; [Read] Public access (*)\n",
       "andrew@openmined.org  ✓       ✓         ✓        ✓        [Admin] Owner of path; [Write] Owner of path; [Create] Owner of path; [Read] Owner of path"
      ]
     },
     "execution_count": 38,
     "metadata": {},
     "output_type": "execute_result"
    }
   ],
   "source": [
    "# Now let's verify the permissions match what we set\n",
    "print(\"Checking if manual YAML matches our API calls:\")\n",
    "readme_check = sp.open(f\"syft://{email}/awesome_project/README.md\")\n",
    "readme_check"
   ]
  },
  {
   "cell_type": "markdown",
   "metadata": {},
   "source": [
    "### Key Insights:\n",
    "- syft.pub.yaml files control permissions for files in the same directory\n",
    "- Patterns can match specific files or use wildcards\n",
    "- The API just creates and modifies these YAML files for you!"
   ]
  },
  {
   "cell_type": "markdown",
   "metadata": {},
   "source": [
    "# Part 7: How does permission enforcement work? Let's TEST it!\n",
    "\n",
    "Let's create scenarios to see enforcement in action."
   ]
  },
  {
   "cell_type": "code",
   "execution_count": 39,
   "metadata": {},
   "outputs": [
    {
     "name": "stdout",
     "output_type": "stream",
     "text": [
      "Created read-only test file\n"
     ]
    }
   ],
   "source": [
    "# Create a read-only file for testing\n",
    "test_file = path / 'test_readonly.txt'\n",
    "test_file.write_text('This file is read-only for everyone except the owner!')\n",
    "\n",
    "# Set it to read-only for public\n",
    "readonly = sp.open(f\"syft://{email}/test_readonly.txt\")\n",
    "readonly.grant_read_access(\"*\")\n",
    "print(\"Created read-only test file\")"
   ]
  },
  {
   "cell_type": "code",
   "execution_count": 40,
   "metadata": {},
   "outputs": [
    {
     "name": "stdout",
     "output_type": "stream",
     "text": [
      "Permissions for public user on readonly file:\n",
      "Permission analysis for someone@else.com on /Users/atrask/SyftBox/datasites/andrew@openmined.org/test_readonly.txt:\n",
      "\n",
      "ADMIN: ✗ DENIED\n",
      "  • Pattern 'test_readonly.txt' matched\n",
      "\n",
      "WRITE: ✗ DENIED\n",
      "  • Pattern 'test_readonly.txt' matched\n",
      "\n",
      "CREATE: ✗ DENIED\n",
      "  • Pattern 'test_readonly.txt' matched\n",
      "\n",
      "READ: ✓ GRANTED\n",
      "  • Explicitly granted read in /Users/atrask/SyftBox/datasites/andrew@openmined.org\n",
      "  • Pattern 'test_readonly.txt' matched\n",
      "  • Public access (*)\n",
      "\n",
      "\n"
     ]
    }
   ],
   "source": [
    "# Let's check what happens when someone without write permission tries to edit\n",
    "print(\"Permissions for public user on readonly file:\")\n",
    "print(readonly.explain_permissions(\"someone@else.com\"))"
   ]
  },
  {
   "cell_type": "code",
   "execution_count": 42,
   "metadata": {},
   "outputs": [
    {
     "name": "stdout",
     "output_type": "stream",
     "text": [
      "Created restricted folder - only trusted@user.com can create files here!\n"
     ]
    }
   ],
   "source": [
    "# Create a folder where only specific users can create files\n",
    "restricted_folder = path / 'restricted_uploads'\n",
    "restricted_folder.mkdir(exist_ok=True)\n",
    "\n",
    "folder_obj = sp.open(f\"syft://{email}/restricted_uploads\")\n",
    "folder_obj.grant_read_access(\"*\")  # Everyone can see what's inside\n",
    "folder_obj.grant_create_access(\"liamtrask@gmail.com\")  # But only trusted user can add files\n",
    "\n",
    "print(\"Created restricted folder - only trusted@user.com can create files here!\")"
   ]
  },
  {
   "cell_type": "code",
   "execution_count": 44,
   "metadata": {},
   "outputs": [
    {
     "name": "stdout",
     "output_type": "stream",
     "text": [
      "Can random@user.com create files in restricted folder?\n",
      "Has create access: False\n",
      "\n",
      "Can our trusted user, liamtrask@gmail.com, create files?\n",
      "Has create access: False\n"
     ]
    }
   ],
   "source": [
    "# Test the enforcement by checking permissions\n",
    "print(\"Can random@user.com create files in restricted folder?\")\n",
    "print(f\"Has create access: {folder_obj.has_create_access('random@user.com')}\")\n",
    "print(\"\\nCan our trusted user, liamtrask@gmail.com, create files?\")\n",
    "print(f\"Has create access: {folder_obj.has_create_access('trusted@user.com')}\")"
   ]
  },
  {
   "cell_type": "markdown",
   "metadata": {},
   "source": [
    "### What happens behind the scenes:\n",
    "- **READ violation:** The cache server won't send files you can't read\n",
    "- **CREATE violation:** Files created without permission won't sync\n",
    "- **WRITE violation:** Edits without permission won't be accepted\n",
    "- **ADMIN violation:** Permission changes without admin rights are ignored"
   ]
  },
  {
   "cell_type": "markdown",
   "metadata": {},
   "source": [
    "# Part 8: What if permissions conflict? Let's CREATE conflicts!\n",
    "\n",
    "Let's explore permission inheritance and conflicts hands-on."
   ]
  },
  {
   "cell_type": "code",
   "execution_count": 45,
   "metadata": {},
   "outputs": [
    {
     "name": "stdout",
     "output_type": "stream",
     "text": [
      "Created nested folder structure!\n"
     ]
    }
   ],
   "source": [
    "# Create a nested folder structure\n",
    "parent_folder = path / 'parent_project'\n",
    "child_folder = parent_folder / 'child_data'\n",
    "grandchild_folder = child_folder / 'sensitive'\n",
    "\n",
    "# Create all folders\n",
    "grandchild_folder.mkdir(parents=True, exist_ok=True)\n",
    "\n",
    "# Create files at different levels\n",
    "(parent_folder / 'parent_file.txt').write_text('File in parent folder')\n",
    "(child_folder / 'child_file.txt').write_text('File in child folder')\n",
    "(grandchild_folder / 'secret.txt').write_text('Very sensitive data')\n",
    "\n",
    "print(\"Created nested folder structure!\")"
   ]
  },
  {
   "cell_type": "code",
   "execution_count": 46,
   "metadata": {},
   "outputs": [
    {
     "name": "stdout",
     "output_type": "stream",
     "text": [
      "Granted public read access to parent folder\n"
     ]
    }
   ],
   "source": [
    "# Set permissions at parent level - make everything readable\n",
    "parent = sp.open(f\"syft://{email}/parent_project\")\n",
    "parent.grant_read_access(\"*\")\n",
    "print(\"Granted public read access to parent folder\")"
   ]
  },
  {
   "cell_type": "code",
   "execution_count": 47,
   "metadata": {},
   "outputs": [
    {
     "name": "stdout",
     "output_type": "stream",
     "text": [
      "Does child file inherit read permission from parent?\n"
     ]
    },
    {
     "data": {
      "text/html": [
       "\n",
       "            <div style=\"width: 100%; height: 600px; border: 1px solid #3e3e42;\n",
       "                         border-radius: 8px; overflow: hidden; background: #1e1e1e;\">\n",
       "                <iframe src=\"http://localhost:8005/file-editor//Users/atrask/SyftBox/datasites/andrew@openmined.org/parent_project/child_data/child_file.txt\"\n",
       "                        style=\"width: 100%; height: 100%; border: none;\n",
       "                               background: transparent;\"\n",
       "                        frameborder=\"0\"\n",
       "                        allow=\"clipboard-read; clipboard-write\">\n",
       "                </iframe>\n",
       "            </div>\n",
       "            "
      ],
      "text/plain": [
       "SyftFile('/Users/atrask/SyftBox/datasites/andrew@openmined.org/parent_project/child_data/child_file.txt')\n",
       "\n",
       "User                  Read    Create    Write    Admin    Reason\n",
       "--------------------  ------  --------  -------  -------  -----------------------------------------------------------------------------------------------------------------------------------------------------\n",
       "public                ✓                                   [Read] Explicitly granted read in /Users/atrask/SyftBox/datasites/andrew@openmined.org/parent_project; Pattern '**' matched; [Read] Public access (*)\n",
       "andrew@openmined.org  ✓       ✓         ✓        ✓        [Admin] Owner of path; [Write] Owner of path; [Create] Owner of path; [Read] Owner of path"
      ]
     },
     "execution_count": 47,
     "metadata": {},
     "output_type": "execute_result"
    }
   ],
   "source": [
    "# Check if child inherits permissions\n",
    "child_file = sp.open(f\"syft://{email}/parent_project/child_data/child_file.txt\")\n",
    "print(\"Does child file inherit read permission from parent?\")\n",
    "child_file"
   ]
  },
  {
   "cell_type": "code",
   "execution_count": 48,
   "metadata": {},
   "outputs": [
    {
     "name": "stdout",
     "output_type": "stream",
     "text": [
      "Tried to revoke public access from sensitive folder\n"
     ]
    }
   ],
   "source": [
    "# Now let's create a conflict - try to restrict the grandchild\n",
    "sensitive = sp.open(f\"syft://{email}/parent_project/child_data/sensitive\")\n",
    "# Remove public access (trying to override parent)\n",
    "sensitive.revoke_read_access(\"*\")\n",
    "print(\"Tried to revoke public access from sensitive folder\")"
   ]
  },
  {
   "cell_type": "code",
   "execution_count": 49,
   "metadata": {},
   "outputs": [
    {
     "name": "stdout",
     "output_type": "stream",
     "text": [
      "Can public still read the secret file?\n",
      "Permission analysis for * on /Users/atrask/SyftBox/datasites/andrew@openmined.org/parent_project/child_data/sensitive/secret.txt:\n",
      "\n",
      "ADMIN: ✗ DENIED\n",
      "  • Pattern '**' matched\n",
      "\n",
      "WRITE: ✗ DENIED\n",
      "  • Pattern '**' matched\n",
      "\n",
      "CREATE: ✗ DENIED\n",
      "  • Pattern '**' matched\n",
      "\n",
      "READ: ✗ DENIED\n",
      "  • Pattern '**' matched\n",
      "\n",
      "\n"
     ]
    }
   ],
   "source": [
    "# Check what actually happened\n",
    "secret_file = sp.open(f\"syft://{email}/parent_project/child_data/sensitive/secret.txt\")\n",
    "print(\"Can public still read the secret file?\")\n",
    "print(secret_file.explain_permissions(\"*\"))"
   ]
  },
  {
   "cell_type": "code",
   "execution_count": 50,
   "metadata": {},
   "outputs": [
    {
     "name": "stdout",
     "output_type": "stream",
     "text": [
      "Parent folder YAML:\n",
      "rules:\n",
      "- pattern: '**'\n",
      "  access:\n",
      "    admin: []\n",
      "    write: []\n",
      "    create: []\n",
      "    read:\n",
      "    - '*'\n",
      "\n"
     ]
    }
   ],
   "source": [
    "# Let's use terminal nodes to stop inheritance!\n",
    "# First, let's look at the current YAML files\n",
    "print(\"Parent folder YAML:\")\n",
    "parent_yaml = parent_folder / 'syft.pub.yaml'\n",
    "if parent_yaml.exists():\n",
    "    print(parent_yaml.read_text())"
   ]
  },
  {
   "cell_type": "code",
   "execution_count": 51,
   "metadata": {},
   "outputs": [
    {
     "name": "stdout",
     "output_type": "stream",
     "text": [
      "Created terminal node in sensitive folder!\n"
     ]
    }
   ],
   "source": [
    "# Create a terminal node to block inheritance\n",
    "terminal_yaml = \"\"\"rules:\n",
    "- pattern: '*'\n",
    "  terminal: true\n",
    "  access:\n",
    "    read: []\n",
    "    write: []\n",
    "\"\"\"\n",
    "\n",
    "(grandchild_folder / 'syft.pub.yaml').write_text(terminal_yaml)\n",
    "print(\"Created terminal node in sensitive folder!\")"
   ]
  },
  {
   "cell_type": "code",
   "execution_count": 52,
   "metadata": {},
   "outputs": [
    {
     "name": "stdout",
     "output_type": "stream",
     "text": [
      "After terminal node - can public read secret?\n"
     ]
    },
    {
     "data": {
      "text/html": [
       "\n",
       "            <div style=\"width: 100%; height: 600px; border: 1px solid #3e3e42;\n",
       "                         border-radius: 8px; overflow: hidden; background: #1e1e1e;\">\n",
       "                <iframe src=\"http://localhost:8005/file-editor//Users/atrask/SyftBox/datasites/andrew@openmined.org/parent_project/child_data/sensitive/secret.txt\"\n",
       "                        style=\"width: 100%; height: 100%; border: none;\n",
       "                               background: transparent;\"\n",
       "                        frameborder=\"0\"\n",
       "                        allow=\"clipboard-read; clipboard-write\">\n",
       "                </iframe>\n",
       "            </div>\n",
       "            "
      ],
      "text/plain": [
       "SyftFile('/Users/atrask/SyftBox/datasites/andrew@openmined.org/parent_project/child_data/sensitive/secret.txt')\n",
       "\n",
       "User                  Read    Create    Write    Admin    Reason\n",
       "--------------------  ------  --------  -------  -------  ------------------------------------------------------------------------------------------\n",
       "andrew@openmined.org  ✓       ✓         ✓        ✓        [Admin] Owner of path; [Write] Owner of path; [Create] Owner of path; [Read] Owner of path"
      ]
     },
     "execution_count": 52,
     "metadata": {},
     "output_type": "execute_result"
    }
   ],
   "source": [
    "# Now check if inheritance is blocked\n",
    "secret_file_terminal = sp.open(f\"syft://{email}/parent_project/child_data/sensitive/secret.txt\")\n",
    "print(\"After terminal node - can public read secret?\")\n",
    "secret_file_terminal"
   ]
  },
  {
   "cell_type": "markdown",
   "metadata": {},
   "source": [
    "### Key Conflict Resolution Rules:\n",
    "1. **Inheritance:** Child folders inherit parent permissions by default\n",
    "2. **More specific wins:** A file's own permissions override folder permissions  \n",
    "3. **Terminal nodes:** Can stop inheritance from parent folders\n",
    "4. **Admin always wins:** The folder owner (admin) has final say"
   ]
  },
  {
   "cell_type": "markdown",
   "metadata": {},
   "source": [
    "# Part 9: Tips and Tricks - Let's DISCOVER UI Features!\n",
    "\n",
    "The UIs have lots of little features. Let's explore them interactively!"
   ]
  },
  {
   "cell_type": "code",
   "execution_count": 53,
   "metadata": {},
   "outputs": [
    {
     "data": {
      "text/html": [
       "\n",
       "                <div style=\"width: 100%; height: 600px; border: 1px solid #3e3e42; border-radius: 8px; overflow: hidden;\">\n",
       "                    <iframe \n",
       "                        src=\"http://localhost:8005/files-widget\" \n",
       "                        width=\"100%\" \n",
       "                        height=\"100%\" \n",
       "                        frameborder=\"0\"\n",
       "                        style=\"border: none;\"\n",
       "                        allow=\"clipboard-read; clipboard-write\">\n",
       "                    </iframe>\n",
       "                </div>\n",
       "                "
      ],
      "text/plain": [
       "Files (Page 1 of 106, showing 1-50 of 5285 items)\n",
       "--------------------------------------------------------------------------------------------------------------------\n",
       "#     URL                                                          Modified         Type     Size       Permissions \n",
       "--------------------------------------------------------------------------------------------------------------------\n",
       "1     andrew@openmined.org/parent_project/child_data/sensitive     2025-07-16 23:56 folder         95 B 2 users     \n",
       "2     andrew@openmined.org/parent_project                          2025-07-16 23:56 folder        232 B 2 users     \n",
       "3     andrew@openmined.org/parent_project/child_data/sensitive/... 2025-07-16 23:56 txt            19 B 1 users     \n",
       "4     andrew@openmined.org/parent_project/child_data/child_file... 2025-07-16 23:56 txt            20 B 2 users     \n",
       "5     andrew@openmined.org/parent_project/child_data               2025-07-16 23:56 folder        115 B 2 users     \n",
       "6     andrew@openmined.org/parent_project/parent_file.txt          2025-07-16 23:56 txt            21 B 2 users     \n",
       "7     andrew@openmined.org                                         2025-07-16 23:56 folder     307.9 KB 1 users     \n",
       "8     andrew@openmined.org/restricted_uploads                      2025-07-16 23:55 folder        119 B 3 users     \n",
       "9     andrew@openmined.org/test_readonly.txt                       2025-07-16 23:55 txt            53 B 2 users     \n",
       "10    andrew@openmined.org/awesome_project/secret_key.txt          2025-07-16 23:54 txt            26 B 1 users     \n",
       "11    andrew@openmined.org/awesome_project/data.csv                2025-07-16 23:54 csv            26 B 2 users     \n",
       "12    andrew@openmined.org/awesome_project/README.md               2025-07-16 23:54 md             59 B 2 users     \n",
       "13    andrew@openmined.org/guestbook.txt                           2025-07-16 23:54 txt           239 B 2 users     \n",
       "14    mail@andreibratu.com/app_data/data-syncer/rpc                2025-07-16 23:49 folder        483 B 1 users     \n",
       "15    andrew@openmined.org/awesome_project                         2025-07-16 23:36 folder        337 B 2 users     \n",
       "16    andrew@openmined.org/public                                  2025-07-16 23:16 folder        406 B 2 users     \n",
       "17    andrew@openmined.org/public/antiguestbook.txt                2025-07-16 21:46 txt           105 B 2 users     \n",
       "18    b0rj494@gmail.com/app_data/flwr/borja.arroyog@upm.es_diab... 2025-07-16 14:47 folder         91 B 1 users     \n",
       "19    b0rj494@gmail.com/app_data/RDS/rpc/job/update                2025-07-16 14:32 folder          0 B 1 users     \n",
       "20    bag94@outlook.es/app_data/flwr/borja.arroyog@upm.es_diabe... 2025-07-16 14:31 folder      11.3 KB 1 users     \n",
       "21    bag94@outlook.es/app_data/RDS/rpc                            2025-07-16 14:31 folder      95.7 KB 1 users     \n",
       "22    b0rj494@gmail.com/app_data/RDS/rpc/job/create                2025-07-16 14:28 folder          0 B 1 users     \n",
       "23    b0rj494@gmail.com/app_data/RDS/rpc/user_code/create          2025-07-16 14:28 folder          0 B 1 users     \n",
       "24    bag94@outlook.es/app_data/RDS/store/job/dbb99fdd-e366-4a5... 2025-07-16 14:16 yaml          681 B 2 users     \n",
       "25    b0rj494@gmail.com/app_data/RDS/store/job/aa1abf6b-3550-40... 2025-07-16 14:16 yaml          682 B 2 users     \n",
       "26    bag94@outlook.es/app_data/flwr/borja.arroyog@upm.es_diabe... 2025-07-16 14:14 response    11.3 KB 1 users     \n",
       "27    bag94@outlook.es/app_data/flwr/borja.arroyog@upm.es_diabe... 2025-07-16 14:14 folder      11.4 KB 1 users     \n",
       "28    bag94@outlook.es/app_data/flwr/borja.arroyog@upm.es_diabe... 2025-07-16 14:12 json           91 B 1 users     \n",
       "29    bag94@outlook.es/app_data/flwr/borja.arroyog@upm.es_diabe... 2025-07-16 14:12 folder      11.4 KB 1 users     \n",
       "30    bag94@outlook.es/app_data/flwr                               2025-07-16 14:12 folder      11.9 KB 1 users     \n",
       "31    b0rj494@gmail.com/app_data/flwr/borja.arroyog@upm.es_diab... 2025-07-16 14:12 json           91 B 1 users     \n",
       "32    b0rj494@gmail.com/app_data/flwr/borja.arroyog@upm.es_diab... 2025-07-16 14:12 folder         91 B 1 users     \n",
       "33    b0rj494@gmail.com/app_data/flwr                              2025-07-16 14:12 folder        637 B 1 users     \n",
       "34    b0rj494@gmail.com/app_data/RDS/store/job                     2025-07-16 14:12 folder      35.6 KB 2 users     \n",
       "35    b0rj494@gmail.com/app_data/RDS/store/usercode/597f4bd9-20... 2025-07-16 14:12 yaml          352 B 2 users     \n",
       "36    b0rj494@gmail.com/app_data/RDS/store/usercode                2025-07-16 14:12 folder       3.1 KB 2 users     \n",
       "37    bag94@outlook.es/app_data/RDS/store/usercode/6155d5b1-3d3... 2025-07-16 14:12 yaml          351 B 2 users     \n",
       "38    bag94@outlook.es/app_data/RDS/store/usercode                 2025-07-16 14:12 folder       3.4 KB 2 users     \n",
       "39    bag94@outlook.es/app_data/RDS/store/job                      2025-07-16 14:12 folder      56.2 KB 2 users     \n",
       "40    bag94@outlook.es/app_data/flwr/borja.arroyog@upm.es_diabe... 2025-07-16 14:09 folder         91 B 1 users     \n",
       "41    b0rj494@gmail.com/app_data/flwr/borja.arroyog@upm.es_diab... 2025-07-16 14:09 folder         91 B 1 users     \n",
       "42    bag94@outlook.es/app_data/RDS/store/job/402812c9-dfc8-4eb... 2025-07-16 13:54 yaml          681 B 2 users     \n",
       "43    b0rj494@gmail.com/app_data/RDS/store/job/c769c6ec-3e17-45... 2025-07-16 13:53 yaml          682 B 2 users     \n",
       "44    bag94@outlook.es/app_data/flwr/borja.arroyog@upm.es_diabe... 2025-07-16 13:50 json           91 B 1 users     \n",
       "45    bag94@outlook.es/app_data/flwr/borja.arroyog@upm.es_diabe... 2025-07-16 13:50 folder         91 B 1 users     \n",
       "46    b0rj494@gmail.com/app_data/flwr/borja.arroyog@upm.es_diab... 2025-07-16 13:50 json           91 B 1 users     \n",
       "47    b0rj494@gmail.com/app_data/flwr/borja.arroyog@upm.es_diab... 2025-07-16 13:50 folder         91 B 1 users     \n",
       "48    b0rj494@gmail.com/app_data/RDS/store/usercode/e084dd1e-75... 2025-07-16 13:50 yaml          352 B 2 users     \n",
       "49    bag94@outlook.es/app_data/RDS/store/usercode/995b0f74-d0a... 2025-07-16 13:50 yaml          351 B 2 users     \n",
       "50    bag94@outlook.es/app_data/flwr/borja.arroyog@upm.es_diabe... 2025-07-16 13:40 folder         91 B 1 users     \n",
       "--------------------------------------------------------------------------------------------------------------------\n",
       "2626 files, 2659 folders • Total size: 461.1 MB\n",
       "Use sp.files.page(n) to view other pages or sp.files in Jupyter for interactive view"
      ]
     },
     "execution_count": 53,
     "metadata": {},
     "output_type": "execute_result"
    }
   ],
   "source": [
    "# Tip 1: syft_perm.files is a newsfeed for file edits, useful for:\n",
    "# - observing network activity\n",
    "# - debugging federated app state (files are state!)\n",
    "\n",
    "# notice how if you edit a file - that file pops up to the top and is colorful!\n",
    "sp.files"
   ]
  },
  {
   "cell_type": "code",
   "execution_count": 54,
   "metadata": {},
   "outputs": [
    {
     "name": "stdout",
     "output_type": "stream",
     "text": [
      "Try these search patterns in the widget below:\n",
      "1. 'admin:yourname@email.com' - Find files where you're admin\n",
      "2. '*.csv' - Find all CSV files\n",
      "3. 'user:alice@example.com' - Find files Alice has access to\n",
      "4. Use quotes for exact phrases: \"awesome project\"\n"
     ]
    },
    {
     "data": {
      "text/html": [
       "\n",
       "                <div style=\"width: 100%; height: 600px; border: 1px solid #3e3e42; border-radius: 8px; overflow: hidden;\">\n",
       "                    <iframe \n",
       "                        src=\"http://localhost:8005/files-widget\" \n",
       "                        width=\"100%\" \n",
       "                        height=\"100%\" \n",
       "                        frameborder=\"0\"\n",
       "                        style=\"border: none;\"\n",
       "                        allow=\"clipboard-read; clipboard-write\">\n",
       "                    </iframe>\n",
       "                </div>\n",
       "                "
      ],
      "text/plain": [
       "Files (Page 1 of 106, showing 1-50 of 5285 items)\n",
       "--------------------------------------------------------------------------------------------------------------------\n",
       "#     URL                                                          Modified         Type     Size       Permissions \n",
       "--------------------------------------------------------------------------------------------------------------------\n",
       "1     andrew@openmined.org/parent_project/child_data/sensitive     2025-07-16 23:56 folder         95 B 2 users     \n",
       "2     andrew@openmined.org/parent_project                          2025-07-16 23:56 folder        232 B 2 users     \n",
       "3     andrew@openmined.org/parent_project/child_data/sensitive/... 2025-07-16 23:56 txt            19 B 1 users     \n",
       "4     andrew@openmined.org/parent_project/child_data/child_file... 2025-07-16 23:56 txt            20 B 2 users     \n",
       "5     andrew@openmined.org/parent_project/child_data               2025-07-16 23:56 folder        115 B 2 users     \n",
       "6     andrew@openmined.org/parent_project/parent_file.txt          2025-07-16 23:56 txt            21 B 2 users     \n",
       "7     andrew@openmined.org                                         2025-07-16 23:56 folder     307.9 KB 1 users     \n",
       "8     andrew@openmined.org/restricted_uploads                      2025-07-16 23:55 folder        119 B 3 users     \n",
       "9     andrew@openmined.org/test_readonly.txt                       2025-07-16 23:55 txt            53 B 2 users     \n",
       "10    andrew@openmined.org/awesome_project/secret_key.txt          2025-07-16 23:54 txt            26 B 1 users     \n",
       "11    andrew@openmined.org/awesome_project/data.csv                2025-07-16 23:54 csv            26 B 2 users     \n",
       "12    andrew@openmined.org/awesome_project/README.md               2025-07-16 23:54 md             59 B 2 users     \n",
       "13    andrew@openmined.org/guestbook.txt                           2025-07-16 23:54 txt           239 B 2 users     \n",
       "14    mail@andreibratu.com/app_data/data-syncer/rpc                2025-07-16 23:49 folder        483 B 1 users     \n",
       "15    andrew@openmined.org/awesome_project                         2025-07-16 23:36 folder        337 B 2 users     \n",
       "16    andrew@openmined.org/public                                  2025-07-16 23:16 folder        406 B 2 users     \n",
       "17    andrew@openmined.org/public/antiguestbook.txt                2025-07-16 21:46 txt           105 B 2 users     \n",
       "18    b0rj494@gmail.com/app_data/flwr/borja.arroyog@upm.es_diab... 2025-07-16 14:47 folder         91 B 1 users     \n",
       "19    b0rj494@gmail.com/app_data/RDS/rpc/job/update                2025-07-16 14:32 folder          0 B 1 users     \n",
       "20    bag94@outlook.es/app_data/flwr/borja.arroyog@upm.es_diabe... 2025-07-16 14:31 folder      11.3 KB 1 users     \n",
       "21    bag94@outlook.es/app_data/RDS/rpc                            2025-07-16 14:31 folder      95.7 KB 1 users     \n",
       "22    b0rj494@gmail.com/app_data/RDS/rpc/job/create                2025-07-16 14:28 folder          0 B 1 users     \n",
       "23    b0rj494@gmail.com/app_data/RDS/rpc/user_code/create          2025-07-16 14:28 folder          0 B 1 users     \n",
       "24    bag94@outlook.es/app_data/RDS/store/job/dbb99fdd-e366-4a5... 2025-07-16 14:16 yaml          681 B 2 users     \n",
       "25    b0rj494@gmail.com/app_data/RDS/store/job/aa1abf6b-3550-40... 2025-07-16 14:16 yaml          682 B 2 users     \n",
       "26    bag94@outlook.es/app_data/flwr/borja.arroyog@upm.es_diabe... 2025-07-16 14:14 response    11.3 KB 1 users     \n",
       "27    bag94@outlook.es/app_data/flwr/borja.arroyog@upm.es_diabe... 2025-07-16 14:14 folder      11.4 KB 1 users     \n",
       "28    bag94@outlook.es/app_data/flwr/borja.arroyog@upm.es_diabe... 2025-07-16 14:12 json           91 B 1 users     \n",
       "29    bag94@outlook.es/app_data/flwr/borja.arroyog@upm.es_diabe... 2025-07-16 14:12 folder      11.4 KB 1 users     \n",
       "30    bag94@outlook.es/app_data/flwr                               2025-07-16 14:12 folder      11.9 KB 1 users     \n",
       "31    b0rj494@gmail.com/app_data/flwr/borja.arroyog@upm.es_diab... 2025-07-16 14:12 json           91 B 1 users     \n",
       "32    b0rj494@gmail.com/app_data/flwr/borja.arroyog@upm.es_diab... 2025-07-16 14:12 folder         91 B 1 users     \n",
       "33    b0rj494@gmail.com/app_data/flwr                              2025-07-16 14:12 folder        637 B 1 users     \n",
       "34    b0rj494@gmail.com/app_data/RDS/store/job                     2025-07-16 14:12 folder      35.6 KB 2 users     \n",
       "35    b0rj494@gmail.com/app_data/RDS/store/usercode/597f4bd9-20... 2025-07-16 14:12 yaml          352 B 2 users     \n",
       "36    b0rj494@gmail.com/app_data/RDS/store/usercode                2025-07-16 14:12 folder       3.1 KB 2 users     \n",
       "37    bag94@outlook.es/app_data/RDS/store/usercode/6155d5b1-3d3... 2025-07-16 14:12 yaml          351 B 2 users     \n",
       "38    bag94@outlook.es/app_data/RDS/store/usercode                 2025-07-16 14:12 folder       3.4 KB 2 users     \n",
       "39    bag94@outlook.es/app_data/RDS/store/job                      2025-07-16 14:12 folder      56.2 KB 2 users     \n",
       "40    bag94@outlook.es/app_data/flwr/borja.arroyog@upm.es_diabe... 2025-07-16 14:09 folder         91 B 1 users     \n",
       "41    b0rj494@gmail.com/app_data/flwr/borja.arroyog@upm.es_diab... 2025-07-16 14:09 folder         91 B 1 users     \n",
       "42    bag94@outlook.es/app_data/RDS/store/job/402812c9-dfc8-4eb... 2025-07-16 13:54 yaml          681 B 2 users     \n",
       "43    b0rj494@gmail.com/app_data/RDS/store/job/c769c6ec-3e17-45... 2025-07-16 13:53 yaml          682 B 2 users     \n",
       "44    bag94@outlook.es/app_data/flwr/borja.arroyog@upm.es_diabe... 2025-07-16 13:50 json           91 B 1 users     \n",
       "45    bag94@outlook.es/app_data/flwr/borja.arroyog@upm.es_diabe... 2025-07-16 13:50 folder         91 B 1 users     \n",
       "46    b0rj494@gmail.com/app_data/flwr/borja.arroyog@upm.es_diab... 2025-07-16 13:50 json           91 B 1 users     \n",
       "47    b0rj494@gmail.com/app_data/flwr/borja.arroyog@upm.es_diab... 2025-07-16 13:50 folder         91 B 1 users     \n",
       "48    b0rj494@gmail.com/app_data/RDS/store/usercode/e084dd1e-75... 2025-07-16 13:50 yaml          352 B 2 users     \n",
       "49    bag94@outlook.es/app_data/RDS/store/usercode/995b0f74-d0a... 2025-07-16 13:50 yaml          351 B 2 users     \n",
       "50    bag94@outlook.es/app_data/flwr/borja.arroyog@upm.es_diabe... 2025-07-16 13:40 folder         91 B 1 users     \n",
       "--------------------------------------------------------------------------------------------------------------------\n",
       "2626 files, 2659 folders • Total size: 461.1 MB\n",
       "Use sp.files.page(n) to view other pages or sp.files in Jupyter for interactive view"
      ]
     },
     "execution_count": 54,
     "metadata": {},
     "output_type": "execute_result"
    }
   ],
   "source": [
    "# Tip 2: Search operators in sp.files\n",
    "print(\"Try these search patterns in the widget below:\")\n",
    "print(\"1. 'admin:yourname@email.com' - Find files where you're admin\")\n",
    "print(\"2. '*.csv' - Find all CSV files\")\n",
    "print(\"3. 'user:alice@example.com' - Find files Alice has access to\")\n",
    "print(\"4. Use quotes for exact phrases: \\\"awesome project\\\"\")\n",
    "\n",
    "sp.files"
   ]
  },
  {
   "cell_type": "code",
   "execution_count": 55,
   "metadata": {},
   "outputs": [
    {
     "name": "stdout",
     "output_type": "stream",
     "text": [
      "Click any file path to copy sp.open() code!\n",
      "Try clicking on different files in the widget above\n"
     ]
    }
   ],
   "source": [
    "# Tip 3: The file editor shortcut\n",
    "print(\"Click any file path to copy sp.open() code!\")\n",
    "print(\"Try clicking on different files in the widget above\")"
   ]
  },
  {
   "cell_type": "code",
   "execution_count": 56,
   "metadata": {},
   "outputs": [
    {
     "name": "stdout",
     "output_type": "stream",
     "text": [
      "Created 5 data files\n"
     ]
    }
   ],
   "source": [
    "# Tip 4: Batch operations\n",
    "# Let's create multiple files and set permissions in one go\n",
    "\n",
    "batch_folder = path / 'batch_example'\n",
    "batch_folder.mkdir(exist_ok=True)\n",
    "\n",
    "# Create 5 data files\n",
    "for i in range(5):\n",
    "    (batch_folder / f'data_{i}.csv').write_text(f'id,value\\n{i},{i*100}')\n",
    "\n",
    "print(\"Created 5 data files\")"
   ]
  },
  {
   "cell_type": "code",
   "execution_count": 60,
   "metadata": {},
   "outputs": [
    {
     "name": "stdout",
     "output_type": "stream",
     "text": [
      "Set permissions for all CSV files with one pattern!\n"
     ]
    }
   ],
   "source": [
    "# Use patterns to set permissions for all at once\n",
    "batch_yaml = \"\"\"rules:\n",
    "- pattern: '**'\n",
    "  access:\n",
    "    read:\n",
    "    - data_team@company.com\n",
    "    write:\n",
    "    - data_team@company.com\n",
    "\"\"\"\n",
    "\n",
    "(batch_folder / 'syft.pub.yaml').write_text(batch_yaml)\n",
    "print(\"Set permissions for all CSV files with one pattern!\")"
   ]
  },
  {
   "cell_type": "code",
   "execution_count": 61,
   "metadata": {},
   "outputs": [
    {
     "name": "stdout",
     "output_type": "stream",
     "text": [
      "Permissions for data_3.csv:\n"
     ]
    },
    {
     "data": {
      "text/html": [
       "\n",
       "            <div style=\"width: 100%; height: 600px; border: 1px solid #3e3e42;\n",
       "                         border-radius: 8px; overflow: hidden; background: #1e1e1e;\">\n",
       "                <iframe src=\"http://localhost:8005/file-editor//Users/atrask/SyftBox/datasites/andrew@openmined.org/batch_example/data_3.csv\"\n",
       "                        style=\"width: 100%; height: 100%; border: none;\n",
       "                               background: transparent;\"\n",
       "                        frameborder=\"0\"\n",
       "                        allow=\"clipboard-read; clipboard-write\">\n",
       "                </iframe>\n",
       "            </div>\n",
       "            "
      ],
      "text/plain": [
       "SyftFile('/Users/atrask/SyftBox/datasites/andrew@openmined.org/batch_example/data_3.csv')\n",
       "\n",
       "User                   Read    Create    Write    Admin    Reason\n",
       "---------------------  ------  --------  -------  -------  ----------------------------------------------------------------------------------------------------------------------------\n",
       "andrew@openmined.org   ✓       ✓         ✓        ✓        [Admin] Owner of path; [Write] Owner of path; [Create] Owner of path; [Read] Owner of path\n",
       "data_team@company.com  ✓       ✓         ✓                 [Write] Explicitly granted write in /Users/atrask/SyftBox/datasites/andrew@openmined.org/batch_example; Pattern '**' matched"
      ]
     },
     "execution_count": 61,
     "metadata": {},
     "output_type": "execute_result"
    }
   ],
   "source": [
    "# Verify it worked\n",
    "test_batch = sp.open(f\"syft://{email}/batch_example/data_3.csv\")\n",
    "print(\"Permissions for data_3.csv:\")\n",
    "test_batch"
   ]
  },
  {
   "cell_type": "markdown",
   "metadata": {},
   "source": [
    "# Part 10: What does this mean for Privacy & AI? Let's BUILD something!\n",
    "\n",
    "Instead of just talking about it, let's create a mini federated learning setup!"
   ]
  },
  {
   "cell_type": "code",
   "execution_count": 62,
   "metadata": {},
   "outputs": [
    {
     "name": "stdout",
     "output_type": "stream",
     "text": [
      "Created federated learning project structure!\n"
     ]
    }
   ],
   "source": [
    "# Create a federated learning project structure\n",
    "fl_project = path / 'federated_learning_demo'\n",
    "fl_project.mkdir(exist_ok=True)\n",
    "\n",
    "# Create folders for different participants\n",
    "(fl_project / 'hospital_a').mkdir(exist_ok=True)\n",
    "(fl_project / 'hospital_b').mkdir(exist_ok=True) \n",
    "(fl_project / 'model_aggregator').mkdir(exist_ok=True)\n",
    "(fl_project / 'results').mkdir(exist_ok=True)\n",
    "\n",
    "print(\"Created federated learning project structure!\")"
   ]
  },
  {
   "cell_type": "code",
   "execution_count": 67,
   "metadata": {},
   "outputs": [
    {
     "name": "stdout",
     "output_type": "stream",
     "text": [
      "Hospital A: Shared gradients but kept patient data private!\n"
     ]
    }
   ],
   "source": [
    "# Hospital A shares encrypted gradients (not raw data!)\n",
    "(fl_project / 'hospital_a' / 'gradients_epoch_1.json').write_text(\n",
    "    '{\"gradient\": [0.1, -0.2, 0.3], \"num_samples\": 1000}'\n",
    ")\n",
    "(fl_project / 'hospital_a' / 'private_patient_data.csv').write_text(\n",
    "    'patient_id,diagnosis\\n[ENCRYPTED]'\n",
    ")\n",
    "\n",
    "# Set permissions - gradients are shared, data is private\n",
    "gradients_a = sp.open(f\"syft://{email}/federated_learning_demo/hospital_a/gradients_epoch_1.json\")\n",
    "gradients_a.grant_read_access(\"aggregator@openmined.org\") # you could replace this email with any datasite trusted to do aggregation\n",
    "\n",
    "private_data_a = sp.open(f\"syft://{email}/federated_learning_demo/hospital_a/private_patient_data.csv\")\n",
    "# No external access to private data!\n",
    "\n",
    "print(\"Hospital A: Shared gradients but kept patient data private!\")"
   ]
  },
  {
   "cell_type": "code",
   "execution_count": 68,
   "metadata": {},
   "outputs": [
    {
     "name": "stdout",
     "output_type": "stream",
     "text": [
      "Hospital B: Also sharing only gradients!\n"
     ]
    }
   ],
   "source": [
    "# Hospital B does the same\n",
    "(fl_project / 'hospital_b' / 'gradients_epoch_1.json').write_text(\n",
    "    '{\"gradient\": [0.2, -0.1, 0.4], \"num_samples\": 800}'\n",
    ")\n",
    "\n",
    "gradients_b = sp.open(f\"syft://{email}/federated_learning_demo/hospital_b/gradients_epoch_1.json\")\n",
    "gradients_b.grant_read_access(\"aggregator@openmined.org\")\n",
    "\n",
    "print(\"Hospital B: Also sharing only gradients!\")"
   ]
  },
  {
   "cell_type": "code",
   "execution_count": 69,
   "metadata": {},
   "outputs": [
    {
     "name": "stdout",
     "output_type": "stream",
     "text": [
      "Aggregator: Combined models and shared results publicly!\n"
     ]
    }
   ],
   "source": [
    "# Model aggregator combines gradients and shares results\n",
    "(fl_project / 'model_aggregator' / 'aggregated_model_v1.json').write_text(\n",
    "    '{\"weights\": [0.15, -0.15, 0.35], \"performance\": 0.89}'\n",
    ")\n",
    "\n",
    "# Share results with everyone\n",
    "results = sp.open(f\"syft://{email}/federated_learning_demo/model_aggregator/aggregated_model_v1.json\")\n",
    "results.grant_read_access(\"*\")\n",
    "\n",
    "print(\"Aggregator: Combined models and shared results publicly!\")"
   ]
  },
  {
   "cell_type": "code",
   "execution_count": 70,
   "metadata": {},
   "outputs": [
    {
     "name": "stdout",
     "output_type": "stream",
     "text": [
      "Created public results dashboard!\n"
     ]
    }
   ],
   "source": [
    "# Create a public results dashboard\n",
    "(fl_project / 'results' / 'README.md').write_text(\"\"\"\n",
    "# Federated Learning Results\n",
    "\n",
    "## Privacy-Preserving Medical AI\n",
    "\n",
    "- **Participants**: 2 hospitals\n",
    "- **Total Samples**: 1,800 patients \n",
    "- **Model Performance**: 89% accuracy\n",
    "- **Privacy**: No patient data was shared!\n",
    "\n",
    "### How it works:\n",
    "1. Each hospital trains on their private data\n",
    "2. Only model gradients are shared (not data!)\n",
    "3. Central server aggregates gradients\n",
    "4. Updated model is shared back\n",
    "\n",
    "This demonstrates SyftBox's vision: Compute on distributed private data!\n",
    "\"\"\")\n",
    "\n",
    "results_readme = sp.open(f\"syft://{email}/federated_learning_demo/results/README.md\")\n",
    "results_readme.grant_read_access(\"*\")\n",
    "\n",
    "print(\"Created public results dashboard!\")"
   ]
  },
  {
   "cell_type": "code",
   "execution_count": 71,
   "metadata": {},
   "outputs": [
    {
     "name": "stdout",
     "output_type": "stream",
     "text": [
      "What can the model aggregator see?\n",
      "\n",
      "Hospital A gradients:\n",
      "Permission analysis for model_aggregator@university.edu on /Users/atrask/SyftBox/datasites/andrew@openmined.org/federated_learning_demo/hospital_a/gradients_epoch_1.json:\n",
      "\n",
      "ADMIN: ✗ DENIED\n",
      "  • Pattern 'gradients_epoch_1.json' matched\n",
      "\n",
      "WRITE: ✗ DENIED\n",
      "  • Pattern 'gradients_epoch_1.json' matched\n",
      "\n",
      "CREATE: ✗ DENIED\n",
      "  • Pattern 'gradients_epoch_1.json' matched\n",
      "\n",
      "READ: ✗ DENIED\n",
      "  • Pattern 'gradients_epoch_1.json' matched\n",
      "\n",
      "\n",
      "\n",
      "==================================================\n",
      "\n",
      "Hospital A private data:\n",
      "Permission analysis for model_aggregator@university.edu on /Users/atrask/SyftBox/datasites/andrew@openmined.org/federated_learning_demo/hospital_a/private_patient_data.csv:\n",
      "\n",
      "ADMIN: ✗ DENIED\n",
      "  • No permission found\n",
      "\n",
      "WRITE: ✗ DENIED\n",
      "  • No permission found\n",
      "\n",
      "CREATE: ✗ DENIED\n",
      "  • No permission found\n",
      "\n",
      "READ: ✗ DENIED\n",
      "  • No permission found\n",
      "\n",
      "\n"
     ]
    }
   ],
   "source": [
    "# Let's verify the privacy model works\n",
    "print(\"What can the model aggregator see?\")\n",
    "print(\"\\nHospital A gradients:\")\n",
    "print(gradients_a.explain_permissions(\"model_aggregator@university.edu\"))\n",
    "\n",
    "print(\"\\n\" + \"=\"*50 + \"\\n\")\n",
    "\n",
    "print(\"Hospital A private data:\")\n",
    "print(private_data_a.explain_permissions(\"model_aggregator@university.edu\"))"
   ]
  },
  {
   "cell_type": "code",
   "execution_count": 72,
   "metadata": {},
   "outputs": [
    {
     "name": "stdout",
     "output_type": "stream",
     "text": [
      "Search for all files in our federated learning demo:\n"
     ]
    },
    {
     "data": {
      "text/html": [
       "\n",
       "        <div style=\"width: 100%; height: 600px; border: 1px solid #3e3e42; border-radius: 8px; overflow: hidden;\">\n",
       "            <iframe \n",
       "                src=\"http://localhost:8005/files-widget?search=andrew@openmined.org federated_learning_demo\" \n",
       "                width=\"100%\" \n",
       "                height=\"100%\" \n",
       "                frameborder=\"0\"\n",
       "                style=\"border: none;\"\n",
       "                allow=\"clipboard-read; clipboard-write\">\n",
       "            </iframe>\n",
       "        </div>\n",
       "        "
      ],
      "text/plain": [
       "FastAPI Files Widget: http://localhost:8005/files-widget?search=andrew@openmined.org federated_learning_demo"
      ]
     },
     "execution_count": 72,
     "metadata": {},
     "output_type": "execute_result"
    }
   ],
   "source": [
    "# Explore the complete federated learning setup\n",
    "print(\"Search for all files in our federated learning demo:\")\n",
    "sp.files.search(f\"{email} federated_learning_demo\")"
   ]
  },
  {
   "cell_type": "markdown",
   "metadata": {},
   "source": [
    "# Part 11: Isn't that... kindof a MANUAL/INCONVENIENT way to do Federated Learning?\n",
    "\n",
    "Yes... other libraries will handle the creation/editing of those kinds of files for you. Try the next tutorial!"
   ]
  },
  {
   "cell_type": "markdown",
   "metadata": {},
   "source": [
    "## 🎉 Congratulations!\n",
    "\n",
    "You've just built a mini federated learning system that demonstrates SyftBox's core vision:\n",
    "\n",
    "1. **Privacy by Design**: Patient data never leaves hospitals\n",
    "2. **Selective Sharing**: Only aggregated insights are shared\n",
    "3. **Decentralized Computation**: Each participant computes locally\n",
    "4. **Transparent Permissions**: Everyone can verify who sees what\n",
    "\n",
    "### This is the future of AI:\n",
    "- **More Data**: Access data that was previously locked in silos\n",
    "- **Better Privacy**: Compute on data without seeing it\n",
    "- **Real Collaboration**: Multiple parties working together safely\n",
    "- **Regulatory Compliance**: Respect data sovereignty and privacy laws\n",
    "\n",
    "### What you learned:\n",
    "✅ How to use SyftBox permission system  \n",
    "✅ How to share files selectively  \n",
    "✅ How permissions inherit and conflict  \n",
    "✅ How to build privacy-preserving systems  \n",
    "\n",
    "### Next steps:\n",
    "- Try building your own privacy-preserving application\n",
    "- Join the SyftBox community\n",
    "- Contribute to the open-source project\n",
    "- Help us build the future of private AI!\n",
    "\n",
    "Welcome to the Private AI Revolution! 🚀"
   ]
  }
 ],
 "metadata": {
  "kernelspec": {
   "display_name": "Python 3 (ipykernel)",
   "language": "python",
   "name": "python3"
  },
  "language_info": {
   "codemirror_mode": {
    "name": "ipython",
    "version": 3
   },
   "file_extension": ".py",
   "mimetype": "text/x-python",
   "name": "python",
   "nbconvert_exporter": "python",
   "pygments_lexer": "ipython3",
   "version": "3.12.9"
  }
 },
 "nbformat": 4,
 "nbformat_minor": 4
}
