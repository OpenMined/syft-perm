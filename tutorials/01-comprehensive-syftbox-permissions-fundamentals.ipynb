{
 "cells": [
  {
   "cell_type": "markdown",
   "metadata": {},
   "source": [
    "# Comprehensive SyftBox Permissions Tutorial\n",
    "## Part 1: Fundamentals and Core Concepts\n",
    "\n",
    "Welcome to the comprehensive guide to SyftBox permissions! This tutorial series will take you from beginner to expert, covering every aspect of how SyftBox's permission system works.\n",
    "\n",
    "### What You'll Learn in This Series\n",
    "\n",
    "1. **Part 1 (This notebook): Fundamentals** - Core concepts, permission levels, basic inheritance\n",
    "2. **Part 2: Patterns and Matching** - Glob patterns, specificity, wildcards, and double-star patterns\n",
    "3. **Part 3: Inheritance and Hierarchy** - How permissions flow through directory trees\n",
    "4. **Part 4: Terminal Nodes and Blocking** - Advanced inheritance control\n",
    "5. **Part 5: File Limits and Restrictions** - Size limits, file type controls\n",
    "6. **Part 6: Complex Scenarios** - Real-world edge cases and debugging\n",
    "\n",
    "### Prerequisites\n",
    "- Basic Python knowledge\n",
    "- Familiarity with file systems and directories\n",
    "- Have completed the \"5-minute quickstart\" tutorial"
   ]
  },
  {
   "cell_type": "markdown",
   "metadata": {},
   "source": [
    "## Setup"
   ]
  },
  {
   "cell_type": "code",
   "execution_count": null,
   "metadata": {},
   "outputs": [],
   "source": [
    "import syft_perm\n",
    "from pathlib import Path\n",
    "import tempfile\n",
    "import shutil\n",
    "import yaml\n",
    "\n",
    "# Create a clean workspace for this tutorial\n",
    "tutorial_dir = Path(tempfile.mkdtemp(prefix=\"syftbox_tutorial_\"))\n",
    "print(f\"Tutorial workspace: {tutorial_dir}\")\n",
    "\n",
    "def cleanup_and_reset():\n",
    "    \"\"\"Clean up and create fresh workspace\"\"\"\n",
    "    global tutorial_dir\n",
    "    if tutorial_dir.exists():\n",
    "        shutil.rmtree(tutorial_dir)\n",
    "    tutorial_dir = Path(tempfile.mkdtemp(prefix=\"syftbox_tutorial_\"))\n",
    "    print(f\"Fresh workspace: {tutorial_dir}\")\n",
    "    return tutorial_dir\n",
    "\n",
    "def show_yaml(path):\n",
    "    \"\"\"Display the generated syft.pub.yaml file\"\"\"\n",
    "    yaml_file = path / \"syft.pub.yaml\"\n",
    "    if yaml_file.exists():\n",
    "        print(f\"\\n=== {yaml_file} ===\")\n",
    "        print(yaml_file.read_text())\n",
    "        print(\"=\" * 50)\n",
    "    else:\n",
    "        print(f\"No syft.pub.yaml in {path}\")"
   ]
  },
  {
   "cell_type": "markdown",
   "metadata": {},
   "source": [
    "## Chapter 1: Understanding Permission Levels\n",
    "\n",
    "SyftBox has **4 permission levels** arranged in a hierarchy. Higher levels include all permissions of lower levels."
   ]
  },
  {
   "cell_type": "code",
   "execution_count": null,
   "metadata": {},
   "outputs": [],
   "source": [
    "# Create a test file\n",
    "test_file = tutorial_dir / \"example.txt\"\n",
    "test_file.write_text(\"Example content\")\n",
    "\n",
    "syft_file = syft_perm.open(test_file)\n",
    "\n",
    "# The 4 permission levels (lowest to highest)\n",
    "print(\"=== Permission Hierarchy ===\")\n",
    "print(\"1. READ - Can view file contents\")\n",
    "print(\"2. CREATE - Can read + create new files\")\n",
    "print(\"3. WRITE - Can read + create + modify existing files\")\n",
    "print(\"4. ADMIN - Can read + create + write + manage permissions\")\n",
    "print(\"\\nHigher levels include all lower level permissions!\")"
   ]
  },
  {
   "cell_type": "code",
   "execution_count": null,
   "metadata": {},
   "outputs": [],
   "source": [
    "# Demonstrate permission hierarchy\n",
    "syft_file.grant_write_access(\"alice@example.com\", force=True)\n",
    "\n",
    "print(\"Alice has WRITE permission, so she also gets:\")\n",
    "print(f\"- Read access: {syft_file.has_read_access('alice@example.com')}\")\n",
    "print(f\"- Create access: {syft_file.has_create_access('alice@example.com')}\")\n",
    "print(f\"- Write access: {syft_file.has_write_access('alice@example.com')}\")\n",
    "print(f\"- Admin access: {syft_file.has_admin_access('alice@example.com')}\")\n",
    "\n",
    "syft_file"
   ]
  },
  {
   "cell_type": "markdown",
   "metadata": {},
   "source": [
    "## Chapter 2: The syft.pub.yaml File Structure\n",
    "\n",
    "Let's understand what syft-perm generates behind the scenes."
   ]
  },
  {
   "cell_type": "code",
   "execution_count": null,
   "metadata": {},
   "outputs": [],
   "source": [
    "# Look at the generated YAML\n",
    "show_yaml(tutorial_dir)\n",
    "\n",
    "# The structure is:\n",
    "print(\"\\n=== YAML Structure ===\")\n",
    "print(\"rules:                    # List of permission rules\")\n",
    "print(\"- pattern: 'example.txt'  # Which files this rule applies to\")\n",
    "print(\"  access:                 # Permission grants\")\n",
    "print(\"    write:                # Permission level\")\n",
    "    print(\"    - alice@example.com   # Users with this permission\")"
   ]
  },
  {
   "cell_type": "markdown",
   "metadata": {},
   "source": [
    "## Chapter 3: Multiple Users and Permission Levels"
   ]
  },
  {
   "cell_type": "code",
   "execution_count": null,
   "metadata": {},
   "outputs": [],
   "source": [
    "# Grant different permissions to different users\n",
    "syft_file.grant_read_access(\"reader@example.com\", force=True)\n",
    "syft_file.grant_create_access(\"creator@example.com\", force=True)\n",
    "syft_file.grant_admin_access(\"admin@example.com\", force=True)\n",
    "\n",
    "print(\"=== Permission Matrix ===\")\n",
    "users = [\"reader@example.com\", \"creator@example.com\", \"alice@example.com\", \"admin@example.com\"]\n",
    "permissions = [\"read\", \"create\", \"write\", \"admin\"]\n",
    "\n",
    "# Create a table\n",
    "print(f\"{'User':<20} {'Read':<6} {'Create':<8} {'Write':<6} {'Admin':<6}\")\n",
    "print(\"-\" * 55)\n",
    "\n",
    "for user in users:\n",
    "    row = f\"{user:<20}\"\n",
    "    for perm in permissions:\n",
    "        has_perm = getattr(syft_file, f\"has_{perm}_access\")(user)\n",
    "        row += f\" {'✓' if has_perm else '✗':<6}\"\n",
    "    print(row)\n",
    "\n",
    "syft_file"
   ]
  },
  {
   "cell_type": "code",
   "execution_count": null,
   "metadata": {},
   "outputs": [],
   "source": [
    "# Look at the updated YAML - notice how permissions accumulate\n",
    "show_yaml(tutorial_dir)"
   ]
  },
  {
   "cell_type": "markdown",
   "metadata": {},
   "source": [
    "## Chapter 4: Public Access with \"*\"\n",
    "\n",
    "The special `\"*\"` user means \"everyone\"."
   ]
  },
  {
   "cell_type": "code",
   "execution_count": null,
   "metadata": {},
   "outputs": [],
   "source": [
    "# Create a public file\n",
    "cleanup_and_reset()\n",
    "public_file = tutorial_dir / \"public.txt\"\n",
    "public_file.write_text(\"Public information\")\n",
    "\n",
    "syft_public = syft_perm.open(public_file)\n",
    "syft_public.grant_read_access(\"*\", force=True)  # Everyone can read\n",
    "\n",
    "# Test with random users\n",
    "test_users = [\"anyone@example.com\", \"random@user.com\", \"test@domain.org\"]\n",
    "print(\"Public access test:\")\n",
    "for user in test_users:\n",
    "    can_read = syft_public.has_read_access(user)\n",
    "    print(f\"{user}: {can_read}\")\n",
    "\n",
    "show_yaml(tutorial_dir)"
   ]
  },
  {
   "cell_type": "markdown",
   "metadata": {},
   "source": [
    "## Chapter 5: Folder Permissions and Basic Inheritance\n",
    "\n",
    "Permissions can be applied to folders, and files inherit permissions from their parent directories."
   ]
  },
  {
   "cell_type": "code",
   "execution_count": null,
   "metadata": {},
   "outputs": [],
   "source": [
    "# Create a folder structure\n",
    "cleanup_and_reset()\n",
    "project_dir = tutorial_dir / \"my_project\"\n",
    "project_dir.mkdir()\n",
    "\n",
    "# Create files in the folder\n",
    "files = [\n",
    "    project_dir / \"README.md\",\n",
    "    project_dir / \"main.py\",\n",
    "    project_dir / \"data.csv\"\n",
    "]\n",
    "\n",
    "for file_path in files:\n",
    "    file_path.write_text(f\"Content of {file_path.name}\")\n",
    "\n",
    "print(f\"Created folder: {project_dir}\")\n",
    "print(f\"Created files: {[f.name for f in files]}\")"
   ]
  },
  {
   "cell_type": "code",
   "execution_count": null,
   "metadata": {},
   "outputs": [],
   "source": [
    "# Apply permissions to the FOLDER\n",
    "syft_folder = syft_perm.open(project_dir)\n",
    "syft_folder.grant_read_access(\"team@example.com\", force=True)\n",
    "syft_folder.grant_write_access(\"lead@example.com\", force=True)\n",
    "\n",
    "print(\"Folder permissions:\")\n",
    "syft_folder"
   ]
  },
  {
   "cell_type": "code",
   "execution_count": null,
   "metadata": {},
   "outputs": [],
   "source": [
    "# Check that files INHERIT permissions from the folder\n",
    "print(\"\\n=== Inheritance Test ===\")\n",
    "for file_path in files:\n",
    "    syft_file = syft_perm.open(file_path)\n",
    "    \n",
    "    team_read = syft_file.has_read_access(\"team@example.com\")\n",
    "    lead_write = syft_file.has_write_access(\"lead@example.com\")\n",
    "    \n",
    "    print(f\"{file_path.name}:\")\n",
    "    print(f\"  Team can read: {team_read}\")\n",
    "    print(f\"  Lead can write: {lead_write}\")\n",
    "    print()"
   ]
  },
  {
   "cell_type": "code",
   "execution_count": null,
   "metadata": {},
   "outputs": [],
   "source": [
    "# Look at the YAML - only the folder has rules, files inherit\n",
    "show_yaml(tutorial_dir)\n",
    "show_yaml(project_dir)  # Folder has the rules"
   ]
  },
  {
   "cell_type": "markdown",
   "metadata": {},
   "source": [
    "## Chapter 6: Permission Debugging and Reasoning\n",
    "\n",
    "Understanding WHY a permission was granted or denied is crucial for debugging."
   ]
  },
  {
   "cell_type": "code",
   "execution_count": null,
   "metadata": {},
   "outputs": [],
   "source": [
    "# Let's debug the inheritance we just saw\n",
    "readme_file = syft_perm.open(project_dir / \"README.md\")\n",
    "\n",
    "print(\"=== Detailed Permission Analysis ===\")\n",
    "explanation = readme_file.explain_permissions(\"team@example.com\")\n",
    "print(explanation)"
   ]
  },
  {
   "cell_type": "code",
   "execution_count": null,
   "metadata": {},
   "outputs": [],
   "source": [
    "# Check specific permission with reasons\n",
    "has_write, reasons = readme_file._check_permission_with_reasons(\"team@example.com\", \"write\")\n",
    "print(f\"Team can write README.md: {has_write}\")\n",
    "print(\"Reasons:\")\n",
    "for reason in reasons:\n",
    "    print(f\"  - {reason}\")"
   ]
  },
  {
   "cell_type": "markdown",
   "metadata": {},
   "source": [
    "## Chapter 7: The Nearest-Node Algorithm\n",
    "\n",
    "This is the **core concept** of SyftBox permissions! When checking permissions for a file, SyftBox finds the **nearest parent directory** that has matching rules."
   ]
  },
  {
   "cell_type": "code",
   "execution_count": null,
   "metadata": {},
   "outputs": [],
   "source": [
    "# Create a multi-level directory structure\n",
    "cleanup_and_reset()\n",
    "\n",
    "# Structure:\n",
    "# tutorial_dir/\n",
    "#   ├── parent/\n",
    "#   │   ├── child/\n",
    "#   │   │   └── file.txt\n",
    "#   │   └── sibling.txt\n",
    "#   └── other.txt\n",
    "\n",
    "parent_dir = tutorial_dir / \"parent\"\n",
    "child_dir = parent_dir / \"child\"\n",
    "child_dir.mkdir(parents=True)\n",
    "\n",
    "# Create files at different levels\n",
    "files = {\n",
    "    \"root_file\": tutorial_dir / \"other.txt\",\n",
    "    \"parent_file\": parent_dir / \"sibling.txt\", \n",
    "    \"child_file\": child_dir / \"file.txt\"\n",
    "}\n",
    "\n",
    "for name, path in files.items():\n",
    "    path.write_text(f\"Content of {name}\")\n",
    "\n",
    "print(\"Created directory structure:\")\n",
    "print(f\"{tutorial_dir}/\")\n",
    "print(f\"├── parent/\")\n",
    "print(f\"│   ├── child/\")\n",
    "print(f\"│   │   └── file.txt\")\n",
    "print(f\"│   └── sibling.txt\")\n",
    "print(f\"└── other.txt\")"
   ]
  },
  {
   "cell_type": "code",
   "execution_count": null,
   "metadata": {},
   "outputs": [],
   "source": [
    "# Set permissions only on the PARENT directory\n",
    "syft_parent = syft_perm.open(parent_dir)\n",
    "syft_parent.grant_read_access(\"alice@example.com\", force=True)\n",
    "\n",
    "print(\"Set permissions on parent/ directory only\")\n",
    "show_yaml(parent_dir)"
   ]
  },
  {
   "cell_type": "code",
   "execution_count": null,
   "metadata": {},
   "outputs": [],
   "source": [
    "# Test the nearest-node algorithm\n",
    "print(\"=== Nearest-Node Algorithm Test ===\")\n",
    "\n",
    "for name, path in files.items():\n",
    "    syft_file = syft_perm.open(path)\n",
    "    can_read = syft_file.has_read_access(\"alice@example.com\")\n",
    "    \n",
    "    print(f\"{name} ({path.relative_to(tutorial_dir)}):\")\n",
    "    print(f\"  Alice can read: {can_read}\")\n",
    "    \n",
    "    # Show the reasoning\n",
    "    has_read, reasons = syft_file._check_permission_with_reasons(\"alice@example.com\", \"read\")\n",
    "    print(f\"  Reason: {reasons[0] if reasons else 'No reason'}\")\n",
    "    print()"
   ]
  },
  {
   "cell_type": "markdown",
   "metadata": {},
   "source": [
    "**Key Insight**: \n",
    "- `file.txt` and `sibling.txt` inherit from `parent/` (nearest node with rules)\n",
    "- `other.txt` has no permissions because there's no matching rule in any parent"
   ]
  },
  {
   "cell_type": "markdown",
   "metadata": {},
   "source": [
    "## Chapter 8: Ownership and Automatic Permissions\n",
    "\n",
    "File owners automatically get all permissions, regardless of explicit rules."
   ]
  },
  {
   "cell_type": "code",
   "execution_count": null,
   "metadata": {},
   "outputs": [],
   "source": [
    "# Create a datasite structure (simulates SyftBox ownership)\n",
    "cleanup_and_reset()\n",
    "\n",
    "# SyftBox determines ownership by path: datasites/{email}/...\n",
    "datasite_dir = tutorial_dir / \"datasites\" / \"alice@example.com\"\n",
    "datasite_dir.mkdir(parents=True)\n",
    "\n",
    "# Alice's file in her datasite\n",
    "alice_file = datasite_dir / \"my_file.txt\"\n",
    "alice_file.write_text(\"Alice's private data\")\n",
    "\n",
    "syft_alice_file = syft_perm.open(alice_file)\n",
    "\n",
    "# Test ownership detection\n",
    "print(\"=== Ownership Test ===\")\n",
    "print(f\"Alice owns her file: {syft_alice_file.has_admin_access('alice@example.com')}\")\n",
    "print(f\"Bob can't access: {syft_alice_file.has_read_access('bob@example.com')}\")\n",
    "\n",
    "# Show reasoning\n",
    "has_admin, reasons = syft_alice_file._check_permission_with_reasons(\"alice@example.com\", \"admin\")\n",
    "print(f\"\\nWhy Alice has admin access: {reasons}\")"
   ]
  },
  {
   "cell_type": "markdown",
   "metadata": {},
   "source": [
    "## Chapter 9: Revoking Permissions"
   ]
  },
  {
   "cell_type": "code",
   "execution_count": null,
   "metadata": {},
   "outputs": [],
   "source": [
    "# Create a file with multiple users\n",
    "cleanup_and_reset()\n",
    "shared_file = tutorial_dir / \"shared.txt\"\n",
    "shared_file.write_text(\"Shared content\")\n",
    "\n",
    "syft_shared = syft_perm.open(shared_file)\n",
    "\n",
    "# Grant permissions to multiple users\n",
    "users = [\"alice@example.com\", \"bob@example.com\", \"charlie@example.com\"]\n",
    "for user in users:\n",
    "    syft_shared.grant_read_access(user, force=True)\n",
    "\n",
    "print(\"Before revocation:\")\n",
    "syft_shared"
   ]
  },
  {
   "cell_type": "code",
   "execution_count": null,
   "metadata": {},
   "outputs": [],
   "source": [
    "# Revoke Bob's access\n",
    "syft_shared.revoke_read_access(\"bob@example.com\")\n",
    "\n",
    "print(\"After revoking Bob's access:\")\n",
    "for user in users:\n",
    "    can_read = syft_shared.has_read_access(user)\n",
    "    print(f\"{user}: {can_read}\")\n",
    "\n",
    "syft_shared"
   ]
  },
  {
   "cell_type": "code",
   "execution_count": null,
   "metadata": {},
   "outputs": [],
   "source": [
    "# Revoke public access\n",
    "syft_shared.grant_read_access(\"*\", force=True)  # Grant public access first\n",
    "print(\"After granting public access:\")\n",
    "print(f\"Random user can read: {syft_shared.has_read_access('random@example.com')}\")\n",
    "\n",
    "syft_shared.revoke_read_access(\"*\")  # Revoke public access\n",
    "print(\"\\nAfter revoking public access:\")\n",
    "print(f\"Random user can read: {syft_shared.has_read_access('random@example.com')}\")\n",
    "print(f\"Alice still can read: {syft_shared.has_read_access('alice@example.com')}\")"
   ]
  },
  {
   "cell_type": "markdown",
   "metadata": {},
   "source": [
    "## Summary: Part 1 Key Concepts\n",
    "\n",
    "Congratulations! You've learned the fundamentals:\n",
    "\n",
    "### ✅ **Core Concepts Mastered**\n",
    "1. **Permission Hierarchy**: Read < Create < Write < Admin\n",
    "2. **Higher includes lower**: Write permission includes Read and Create\n",
    "3. **Public access**: Use `\"*\"` for everyone\n",
    "4. **Inheritance**: Files inherit permissions from parent directories\n",
    "5. **Nearest-node algorithm**: Find the closest parent with matching rules\n",
    "6. **Ownership**: File owners get all permissions automatically\n",
    "7. **YAML structure**: `rules` → `pattern` → `access` → permission levels\n",
    "8. **Debugging**: Use `explain_permissions()` and `_check_permission_with_reasons()`\n",
    "\n",
    "### 🚀 **Next Up: Part 2 - Patterns and Matching**\n",
    "In the next tutorial, you'll learn:\n",
    "- Glob patterns (`*.py`, `docs/**`, `**/*.txt`)\n",
    "- Pattern specificity and conflict resolution\n",
    "- Wildcard matching rules\n",
    "- Advanced pattern debugging\n",
    "\n",
    "The pattern system is where SyftBox permissions become truly powerful!"
   ]
  },
  {
   "cell_type": "code",
   "execution_count": null,
   "metadata": {},
   "outputs": [],
   "source": [
    "# Cleanup\n",
    "shutil.rmtree(tutorial_dir)\n",
    "print(\"Tutorial 1 complete! 🎉\")"
   ]
  }
 ],
 "metadata": {
  "kernelspec": {
   "display_name": "Python 3",
   "language": "python",
   "name": "python3"
  },
  "language_info": {
   "codemirror_mode": {
    "name": "ipython",
    "version": 3
   },
   "file_extension": ".py",
   "mimetype": "text/x-python",
   "name": "python",
   "nbconvert_exporter": "python",
   "pygments_lexer": "ipython3",
   "version": "3.8.5"
  }
 },
 "nbformat": 4,
 "nbformat_minor": 4
}