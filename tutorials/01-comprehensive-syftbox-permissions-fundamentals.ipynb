{
 "cells": [
  {
   "cell_type": "markdown",
   "metadata": {},
   "source": "# Comprehensive SyftBox Permissions Tutorial\n## Part 1: Fundamentals and Core Concepts\n\nWelcome to the comprehensive guide to SyftBox permissions! This tutorial series will take you from beginner to expert, covering every aspect of how SyftBox's permission system works.\n\n**The Problem This Tutorial Solves**: SyftBox's permission system is incredibly powerful but complex. Many developers struggle with understanding how permissions flow through directory hierarchies, why certain users can or cannot access files, and how to debug permission issues. This leads to either overly permissive setups (security risk) or overly restrictive ones (blocking legitimate access).\n\n**Our Solution**: A systematic walkthrough of every permission concept with hands-on examples, real debugging scenarios, and clear explanations of the underlying algorithms. By the end, you'll understand not just *how* to set permissions, but *why* they work the way they do.\n\n### What You'll Learn in This Series\n\n1. **Part 1 (This notebook): Fundamentals** - Core concepts, permission levels, basic inheritance\n2. **Part 2: Patterns and Matching** - Glob patterns, specificity, wildcards, and double-star patterns  \n3. **Part 3: Inheritance and Hierarchy** - How permissions flow through directory trees\n4. **Part 4: Terminal Nodes and Blocking** - Advanced inheritance control\n5. **Part 5: File Limits and Restrictions** - Size limits, file type controls\n6. **Part 6: Complex Scenarios** - Real-world edge cases and debugging\n\n### Prerequisites\n- Basic Python knowledge\n- Familiarity with file systems and directories  \n- Have completed the \"5-minute quickstart\" tutorial",
   "outputs": []
  },
  {
   "cell_type": "markdown",
   "metadata": {},
   "source": [
    "## Setup"
   ]
  },
  {
   "cell_type": "code",
   "execution_count": null,
   "metadata": {},
   "outputs": [],
   "source": [
    "import syft_perm\n",
    "from pathlib import Path\n",
    "import tempfile\n",
    "import shutil\n",
    "import yaml\n",
    "\n",
    "# Create a clean workspace for this tutorial\n",
    "tutorial_dir = Path(tempfile.mkdtemp(prefix=\"syftbox_tutorial_\"))\n",
    "print(f\"Tutorial workspace: {tutorial_dir}\")\n",
    "\n",
    "def cleanup_and_reset():\n",
    "    \"\"\"Clean up and create fresh workspace\"\"\"\n",
    "    global tutorial_dir\n",
    "    if tutorial_dir.exists():\n",
    "        shutil.rmtree(tutorial_dir)\n",
    "    tutorial_dir = Path(tempfile.mkdtemp(prefix=\"syftbox_tutorial_\"))\n",
    "    print(f\"Fresh workspace: {tutorial_dir}\")\n",
    "    return tutorial_dir\n",
    "\n",
    "def show_yaml(path):\n",
    "    \"\"\"Display the generated syft.pub.yaml file\"\"\"\n",
    "    yaml_file = path / \"syft.pub.yaml\"\n",
    "    if yaml_file.exists():\n",
    "        print(f\"\\n=== {yaml_file} ===\")\n",
    "        print(yaml_file.read_text())\n",
    "        print(\"=\" * 50)\n",
    "    else:\n",
    "        print(f\"No syft.pub.yaml in {path}\")"
   ]
  },
  {
   "cell_type": "markdown",
   "metadata": {},
   "source": "## Chapter 1: Understanding Permission Levels\n\n**The Problem**: In most systems, permissions are either \"all or nothing\" - you either have access or you don't. But in collaborative data science, you need nuanced control. A research collaborator might need to read your data but not modify it. A data engineer might need to create new files but not delete existing ones. A project lead might need full control.\n\n**The Solution**: SyftBox uses a **4-level permission hierarchy** where each level builds on the previous one. This gives you precise control over what each collaborator can do.\n\nLet's explore these levels and see how they build on each other:",
   "outputs": []
  },
  {
   "cell_type": "code",
   "execution_count": null,
   "metadata": {},
   "outputs": [],
   "source": [
    "# Create a test file\n",
    "test_file = tutorial_dir / \"example.txt\"\n",
    "test_file.write_text(\"Example content\")\n",
    "\n",
    "syft_file = syft_perm.open(test_file)\n",
    "\n",
    "# The 4 permission levels (lowest to highest)\n",
    "print(\"=== Permission Hierarchy ===\")\n",
    "print(\"1. READ - Can view file contents\")\n",
    "print(\"2. CREATE - Can read + create new files\")\n",
    "print(\"3. WRITE - Can read + create + modify existing files\")\n",
    "print(\"4. ADMIN - Can read + create + write + manage permissions\")\n",
    "print(\"\\nHigher levels include all lower level permissions!\")"
   ]
  },
  {
   "cell_type": "code",
   "metadata": {},
   "outputs": [],
   "source": "# Demonstrate permission hierarchy - this is the key insight!\nsyft_file.grant_write_access(\"alice@example.com\", force=True)\n\nprint(\"🔑 KEY INSIGHT: Permission levels are cumulative!\")\nprint(\"Alice has WRITE permission, which automatically gives her:\")\nprint(f\"- Read access: {syft_file.has_read_access('alice@example.com')}\")\nprint(f\"- Create access: {syft_file.has_create_access('alice@example.com')}\")\nprint(f\"- Write access: {syft_file.has_write_access('alice@example.com')}\")\nprint(f\"- Admin access: {syft_file.has_admin_access('alice@example.com')}\")\n\nprint(\"\\n💡 Why this matters:\")\nprint(\"- You don't need to grant Read AND Write - Write includes Read\")\nprint(\"- This prevents common mistakes where users have Write but not Read\")\nprint(\"- It simplifies permission management in complex hierarchies\")\n\nsyft_file"
  },
  {
   "cell_type": "markdown",
   "metadata": {},
   "source": "## Chapter 2: The syft.pub.yaml File Structure\n\n**The Problem**: Many permission systems store access rules in databases or binary formats that are hard to inspect, version control, or understand. When things go wrong, it's nearly impossible to debug what permissions are actually set.\n\n**The Solution**: SyftBox stores all permissions in human-readable YAML files called `syft.pub.yaml`. These files live alongside your data, can be version controlled with git, and are easy to inspect and understand.\n\nLet's decode what syft-perm generates behind the scenes:",
   "outputs": []
  },
  {
   "cell_type": "code",
   "metadata": {},
   "outputs": [],
   "source": "# Look at the generated YAML - this is what's actually stored on disk\nshow_yaml(tutorial_dir)\n\nprint(\"\\n🔍 YAML Structure Breakdown:\")\nprint(\"rules:                    # List of permission rules (can have multiple)\")\nprint(\"- pattern: 'example.txt'  # Which files this rule applies to (glob patterns)\")\nprint(\"  access:                 # Permission grants for this pattern\")\nprint(\"    write:                # Permission level (read/create/write/admin)\")\nprint(\"    - alice@example.com   # Users with this permission\")\n\nprint(\"\\n💡 Key Benefits:\")\nprint(\"✅ Human readable - you can inspect permissions by eye\")\nprint(\"✅ Version controllable - track permission changes in git\")\nprint(\"✅ Portable - copy files and permissions move with them\") \nprint(\"✅ Debuggable - see exactly what rules are active\")\nprint(\"✅ Editable - advanced users can edit YAML directly\")"
  },
  {
   "cell_type": "markdown",
   "metadata": {},
   "source": "## Chapter 3: Multiple Users and Permission Levels\n\n**The Problem**: Real projects involve teams with different roles. Your data science project might have:\n- External reviewers who need read-only access  \n- Junior researchers who can create new analyses but shouldn't modify core data\n- Senior researchers who can modify existing work\n- Project leads who manage the entire permission structure\n\n**The Solution**: SyftBox lets you grant different permission levels to different users on the same file. The permission hierarchy ensures everyone gets exactly the access they need without over-privileging.\n\nLet's build a realistic team permission structure:",
   "outputs": []
  },
  {
   "cell_type": "code",
   "metadata": {},
   "outputs": [],
   "source": "# Grant different permissions to different users - building a realistic team\nsyft_file.grant_read_access(\"reviewer@external.org\", force=True)      # External reviewer  \nsyft_file.grant_create_access(\"junior@university.edu\", force=True)    # Junior researcher\nsyft_file.grant_write_access(\"senior@university.edu\", force=True)     # Senior researcher (alice from before)\nsyft_file.grant_admin_access(\"pi@university.edu\", force=True)         # Principal investigator\n\nprint(\"🏗️ Building Realistic Team Permissions:\")\nprint(\"👀 External Reviewer - Read only (can review but not modify)\")\nprint(\"🔰 Junior Researcher - Create access (can add new files)\")  \nprint(\"✏️  Senior Researcher - Write access (can modify existing work)\")\nprint(\"👑 Principal Investigator - Admin access (manages permissions)\")\n\nprint(\"\\n=== Permission Matrix ===\")\nusers = [\n    (\"reviewer@external.org\", \"External Reviewer\"),\n    (\"junior@university.edu\", \"Junior Researcher\"), \n    (\"senior@university.edu\", \"Senior Researcher\"),\n    (\"pi@university.edu\", \"Principal Investigator\")\n]\npermissions = [\"read\", \"create\", \"write\", \"admin\"]\n\nprint(f\"{'Role':<20} {'Read':<6} {'Create':<8} {'Write':<6} {'Admin':<6}\")\nprint(\"-\" * 55)\n\nfor email, role in users:\n    row = f\"{role:<20}\"\n    for perm in permissions:\n        has_perm = getattr(syft_file, f\"has_{perm}_access\")(email)\n        row += f\" {'✓' if has_perm else '✗':<6}\"\n    print(row)\n\nprint(\"\\n💡 Notice the hierarchy in action:\")\nprint(\"- PI (admin) can do everything\")\nprint(\"- Senior (write) can read, create, and write\")  \nprint(\"- Junior (create) can read and create\")\nprint(\"- Reviewer (read) can only read\")\n\nsyft_file"
  },
  {
   "cell_type": "code",
   "metadata": {},
   "outputs": [],
   "source": "# Look at the updated YAML - notice how permissions accumulate efficiently\nshow_yaml(tutorial_dir)\n\nprint(\"🔑 Key Insights from the YAML:\")\nprint(\"1. Each permission level gets its own list in the YAML\")\nprint(\"2. Users are only listed at their HIGHEST permission level\")\nprint(\"3. The hierarchy is handled by the syft-perm algorithm, not the YAML\")\nprint(\"4. This keeps the YAML clean and prevents redundancy\")\nprint(\"\\n💡 Why this matters:\")\nprint(\"- Easier to understand who has what level of access\")\nprint(\"- No redundant entries (PI isn't listed under read, create, write)\")\nprint(\"- Permission changes are atomic (change one line, not four)\")"
  },
  {
   "cell_type": "markdown",
   "metadata": {},
   "source": "## Chapter 4: Public Access with \"*\"\n\n**The Problem**: Sometimes you want to share data publicly - like publishing research results, sharing open datasets, or creating community resources. Traditional permission systems make this awkward by requiring you to explicitly list every possible user.\n\n**The Solution**: SyftBox uses the special `\"*\"` user to mean \"everyone\". This is conceptually similar to making a file \"world-readable\" in Unix, but with the same fine-grained permission controls.\n\nLet's explore how public access works and when to use it:",
   "outputs": []
  },
  {
   "cell_type": "code",
   "metadata": {},
   "outputs": [],
   "source": "# Create a public file - imagine this is a published research dataset\ncleanup_and_reset()\npublic_file = tutorial_dir / \"published_results.csv\"\npublic_file.write_text(\"year,discovery,impact_factor\\n2023,Novel ML Algorithm,8.5\\n2024,Quantum Breakthrough,9.2\")\n\nsyft_public = syft_perm.open(public_file)\nsyft_public.grant_read_access(\"*\", force=True)  # Everyone can read\n\nprint(\"📢 Creating Public Research Dataset\")\nprint(\"✅ Published results should be readable by anyone\")\nprint(\"✅ Using '*' makes this explicit and maintainable\")\n\n# Test with random users - simulating researchers from around the world accessing this data\ntest_users = [\n    \"researcher@mit.edu\", \n    \"student@stanford.edu\", \n    \"scientist@oxford.ac.uk\",\n    \"anyone@anywhere.com\"\n]\n\nprint(\"\\n🌍 Global Access Test (simulating researchers worldwide):\")\nfor user in test_users:\n    can_read = syft_public.has_read_access(user)\n    status = \"✅ Can access\" if can_read else \"❌ No access\"\n    print(f\"{user}: {status}\")\n\nprint(\"\\n💡 Real-world use cases for public access:\")\nprint(\"📊 Published datasets\")\nprint(\"📄 Research papers and documentation\") \nprint(\"🔧 Open-source tools and utilities\")\nprint(\"📈 Public dashboards and visualizations\")\n\nshow_yaml(tutorial_dir)"
  },
  {
   "cell_type": "markdown",
   "metadata": {},
   "source": "## Chapter 5: Folder Permissions and Basic Inheritance\n\n**The Problem**: In real projects, you don't want to set permissions on individual files one by one. You have directories full of related files (datasets, analyses, documentation) that should all have the same access control. Managing hundreds of individual file permissions would be a nightmare.\n\n**The Solution**: SyftBox lets you set permissions on folders, and files automatically inherit those permissions from their parent directories. This follows the principle of \"least surprise\" - if you can access a folder, you expect to access the files inside it.\n\nLet's see inheritance in action with a realistic project structure:",
   "outputs": []
  },
  {
   "cell_type": "code",
   "metadata": {},
   "outputs": [],
   "source": "# Create a realistic data science project structure\ncleanup_and_reset()\nproject_dir = tutorial_dir / \"climate_analysis_2024\"\nproject_dir.mkdir()\n\n# Create a typical data science project structure\nfiles = {\n    \"README.md\": \"# Climate Analysis Project\\nAnalyzing temperature trends...\",\n    \"main.py\": \"import pandas as pd\\n# Main analysis script\",\n    \"data.csv\": \"date,temperature,location\\n2024-01-01,15.2,NYC\",\n    \"results.json\": '{\"avg_temp\": 16.8, \"trend\": \"increasing\"}',\n    \"requirements.txt\": \"pandas>=1.5.0\\nmatplotlib>=3.6.0\"\n}\n\nfor filename, content in files.items():\n    filepath = project_dir / filename\n    filepath.write_text(content)\n\nprint(\"🏗️ Created Realistic Data Science Project:\")\nprint(f\"📁 {project_dir.name}/\")\nfor filename in files.keys():\n    print(f\"   📄 {filename}\")\n\nprint(f\"\\n💡 Scenario: You have {len(files)} files that should all have the same permissions\")\nprint(\"❌ Bad approach: Set permissions on each file individually (5 operations)\")\nprint(\"✅ Good approach: Set permissions on the folder (1 operation, files inherit)\")"
  },
  {
   "cell_type": "code",
   "metadata": {},
   "outputs": [],
   "source": "# Apply permissions to the FOLDER - this is the key efficiency gain\nsyft_folder = syft_perm.open(project_dir)\n\n# Set up realistic collaborator permissions\nsyft_folder.grant_read_access(\"collaborator@partner.org\", force=True)    # External collaborator can read\nsyft_folder.grant_write_access(\"researcher@myuniversity.edu\", force=True) # Internal researcher can modify\n\nprint(\"⚡ EFFICIENCY: Set permissions once on the folder\")\nprint(\"👥 External collaborator gets read access to entire project\")\nprint(\"🔬 Internal researcher gets write access to entire project\")\nprint(\"\\n📋 Folder permissions:\")\nsyft_folder"
  },
  {
   "cell_type": "code",
   "metadata": {},
   "outputs": [],
   "source": "# 🎯 THE MAGIC: Check that ALL files automatically inherit the folder's permissions\nprint(\"🔮 INHERITANCE MAGIC: Files automatically inherit folder permissions\")\nprint(\"\\n=== Inheritance Verification ===\")\n\nfor filename in files.keys():\n    filepath = project_dir / filename\n    syft_file = syft_perm.open(filepath)\n    \n    collab_read = syft_file.has_read_access(\"collaborator@partner.org\")\n    researcher_write = syft_file.has_write_access(\"researcher@myuniversity.edu\")\n    \n    status_collab = \"✅\" if collab_read else \"❌\"\n    status_researcher = \"✅\" if researcher_write else \"❌\" \n    \n    print(f\"📄 {filename}:\")\n    print(f\"   {status_collab} Collaborator can read: {collab_read}\")\n    print(f\"   {status_researcher} Researcher can write: {researcher_write}\")\n\nprint(\"\\n🎊 ALL FILES inherited permissions without any individual configuration!\")\nprint(\"💡 Benefits:\")\nprint(\"   ⚡ Massive time savings - configure once, apply to many\")\nprint(\"   🔒 Consistent security - no files accidentally left unprotected\")\nprint(\"   🧹 Easy maintenance - change folder permissions to update everything\")"
  },
  {
   "cell_type": "code",
   "execution_count": null,
   "metadata": {},
   "outputs": [],
   "source": [
    "# Look at the YAML - only the folder has rules, files inherit\n",
    "show_yaml(tutorial_dir)\n",
    "show_yaml(project_dir)  # Folder has the rules"
   ]
  },
  {
   "cell_type": "markdown",
   "metadata": {},
   "source": "## Chapter 6: Permission Debugging and Reasoning\n\n**The Problem**: When permissions don't work as expected, debugging can be a nightmare. Why does Alice have access to this file but not that one? Where are the permissions coming from? Traditional systems give you cryptic error messages or no explanation at all.\n\n**The Solution**: SyftBox includes powerful debugging tools that explain exactly WHY a permission was granted or denied. These tools trace the nearest-node algorithm step-by-step and show you the exact reasoning chain.\n\n**When You Need This**: \n- Permissions aren't working as expected\n- Auditing who has access to what\n- Understanding complex inheritance patterns\n- Debugging team collaboration issues\n\nLet's explore the debugging tools that will save you hours of frustration:",
   "outputs": []
  },
  {
   "cell_type": "code",
   "execution_count": null,
   "metadata": {},
   "outputs": [],
   "source": [
    "# Let's debug the inheritance we just saw\n",
    "readme_file = syft_perm.open(project_dir / \"README.md\")\n",
    "\n",
    "print(\"=== Detailed Permission Analysis ===\")\n",
    "explanation = readme_file.explain_permissions(\"team@example.com\")\n",
    "print(explanation)"
   ]
  },
  {
   "cell_type": "code",
   "execution_count": null,
   "metadata": {},
   "outputs": [],
   "source": [
    "# Check specific permission with reasons\n",
    "has_write, reasons = readme_file._check_permission_with_reasons(\"team@example.com\", \"write\")\n",
    "print(f\"Team can write README.md: {has_write}\")\n",
    "print(\"Reasons:\")\n",
    "for reason in reasons:\n",
    "    print(f\"  - {reason}\")"
   ]
  },
  {
   "cell_type": "markdown",
   "metadata": {},
   "source": "## Chapter 7: The Nearest-Node Algorithm\n\n**The Problem**: In complex directory structures, you might have permissions set at multiple levels - on great-grandparent folders, parent folders, and individual files. Which permissions should apply? How do they combine? This question becomes critical in large projects with nested collaborations.\n\n**The Solution**: SyftBox uses the **Nearest-Node Algorithm** - one of the most important concepts in the entire permission system. Instead of accumulating permissions from multiple levels, it finds the **single closest parent directory** that has matching rules and uses those rules exclusively.\n\n**Why This Matters**: This algorithm prevents \"permission explosion\" where permissions from many levels combine unexpectedly. It's predictable, debuggable, and matches most users' mental model of \"the closest permission wins.\"\n\nLet's see this algorithm in action with a realistic multi-level scenario:",
   "outputs": []
  },
  {
   "cell_type": "code",
   "metadata": {},
   "outputs": [],
   "source": "# Create a realistic university research hierarchy\ncleanup_and_reset()\n\n# Realistic scenario: University/Department/Lab/Project structure\n# university_research/\n#   ├── department_chemistry/          <- Department level\n#   │   ├── lab_organic/              <- Lab level  \n#   │   │   ├── project_catalysis/    <- Project level\n#   │   │   │   └── experiment.txt    <- Deep file\n#   │   │   └── lab_notes.txt         <- Lab file\n#   │   └── department_policy.txt     <- Department file\n#   └── university_handbook.txt       <- University file\n\nuniversity_dir = tutorial_dir / \"university_research\"\ndept_dir = university_dir / \"department_chemistry\"\nlab_dir = dept_dir / \"lab_organic\"\nproject_dir = lab_dir / \"project_catalysis\"\n\n# Create the directory structure\nproject_dir.mkdir(parents=True)\n\n# Create files at different levels of the hierarchy\nfiles = {\n    \"university_handbook.txt\": university_dir / \"university_handbook.txt\",\n    \"department_policy.txt\": dept_dir / \"department_policy.txt\", \n    \"lab_notes.txt\": lab_dir / \"lab_notes.txt\",\n    \"experiment.txt\": project_dir / \"experiment.txt\"\n}\n\nfor description, path in files.items():\n    path.write_text(f\"Content of {description}\")\n\nprint(\"🏛️ Created Realistic University Research Hierarchy:\")\nprint(f\"{university_dir.name}/\")\nprint(f\"├── department_chemistry/\")\nprint(f\"│   ├── lab_organic/\")\nprint(f\"│   │   ├── project_catalysis/\")\nprint(f\"│   │   │   └── experiment.txt        <- 4 levels deep!\")\nprint(f\"│   │   └── lab_notes.txt\")\nprint(f\"│   └── department_policy.txt\")\nprint(f\"└── university_handbook.txt\")\n\nprint(\"\\n💭 Mental Model: Where should each file get its permissions from?\")\nprint(\"🤔 The nearest-node algorithm will tell us!\")"
  },
  {
   "cell_type": "code",
   "metadata": {},
   "outputs": [],
   "source": "# Set permissions ONLY on the department level - this is key to understanding the algorithm\nsyft_dept = syft_perm.open(dept_dir)\nsyft_dept.grant_read_access(\"alice@chemistry.edu\", force=True)\n\nprint(\"🎯 CRITICAL SETUP: Set permissions only on department_chemistry/\")\nprint(\"✅ Alice gets read access to department-level directory\")\nprint(\"❌ NO permissions set on university, lab, or project levels\")\nprint(\"🔍 Let's see what the nearest-node algorithm discovers...\")\n\nshow_yaml(dept_dir)\nprint(\"💡 Only ONE directory in the entire hierarchy has permission rules!\")"
  },
  {
   "cell_type": "code",
   "metadata": {},
   "outputs": [],
   "source": "# 🧠 THE NEAREST-NODE ALGORITHM IN ACTION\nprint(\"🔍 NEAREST-NODE ALGORITHM ANALYSIS\")\nprint(\"For each file, we trace UP the directory tree to find the nearest syft.pub.yaml with matching rules:\")\nprint()\n\nfor description, path in files.items():\n    syft_file = syft_perm.open(path)\n    can_read = syft_file.has_read_access(\"alice@chemistry.edu\")\n    \n    # Calculate relative path for clarity\n    relative_path = path.relative_to(tutorial_dir)\n    \n    print(f\"📄 {description} ({relative_path})\")\n    print(f\"   🔍 Searching UP: {path.name} → {path.parent.name} → ... → department_chemistry/\")\n    \n    if can_read:\n        print(f\"   ✅ Alice CAN read: Found permissions in department_chemistry/\")\n        print(f\"   🎯 Nearest node: department_chemistry/ (2-3 levels up)\")\n    else:\n        print(f\"   ❌ Alice CANNOT read: No permissions found in any parent\")\n        print(f\"   🎯 Nearest node: None\")\n    \n    # Show the detailed reasoning\n    has_read, reasons = syft_file._check_permission_with_reasons(\"alice@chemistry.edu\", \"read\")\n    if reasons:\n        print(f\"   💡 Reason: {reasons[0]}\")\n    print()\n\nprint(\"🧠 ALGORITHM INSIGHTS:\")\nprint(\"1. 🔍 Each file searches UP its directory tree\")\nprint(\"2. 🎯 Finds the NEAREST directory with a syft.pub.yaml containing matching rules\") \nprint(\"3. 🚫 Ignores any other directories (no accumulation)\")\nprint(\"4. ✅ Uses that single directory's rules exclusively\")\n\nprint(\"\\n💡 Why 'experiment.txt' (deepest file) gets permissions:\")\nprint(\"   - Searches: project_catalysis/ → lab_organic/ → department_chemistry/\")\nprint(\"   - Finds rules in department_chemistry/ → Uses those rules\")\nprint(\"   - Ignores deeper directories that have no rules\")"
  },
  {
   "cell_type": "markdown",
   "metadata": {},
   "source": [
    "**Key Insight**: \n",
    "- `file.txt` and `sibling.txt` inherit from `parent/` (nearest node with rules)\n",
    "- `other.txt` has no permissions because there's no matching rule in any parent"
   ]
  },
  {
   "cell_type": "markdown",
   "metadata": {},
   "source": [
    "## Chapter 8: Ownership and Automatic Permissions\n",
    "\n",
    "File owners automatically get all permissions, regardless of explicit rules."
   ]
  },
  {
   "cell_type": "code",
   "execution_count": null,
   "metadata": {},
   "outputs": [],
   "source": [
    "# Create a datasite structure (simulates SyftBox ownership)\n",
    "cleanup_and_reset()\n",
    "\n",
    "# SyftBox determines ownership by path: datasites/{email}/...\n",
    "datasite_dir = tutorial_dir / \"datasites\" / \"alice@example.com\"\n",
    "datasite_dir.mkdir(parents=True)\n",
    "\n",
    "# Alice's file in her datasite\n",
    "alice_file = datasite_dir / \"my_file.txt\"\n",
    "alice_file.write_text(\"Alice's private data\")\n",
    "\n",
    "syft_alice_file = syft_perm.open(alice_file)\n",
    "\n",
    "# Test ownership detection\n",
    "print(\"=== Ownership Test ===\")\n",
    "print(f\"Alice owns her file: {syft_alice_file.has_admin_access('alice@example.com')}\")\n",
    "print(f\"Bob can't access: {syft_alice_file.has_read_access('bob@example.com')}\")\n",
    "\n",
    "# Show reasoning\n",
    "has_admin, reasons = syft_alice_file._check_permission_with_reasons(\"alice@example.com\", \"admin\")\n",
    "print(f\"\\nWhy Alice has admin access: {reasons}\")"
   ]
  },
  {
   "cell_type": "markdown",
   "metadata": {},
   "source": [
    "## Chapter 9: Revoking Permissions"
   ]
  },
  {
   "cell_type": "code",
   "execution_count": null,
   "metadata": {},
   "outputs": [],
   "source": [
    "# Create a file with multiple users\n",
    "cleanup_and_reset()\n",
    "shared_file = tutorial_dir / \"shared.txt\"\n",
    "shared_file.write_text(\"Shared content\")\n",
    "\n",
    "syft_shared = syft_perm.open(shared_file)\n",
    "\n",
    "# Grant permissions to multiple users\n",
    "users = [\"alice@example.com\", \"bob@example.com\", \"charlie@example.com\"]\n",
    "for user in users:\n",
    "    syft_shared.grant_read_access(user, force=True)\n",
    "\n",
    "print(\"Before revocation:\")\n",
    "syft_shared"
   ]
  },
  {
   "cell_type": "code",
   "execution_count": null,
   "metadata": {},
   "outputs": [],
   "source": [
    "# Revoke Bob's access\n",
    "syft_shared.revoke_read_access(\"bob@example.com\")\n",
    "\n",
    "print(\"After revoking Bob's access:\")\n",
    "for user in users:\n",
    "    can_read = syft_shared.has_read_access(user)\n",
    "    print(f\"{user}: {can_read}\")\n",
    "\n",
    "syft_shared"
   ]
  },
  {
   "cell_type": "code",
   "execution_count": null,
   "metadata": {},
   "outputs": [],
   "source": [
    "# Revoke public access\n",
    "syft_shared.grant_read_access(\"*\", force=True)  # Grant public access first\n",
    "print(\"After granting public access:\")\n",
    "print(f\"Random user can read: {syft_shared.has_read_access('random@example.com')}\")\n",
    "\n",
    "syft_shared.revoke_read_access(\"*\")  # Revoke public access\n",
    "print(\"\\nAfter revoking public access:\")\n",
    "print(f\"Random user can read: {syft_shared.has_read_access('random@example.com')}\")\n",
    "print(f\"Alice still can read: {syft_shared.has_read_access('alice@example.com')}\")"
   ]
  },
  {
   "cell_type": "markdown",
   "metadata": {},
   "source": "## Summary: Part 1 Key Concepts\n\n🎉 **Congratulations!** You've mastered the fundamental concepts that form the foundation of SyftBox permissions.\n\n### ✅ **Core Concepts You Now Understand**\n\n1. **🏗️ Permission Hierarchy** - The cumulative nature of Read < Create < Write < Admin\n   - **Why it matters**: Prevents over-privileging and simplifies management\n   - **Real impact**: Grant Write once instead of Read + Create + Write separately\n\n2. **📄 YAML Storage** - Human-readable, version-controllable permission files\n   - **Why it matters**: You can inspect, debug, and version control permissions\n   - **Real impact**: Permissions move with your data and are transparent\n\n3. **👥 Multi-User Management** - Different roles get different permission levels\n   - **Why it matters**: Supports realistic team collaboration patterns\n   - **Real impact**: External reviewers, junior researchers, senior staff all get appropriate access\n\n4. **🌐 Public Access** - Use `\"*\"` for \"everyone\" permissions\n   - **Why it matters**: Easy sharing of public datasets and results\n   - **Real impact**: One setting makes data globally accessible\n\n5. **📁 Folder Inheritance** - Set permissions once on folders, files inherit automatically\n   - **Why it matters**: Massive efficiency gains and consistent security\n   - **Real impact**: Configure 100 files with 1 operation instead of 100\n\n6. **🎯 Nearest-Node Algorithm** - The core algorithm that finds the \"closest\" permissions\n   - **Why it matters**: Predictable, debuggable permission resolution\n   - **Real impact**: No surprising permission combinations, behavior matches mental models\n\n7. **🔍 Debugging Tools** - Trace WHY permissions work or don't work\n   - **Why it matters**: Essential for troubleshooting complex scenarios\n   - **Real impact**: Turn hours of debugging into minutes of systematic analysis\n\n### 🧠 **Mental Models to Remember**\n\n- **Higher permissions include lower ones** - Admin can do everything, Write includes Read+Create\n- **Closest permissions win** - The nearest-node algorithm prevents confusion\n- **Folders are powerful** - Set permissions on directories to control many files at once\n- **YAML is your friend** - When in doubt, look at the generated files to understand what's happening\n\n### 🚀 **Next Up: Part 2 - Patterns and Matching**\n\nNow that you understand the fundamentals, Part 2 will unlock the true power of SyftBox:\n\n- **🎯 Glob Patterns** - Use `*.py`, `docs/**`, `**/*.txt` to match multiple files with one rule\n- **🏆 Pattern Specificity** - Learn how SyftBox resolves conflicts when multiple patterns match\n- **🔍 Advanced Matching** - Master wildcards, directory patterns, and recursive matching\n- **🐛 Pattern Debugging** - Tools to understand which patterns matched which files\n\n**The pattern system transforms SyftBox from \"good\" to \"incredibly powerful\"** - you'll be able to create sophisticated permission schemes with just a few lines of configuration.\n\n### 💡 **Pro Tip for Right Now**\n\nBefore moving to Part 2, try applying these concepts to a real project:\n1. Create a folder structure that mirrors one of your actual projects\n2. Set up realistic team permissions using the hierarchy\n3. Use the debugging tools to verify everything works as expected\n\nThis hands-on practice will solidify the concepts and prepare you for the advanced patterns ahead!",
   "outputs": []
  },
  {
   "cell_type": "code",
   "execution_count": null,
   "metadata": {},
   "outputs": [],
   "source": [
    "# Cleanup\n",
    "shutil.rmtree(tutorial_dir)\n",
    "print(\"Tutorial 1 complete! 🎉\")"
   ]
  }
 ],
 "metadata": {
  "kernelspec": {
   "display_name": "Python 3",
   "language": "python",
   "name": "python3"
  },
  "language_info": {
   "codemirror_mode": {
    "name": "ipython",
    "version": 3
   },
   "file_extension": ".py",
   "mimetype": "text/x-python",
   "name": "python",
   "nbconvert_exporter": "python",
   "pygments_lexer": "ipython3",
   "version": "3.8.5"
  }
 },
 "nbformat": 4,
 "nbformat_minor": 4
}