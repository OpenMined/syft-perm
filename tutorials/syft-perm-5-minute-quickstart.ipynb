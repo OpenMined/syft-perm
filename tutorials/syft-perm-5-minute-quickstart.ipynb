{
 "cells": [
  {
   "cell_type": "markdown",
   "metadata": {},
   "source": [
    "# Tutorial: syft-perm in 5 mins\n",
    "\n",
    "## Common Ground\n",
    "Everyone needs to modify permissions in SyftBox files - whether you're sharing data with specific users, making files public, or restricting access to sensitive information.\n",
    "\n",
    "## Problem\n",
    "Modifying `syft.pub.yaml` files manually is:\n",
    "- **Tricky** - Complex YAML structure with patterns, inheritance, and hierarchy rules\n",
    "- **Error-prone** - Silent failures when patterns don't match or inheritance doesn't work as expected\n",
    "- **Time-consuming** - Need to understand glob patterns, permission levels, and file limits\n",
    "\n",
    "## Solution\n",
    "**syft-perm** provides utility functions and `SyftFile`/`SyftFolder` classes that make permissions easy:\n",
    "- Simple Python API for common permission tasks\n",
    "- Automatic YAML generation and validation\n",
    "- Clear permission checking and debugging\n",
    "- Built-in support for file limits and advanced features\n",
    "\n",
    "## Benefits\n",
    "SyftBox code becomes easier to write correctly the first time, with fewer bugs and clearer intent."
   ]
  },
  {
   "cell_type": "markdown",
   "metadata": {},
   "source": [
    "## Installation & Setup"
   ]
  },
  {
   "cell_type": "code",
   "metadata": {},
   "outputs": [],
   "source": "# Install syft-perm\n# !pip install syft-perm\n\nimport syft_perm as sp\nfrom pathlib import Path\nimport tempfile\nimport os\n\n# Create a demo workspace\ndemo_dir = Path(tempfile.mkdtemp(prefix=\"syft_perm_demo_\"))\nprint(f\"Demo workspace: {demo_dir}\")"
  },
  {
   "cell_type": "markdown",
   "metadata": {},
   "source": [
    "## 1. Basic File Permissions (2 minutes)\n",
    "\n",
    "The most common use case: grant access to specific files."
   ]
  },
  {
   "cell_type": "code",
   "metadata": {},
   "outputs": [],
   "source": "# Create a file and open it with syft-perm\nmy_file = demo_dir / \"secret_data.txt\"\nmy_file.write_text(\"This is sensitive information\")\n\n# Open the file with syft-perm\nsyft_file = sp.open(my_file)\nprint(f\"File: {syft_file}\")"
  },
  {
   "cell_type": "code",
   "execution_count": null,
   "metadata": {},
   "outputs": [],
   "source": [
    "# Grant different permission levels\n",
    "syft_file.grant_read_access(\"alice@example.com\", force=True)     # Alice can read\n",
    "syft_file.grant_write_access(\"bob@example.com\", force=True)      # Bob can read + write\n",
    "syft_file.grant_admin_access(\"charlie@example.com\", force=True)  # Charlie can do everything\n",
    "\n",
    "# Check permissions\n",
    "print(\"Alice can read:\", syft_file.has_read_access(\"alice@example.com\"))\n",
    "print(\"Alice can write:\", syft_file.has_write_access(\"alice@example.com\"))\n",
    "print(\"Bob can write:\", syft_file.has_write_access(\"bob@example.com\"))\n",
    "print(\"Charlie can admin:\", syft_file.has_admin_access(\"charlie@example.com\"))"
   ]
  },
  {
   "cell_type": "code",
   "execution_count": null,
   "metadata": {},
   "outputs": [],
   "source": [
    "# View the generated permissions\n",
    "syft_file"
   ]
  },
  {
   "cell_type": "markdown",
   "metadata": {},
   "source": [
    "## 2. Public Access (1 minute)\n",
    "\n",
    "Make files accessible to everyone."
   ]
  },
  {
   "cell_type": "code",
   "metadata": {},
   "outputs": [],
   "source": "# Create a public file\npublic_file = demo_dir / \"public_announcement.txt\"\npublic_file.write_text(\"This is a public announcement!\")\n\nsyft_public = sp.open(public_file)\nsyft_public.grant_read_access(\"*\", force=True)  # \"*\" means everyone\n\n# Test public access\nprint(\"Anyone can read:\", syft_public.has_read_access(\"random@example.com\"))\nprint(\"Anyone can read:\", syft_public.has_read_access(\"another@user.com\"))\n\nsyft_public"
  },
  {
   "cell_type": "markdown",
   "metadata": {},
   "source": [
    "## 3. Folder Permissions (1 minute)\n",
    "\n",
    "Apply permissions to entire folders."
   ]
  },
  {
   "cell_type": "code",
   "metadata": {},
   "outputs": [],
   "source": "# Create a project folder\nproject_folder = demo_dir / \"team_project\"\nproject_folder.mkdir()\n\n# Create some files in the folder\n(project_folder / \"README.md\").write_text(\"# Team Project\")\n(project_folder / \"data.csv\").write_text(\"name,value\\ntest,123\")\n\n# Apply permissions to the entire folder\nsyft_folder = sp.open(project_folder)\nsyft_folder.grant_read_access(\"team@example.com\", force=True)\nsyft_folder.grant_write_access(\"lead@example.com\", force=True)\n\nsyft_folder"
  },
  {
   "cell_type": "code",
   "metadata": {},
   "outputs": [],
   "source": "# Files in the folder inherit permissions\nreadme_file = sp.open(project_folder / \"README.md\")\nprint(\"README permissions inherited:\")\nprint(\"Team can read:\", readme_file.has_read_access(\"team@example.com\"))\nprint(\"Lead can write:\", readme_file.has_write_access(\"lead@example.com\"))\n\nreadme_file"
  },
  {
   "cell_type": "markdown",
   "metadata": {},
   "source": [
    "## 4. File Limits (1 minute)\n",
    "\n",
    "Control file size and type restrictions."
   ]
  },
  {
   "cell_type": "code",
   "metadata": {},
   "outputs": [],
   "source": "# Create a file with size limits\nupload_file = demo_dir / \"user_upload.txt\"\nupload_file.write_text(\"Small file content\")\n\nsyft_upload = sp.open(upload_file)\n\n# Grant permission with file size limit (1KB)\nsyft_upload.grant_create_access(\"users@example.com\", force=True)\nsyft_upload.set_file_limits(\n    max_size=1024,        # 1KB limit\n    allow_dirs=False,     # No directories\n    allow_symlinks=False  # No symlinks\n)\n\n# Check limits\nlimits = syft_upload.get_file_limits()\nprint(\"File limits:\", limits)\n\nsyft_upload"
  },
  {
   "cell_type": "markdown",
   "metadata": {},
   "source": [
    "## 5. Permission Debugging\n",
    "\n",
    "Understand why permissions work (or don't work)."
   ]
  },
  {
   "cell_type": "code",
   "execution_count": null,
   "metadata": {},
   "outputs": [],
   "source": [
    "# Debug permissions with detailed explanations\n",
    "explanation = syft_file.explain_permissions(\"alice@example.com\")\n",
    "print(explanation)"
   ]
  },
  {
   "cell_type": "code",
   "execution_count": null,
   "metadata": {},
   "outputs": [],
   "source": [
    "# Check specific permission with reasons\n",
    "has_write, reasons = syft_file._check_permission_with_reasons(\"alice@example.com\", \"write\")\n",
    "print(f\"Alice can write: {has_write}\")\n",
    "print(\"Reasons:\", reasons)"
   ]
  },
  {
   "cell_type": "markdown",
   "metadata": {},
   "source": [
    "## That's it! 🎉\n",
    "\n",
    "In 5 minutes, you've learned:\n",
    "- ✅ Basic file permissions (read, write, admin)\n",
    "- ✅ Public access with `\"*\"`\n",
    "- ✅ Folder permissions and inheritance\n",
    "- ✅ File limits for size and type control\n",
    "- ✅ Permission debugging\n",
    "\n",
    "## Next Steps\n",
    "\n",
    "For advanced features like:\n",
    "- Complex glob patterns (`**/*.py`, `docs/**`)\n",
    "- Terminal nodes and inheritance blocking\n",
    "- Permission hierarchy and nearest-node algorithms\n",
    "- Cross-directory file movements\n",
    "- Pattern specificity and conflict resolution\n",
    "\n",
    "Check out the **Comprehensive SyftBox Permissions Tutorial Series**!"
   ]
  },
  {
   "cell_type": "code",
   "execution_count": null,
   "metadata": {},
   "outputs": [],
   "source": [
    "# Cleanup demo workspace\n",
    "import shutil\n",
    "shutil.rmtree(demo_dir)\n",
    "print(\"Demo cleanup complete!\")"
   ]
  }
 ],
 "metadata": {
  "kernelspec": {
   "display_name": "Python 3 (ipykernel)",
   "language": "python",
   "name": "python3"
  },
  "language_info": {
   "codemirror_mode": {
    "name": "ipython",
    "version": 3
   },
   "file_extension": ".py",
   "mimetype": "text/x-python",
   "name": "python",
   "nbconvert_exporter": "python",
   "pygments_lexer": "ipython3",
   "version": "3.12.7"
  }
 },
 "nbformat": 4,
 "nbformat_minor": 4
}