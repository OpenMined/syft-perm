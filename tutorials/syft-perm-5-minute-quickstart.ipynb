{
 "cells": [
  {
   "cell_type": "markdown",
   "metadata": {},
   "source": [
    "# Tutorial: syft-perm in 5 mins\n",
    "\n",
    "## Common Ground\n",
    "Everyone needs to modify permissions in SyftBox files - whether you're sharing data with specific users, making files public, or restricting access to sensitive information.\n",
    "\n",
    "## Problem 1: Permissions\n",
    "\n",
    "Knowing the permission of a file is tricky because you need to:\n",
    "- **Find the syft.pub.yaml** It could be anywhere in the parent folder to a file\n",
    "- **Interpret permission correctly** There's a complex internal permission logic which decides how pub files translate into actual permissions\n",
    "- **Hope you got it right:** The only way to truly know if you got it right is to open up two datasites and see if a file gets synced through the server in the way you expect. \n",
    "\n",
    "Modifying `syft.pub.yaml` files manually is:\n",
    "- **Tricky** - Complex YAML structure with patterns, inheritance, and hierarchy rules\n",
    "- **Error-prone** - Silent failures when patterns don't match or inheritance doesn't work as expected\n",
    "- **Time-consuming** - Need to understand glob patterns, permission levels, and file limits\n",
    "\n",
    "## Solution\n",
    "**syft-perm** provides utility functions and `SyftFile`/`SyftFolder` classes that make permissions easy:\n",
    "- Simple SyftFile/SyftFolder object which applies to existing files and has .getter and .setter methods\n",
    "- Automatic YAML generation and validation\n",
    "- **Bonus:** Jupyter widgets for seeing and updating file/folder permissions\n",
    "  \n",
    "\n",
    "## Benefits\n",
    "SyftBox file permissions become easier to trust and to write correctly the first time, with fewer bugs and clearer intent."
   ]
  },
  {
   "cell_type": "markdown",
   "metadata": {},
   "source": [
    "# Part 1: Installation and Setup\n",
    "\n",
    "- Step 1: Download and run [SyftBox](https://www.syftbox.net/#downloads)\n",
    "- Step 2: pip install syft-perm"
   ]
  },
  {
   "cell_type": "code",
   "execution_count": null,
   "metadata": {},
   "outputs": [],
   "source": [
    "!pip install syft-perm -U"
   ]
  },
  {
   "cell_type": "markdown",
   "metadata": {},
   "source": [
    "# Part 2: The User Interface\n",
    "\n",
    "There are three core user interfaces:\n",
    "- The filesystem feed (syft_perm.files)\n",
    "- The syftbox file editor\n",
    "- The permission updater"
   ]
  },
  {
   "cell_type": "code",
   "execution_count": 3,
   "metadata": {},
   "outputs": [],
   "source": [
    "#note: it's helpful to use \"sp\" because of some copy-paste functionality in the UI\n",
    "import syft_perm as sp "
   ]
  },
  {
   "cell_type": "code",
   "execution_count": 4,
   "metadata": {},
   "outputs": [
    {
     "data": {
      "text/plain": [
       "'0.3.91'"
      ]
     },
     "execution_count": 4,
     "metadata": {},
     "output_type": "execute_result"
    }
   ],
   "source": [
    "sp.__version__"
   ]
  },
  {
   "cell_type": "code",
   "execution_count": 11,
   "metadata": {},
   "outputs": [
    {
     "data": {
      "text/html": [
       "\n",
       "        <div style=\"width: 100%; height: 600px; border: 1px solid #3e3e42; border-radius: 8px; overflow: hidden;\">\n",
       "            <iframe \n",
       "                src=\"http://localhost:8005/files-widget?search='admin: andrew@openmined.org'\" \n",
       "                width=\"100%\" \n",
       "                height=\"100%\" \n",
       "                frameborder=\"0\"\n",
       "                style=\"border: none;\"\n",
       "                allow=\"clipboard-read; clipboard-write\">\n",
       "            </iframe>\n",
       "        </div>\n",
       "        "
      ],
      "text/plain": [
       "FastAPI Files Widget: http://localhost:8005/files-widget?search='admin: andrew@openmined.org'"
      ]
     },
     "execution_count": 11,
     "metadata": {},
     "output_type": "execute_result"
    }
   ],
   "source": [
    "sp.files.search(\"'admin: andrew@openmined.org'\")"
   ]
  },
  {
   "cell_type": "code",
   "execution_count": null,
   "metadata": {},
   "outputs": [],
   "source": [
    "# Install syft-perm\n",
    "# !pip install syft-perm\n",
    "\n",
    "import syft_perm as sp\n",
    "from pathlib import Path\n",
    "import tempfile\n",
    "import os\n",
    "\n",
    "# Create a demo workspace\n",
    "demo_dir = Path(tempfile.mkdtemp(prefix=\"syft_perm_demo_\"))\n",
    "print(f\"Demo workspace: {demo_dir}\")"
   ]
  },
  {
   "cell_type": "markdown",
   "metadata": {},
   "source": [
    "## 1. Basic File Permissions (2 minutes)\n",
    "\n",
    "The most common use case: grant access to specific files."
   ]
  },
  {
   "cell_type": "code",
   "execution_count": null,
   "metadata": {},
   "outputs": [],
   "source": [
    "# Create a file and open it with syft-perm\n",
    "my_file = demo_dir / \"secret_data.txt\"\n",
    "my_file.write_text(\"This is sensitive information\")\n",
    "\n",
    "# Open the file with syft-perm\n",
    "syft_file = sp.open(my_file)\n",
    "print(f\"File: {syft_file}\")"
   ]
  },
  {
   "cell_type": "code",
   "execution_count": null,
   "metadata": {},
   "outputs": [],
   "source": [
    "# Grant different permission levels\n",
    "syft_file.grant_read_access(\"alice@example.com\", force=True)     # Alice can read\n",
    "syft_file.grant_write_access(\"bob@example.com\", force=True)      # Bob can read + write\n",
    "syft_file.grant_admin_access(\"charlie@example.com\", force=True)  # Charlie can do everything\n",
    "\n",
    "# Check permissions\n",
    "print(\"Alice can read:\", syft_file.has_read_access(\"alice@example.com\"))\n",
    "print(\"Alice can write:\", syft_file.has_write_access(\"alice@example.com\"))\n",
    "print(\"Bob can write:\", syft_file.has_write_access(\"bob@example.com\"))\n",
    "print(\"Charlie can admin:\", syft_file.has_admin_access(\"charlie@example.com\"))"
   ]
  },
  {
   "cell_type": "code",
   "execution_count": null,
   "metadata": {},
   "outputs": [],
   "source": [
    "# View the generated permissions\n",
    "syft_file"
   ]
  },
  {
   "cell_type": "markdown",
   "metadata": {},
   "source": [
    "## 2. Public Access (1 minute)\n",
    "\n",
    "Make files accessible to everyone."
   ]
  },
  {
   "cell_type": "code",
   "execution_count": null,
   "metadata": {},
   "outputs": [],
   "source": [
    "# Create a public file\n",
    "public_file = demo_dir / \"public_announcement.txt\"\n",
    "public_file.write_text(\"This is a public announcement!\")\n",
    "\n",
    "syft_public = sp.open(public_file)\n",
    "syft_public.grant_read_access(\"*\", force=True)  # \"*\" means everyone\n",
    "\n",
    "# Test public access\n",
    "print(\"Anyone can read:\", syft_public.has_read_access(\"random@example.com\"))\n",
    "print(\"Anyone can read:\", syft_public.has_read_access(\"another@user.com\"))\n",
    "\n",
    "syft_public"
   ]
  },
  {
   "cell_type": "markdown",
   "metadata": {},
   "source": [
    "## 3. Folder Permissions (1 minute)\n",
    "\n",
    "Apply permissions to entire folders."
   ]
  },
  {
   "cell_type": "code",
   "execution_count": null,
   "metadata": {},
   "outputs": [],
   "source": [
    "# Create a project folder\n",
    "project_folder = demo_dir / \"team_project\"\n",
    "project_folder.mkdir()\n",
    "\n",
    "# Create some files in the folder\n",
    "(project_folder / \"README.md\").write_text(\"# Team Project\")\n",
    "(project_folder / \"data.csv\").write_text(\"name,value\\ntest,123\")\n",
    "\n",
    "# Apply permissions to the entire folder\n",
    "syft_folder = sp.open(project_folder)\n",
    "syft_folder.grant_read_access(\"team@example.com\", force=True)\n",
    "syft_folder.grant_write_access(\"lead@example.com\", force=True)\n",
    "\n",
    "syft_folder"
   ]
  },
  {
   "cell_type": "code",
   "execution_count": null,
   "metadata": {},
   "outputs": [],
   "source": [
    "# Files in the folder inherit permissions\n",
    "readme_file = sp.open(project_folder / \"README.md\")\n",
    "print(\"README permissions inherited:\")\n",
    "print(\"Team can read:\", readme_file.has_read_access(\"team@example.com\"))\n",
    "print(\"Lead can write:\", readme_file.has_write_access(\"lead@example.com\"))\n",
    "\n",
    "readme_file"
   ]
  },
  {
   "cell_type": "markdown",
   "metadata": {},
   "source": [
    "## 4. File Limits (1 minute)\n",
    "\n",
    "Control file size and type restrictions."
   ]
  },
  {
   "cell_type": "code",
   "execution_count": null,
   "metadata": {},
   "outputs": [],
   "source": [
    "# Create a file with size limits\n",
    "upload_file = demo_dir / \"user_upload.txt\"\n",
    "upload_file.write_text(\"Small file content\")\n",
    "\n",
    "syft_upload = sp.open(upload_file)\n",
    "\n",
    "# Grant permission with file size limit (1KB)\n",
    "syft_upload.grant_create_access(\"users@example.com\", force=True)\n",
    "syft_upload.set_file_limits(\n",
    "    max_size=1024,        # 1KB limit\n",
    "    allow_dirs=False,     # No directories\n",
    "    allow_symlinks=False  # No symlinks\n",
    ")\n",
    "\n",
    "# Check limits\n",
    "limits = syft_upload.get_file_limits()\n",
    "print(\"File limits:\", limits)\n",
    "\n",
    "syft_upload"
   ]
  },
  {
   "cell_type": "markdown",
   "metadata": {},
   "source": [
    "## 5. Permission Debugging\n",
    "\n",
    "Understand why permissions work (or don't work)."
   ]
  },
  {
   "cell_type": "code",
   "execution_count": null,
   "metadata": {},
   "outputs": [],
   "source": [
    "# Debug permissions with detailed explanations\n",
    "explanation = syft_file.explain_permissions(\"alice@example.com\")\n",
    "print(explanation)"
   ]
  },
  {
   "cell_type": "code",
   "execution_count": null,
   "metadata": {},
   "outputs": [],
   "source": [
    "# Check specific permission with reasons\n",
    "has_write, reasons = syft_file._check_permission_with_reasons(\"alice@example.com\", \"write\")\n",
    "print(f\"Alice can write: {has_write}\")\n",
    "print(\"Reasons:\", reasons)"
   ]
  },
  {
   "cell_type": "markdown",
   "metadata": {},
   "source": [
    "## That's it! 🎉\n",
    "\n",
    "In 5 minutes, you've learned:\n",
    "- ✅ Basic file permissions (read, write, admin)\n",
    "- ✅ Public access with `\"*\"`\n",
    "- ✅ Folder permissions and inheritance\n",
    "- ✅ File limits for size and type control\n",
    "- ✅ Permission debugging\n",
    "\n",
    "## Next Steps\n",
    "\n",
    "For advanced features like:\n",
    "- Complex glob patterns (`**/*.py`, `docs/**`)\n",
    "- Terminal nodes and inheritance blocking\n",
    "- Permission hierarchy and nearest-node algorithms\n",
    "- Cross-directory file movements\n",
    "- Pattern specificity and conflict resolution\n",
    "\n",
    "Check out the **Comprehensive SyftBox Permissions Tutorial Series**!"
   ]
  },
  {
   "cell_type": "code",
   "execution_count": null,
   "metadata": {},
   "outputs": [],
   "source": [
    "# Cleanup demo workspace\n",
    "import shutil\n",
    "shutil.rmtree(demo_dir)\n",
    "print(\"Demo cleanup complete!\")"
   ]
  }
 ],
 "metadata": {
  "kernelspec": {
   "display_name": "Python 3 (ipykernel)",
   "language": "python",
   "name": "python3"
  },
  "language_info": {
   "codemirror_mode": {
    "name": "ipython",
    "version": 3
   },
   "file_extension": ".py",
   "mimetype": "text/x-python",
   "name": "python",
   "nbconvert_exporter": "python",
   "pygments_lexer": "ipython3",
   "version": "3.12.9"
  }
 },
 "nbformat": 4,
 "nbformat_minor": 4
}
