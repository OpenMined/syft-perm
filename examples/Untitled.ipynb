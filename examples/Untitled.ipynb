{
 "cells": [
  {
   "cell_type": "code",
   "execution_count": 5,
   "id": "e0f9a47a-028b-4ab6-8e57-dc2ed882b416",
   "metadata": {},
   "outputs": [
    {
     "name": "stdout",
     "output_type": "stream",
     "text": [
      "\u001b[2K\u001b[2mResolved \u001b[1m23 packages\u001b[0m \u001b[2min 367ms\u001b[0m\u001b[0m                                        \u001b[0m\n",
      "\u001b[2K\u001b[2mPrepared \u001b[1m1 package\u001b[0m \u001b[2min 16ms\u001b[0m\u001b[0m                                               \n",
      "\u001b[2mUninstalled \u001b[1m1 package\u001b[0m \u001b[2min 1ms\u001b[0m\u001b[0m\n",
      "\u001b[2K\u001b[2mInstalled \u001b[1m1 package\u001b[0m \u001b[2min 2ms\u001b[0m\u001b[0m                                  \u001b[0m\n",
      " \u001b[31m-\u001b[39m \u001b[1msyft-awake\u001b[0m\u001b[2m==0.1.3\u001b[0m\n",
      " \u001b[32m+\u001b[39m \u001b[1msyft-awake\u001b[0m\u001b[2m==0.1.4\u001b[0m\n"
     ]
    }
   ],
   "source": [
    "!uv pip install syft-awake -U"
   ]
  },
  {
   "cell_type": "code",
   "execution_count": 1,
   "id": "af4fafb2-3da5-4033-9c0a-be7f309ec10c",
   "metadata": {},
   "outputs": [
    {
     "name": "stderr",
     "output_type": "stream",
     "text": [
      "\u001b[32m2025-07-11 23:21:54.503\u001b[0m | \u001b[1mINFO    \u001b[0m | \u001b[36msyft_awake.auto_install\u001b[0m:\u001b[36mshow_startup_banner\u001b[0m:\u001b[36m355\u001b[0m - \u001b[1m🚀 syft-awake: Network awakeness monitoring ready!\u001b[0m\n",
      "\u001b[32m2025-07-11 23:21:54.503\u001b[0m | \u001b[1mINFO    \u001b[0m | \u001b[36msyft_awake.auto_install\u001b[0m:\u001b[36mshow_startup_banner\u001b[0m:\u001b[36m356\u001b[0m - \u001b[1m   Use 'import syft_awake as sa' to ping network members\u001b[0m\n"
     ]
    }
   ],
   "source": [
    "import syft_awake as sa"
   ]
  },
  {
   "cell_type": "code",
   "execution_count": 3,
   "id": "6a5099c1-5a86-4307-81e6-7c8470d1d235",
   "metadata": {},
   "outputs": [
    {
     "name": "stderr",
     "output_type": "stream",
     "text": [
      "\u001b[32m2025-07-11 23:17:38.709\u001b[0m | \u001b[1mINFO    \u001b[0m | \u001b[36msyft_awake.client\u001b[0m:\u001b[36mping_user\u001b[0m:\u001b[36m101\u001b[0m - \u001b[1m📤 Pinging andrew@openmined.org with message: 'ping'\u001b[0m\n",
      "\u001b[32m2025-07-11 23:17:46.193\u001b[0m | \u001b[33m\u001b[1mWARNING \u001b[0m | \u001b[36msyft_awake.client\u001b[0m:\u001b[36mping_user\u001b[0m:\u001b[36m122\u001b[0m - \u001b[33m\u001b[1mFailed to ping andrew@openmined.org: Request failed with status code 404. Reason: b'Request with 04fb350a-d004-4c50-98ae-43b9c70220cc not found'\u001b[0m\n"
     ]
    }
   ],
   "source": [
    "sa.ping_user('andrew@openmined.org')"
   ]
  },
  {
   "cell_type": "code",
   "execution_count": null,
   "id": "d3a2ecfe-c3fd-4d35-bad7-aa2e09f5f1f2",
   "metadata": {},
   "outputs": [],
   "source": []
  }
 ],
 "metadata": {
  "kernelspec": {
   "display_name": "Python 3 (ipykernel)",
   "language": "python",
   "name": "python3"
  },
  "language_info": {
   "codemirror_mode": {
    "name": "ipython",
    "version": 3
   },
   "file_extension": ".py",
   "mimetype": "text/x-python",
   "name": "python",
   "nbconvert_exporter": "python",
   "pygments_lexer": "ipython3",
   "version": "3.12.7"
  }
 },
 "nbformat": 4,
 "nbformat_minor": 5
}
