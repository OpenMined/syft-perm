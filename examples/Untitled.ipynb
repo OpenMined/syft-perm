{
 "cells": [
  {
   "cell_type": "code",
   "execution_count": 1,
   "id": "e0f9a47a-028b-4ab6-8e57-dc2ed882b416",
   "metadata": {},
   "outputs": [
    {
     "name": "stdout",
     "output_type": "stream",
     "text": [
      "\u001b[2K\u001b[2mResolved \u001b[1m23 packages\u001b[0m \u001b[2min 422ms\u001b[0m\u001b[0m                                        \u001b[0m\n",
      "\u001b[2K\u001b[2mPrepared \u001b[1m1 package\u001b[0m \u001b[2min 37ms\u001b[0m\u001b[0m                                               \n",
      "\u001b[2mUninstalled \u001b[1m1 package\u001b[0m \u001b[2min 2ms\u001b[0m\u001b[0m\n",
      "\u001b[2K\u001b[2mInstalled \u001b[1m1 package\u001b[0m \u001b[2min 3ms\u001b[0m\u001b[0m                                  \u001b[0m\n",
      " \u001b[31m-\u001b[39m \u001b[1msyft-awake\u001b[0m\u001b[2m==0.1.5\u001b[0m\n",
      " \u001b[32m+\u001b[39m \u001b[1msyft-awake\u001b[0m\u001b[2m==0.1.7\u001b[0m\n"
     ]
    }
   ],
   "source": [
    "!uv pip install syft-awake -U"
   ]
  },
  {
   "cell_type": "code",
   "execution_count": 2,
   "id": "af4fafb2-3da5-4033-9c0a-be7f309ec10c",
   "metadata": {},
   "outputs": [
    {
     "name": "stderr",
     "output_type": "stream",
     "text": [
      "\u001b[32m2025-07-12 00:31:59.364\u001b[0m | \u001b[1mINFO    \u001b[0m | \u001b[36msyft_awake.auto_install\u001b[0m:\u001b[36mcopy_bundled_app_to_syftbox\u001b[0m:\u001b[36m179\u001b[0m - \u001b[1m✅ Installed bundled syft-awake app to /Users/atrask/SyftBox/apps/syft-awake\u001b[0m\n",
      "\u001b[32m2025-07-12 00:31:59.365\u001b[0m | \u001b[1mINFO    \u001b[0m | \u001b[36msyft_awake.auto_install\u001b[0m:\u001b[36mshow_startup_banner\u001b[0m:\u001b[36m355\u001b[0m - \u001b[1m🚀 syft-awake: Network awakeness monitoring ready!\u001b[0m\n",
      "\u001b[32m2025-07-12 00:31:59.365\u001b[0m | \u001b[1mINFO    \u001b[0m | \u001b[36msyft_awake.auto_install\u001b[0m:\u001b[36mshow_startup_banner\u001b[0m:\u001b[36m356\u001b[0m - \u001b[1m   Use 'import syft_awake as sa' to ping network members\u001b[0m\n"
     ]
    }
   ],
   "source": [
    "import syft_awake as sa"
   ]
  },
  {
   "cell_type": "code",
   "execution_count": 6,
   "id": "6a5099c1-5a86-4307-81e6-7c8470d1d235",
   "metadata": {},
   "outputs": [
    {
     "name": "stderr",
     "output_type": "stream",
     "text": [
      "\u001b[32m2025-07-11 23:35:40.148\u001b[0m | \u001b[1mINFO    \u001b[0m | \u001b[36msyft_awake.client\u001b[0m:\u001b[36mping_user\u001b[0m:\u001b[36m101\u001b[0m - \u001b[1m📤 Pinging andrew@openmined.org with message: 'ping'\u001b[0m\n",
      "\u001b[32m2025-07-11 23:35:40.149\u001b[0m | \u001b[34m\u001b[1mDEBUG   \u001b[0m | \u001b[36msyft_awake.client\u001b[0m:\u001b[36mping_user\u001b[0m:\u001b[36m102\u001b[0m - \u001b[34m\u001b[1m🔗 RPC URL: syft://andrew@openmined.org/api_data/syft-awake/rpc/awake\u001b[0m\n",
      "\u001b[32m2025-07-11 23:35:40.149\u001b[0m | \u001b[34m\u001b[1mDEBUG   \u001b[0m | \u001b[36msyft_awake.client\u001b[0m:\u001b[36mping_user\u001b[0m:\u001b[36m106\u001b[0m - \u001b[34m\u001b[1m📋 Request body: requester='liamtrask@gmail.com' message='ping' timestamp=datetime.datetime(2025, 7, 12, 3, 35, 40, 148641, tzinfo=datetime.timezone.utc) priority='normal'\u001b[0m\n",
      "\u001b[32m2025-07-11 23:35:40.153\u001b[0m | \u001b[34m\u001b[1mDEBUG   \u001b[0m | \u001b[36msyft_awake.client\u001b[0m:\u001b[36mping_user\u001b[0m:\u001b[36m115\u001b[0m - \u001b[34m\u001b[1m🔮 Future created, waiting for response...\u001b[0m\n",
      "\u001b[32m2025-07-11 23:35:46.762\u001b[0m | \u001b[34m\u001b[1mDEBUG   \u001b[0m | \u001b[36msyft_awake.client\u001b[0m:\u001b[36mping_user\u001b[0m:\u001b[36m120\u001b[0m - \u001b[34m\u001b[1m📥 Response status: 404\u001b[0m\n",
      "\u001b[32m2025-07-11 23:35:46.763\u001b[0m | \u001b[34m\u001b[1mDEBUG   \u001b[0m | \u001b[36msyft_awake.client\u001b[0m:\u001b[36mping_user\u001b[0m:\u001b[36m121\u001b[0m - \u001b[34m\u001b[1m📄 Raw response: <bound method SyftMessage.text of SyftResponse(id=UUID('2f94529d-49de-4594-bdb0-4c2f6e1a1910'), sender='system@syftbox.localhost', url='syft://system@syftbox.localhost', body=b'Request with 0d57251a-ebc9-4887-a929-0b7571fcd1cc not found', headers={}, created=datetime.datetime(2025, 7, 12, 3, 35, 46, 762690, tzinfo=datetime.timezone.utc), expires=datetime.datetime(2025, 7, 13, 3, 35, 46, 762695, tzinfo=datetime.timezone.utc), status_code=<SyftStatus.NOT_FOUND: 404>)>\u001b[0m\n",
      "\u001b[32m2025-07-11 23:35:46.763\u001b[0m | \u001b[1mINFO    \u001b[0m | \u001b[36msyft_awake.client\u001b[0m:\u001b[36mping_user\u001b[0m:\u001b[36m136\u001b[0m - \u001b[1m📭 andrew@openmined.org is not running syft-awake (no awakeness endpoint found)\u001b[0m\n"
     ]
    }
   ],
   "source": [
    "sa.ping_user('andrew@openmined.org')"
   ]
  },
  {
   "cell_type": "code",
   "execution_count": null,
   "id": "d3a2ecfe-c3fd-4d35-bad7-aa2e09f5f1f2",
   "metadata": {},
   "outputs": [],
   "source": []
  }
 ],
 "metadata": {
  "kernelspec": {
   "display_name": "Python 3 (ipykernel)",
   "language": "python",
   "name": "python3"
  },
  "language_info": {
   "codemirror_mode": {
    "name": "ipython",
    "version": 3
   },
   "file_extension": ".py",
   "mimetype": "text/x-python",
   "name": "python",
   "nbconvert_exporter": "python",
   "pygments_lexer": "ipython3",
   "version": "3.12.7"
  }
 },
 "nbformat": 4,
 "nbformat_minor": 5
}
