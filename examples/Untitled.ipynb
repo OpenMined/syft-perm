{
 "cells": [
  {
   "cell_type": "code",
   "execution_count": 1,
   "id": "2e3fcb7b-8482-47fc-bec0-5e15669b5618",
   "metadata": {},
   "outputs": [],
   "source": [
    "import syft_perm as sp"
   ]
  },
  {
   "cell_type": "code",
   "execution_count": 2,
   "id": "329f2929-62f0-4a32-b506-fc7f756b5aff",
   "metadata": {},
   "outputs": [],
   "source": [
    "file = sp.open('test')"
   ]
  },
  {
   "cell_type": "code",
   "execution_count": 3,
   "id": "29e53dff-0036-4920-a91b-4dd8ef71f19f",
   "metadata": {},
   "outputs": [
    {
     "data": {
      "text/html": [
       "<p><b>SyftFolder('test')</b></p>\n",
       "<p><b>Folder Compliance Check:</b></p>\n",
       "<table border=\"1\" style=\"border-collapse: collapse; margin: 10px 0;\">\n",
       "<tr><th style=\"padding: 5px;\">Property</th><th style=\"padding: 5px;\">Current State</th><th style=\"padding: 5px;\">Policy/Limit</th><th style=\"padding: 5px;\">Status</th></tr>\n",
       "<tr><td style=\"padding: 5px;\">Largest File</td><td style=\"padding: 5px;\">No files</td><td style=\"padding: 5px;\">No limit</td><td style=\"padding: 5px;\">✓ All 1 files OK</td></tr>\n",
       "<tr><td style=\"padding: 5px;\">Subdirectories</td><td style=\"padding: 5px;\">1 subdirectories</td><td style=\"padding: 5px;\">Allowed</td><td style=\"padding: 5px;\">✓ 1 subdirectories allowed</td></tr>\n",
       "<tr><td style=\"padding: 5px;\">Symlinks</td><td style=\"padding: 5px;\">0 symlinks</td><td style=\"padding: 5px;\">Allowed</td><td style=\"padding: 5px;\">✓ No symlinks</td></tr>\n",
       "<tr><td style=\"padding: 5px;\"><b>Overall</b></td><td style=\"padding: 5px;\" colspan=\"2\"><b>Folder access compliance</b></td><td style=\"padding: 5px;\"><b>✓ COMPLIANT</b></td></tr>\n",
       "</table>\n",
       "<p>No permissions set</p>"
      ],
      "text/plain": [
       "SyftFolder('test') - No permissions set"
      ]
     },
     "execution_count": 3,
     "metadata": {},
     "output_type": "execute_result"
    }
   ],
   "source": [
    "file"
   ]
  },
  {
   "cell_type": "code",
   "execution_count": 6,
   "id": "2c592724-eefa-45cb-879e-7311fd1dca73",
   "metadata": {},
   "outputs": [],
   "source": [
    "file = sp.open('my_data.txt')"
   ]
  },
  {
   "cell_type": "code",
   "execution_count": 9,
   "id": "f3542bd5-d156-4ea4-86ce-609160d59872",
   "metadata": {},
   "outputs": [],
   "source": [
    "file.set_file_limits(max_size=2000)"
   ]
  },
  {
   "cell_type": "code",
   "execution_count": 10,
   "id": "c9b1fe6b-2b3b-4b1a-97f4-7d2c5f0369c9",
   "metadata": {},
   "outputs": [
    {
     "data": {
      "text/html": [
       "<p><b>SyftFile('my_data.txt')</b></p>\n",
       "<p><b>File Compliance Check:</b></p>\n",
       "<table border=\"1\" style=\"border-collapse: collapse; margin: 10px 0;\">\n",
       "<tr><th style=\"padding: 5px;\">Property</th><th style=\"padding: 5px;\">Current</th><th style=\"padding: 5px;\">Limit/Setting</th><th style=\"padding: 5px;\">Status</th></tr>\n",
       "<tr><td style=\"padding: 5px;\">File Size</td><td style=\"padding: 5px;\">12 bytes</td><td style=\"padding: 5px;\">1.95 KB</td><td style=\"padding: 5px;\">✓ OK</td></tr>\n",
       "<tr><td style=\"padding: 5px;\">File Type</td><td style=\"padding: 5px;\">Regular File</td><td style=\"padding: 5px;\">Dirs: ✓ | Symlinks: ✓</td><td style=\"padding: 5px;\">✓ OK</td></tr>\n",
       "<tr><td style=\"padding: 5px;\"><b>Overall</b></td><td style=\"padding: 5px;\" colspan=\"2\"><b>File access compliance</b></td><td style=\"padding: 5px;\"><b>✓ COMPLIANT</b></td></tr>\n",
       "</table>\n",
       "<table>\n",
       "<thead>\n",
       "<tr><th>User                 </th><th>Read  </th><th>Create  </th><th>Write  </th><th>Admin  </th><th>Reason                                                                                        </th></tr>\n",
       "</thead>\n",
       "<tbody>\n",
       "<tr><td>public               </td><td>✓     </td><td>        </td><td>       </td><td>       </td><td>[Read] Explicitly granted read in .; Pattern &#x27;my_data.txt&#x27; matched; [Read] Public access (*)  </td></tr>\n",
       "<tr><td>andrew@openmined.org </td><td>✓     </td><td>✓       </td><td>✓      </td><td>       </td><td>[Write] Explicitly granted write in .; Pattern &#x27;my_data.txt&#x27; matched; [Read] Public access (*)</td></tr>\n",
       "<tr><td>bennett@openmined.org</td><td>✓     </td><td>✓       </td><td>✓      </td><td>       </td><td>[Write] Explicitly granted write in .; Pattern &#x27;my_data.txt&#x27; matched; [Read] Public access (*)</td></tr>\n",
       "<tr><td>liamtrask@gmail.com  </td><td>✓     </td><td>✓       </td><td>✓      </td><td>✓      </td><td>[Admin] Explicitly granted admin in .; Pattern &#x27;my_data.txt&#x27; matched; [Read] Public access (*)</td></tr>\n",
       "<tr><td>madhava@openmined.org</td><td>✓     </td><td>✓       </td><td>✓      </td><td>       </td><td>[Write] Explicitly granted write in .; Pattern &#x27;my_data.txt&#x27; matched; [Read] Public access (*)</td></tr>\n",
       "</tbody>\n",
       "</table>"
      ],
      "text/plain": [
       "SyftFile('my_data.txt')\n",
       "\n",
       "User                   Read    Create    Write    Admin    Reason\n",
       "---------------------  ------  --------  -------  -------  ----------------------------------------------------------------------------------------------\n",
       "public                 ✓                                   [Read] Explicitly granted read in .; Pattern 'my_data.txt' matched; [Read] Public access (*)\n",
       "andrew@openmined.org   ✓       ✓         ✓                 [Write] Explicitly granted write in .; Pattern 'my_data.txt' matched; [Read] Public access (*)\n",
       "bennett@openmined.org  ✓       ✓         ✓                 [Write] Explicitly granted write in .; Pattern 'my_data.txt' matched; [Read] Public access (*)\n",
       "liamtrask@gmail.com    ✓       ✓         ✓        ✓        [Admin] Explicitly granted admin in .; Pattern 'my_data.txt' matched; [Read] Public access (*)\n",
       "madhava@openmined.org  ✓       ✓         ✓                 [Write] Explicitly granted write in .; Pattern 'my_data.txt' matched; [Read] Public access (*)"
      ]
     },
     "execution_count": 10,
     "metadata": {},
     "output_type": "execute_result"
    }
   ],
   "source": [
    "file"
   ]
  },
  {
   "cell_type": "code",
   "execution_count": 6,
   "id": "fa65ce14-533f-409b-9671-f9f0f207980c",
   "metadata": {},
   "outputs": [
    {
     "data": {
      "text/plain": [
       "{'max_file_size': None,\n",
       " 'allow_dirs': True,\n",
       " 'allow_symlinks': True,\n",
       " 'has_limits': False}"
      ]
     },
     "execution_count": 6,
     "metadata": {},
     "output_type": "execute_result"
    }
   ],
   "source": [
    "file.get_file_limits()"
   ]
  },
  {
   "cell_type": "code",
   "execution_count": 3,
   "id": "e0f9a47a-028b-4ab6-8e57-dc2ed882b416",
   "metadata": {},
   "outputs": [
    {
     "name": "stdout",
     "output_type": "stream",
     "text": [
      "\u001b[2K\u001b[2mResolved \u001b[1m23 packages\u001b[0m \u001b[2min 254ms\u001b[0m\u001b[0m                                        \u001b[0m\n",
      "\u001b[2K\u001b[2mPrepared \u001b[1m1 package\u001b[0m \u001b[2min 20ms\u001b[0m\u001b[0m                                               \n",
      "\u001b[2mUninstalled \u001b[1m1 package\u001b[0m \u001b[2min 1ms\u001b[0m\u001b[0m\n",
      "\u001b[2K\u001b[2mInstalled \u001b[1m1 package\u001b[0m \u001b[2min 1ms\u001b[0m\u001b[0m                                  \u001b[0m\n",
      " \u001b[31m-\u001b[39m \u001b[1msyft-awake\u001b[0m\u001b[2m==0.1.9\u001b[0m\n",
      " \u001b[32m+\u001b[39m \u001b[1msyft-awake\u001b[0m\u001b[2m==0.1.12\u001b[0m\n"
     ]
    }
   ],
   "source": [
    "!uv pip install syft-awake -U"
   ]
  },
  {
   "cell_type": "code",
   "execution_count": 1,
   "id": "af4fafb2-3da5-4033-9c0a-be7f309ec10c",
   "metadata": {},
   "outputs": [],
   "source": [
    "import syft_awake as sa"
   ]
  },
  {
   "cell_type": "code",
   "execution_count": 2,
   "id": "abd18dc9-23f3-40eb-9bb3-e1bcc8b00133",
   "metadata": {},
   "outputs": [
    {
     "data": {
      "text/plain": [
       "'0.1.12'"
      ]
     },
     "execution_count": 2,
     "metadata": {},
     "output_type": "execute_result"
    }
   ],
   "source": [
    "sa.__version__"
   ]
  },
  {
   "cell_type": "code",
   "execution_count": 7,
   "id": "faf5ca6c-9d75-4a06-b5b3-32a4df1f332e",
   "metadata": {},
   "outputs": [],
   "source": [
    "net = sa.ping_network()"
   ]
  },
  {
   "cell_type": "code",
   "execution_count": 13,
   "id": "a1840a21-ded1-4f41-8dca-eae93fae523a",
   "metadata": {},
   "outputs": [
    {
     "data": {
      "text/plain": [
       "syft_awake.models.NetworkAwakenessSummary"
      ]
     },
     "execution_count": 13,
     "metadata": {},
     "output_type": "execute_result"
    }
   ],
   "source": [
    "type(net)"
   ]
  },
  {
   "cell_type": "code",
   "execution_count": 11,
   "id": "90bb4b39-3c5c-4122-a0b8-e1355945fea7",
   "metadata": {},
   "outputs": [],
   "source": [
    "user = sa.ping_user('andrew@openmined.org')"
   ]
  },
  {
   "cell_type": "code",
   "execution_count": 12,
   "id": "2daee492-9c48-4cbd-8ef6-fd80385f8b26",
   "metadata": {},
   "outputs": [
    {
     "data": {
      "text/plain": [
       "syft_awake.models.AwakeResponse"
      ]
     },
     "execution_count": 12,
     "metadata": {},
     "output_type": "execute_result"
    }
   ],
   "source": [
    "type(user)"
   ]
  },
  {
   "cell_type": "code",
   "execution_count": null,
   "id": "dfcfa76f-888e-428b-b4b0-aeae55e0d469",
   "metadata": {},
   "outputs": [],
   "source": []
  },
  {
   "cell_type": "code",
   "execution_count": 3,
   "id": "6a5099c1-5a86-4307-81e6-7c8470d1d235",
   "metadata": {},
   "outputs": [
    {
     "name": "stderr",
     "output_type": "stream",
     "text": [
      "\u001b[32m2025-07-12 01:49:54.180\u001b[0m | \u001b[1mINFO    \u001b[0m | \u001b[36msyft_awake.client\u001b[0m:\u001b[36mping_user\u001b[0m:\u001b[36m101\u001b[0m - \u001b[1m📤 Pinging andrew@openmined.org with message: 'ping'\u001b[0m\n",
      "\u001b[32m2025-07-12 01:49:54.181\u001b[0m | \u001b[34m\u001b[1mDEBUG   \u001b[0m | \u001b[36msyft_awake.client\u001b[0m:\u001b[36mping_user\u001b[0m:\u001b[36m102\u001b[0m - \u001b[34m\u001b[1m🔗 RPC URL: syft://andrew@openmined.org/app_data/syft-awake/rpc/awake\u001b[0m\n",
      "\u001b[32m2025-07-12 01:49:54.181\u001b[0m | \u001b[34m\u001b[1mDEBUG   \u001b[0m | \u001b[36msyft_awake.client\u001b[0m:\u001b[36mping_user\u001b[0m:\u001b[36m106\u001b[0m - \u001b[34m\u001b[1m📋 Request body: requester='liamtrask@gmail.com' message='ping' timestamp=datetime.datetime(2025, 7, 12, 5, 49, 54, 180596, tzinfo=datetime.timezone.utc) priority='normal'\u001b[0m\n",
      "\u001b[32m2025-07-12 01:49:54.184\u001b[0m | \u001b[34m\u001b[1mDEBUG   \u001b[0m | \u001b[36msyft_awake.client\u001b[0m:\u001b[36mping_user\u001b[0m:\u001b[36m115\u001b[0m - \u001b[34m\u001b[1m🔮 Future created, waiting for response...\u001b[0m\n",
      "\u001b[32m2025-07-12 01:49:54.706\u001b[0m | \u001b[34m\u001b[1mDEBUG   \u001b[0m | \u001b[36msyft_awake.client\u001b[0m:\u001b[36mping_user\u001b[0m:\u001b[36m120\u001b[0m - \u001b[34m\u001b[1m📥 Response status: 200\u001b[0m\n",
      "\u001b[32m2025-07-12 01:49:54.706\u001b[0m | \u001b[34m\u001b[1mDEBUG   \u001b[0m | \u001b[36msyft_awake.client\u001b[0m:\u001b[36mping_user\u001b[0m:\u001b[36m121\u001b[0m - \u001b[34m\u001b[1m📄 Raw response: <bound method SyftMessage.text of SyftResponse(id=UUID('1323d6ac-ec89-469f-99a5-86557ad686e6'), sender='andrew@openmined.org', url='syft://andrew@openmined.org/app_data/syft-awake/rpc/awake', body=b'{\"responder\":\"andrew@openmined.org\",\"status\":\"awake\",\"message\":\"I\\'m awake and ready to help!\",\"timestamp\":\"2025-07-12T05:49:54.570826+00:00\",\"available_until\":null,\"response_time_ms\":0.09012222290039062,\"workload\":\"light\",\"capabilities\":{\"queries\":true,\"collaboration\":true,\"data_processing\":true}}', headers={}, created=datetime.datetime(2025, 7, 12, 5, 49, 54, 570918, tzinfo=TzInfo(UTC)), expires=datetime.datetime(2025, 7, 12, 5, 50, 24, 183419, tzinfo=TzInfo(UTC)), status_code=<SyftStatus.OK: 200>)>\u001b[0m\n",
      "\u001b[32m2025-07-12 01:49:54.707\u001b[0m | \u001b[1mINFO    \u001b[0m | \u001b[36msyft_awake.client\u001b[0m:\u001b[36mping_user\u001b[0m:\u001b[36m128\u001b[0m - \u001b[1m✅ andrew@openmined.org responded: AwakeStatus.AWAKE\u001b[0m\n"
     ]
    },
    {
     "data": {
      "text/plain": [
       "AwakeResponse(responder='andrew@openmined.org', status=<AwakeStatus.AWAKE: 'awake'>, message=\"I'm awake and ready to help!\", timestamp=datetime.datetime(2025, 7, 12, 5, 49, 54, 570826, tzinfo=TzInfo(UTC)), available_until=None, response_time_ms=0.09012222290039062, workload='light', capabilities={'queries': True, 'collaboration': True, 'data_processing': True})"
      ]
     },
     "execution_count": 3,
     "metadata": {},
     "output_type": "execute_result"
    }
   ],
   "source": [
    "sa.ping_user('andrew@openmined.org')"
   ]
  },
  {
   "cell_type": "code",
   "execution_count": 5,
   "id": "d3a2ecfe-c3fd-4d35-bad7-aa2e09f5f1f2",
   "metadata": {},
   "outputs": [
    {
     "name": "stderr",
     "output_type": "stream",
     "text": [
      "\u001b[32m2025-07-12 01:54:48.837\u001b[0m | \u001b[1mINFO    \u001b[0m | \u001b[36msyft_awake.discovery\u001b[0m:\u001b[36mdiscover_from_syftbox_network\u001b[0m:\u001b[36m96\u001b[0m - \u001b[1m🔍 Scanning SyftBox datasites for syft-awake installations...\u001b[0m\n",
      "\u001b[32m2025-07-12 01:54:48.839\u001b[0m | \u001b[34m\u001b[1mDEBUG   \u001b[0m | \u001b[36msyft_awake.discovery\u001b[0m:\u001b[36mdiscover_from_syftbox_network\u001b[0m:\u001b[36m119\u001b[0m - \u001b[34m\u001b[1mFound syft-awake installation for: andrew@openmined.org\u001b[0m\n",
      "\u001b[32m2025-07-12 01:54:48.844\u001b[0m | \u001b[1mINFO    \u001b[0m | \u001b[36msyft_awake.discovery\u001b[0m:\u001b[36mdiscover_from_syftbox_network\u001b[0m:\u001b[36m121\u001b[0m - \u001b[1m📡 Discovered 1 users with syft-awake installed\u001b[0m\n",
      "\u001b[32m2025-07-12 01:54:48.846\u001b[0m | \u001b[34m\u001b[1mDEBUG   \u001b[0m | \u001b[36msyft_awake.discovery\u001b[0m:\u001b[36msave_known_users\u001b[0m:\u001b[36m68\u001b[0m - \u001b[34m\u001b[1m💾 Saved 1 users to cache\u001b[0m\n",
      "\u001b[32m2025-07-12 01:54:48.846\u001b[0m | \u001b[1mINFO    \u001b[0m | \u001b[36msyft_awake.discovery\u001b[0m:\u001b[36madd_user\u001b[0m:\u001b[36m77\u001b[0m - \u001b[1m➕ Added andrew@openmined.org to known users\u001b[0m\n",
      "\u001b[32m2025-07-12 01:54:48.846\u001b[0m | \u001b[1mINFO    \u001b[0m | \u001b[36msyft_awake.discovery\u001b[0m:\u001b[36mdiscover_from_rpc_logs\u001b[0m:\u001b[36m146\u001b[0m - \u001b[1m📝 Scanning RPC logs for active users...\u001b[0m\n",
      "\u001b[32m2025-07-12 01:54:48.847\u001b[0m | \u001b[1mINFO    \u001b[0m | \u001b[36msyft_awake.discovery\u001b[0m:\u001b[36mdiscover_from_shared_directories\u001b[0m:\u001b[36m170\u001b[0m - \u001b[1m📂 Scanning shared directories for users...\u001b[0m\n",
      "\u001b[32m2025-07-12 01:54:48.847\u001b[0m | \u001b[1mINFO    \u001b[0m | \u001b[36msyft_awake.discovery\u001b[0m:\u001b[36mget_all_known_users\u001b[0m:\u001b[36m197\u001b[0m - \u001b[1m🌐 Total known network members: 1\u001b[0m\n"
     ]
    },
    {
     "data": {
      "text/plain": [
       "['andrew@openmined.org']"
      ]
     },
     "execution_count": 5,
     "metadata": {},
     "output_type": "execute_result"
    }
   ],
   "source": [
    "sa."
   ]
  },
  {
   "cell_type": "code",
   "execution_count": null,
   "id": "7f623363-a8b9-406e-8a45-8c69db2358c6",
   "metadata": {},
   "outputs": [],
   "source": []
  }
 ],
 "metadata": {
  "kernelspec": {
   "display_name": "Python 3 (ipykernel)",
   "language": "python",
   "name": "python3"
  },
  "language_info": {
   "codemirror_mode": {
    "name": "ipython",
    "version": 3
   },
   "file_extension": ".py",
   "mimetype": "text/x-python",
   "name": "python",
   "nbconvert_exporter": "python",
   "pygments_lexer": "ipython3",
   "version": "3.12.7"
  }
 },
 "nbformat": 4,
 "nbformat_minor": 5
}
