{
 "cells": [
  {
   "cell_type": "markdown",
   "id": "648cbbbf-5628-4fa9-8212-5aae8ce2c644",
   "metadata": {},
   "source": [
    "# Tutorial: syft-perm in 5 mins\n",
    "\n",
    "- **Common Ground:** everyone needs to modify permissions in syftbox files\n",
    "- **Problem:** modifying syft-perm files manually is tricky + prone to silent failures\n",
    "- **Solution:** a list of utility functions and SyftFolder/SyftFile classes that make it easy\n",
    "- **Benefits:** syftbox code is easier to write correctly the first time"
   ]
  },
  {
   "cell_type": "code",
   "execution_count": 1,
   "id": "a845b293-a7d2-40ac-9955-3b68bc7d872b",
   "metadata": {},
   "outputs": [],
   "source": [
    "import syft_perm as sp"
   ]
  },
  {
   "cell_type": "code",
   "execution_count": 2,
   "id": "2dea9797-0d91-426d-9cef-263d2eaed728",
   "metadata": {},
   "outputs": [],
   "source": [
    "p = sp.open('my_data.txt')"
   ]
  },
  {
   "cell_type": "code",
   "execution_count": 3,
   "id": "e4847bd7-5ce8-4740-b83d-7cd37a0ff6d3",
   "metadata": {},
   "outputs": [
    {
     "data": {
      "text/html": [
       "<p><b>SyftFile('my_data.txt')</b></p>\n",
       "<table>\n",
       "<thead>\n",
       "<tr><th>User                 </th><th>Read  </th><th>Create  </th><th>Write  </th><th>Admin  </th><th>Reason                                                                                        </th></tr>\n",
       "</thead>\n",
       "<tbody>\n",
       "<tr><td>public               </td><td>✓     </td><td>        </td><td>       </td><td>       </td><td>[Read] Explicitly granted read in .; Pattern &#x27;my_data.txt&#x27; matched; [Read] Public access (*)  </td></tr>\n",
       "<tr><td>andrew@openmined.org </td><td>✓     </td><td>✓       </td><td>✓      </td><td>       </td><td>[Write] Explicitly granted write in .; Pattern &#x27;my_data.txt&#x27; matched; [Read] Public access (*)</td></tr>\n",
       "<tr><td>bennett@openmined.org</td><td>✓     </td><td>✓       </td><td>✓      </td><td>       </td><td>[Write] Explicitly granted write in .; Pattern &#x27;my_data.txt&#x27; matched; [Read] Public access (*)</td></tr>\n",
       "<tr><td>liamtrask@gmail.com  </td><td>✓     </td><td>✓       </td><td>✓      </td><td>✓      </td><td>[Admin] Explicitly granted admin in .; Pattern &#x27;my_data.txt&#x27; matched; [Read] Public access (*)</td></tr>\n",
       "<tr><td>madhava@openmined.org</td><td>✓     </td><td>✓       </td><td>✓      </td><td>       </td><td>[Write] Explicitly granted write in .; Pattern &#x27;my_data.txt&#x27; matched; [Read] Public access (*)</td></tr>\n",
       "</tbody>\n",
       "</table>"
      ],
      "text/plain": [
       "SyftFile('my_data.txt')\n",
       "\n",
       "User                   Read    Create    Write    Admin    Reason\n",
       "---------------------  ------  --------  -------  -------  ----------------------------------------------------------------------------------------------\n",
       "public                 ✓                                   [Read] Explicitly granted read in .; Pattern 'my_data.txt' matched; [Read] Public access (*)\n",
       "andrew@openmined.org   ✓       ✓         ✓                 [Write] Explicitly granted write in .; Pattern 'my_data.txt' matched; [Read] Public access (*)\n",
       "bennett@openmined.org  ✓       ✓         ✓                 [Write] Explicitly granted write in .; Pattern 'my_data.txt' matched; [Read] Public access (*)\n",
       "liamtrask@gmail.com    ✓       ✓         ✓        ✓        [Admin] Explicitly granted admin in .; Pattern 'my_data.txt' matched; [Read] Public access (*)\n",
       "madhava@openmined.org  ✓       ✓         ✓                 [Write] Explicitly granted write in .; Pattern 'my_data.txt' matched; [Read] Public access (*)"
      ]
     },
     "execution_count": 3,
     "metadata": {},
     "output_type": "execute_result"
    }
   ],
   "source": [
    "p"
   ]
  },
  {
   "cell_type": "code",
   "execution_count": 7,
   "id": "4c11dc5c-df85-43a7-ad51-953a794d9991",
   "metadata": {},
   "outputs": [
    {
     "name": "stdin",
     "output_type": "stream",
     "text": [
      "⚠️  Warning: Granting admin access to 'liamtrask@gmail.com' for 'my_data.txt'. Are you sure? [y/N]  y\n"
     ]
    }
   ],
   "source": [
    "p.grant_admin_access('liamtrask@gmail.com')"
   ]
  },
  {
   "cell_type": "code",
   "execution_count": 9,
   "id": "29a95fac-2416-4558-a96d-9511038a55b9",
   "metadata": {},
   "outputs": [],
   "source": [
    "p.grant_write_access('bennett@openmined.org')"
   ]
  },
  {
   "cell_type": "code",
   "execution_count": 10,
   "id": "33d5ae4b-f420-40af-8a95-1edf9532d05f",
   "metadata": {},
   "outputs": [
    {
     "data": {
      "text/html": [
       "<p><b>SyftFile('my_data.txt')</b></p>\n",
       "<table>\n",
       "<thead>\n",
       "<tr><th>User                 </th><th>Read  </th><th>Create  </th><th>Write  </th><th>Admin  </th><th>Reason                               </th></tr>\n",
       "</thead>\n",
       "<tbody>\n",
       "<tr><td>bennett@openmined.org</td><td>✓     </td><td>✓       </td><td>✓      </td><td>       </td><td>[Write] Explicitly granted write in .</td></tr>\n",
       "<tr><td>liamtrask@gmail.com  </td><td>✓     </td><td>✓       </td><td>✓      </td><td>✓      </td><td>[Admin] Explicitly granted admin in .</td></tr>\n",
       "</tbody>\n",
       "</table>"
      ],
      "text/plain": [
       "SyftFile('my_data.txt')\n",
       "\n",
       "User                   Read    Create    Write    Admin    Reason\n",
       "---------------------  ------  --------  -------  -------  -------------------------------------\n",
       "bennett@openmined.org  ✓       ✓         ✓                 [Write] Explicitly granted write in .\n",
       "liamtrask@gmail.com    ✓       ✓         ✓        ✓        [Admin] Explicitly granted admin in ."
      ]
     },
     "execution_count": 10,
     "metadata": {},
     "output_type": "execute_result"
    }
   ],
   "source": [
    "p"
   ]
  },
  {
   "cell_type": "code",
   "execution_count": 11,
   "id": "5eac219d-8a9e-4de8-9ecb-d1a193e36cd8",
   "metadata": {},
   "outputs": [],
   "source": [
    "p.grant_write_access('andrew@openmined.org')"
   ]
  },
  {
   "cell_type": "code",
   "execution_count": 12,
   "id": "38d7946d-e992-46c2-a89c-be297d0c029b",
   "metadata": {},
   "outputs": [],
   "source": [
    "p.grant_write_access('madhava@openmined.org')"
   ]
  },
  {
   "cell_type": "code",
   "execution_count": 13,
   "id": "2e927e94-240f-4007-b709-e3b4b6898fdd",
   "metadata": {},
   "outputs": [
    {
     "data": {
      "text/html": [
       "<p><b>SyftFile('my_data.txt')</b></p>\n",
       "<table>\n",
       "<thead>\n",
       "<tr><th>User                 </th><th>Read  </th><th>Create  </th><th>Write  </th><th>Admin  </th><th>Reason                               </th></tr>\n",
       "</thead>\n",
       "<tbody>\n",
       "<tr><td>andrew@openmined.org </td><td>✓     </td><td>✓       </td><td>✓      </td><td>       </td><td>[Write] Explicitly granted write in .</td></tr>\n",
       "<tr><td>bennett@openmined.org</td><td>✓     </td><td>✓       </td><td>✓      </td><td>       </td><td>[Write] Explicitly granted write in .</td></tr>\n",
       "<tr><td>liamtrask@gmail.com  </td><td>✓     </td><td>✓       </td><td>✓      </td><td>✓      </td><td>[Admin] Explicitly granted admin in .</td></tr>\n",
       "<tr><td>madhava@openmined.org</td><td>✓     </td><td>✓       </td><td>✓      </td><td>       </td><td>[Write] Explicitly granted write in .</td></tr>\n",
       "</tbody>\n",
       "</table>"
      ],
      "text/plain": [
       "SyftFile('my_data.txt')\n",
       "\n",
       "User                   Read    Create    Write    Admin    Reason\n",
       "---------------------  ------  --------  -------  -------  -------------------------------------\n",
       "andrew@openmined.org   ✓       ✓         ✓                 [Write] Explicitly granted write in .\n",
       "bennett@openmined.org  ✓       ✓         ✓                 [Write] Explicitly granted write in .\n",
       "liamtrask@gmail.com    ✓       ✓         ✓        ✓        [Admin] Explicitly granted admin in .\n",
       "madhava@openmined.org  ✓       ✓         ✓                 [Write] Explicitly granted write in ."
      ]
     },
     "execution_count": 13,
     "metadata": {},
     "output_type": "execute_result"
    }
   ],
   "source": [
    "p"
   ]
  },
  {
   "cell_type": "code",
   "execution_count": 14,
   "id": "c90ce4f2-6c6e-4d36-ac13-c606e865e36c",
   "metadata": {},
   "outputs": [],
   "source": [
    "p.grant_read_access(\"*\")"
   ]
  },
  {
   "cell_type": "code",
   "execution_count": 15,
   "id": "5af0023c-8573-4416-98db-53c7e3f93d5c",
   "metadata": {},
   "outputs": [
    {
     "data": {
      "text/html": [
       "<p><b>SyftFile('my_data.txt')</b></p>\n",
       "<table>\n",
       "<thead>\n",
       "<tr><th>User                 </th><th>Read  </th><th>Create  </th><th>Write  </th><th>Admin  </th><th>Reason                                                         </th></tr>\n",
       "</thead>\n",
       "<tbody>\n",
       "<tr><td>public               </td><td>✓     </td><td>        </td><td>       </td><td>       </td><td>[Read] Explicitly granted read in .; [Read] Public access (*)  </td></tr>\n",
       "<tr><td>andrew@openmined.org </td><td>✓     </td><td>✓       </td><td>✓      </td><td>       </td><td>[Write] Explicitly granted write in .; [Read] Public access (*)</td></tr>\n",
       "<tr><td>bennett@openmined.org</td><td>✓     </td><td>✓       </td><td>✓      </td><td>       </td><td>[Write] Explicitly granted write in .; [Read] Public access (*)</td></tr>\n",
       "<tr><td>liamtrask@gmail.com  </td><td>✓     </td><td>✓       </td><td>✓      </td><td>✓      </td><td>[Admin] Explicitly granted admin in .; [Read] Public access (*)</td></tr>\n",
       "<tr><td>madhava@openmined.org</td><td>✓     </td><td>✓       </td><td>✓      </td><td>       </td><td>[Write] Explicitly granted write in .; [Read] Public access (*)</td></tr>\n",
       "</tbody>\n",
       "</table>"
      ],
      "text/plain": [
       "SyftFile('my_data.txt')\n",
       "\n",
       "User                   Read    Create    Write    Admin    Reason\n",
       "---------------------  ------  --------  -------  -------  ---------------------------------------------------------------\n",
       "public                 ✓                                   [Read] Explicitly granted read in .; [Read] Public access (*)\n",
       "andrew@openmined.org   ✓       ✓         ✓                 [Write] Explicitly granted write in .; [Read] Public access (*)\n",
       "bennett@openmined.org  ✓       ✓         ✓                 [Write] Explicitly granted write in .; [Read] Public access (*)\n",
       "liamtrask@gmail.com    ✓       ✓         ✓        ✓        [Admin] Explicitly granted admin in .; [Read] Public access (*)\n",
       "madhava@openmined.org  ✓       ✓         ✓                 [Write] Explicitly granted write in .; [Read] Public access (*)"
      ]
     },
     "execution_count": 15,
     "metadata": {},
     "output_type": "execute_result"
    }
   ],
   "source": [
    "p"
   ]
  },
  {
   "cell_type": "code",
   "execution_count": null,
   "id": "4c74e2df-4401-4518-8c27-9e5063f7e027",
   "metadata": {},
   "outputs": [],
   "source": []
  }
 ],
 "metadata": {
  "kernelspec": {
   "display_name": "Python 3 (ipykernel)",
   "language": "python",
   "name": "python3"
  },
  "language_info": {
   "codemirror_mode": {
    "name": "ipython",
    "version": 3
   },
   "file_extension": ".py",
   "mimetype": "text/x-python",
   "name": "python",
   "nbconvert_exporter": "python",
   "pygments_lexer": "ipython3",
   "version": "3.12.7"
  }
 },
 "nbformat": 4,
 "nbformat_minor": 5
}
