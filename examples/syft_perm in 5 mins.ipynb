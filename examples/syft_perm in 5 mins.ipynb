{
 "cells": [
  {
   "cell_type": "markdown",
   "id": "648cbbbf-5628-4fa9-8212-5aae8ce2c644",
   "metadata": {},
   "source": [
    "# Tutorial: syft-perm in 5 mins\n",
    "\n",
    "- **Common Ground:** everyone needs to modify permissions in syftbox files\n",
    "- **Problem:** modifying syft-perm files manually is tricky + prone to silent failures\n",
    "- **Solution:** a list of utility functions and SyftFolder/SyftFile classes that make it easy\n",
    "- **Benefits:** syftbox code is easier to write correctly the first time"
   ]
  },
  {
   "cell_type": "code",
   "execution_count": 1,
   "id": "a845b293-a7d2-40ac-9955-3b68bc7d872b",
   "metadata": {},
   "outputs": [],
   "source": [
    "import syft_perm as sp"
   ]
  },
  {
   "cell_type": "code",
   "execution_count": null,
   "id": "e54e9b35-d81a-40a6-877f-6e3f4a88e33b",
   "metadata": {},
   "outputs": [],
   "source": [
    "sp."
   ]
  },
  {
   "cell_type": "code",
   "execution_count": 2,
   "id": "2dea9797-0d91-426d-9cef-263d2eaed728",
   "metadata": {},
   "outputs": [],
   "source": [
    "p = sp.open('my_data.txt')"
   ]
  },
  {
   "cell_type": "code",
   "execution_count": 3,
   "id": "e4847bd7-5ce8-4740-b83d-7cd37a0ff6d3",
   "metadata": {},
   "outputs": [
    {
     "data": {
      "text/html": [
       "<p><b>SyftFile('my_data.txt')</b></p>\n",
       "<table>\n",
       "<thead>\n",
       "<tr><th>User                 </th><th>Read  </th><th>Create  </th><th>Write  </th><th>Admin  </th><th>Reason                                                         </th></tr>\n",
       "</thead>\n",
       "<tbody>\n",
       "<tr><td>public               </td><td>✓     </td><td>        </td><td>       </td><td>       </td><td>[Read] Explicitly granted read in .; [Read] Public access (*)  </td></tr>\n",
       "<tr><td>andrew@openmined.org </td><td>✓     </td><td>✓       </td><td>✓      </td><td>       </td><td>[Write] Explicitly granted write in .; [Read] Public access (*)</td></tr>\n",
       "<tr><td>bennett@openmined.org</td><td>✓     </td><td>✓       </td><td>✓      </td><td>       </td><td>[Write] Explicitly granted write in .; [Read] Public access (*)</td></tr>\n",
       "<tr><td>liamtrask@gmail.com  </td><td>✓     </td><td>✓       </td><td>✓      </td><td>✓      </td><td>[Admin] Explicitly granted admin in .; [Read] Public access (*)</td></tr>\n",
       "<tr><td>madhava@openmined.org</td><td>✓     </td><td>✓       </td><td>✓      </td><td>       </td><td>[Write] Explicitly granted write in .; [Read] Public access (*)</td></tr>\n",
       "</tbody>\n",
       "</table>"
      ],
      "text/plain": [
       "SyftFile('my_data.txt')\n",
       "\n",
       "User                   Read    Create    Write    Admin    Reason\n",
       "---------------------  ------  --------  -------  -------  ---------------------------------------------------------------\n",
       "public                 ✓                                   [Read] Explicitly granted read in .; [Read] Public access (*)\n",
       "andrew@openmined.org   ✓       ✓         ✓                 [Write] Explicitly granted write in .; [Read] Public access (*)\n",
       "bennett@openmined.org  ✓       ✓         ✓                 [Write] Explicitly granted write in .; [Read] Public access (*)\n",
       "liamtrask@gmail.com    ✓       ✓         ✓        ✓        [Admin] Explicitly granted admin in .; [Read] Public access (*)\n",
       "madhava@openmined.org  ✓       ✓         ✓                 [Write] Explicitly granted write in .; [Read] Public access (*)"
      ]
     },
     "execution_count": 3,
     "metadata": {},
     "output_type": "execute_result"
    }
   ],
   "source": [
    "p."
   ]
  },
  {
   "cell_type": "code",
   "execution_count": 6,
   "id": "4c11dc5c-df85-43a7-ad51-953a794d9991",
   "metadata": {},
   "outputs": [
    {
     "name": "stdin",
     "output_type": "stream",
     "text": [
      "⚠️  Warning: Granting admin access to 'liamtrask@gmail.com' for 'my_data.txt'. Are you sure? [y/N]  y\n"
     ]
    }
   ],
   "source": [
    "p.grant_admin_access('liamtrask@gmail.com')"
   ]
  },
  {
   "cell_type": "code",
   "execution_count": 10,
   "id": "29a95fac-2416-4558-a96d-9511038a55b9",
   "metadata": {},
   "outputs": [],
   "source": [
    "p.grant_write_access('bennett@openmined.org')"
   ]
  },
  {
   "cell_type": "code",
   "execution_count": 8,
   "id": "5eac219d-8a9e-4de8-9ecb-d1a193e36cd8",
   "metadata": {},
   "outputs": [],
   "source": [
    "p.grant_write_access('andrew@openmined.org')"
   ]
  },
  {
   "cell_type": "code",
   "execution_count": 5,
   "id": "38d7946d-e992-46c2-a89c-be297d0c029b",
   "metadata": {},
   "outputs": [],
   "source": [
    "p.grant_write_access('madhava@openmined.org')"
   ]
  },
  {
   "cell_type": "code",
   "execution_count": null,
   "id": "2e927e94-240f-4007-b709-e3b4b6898fdd",
   "metadata": {},
   "outputs": [],
   "source": []
  },
  {
   "cell_type": "code",
   "execution_count": 10,
   "id": "805d1ff5-7c06-4658-9e99-21cf2eedf64e",
   "metadata": {},
   "outputs": [
    {
     "data": {
      "text/plain": [
       "\u001b[31mSignature:\u001b[39m\n",
       "p.revoke_access(\n",
       "    user: str,\n",
       "    permission: Literal[\u001b[33m'read'\u001b[39m, \u001b[33m'write'\u001b[39m, \u001b[33m'admin'\u001b[39m],\n",
       "    *,\n",
       "    recursive: bool = \u001b[38;5;28;01mFalse\u001b[39;00m,\n",
       ") -> \u001b[38;5;28;01mNone\u001b[39;00m\n",
       "\u001b[31mDocstring:\u001b[39m\n",
       "Revoke permission from a user.\n",
       "\n",
       "Args:\n",
       "    user: Email of user to revoke access from\n",
       "    permission: Type of access to revoke (\"read\", \"write\", or \"admin\")\n",
       "    recursive: For folders, whether to apply recursively to contents\n",
       "\u001b[31mFile:\u001b[39m      ~/Documents/GitHub/syft-perm/src/syft_perm/_syft_path.py\n",
       "\u001b[31mType:\u001b[39m      method"
      ]
     },
     "metadata": {},
     "output_type": "display_data"
    }
   ],
   "source": [
    "p.revoke_access?"
   ]
  },
  {
   "cell_type": "code",
   "execution_count": 9,
   "id": "b860edfd-f2c5-4ccb-81bf-44ef79adbded",
   "metadata": {},
   "outputs": [
    {
     "data": {
      "text/plain": [
       "\u001b[31mSignature:\u001b[39m\n",
       "p.grant_access(\n",
       "    user: str,\n",
       "    permission: Literal[\u001b[33m'read'\u001b[39m, \u001b[33m'write'\u001b[39m, \u001b[33m'admin'\u001b[39m],\n",
       "    *,\n",
       "    recursive: bool = \u001b[38;5;28;01mFalse\u001b[39;00m,\n",
       ") -> \u001b[38;5;28;01mNone\u001b[39;00m\n",
       "\u001b[31mDocstring:\u001b[39m\n",
       "Grant permission to a user.\n",
       "\n",
       "Args:\n",
       "    user: Email of user to grant access\n",
       "    permission: Type of access to grant (\"read\", \"write\", or \"admin\")\n",
       "    recursive: For folders, whether to apply recursively to contents\n",
       "\u001b[31mFile:\u001b[39m      ~/Documents/GitHub/syft-perm/src/syft_perm/_syft_path.py\n",
       "\u001b[31mType:\u001b[39m      method"
      ]
     },
     "metadata": {},
     "output_type": "display_data"
    }
   ],
   "source": [
    "p.grant_access?"
   ]
  },
  {
   "cell_type": "code",
   "execution_count": null,
   "id": "c90ce4f2-6c6e-4d36-ac13-c606e865e36c",
   "metadata": {},
   "outputs": [],
   "source": []
  }
 ],
 "metadata": {
  "kernelspec": {
   "display_name": "Python 3 (ipykernel)",
   "language": "python",
   "name": "python3"
  },
  "language_info": {
   "codemirror_mode": {
    "name": "ipython",
    "version": 3
   },
   "file_extension": ".py",
   "mimetype": "text/x-python",
   "name": "python",
   "nbconvert_exporter": "python",
   "pygments_lexer": "ipython3",
   "version": "3.12.7"
  }
 },
 "nbformat": 4,
 "nbformat_minor": 5
}
